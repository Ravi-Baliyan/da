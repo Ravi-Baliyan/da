{
 "cells": [
  {
   "cell_type": "markdown",
   "id": "f473c707",
   "metadata": {},
   "source": [
    "# Q1. Write a program to print first 10 natural number."
   ]
  },
  {
   "cell_type": "code",
   "execution_count": 5,
   "id": "d20410ef",
   "metadata": {},
   "outputs": [
    {
     "name": "stdout",
     "output_type": "stream",
     "text": [
      "1\n",
      "2\n",
      "3\n",
      "4\n",
      "5\n",
      "6\n",
      "7\n",
      "8\n",
      "9\n",
      "10\n"
     ]
    }
   ],
   "source": [
    "for i in range(1,11):\n",
    "    print(i)"
   ]
  },
  {
   "cell_type": "markdown",
   "id": "ab1f1fc8",
   "metadata": {},
   "source": [
    "# Q2. Write a program to print first 10 even numbers."
   ]
  },
  {
   "cell_type": "code",
   "execution_count": 7,
   "id": "00e1c0d4",
   "metadata": {},
   "outputs": [
    {
     "name": "stdout",
     "output_type": "stream",
     "text": [
      "2 is the even numbers\n",
      "4 is the even numbers\n",
      "6 is the even numbers\n",
      "8 is the even numbers\n",
      "10 is the even numbers\n",
      "12 is the even numbers\n",
      "14 is the even numbers\n",
      "16 is the even numbers\n",
      "18 is the even numbers\n",
      "20 is the even numbers\n"
     ]
    }
   ],
   "source": [
    "for i in range(1,21):\n",
    "    if i%2==0:\n",
    "        print(i,'is the even numbers')"
   ]
  },
  {
   "cell_type": "code",
   "execution_count": 10,
   "id": "2a147bcd",
   "metadata": {},
   "outputs": [
    {
     "name": "stdout",
     "output_type": "stream",
     "text": [
      "2 even number\n",
      "4 even number\n",
      "6 even number\n",
      "8 even number\n",
      "10 even number\n",
      "12 even number\n",
      "14 even number\n",
      "16 even number\n",
      "18 even number\n",
      "20 even number\n"
     ]
    }
   ],
   "source": [
    "for i in range(2,21,2):\n",
    "    print(i,'even number')"
   ]
  },
  {
   "cell_type": "markdown",
   "id": "52ec4b17",
   "metadata": {},
   "source": [
    "# Q3. Write a program to print first 10 odd numbers."
   ]
  },
  {
   "cell_type": "code",
   "execution_count": 11,
   "id": "91b1613a",
   "metadata": {},
   "outputs": [
    {
     "name": "stdout",
     "output_type": "stream",
     "text": [
      "1 odd numbers\n",
      "3 odd numbers\n",
      "5 odd numbers\n",
      "7 odd numbers\n",
      "9 odd numbers\n",
      "11 odd numbers\n",
      "13 odd numbers\n",
      "15 odd numbers\n",
      "17 odd numbers\n",
      "19 odd numbers\n"
     ]
    }
   ],
   "source": [
    "for i in range(1,21,2):\n",
    "    print(i,'odd numbers')"
   ]
  },
  {
   "cell_type": "code",
   "execution_count": 13,
   "id": "b5f836b1",
   "metadata": {},
   "outputs": [
    {
     "name": "stdout",
     "output_type": "stream",
     "text": [
      "1 odd numbers\n",
      "3 odd numbers\n",
      "5 odd numbers\n",
      "7 odd numbers\n",
      "9 odd numbers\n",
      "11 odd numbers\n",
      "13 odd numbers\n",
      "15 odd numbers\n",
      "17 odd numbers\n",
      "19 odd numbers\n"
     ]
    }
   ],
   "source": [
    "for i in range(1,21):\n",
    "    if i%2!=0:\n",
    "        print(i,'odd numbers')"
   ]
  },
  {
   "cell_type": "markdown",
   "id": "7c761b9a",
   "metadata": {},
   "source": [
    "# Q4. Write a program to print first 10 even numbers in reverse order."
   ]
  },
  {
   "cell_type": "code",
   "execution_count": 17,
   "id": "9958130a",
   "metadata": {},
   "outputs": [
    {
     "name": "stdout",
     "output_type": "stream",
     "text": [
      "20\n",
      "18\n",
      "16\n",
      "14\n",
      "12\n",
      "10\n",
      "8\n",
      "6\n",
      "4\n",
      "2\n"
     ]
    }
   ],
   "source": [
    "for i in range(21,1,-1):\n",
    "    if i%2==0:\n",
    "        print(i)"
   ]
  },
  {
   "cell_type": "code",
   "execution_count": 20,
   "id": "1140e1fa",
   "metadata": {},
   "outputs": [
    {
     "name": "stdout",
     "output_type": "stream",
     "text": [
      "20\n",
      "18\n",
      "16\n",
      "14\n",
      "12\n",
      "10\n",
      "8\n",
      "6\n",
      "4\n",
      "2\n"
     ]
    }
   ],
   "source": [
    "for i in range(20,1,-2):\n",
    "    print(i)"
   ]
  },
  {
   "cell_type": "markdown",
   "id": "deb2f69b",
   "metadata": {},
   "source": [
    "# Q5. Write a program to print table of a number accepted from user."
   ]
  },
  {
   "cell_type": "code",
   "execution_count": 23,
   "id": "fc98c65c",
   "metadata": {},
   "outputs": [
    {
     "name": "stdout",
     "output_type": "stream",
     "text": [
      "Enter the number: 120\n",
      "120 * 1  =  120\n",
      "120 * 2  =  240\n",
      "120 * 3  =  360\n",
      "120 * 4  =  480\n",
      "120 * 5  =  600\n",
      "120 * 6  =  720\n",
      "120 * 7  =  840\n",
      "120 * 8  =  960\n",
      "120 * 9  =  1080\n",
      "120 * 10  =  1200\n"
     ]
    }
   ],
   "source": [
    "x=int(input(\"Enter the number: \"))\n",
    "for i in range(1,11):\n",
    "    print(x,\"*\",i,\" = \",x*i)"
   ]
  },
  {
   "cell_type": "markdown",
   "id": "7c70d3e7",
   "metadata": {},
   "source": [
    "# Q6. Write a program to display product of the digits of a number accepted from the user."
   ]
  },
  {
   "cell_type": "code",
   "execution_count": 30,
   "id": "727c79a4",
   "metadata": {},
   "outputs": [
    {
     "name": "stdout",
     "output_type": "stream",
     "text": [
      "Enter the number: 1234\n",
      "The product is 24\n"
     ]
    }
   ],
   "source": [
    "x=int(input(\"Enter the number: \"))\n",
    "a=1\n",
    "while x!=0:\n",
    "    b=x%10\n",
    "    a=a*b\n",
    "    x=x//10\n",
    "print(\"The product is\",a)"
   ]
  },
  {
   "cell_type": "markdown",
   "id": "f3f2e78f",
   "metadata": {},
   "source": [
    "# Q7. Write a program to find the factorial of a number."
   ]
  },
  {
   "cell_type": "code",
   "execution_count": 35,
   "id": "9c6d5e3f",
   "metadata": {},
   "outputs": [
    {
     "name": "stdout",
     "output_type": "stream",
     "text": [
      "ENter the number: 8\n",
      "40320\n"
     ]
    }
   ],
   "source": [
    "x=int(input(\"ENter the number: \"))\n",
    "fact=1\n",
    "for i in range(1,x+1):\n",
    "    fact=fact*i\n",
    "print(fact)"
   ]
  },
  {
   "cell_type": "markdown",
   "id": "c0acf5ec",
   "metadata": {},
   "source": [
    "# Q8. Write a program to find the sum of the digits of a number accepted from user"
   ]
  },
  {
   "cell_type": "code",
   "execution_count": 39,
   "id": "1af920ac",
   "metadata": {},
   "outputs": [
    {
     "name": "stdout",
     "output_type": "stream",
     "text": [
      "Enter the number: 12345\n",
      "15\n"
     ]
    }
   ],
   "source": [
    "x=int(input(\"Enter the number: \"))\n",
    "sum=0\n",
    "while x:\n",
    "    d=x%10\n",
    "    sum=sum+d\n",
    "    x=x//10\n",
    "print(sum)\n",
    "    "
   ]
  },
  {
   "cell_type": "markdown",
   "id": "b4562920",
   "metadata": {},
   "source": [
    "# Q9. Write a program to check whether a number is prime or not."
   ]
  },
  {
   "cell_type": "code",
   "execution_count": 53,
   "id": "23b7f79b",
   "metadata": {},
   "outputs": [
    {
     "name": "stdout",
     "output_type": "stream",
     "text": [
      "Enter the number: 5\n",
      "Prime number\n"
     ]
    }
   ],
   "source": [
    "x=int(input(\"Enter the number: \"))\n",
    "a=0\n",
    "if x==1 or x==0:\n",
    "    a=1\n",
    "for i in range(2,x):\n",
    "    if x%i==0:\n",
    "        a=1\n",
    "if a==1:\n",
    "    print(\"Not prime number!\")\n",
    "else:\n",
    "    print(\"Prime number\")"
   ]
  },
  {
   "cell_type": "code",
   "execution_count": 54,
   "id": "9fb7558d",
   "metadata": {},
   "outputs": [
    {
     "name": "stdout",
     "output_type": "stream",
     "text": [
      "Enter the number: 5\n",
      "Prime number\n"
     ]
    }
   ],
   "source": [
    "x=int(input(\"Enter the number: \"))\n",
    "a=0\n",
    "if x==1 or x==0:\n",
    "    a=1\n",
    "for i in range(2,x):\n",
    "    if x%i==0:\n",
    "        a=1\n",
    "if a==1:\n",
    "    print(\"Not prime number\")\n",
    "else:\n",
    "    print(\"Prime number\")"
   ]
  },
  {
   "cell_type": "markdown",
   "id": "c8f30e77",
   "metadata": {},
   "source": [
    "# Practice Questions of Loops in Python — Test 2"
   ]
  },
  {
   "cell_type": "code",
   "execution_count": 56,
   "id": "6791ddc0",
   "metadata": {},
   "outputs": [
    {
     "name": "stdout",
     "output_type": "stream",
     "text": [
      "3\n",
      "3\n",
      "4\n",
      "4\n"
     ]
    }
   ],
   "source": [
    "i=2\n",
    "for x in range(i):\n",
    "  i+=1\n",
    "  print(i)\n",
    "  print(i)"
   ]
  },
  {
   "cell_type": "markdown",
   "id": "cf3c4379",
   "metadata": {},
   "source": [
    "# Q1. Write program to print the following pattern.\n",
    "\n",
    "a)\n",
    "\n",
    "1\n",
    "\n",
    "1 2\n",
    "\n",
    "1 2 3\n",
    "\n",
    "1 2 3 4"
   ]
  },
  {
   "cell_type": "code",
   "execution_count": 69,
   "id": "4261adb1",
   "metadata": {},
   "outputs": [
    {
     "name": "stdout",
     "output_type": "stream",
     "text": [
      "\n",
      "1 \n",
      "1 2 \n",
      "1 2 3 \n",
      "1 2 3 4 \n"
     ]
    }
   ],
   "source": [
    "for i in range(1,6):\n",
    "    for j in range(1,i):\n",
    "        print(j,end=\" \")\n",
    "    print()\n",
    "    "
   ]
  },
  {
   "cell_type": "markdown",
   "id": "63bdab69",
   "metadata": {},
   "source": [
    "# b)\n",
    "\n",
    "# * * * *\n",
    "\n",
    "# * * *\n",
    "\n",
    "# * *\n",
    "\n",
    "# *"
   ]
  },
  {
   "cell_type": "code",
   "execution_count": 78,
   "id": "e1e70b7a",
   "metadata": {},
   "outputs": [
    {
     "name": "stdout",
     "output_type": "stream",
     "text": [
      "* * * * \n",
      "* * *   \n",
      "* *     \n",
      "*       \n"
     ]
    }
   ],
   "source": [
    "for i in range(4):\n",
    "    for j in range(4-i):\n",
    "        print(\"*\",end=\" \")\n",
    "    for j in range(i):\n",
    "        print(\" \",end=\" \")\n",
    "    print()"
   ]
  },
  {
   "cell_type": "markdown",
   "id": "51df85ce",
   "metadata": {},
   "source": [
    "# Q2. Accept 10 numbers from the user and display their average."
   ]
  },
  {
   "cell_type": "code",
   "execution_count": 86,
   "id": "e5aff2de",
   "metadata": {},
   "outputs": [
    {
     "name": "stdout",
     "output_type": "stream",
     "text": [
      "Enter the number: 12\n",
      "Enter the number: 23\n",
      "Enter the number: 56\n",
      "Enter the number: 98\n",
      "Enter the number: 67\n",
      "Enter the number: 89\n",
      "Enter the number: 87\n",
      "Enter the number: 56\n",
      "Enter the number: 99\n",
      "Enter the number: 98\n",
      "6.989795918367347\n"
     ]
    }
   ],
   "source": [
    "sum=0\n",
    "avg=0\n",
    "for i in range(10):\n",
    "    x=int(input(\"Enter the number: \"))\n",
    "    sum=sum+x\n",
    "    avg=sum/x\n",
    "print(avg)"
   ]
  },
  {
   "cell_type": "markdown",
   "id": "7091dfb5",
   "metadata": {},
   "source": [
    "# Q3. Write a program to print all prime numbers  that fall between two numbers including both(accept two numbers from the user)"
   ]
  },
  {
   "cell_type": "code",
   "execution_count": 89,
   "id": "46d774ac",
   "metadata": {},
   "outputs": [
    {
     "name": "stdout",
     "output_type": "stream",
     "text": [
      "ENter the number: 7\n",
      "Prime\n"
     ]
    }
   ],
   "source": [
    "x=int(input(\"ENter the number: \"))\n",
    "b=0\n",
    "if x==0 or x==1:\n",
    "    b=1\n",
    "for i in range(2,x):\n",
    "        if x%i==0:\n",
    "            b=1\n",
    "if b==1:\n",
    "    print(\"Not prime\")\n",
    "else:\n",
    "    print(\"Prime\")"
   ]
  },
  {
   "cell_type": "markdown",
   "id": "df60f060",
   "metadata": {},
   "source": [
    "# Q4. Write a program to display sum of odd numbers and even numbers that fall between 12 and 37(including both numbers)"
   ]
  },
  {
   "cell_type": "code",
   "execution_count": 97,
   "id": "72b43d22",
   "metadata": {},
   "outputs": [
    {
     "name": "stdout",
     "output_type": "stream",
     "text": [
      "The sum of the even number is  312\n",
      "The sum of the odd number is  325\n"
     ]
    }
   ],
   "source": [
    "sum=0\n",
    "sum1=0\n",
    "for i in range(12,38):\n",
    "    if i%2==0:\n",
    "        sum=sum+i\n",
    "    else:\n",
    "        sum1=sum1+i\n",
    "print(\"The sum of the even number is \",sum)\n",
    "print(\"The sum of the odd number is \",sum1)\n"
   ]
  },
  {
   "cell_type": "markdown",
   "id": "3b5b7ff5",
   "metadata": {},
   "source": [
    "# Q5. Write a program to display all the numbers which are divisible by 11 but not by 2 between 100 and 500."
   ]
  },
  {
   "cell_type": "code",
   "execution_count": 98,
   "id": "dd4cfdea",
   "metadata": {},
   "outputs": [
    {
     "name": "stdout",
     "output_type": "stream",
     "text": [
      "121\n",
      "143\n",
      "165\n",
      "187\n",
      "209\n",
      "231\n",
      "253\n",
      "275\n",
      "297\n",
      "319\n",
      "341\n",
      "363\n",
      "385\n",
      "407\n",
      "429\n",
      "451\n",
      "473\n",
      "495\n"
     ]
    }
   ],
   "source": [
    "for i in range(100,501):\n",
    "    if i%11==0 and i%2!=0:\n",
    "        print(i)"
   ]
  },
  {
   "cell_type": "markdown",
   "id": "38fd98f4",
   "metadata": {},
   "source": [
    "# Q6. Write a program to print numbers from 1 to 20 except multiple of 2 & 3."
   ]
  },
  {
   "cell_type": "code",
   "execution_count": 99,
   "id": "ba015e5e",
   "metadata": {},
   "outputs": [
    {
     "name": "stdout",
     "output_type": "stream",
     "text": [
      "1\n",
      "5\n",
      "7\n",
      "11\n",
      "13\n",
      "17\n",
      "19\n"
     ]
    }
   ],
   "source": [
    "for i in range(1,20):\n",
    "    if i%2!=0 and i%3!=0:\n",
    "        print(i)"
   ]
  },
  {
   "cell_type": "markdown",
   "id": "23ce4d89",
   "metadata": {},
   "source": [
    "# Q7. Write a program to print table of a number(accepted from user) in the following format. \n",
    "\n",
    "    # Like : input number is 7, so expected output  is\n",
    "\n",
    "    # 7 * 1 = 7\n",
    "\n",
    "    # 7 * 2 = 14 and so on"
   ]
  },
  {
   "cell_type": "code",
   "execution_count": 101,
   "id": "94739a8d",
   "metadata": {},
   "outputs": [
    {
     "name": "stdout",
     "output_type": "stream",
     "text": [
      "Enter the number: 6\n",
      "6 * 1  =  6\n",
      "6 * 2  =  12\n",
      "6 * 3  =  18\n",
      "6 * 4  =  24\n",
      "6 * 5  =  30\n",
      "6 * 6  =  36\n",
      "6 * 7  =  42\n",
      "6 * 8  =  48\n",
      "6 * 9  =  54\n",
      "6 * 10  =  60\n"
     ]
    }
   ],
   "source": [
    "x=int(input(\"Enter the number: \"))\n",
    "for i in range(1,11):\n",
    "    print(x,\"*\",i,\" = \",x*i)"
   ]
  },
  {
   "cell_type": "markdown",
   "id": "fbd27334",
   "metadata": {},
   "source": [
    "# Q8. Write a program that keep on accepting number from the user until user enters Zero. Display the sum and average of all the numbers."
   ]
  },
  {
   "cell_type": "code",
   "execution_count": 1,
   "id": "1e4744c3",
   "metadata": {},
   "outputs": [
    {
     "name": "stdout",
     "output_type": "stream",
     "text": [
      "if u want to close press zero or continue it as it is: 2\n",
      "if u want to close press zero or continue it as it is: 3\n",
      "if u want to close press zero or continue it as it is: 4\n",
      "if u want to close press zero or continue it as it is: 5\n",
      "if u want to close press zero or continue it as it is: 6\n",
      "if u want to close press zero or continue it as it is: 7\n",
      "if u want to close press zero or continue it as it is: 8\n",
      "if u want to close press zero or continue it as it is: 9\n",
      "if u want to close press zero or continue it as it is: 0\n",
      "5.5\n"
     ]
    }
   ],
   "source": [
    "sum=0\n",
    "i=0\n",
    "while True:\n",
    "    a=int(input(\"if u want to close press zero or continue it as it is: \"))\n",
    "    if a==0:\n",
    "        break;\n",
    "    else:\n",
    "        sum=sum+a\n",
    "        i=i+1\n",
    "print(sum/i)"
   ]
  },
  {
   "cell_type": "markdown",
   "id": "40bf9e79",
   "metadata": {},
   "source": [
    "# Practice Questions of Loops in Python — Test 3"
   ]
  },
  {
   "cell_type": "markdown",
   "id": "4c4d9e2e",
   "metadata": {},
   "source": [
    "# Q1. Write a program to print the following pattern\n",
    "\n",
    " # 5 5 5 5 5\n",
    " # 4 4 4 4\n",
    " # 3 3 3\n",
    " # 2 2\n",
    " # 1"
   ]
  },
  {
   "cell_type": "code",
   "execution_count": 116,
   "id": "d2e2bf9d",
   "metadata": {},
   "outputs": [
    {
     "name": "stdout",
     "output_type": "stream",
     "text": [
      "5 5 5 5 5 \n",
      "4 4 4 4 \n",
      "3 3 3 \n",
      "2 2 \n",
      "1 \n"
     ]
    }
   ],
   "source": [
    "for i in range(5,0,-1):\n",
    "    for j in range(1,i+1):\n",
    "        print(i,end=\" \")\n",
    "    print()"
   ]
  },
  {
   "cell_type": "code",
   "execution_count": 117,
   "id": "e693bd53",
   "metadata": {},
   "outputs": [
    {
     "name": "stdout",
     "output_type": "stream",
     "text": [
      "1 2 3 4 5 \n",
      "1 2 3 4 \n",
      "1 2 3 \n",
      "1 2 \n",
      "1 \n"
     ]
    }
   ],
   "source": [
    "for i in range(5,0,-1):\n",
    "\n",
    "   for j in range(1,i+1):\n",
    "\n",
    "       print(j,end=\" \")\n",
    "\n",
    "   print()"
   ]
  },
  {
   "cell_type": "markdown",
   "id": "a4e55dce",
   "metadata": {},
   "source": [
    "# Q3. Write a program to accept decimal number and display its binary number."
   ]
  },
  {
   "cell_type": "code",
   "execution_count": null,
   "id": "a8b72dfe",
   "metadata": {},
   "outputs": [],
   "source": []
  },
  {
   "cell_type": "markdown",
   "id": "196d81b5",
   "metadata": {},
   "source": [
    "# Q4. Accept a number and check whether it is palindrome or not."
   ]
  },
  {
   "cell_type": "code",
   "execution_count": 54,
   "id": "8658ea62",
   "metadata": {},
   "outputs": [
    {
     "name": "stdout",
     "output_type": "stream",
     "text": [
      "Enter the number: 121\n",
      "Number is palindrome: \n"
     ]
    }
   ],
   "source": [
    "x=int(input(\"Enter the number: \"))\n",
    "b=x\n",
    "a=0\n",
    "while x:\n",
    "    d=x%10\n",
    "    a=a*10+d\n",
    "    x=x//10\n",
    "if b==a:\n",
    "    print(\"Number is palindrome: \")\n",
    "else:\n",
    "    print(\"Number is not Palindrome\")"
   ]
  },
  {
   "cell_type": "markdown",
   "id": "1c6351e3",
   "metadata": {},
   "source": [
    "# Q5. Write a program to accept a number and check whether it is a perfect number or not."
   ]
  },
  {
   "cell_type": "code",
   "execution_count": null,
   "id": "6c63f567",
   "metadata": {},
   "outputs": [],
   "source": []
  },
  {
   "cell_type": "markdown",
   "id": "0d77cf80",
   "metadata": {},
   "source": [
    "# Q6. Write a program to print the following pattern\n",
    "\n",
    "# A\n",
    "# B C\n",
    "# D E F\n",
    "# G H I J\n",
    "# K L M N O"
   ]
  },
  {
   "cell_type": "code",
   "execution_count": 58,
   "id": "264f53e2",
   "metadata": {},
   "outputs": [
    {
     "name": "stdout",
     "output_type": "stream",
     "text": [
      "A \n",
      "B C \n",
      "D E F \n",
      "G H I J \n",
      "K L M N O \n"
     ]
    }
   ],
   "source": [
    "l=65\n",
    "for i in range(1,6):\n",
    "    for j in range(1,i+1):\n",
    "        print(chr(l),end=\" \")\n",
    "        l=l+1\n",
    "    print()\n"
   ]
  },
  {
   "cell_type": "code",
   "execution_count": 60,
   "id": "c8c87faa",
   "metadata": {},
   "outputs": [
    {
     "name": "stdout",
     "output_type": "stream",
     "text": [
      "A \n",
      "B C \n",
      "D E F \n",
      "G H I J \n",
      "K L M N O \n"
     ]
    }
   ],
   "source": [
    "l=65\n",
    "for i in range(1,6):\n",
    "    for j in range(1,i+1):\n",
    "        print(chr(l),end=\" \")\n",
    "        l=l+1\n",
    "    print()"
   ]
  },
  {
   "cell_type": "code",
   "execution_count": 62,
   "id": "1896dbf4",
   "metadata": {},
   "outputs": [
    {
     "name": "stdout",
     "output_type": "stream",
     "text": [
      "A \n",
      "B C \n",
      "D E F \n",
      "G H I J \n",
      "K L M N O \n"
     ]
    }
   ],
   "source": [
    "l=65 \n",
    "for i in range(1,6):\n",
    "    for j in range(1,i+1):\n",
    "        print(chr(l),end=\" \")\n",
    "        l=l+1\n",
    "    print()"
   ]
  },
  {
   "cell_type": "markdown",
   "id": "d207f5b9",
   "metadata": {},
   "source": [
    "# What is the answer of the following code"
   ]
  },
  {
   "cell_type": "code",
   "execution_count": 4,
   "id": "477873de",
   "metadata": {},
   "outputs": [
    {
     "name": "stdout",
     "output_type": "stream",
     "text": [
      "bye\n"
     ]
    }
   ],
   "source": [
    "x=3\n",
    "if x>2 or x<5 and x==6:\n",
    "    print(\"bye\")\n",
    "else:\n",
    "    print(\"“Thankyou”\")"
   ]
  },
  {
   "cell_type": "markdown",
   "id": "cd838979",
   "metadata": {},
   "source": [
    "# Q10. Write a function to display prime numbers below any number accepted from the user."
   ]
  },
  {
   "cell_type": "code",
   "execution_count": 4,
   "id": "35593324",
   "metadata": {},
   "outputs": [
    {
     "name": "stdout",
     "output_type": "stream",
     "text": [
      "Enter the number: 15\n",
      "Not prime number\n"
     ]
    }
   ],
   "source": [
    "x=int(input(\"Enter the number: \"))\n",
    "a=0\n",
    "if x==1 or x==0:\n",
    "    a=1\n",
    "for i in range(2,x):\n",
    "    if x%i==0:\n",
    "        a=1\n",
    "if a==0:\n",
    "    print(\"Prime number\")\n",
    "else:\n",
    "    print(\"Not prime number\")"
   ]
  },
  {
   "cell_type": "markdown",
   "id": "529f501a",
   "metadata": {},
   "source": [
    "# Q11.WAP to give the sum of nested tuple using while loop"
   ]
  },
  {
   "cell_type": "code",
   "execution_count": 12,
   "id": "85cca3ee",
   "metadata": {},
   "outputs": [
    {
     "name": "stdout",
     "output_type": "stream",
     "text": [
      "154\n"
     ]
    }
   ],
   "source": [
    "a=(1,2,(3,4,5,[6,7,8,(9,109)]))\n",
    "s=0\n",
    "i=0\n",
    "while i<len(a):\n",
    "    if type(a[i])==tuple:\n",
    "        for j in a[i]:\n",
    "            if type(j)==list:\n",
    "                for k in j:\n",
    "                    if type(k)==tuple:\n",
    "                        for l in k:\n",
    "                            s=s+l\n",
    "                            i=i+1\n",
    "                    else:\n",
    "                        s=s+k\n",
    "            else:\n",
    "                s=s+j\n",
    "    else:\n",
    "        s=s+a[i]\n",
    "        i=i+1\n",
    "print(s)"
   ]
  },
  {
   "cell_type": "markdown",
   "id": "c462e1ec",
   "metadata": {},
   "source": [
    "# Q12. Write a program to print the following pattern.\n",
    "\n",
    "1    2     3    4 \n",
    "\n",
    "1    2     3\n",
    "\n",
    "1   2\n",
    "\n",
    "1"
   ]
  },
  {
   "cell_type": "code",
   "execution_count": 17,
   "id": "470af281",
   "metadata": {},
   "outputs": [
    {
     "name": "stdout",
     "output_type": "stream",
     "text": [
      "1 2 3 4 \n",
      "1 2 3 \n",
      "1 2 \n",
      "1 \n",
      "\n"
     ]
    }
   ],
   "source": [
    "for i in range(1,6):\n",
    "    for j in range(1,6-i):\n",
    "        print(j,end=\" \")\n",
    "    print()"
   ]
  },
  {
   "cell_type": "markdown",
   "id": "61feb356",
   "metadata": {},
   "source": [
    "# Q13. Write a program to print the following pattern.\n",
    "\n",
    "A\n",
    "\n",
    "B    C\n",
    "\n",
    "D    E    F\n",
    "\n",
    "G    H    I    J"
   ]
  },
  {
   "cell_type": "code",
   "execution_count": 20,
   "id": "cdd5a943",
   "metadata": {},
   "outputs": [
    {
     "name": "stdout",
     "output_type": "stream",
     "text": [
      "A \n",
      "B C \n",
      "D E F \n",
      "G H I J \n"
     ]
    }
   ],
   "source": [
    "l=65\n",
    "for i in range(1,5):\n",
    "    for j in range(i):\n",
    "        print(chr(l),end=\" \")\n",
    "        l=l+1\n",
    "    print()"
   ]
  },
  {
   "cell_type": "markdown",
   "id": "fbd07062",
   "metadata": {},
   "source": [
    "# Q14. Write a program to print the following pattern.\n",
    "\n",
    "A    A    A    A\n",
    "\n",
    "A    A    A    A\n",
    "\n",
    "A    A    A    A\n",
    "\n",
    "A    A    A    A"
   ]
  },
  {
   "cell_type": "code",
   "execution_count": 21,
   "id": "d41d0de6",
   "metadata": {},
   "outputs": [
    {
     "name": "stdout",
     "output_type": "stream",
     "text": [
      "A A A A \n",
      "A A A A \n",
      "A A A A \n",
      "A A A A \n"
     ]
    }
   ],
   "source": [
    "l=65\n",
    "for i in range(4):\n",
    "    for j in range(4):\n",
    "        print(chr(l),end=\" \")\n",
    "    print()"
   ]
  },
  {
   "cell_type": "markdown",
   "id": "eb08987d",
   "metadata": {},
   "source": [
    "# Q15. Write a program to print the factorial of a number."
   ]
  },
  {
   "cell_type": "code",
   "execution_count": 29,
   "id": "7b9c3874",
   "metadata": {},
   "outputs": [
    {
     "name": "stdout",
     "output_type": "stream",
     "text": [
      "Enter the number: 8\n",
      "1 = 1\n",
      "2 = 2\n",
      "3 = 6\n",
      "4 = 24\n",
      "5 = 120\n",
      "6 = 720\n",
      "7 = 5040\n",
      "8 = 40320\n"
     ]
    }
   ],
   "source": [
    "x=int(input(\"Enter the number: \"))\n",
    "fact=1\n",
    "for i in range(1,x+1):\n",
    "    fact=fact*i\n",
    "    print(i,\"=\",fact)"
   ]
  },
  {
   "cell_type": "markdown",
   "id": "b0a2281b",
   "metadata": {},
   "source": [
    "# Q16.Write a program to find the sum of digits of a number."
   ]
  },
  {
   "cell_type": "code",
   "execution_count": 31,
   "id": "604606b4",
   "metadata": {},
   "outputs": [
    {
     "name": "stdout",
     "output_type": "stream",
     "text": [
      "Enter the number: 1234\n",
      "10\n"
     ]
    }
   ],
   "source": [
    "x=int(input(\"Enter the number: \"))\n",
    "c=0\n",
    "while x:\n",
    "    b=x%10\n",
    "    c=c+b\n",
    "    x=x//10\n",
    "print(c)"
   ]
  },
  {
   "cell_type": "markdown",
   "id": "e8ae0a3c",
   "metadata": {},
   "source": [
    "# Q17. Accept two numbers from the user and display sum of even numbers between them(including both)"
   ]
  },
  {
   "cell_type": "code",
   "execution_count": 45,
   "id": "dfb3583d",
   "metadata": {},
   "outputs": [
    {
     "name": "stdout",
     "output_type": "stream",
     "text": [
      "Enter the number: 2\n",
      "Enter the number: 60\n",
      "930\n"
     ]
    }
   ],
   "source": [
    "a=int(input(\"Enter the number: \"))\n",
    "b=int(input(\"Enter the number: \"))\n",
    "sum=0\n",
    "while a<=b:\n",
    "    if a%2==0:\n",
    "        sum=sum+a\n",
    "        a=a+1\n",
    "    else:\n",
    "        a=a+1\n",
    "print(sum)"
   ]
  },
  {
   "cell_type": "markdown",
   "id": "6e8bc452",
   "metadata": {},
   "source": [
    "# Q18. Write a program to reverse a number."
   ]
  },
  {
   "cell_type": "code",
   "execution_count": 34,
   "id": "01aa0b82",
   "metadata": {},
   "outputs": [
    {
     "name": "stdout",
     "output_type": "stream",
     "text": [
      "Enter the number: 1234\n",
      "4321"
     ]
    }
   ],
   "source": [
    "x=int(input(\"Enter the number: \"))\n",
    "while x:\n",
    "    b=x%10\n",
    "    print(b,end='')\n",
    "    x=x//10\n",
    "    "
   ]
  },
  {
   "cell_type": "code",
   "execution_count": 10,
   "id": "0ba46f44",
   "metadata": {},
   "outputs": [
    {
     "name": "stdout",
     "output_type": "stream",
     "text": [
      "['ram', 'ravi', 'ratan', 'vibhaa']\n"
     ]
    }
   ],
   "source": [
    "l=['ravi','ram','ratan','vibhaa']\n",
    "l.sort(key=len)\n",
    "print(l)"
   ]
  },
  {
   "cell_type": "code",
   "execution_count": 17,
   "id": "c3f7eb54",
   "metadata": {},
   "outputs": [
    {
     "name": "stdout",
     "output_type": "stream",
     "text": [
      "Enter the number: 12234\n",
      "{2000: 6, 200: 1, 10: 3, 1: 4}\n"
     ]
    }
   ],
   "source": [
    "x=int(input(\"Enter the number: \"))\n",
    "l=[2000,500,200,100,10,1]\n",
    "a={}\n",
    "for i in l:\n",
    "    if x>=i:\n",
    "        a[i]=x//i\n",
    "        x=x%i\n",
    "print(a)"
   ]
  },
  {
   "cell_type": "code",
   "execution_count": 19,
   "id": "284211a7",
   "metadata": {},
   "outputs": [
    {
     "name": "stdout",
     "output_type": "stream",
     "text": [
      "Enter the string: msh/eh*lw*lw/\n",
      "hsm/he*wl*wl/\n"
     ]
    }
   ],
   "source": [
    "x=input(\"Enter the string: \")\n",
    "a=''\n",
    "b=''\n",
    "for i in x:\n",
    "    if i.isalnum():\n",
    "        a=a+i\n",
    "    else:\n",
    "        b=b+a[::-1]+i\n",
    "        a=''\n",
    "r=b+a[::-1]\n",
    "print(r)"
   ]
  },
  {
   "cell_type": "code",
   "execution_count": 7,
   "id": "c76aa9f2",
   "metadata": {},
   "outputs": [
    {
     "name": "stdout",
     "output_type": "stream",
     "text": [
      "Enter the string: python\n",
      "nohtypn"
     ]
    }
   ],
   "source": [
    "x=input(\"Enter the string: \")\n",
    "a=len(x)\n",
    "b=0\n",
    "while b<=a:\n",
    "    print(x[a-1],end=\"\")\n",
    "    a=a-1"
   ]
  },
  {
   "cell_type": "code",
   "execution_count": 31,
   "id": "44f6348e",
   "metadata": {},
   "outputs": [
    {
     "name": "stdout",
     "output_type": "stream",
     "text": [
      "Enter the string: ravi\n",
      "ivar\n"
     ]
    }
   ],
   "source": [
    "x=input(\"Enter the string: \")\n",
    "i=0\n",
    "while i<len(x):\n",
    "    i=i+1\n",
    "print(x[::-1])"
   ]
  },
  {
   "cell_type": "code",
   "execution_count": 2,
   "id": "335d357f",
   "metadata": {},
   "outputs": [
    {
     "name": "stdout",
     "output_type": "stream",
     "text": [
      "s>5\n"
     ]
    }
   ],
   "source": [
    "a=5\n",
    "if a>5:\n",
    "    print('a>5')\n",
    "else:\n",
    "    if a<10:\n",
    "        print(\"s>5\")\n",
    "    else:\n",
    "        print(\"A is greater\")"
   ]
  },
  {
   "cell_type": "code",
   "execution_count": 4,
   "id": "b7eeaa0e",
   "metadata": {},
   "outputs": [
    {
     "name": "stdout",
     "output_type": "stream",
     "text": [
      "a is greater\n"
     ]
    }
   ],
   "source": [
    "a=50\n",
    "b='a>10' if a<5 else 'a is greater'\n",
    "print(b)"
   ]
  },
  {
   "cell_type": "code",
   "execution_count": 1,
   "id": "052f463d",
   "metadata": {},
   "outputs": [
    {
     "name": "stdout",
     "output_type": "stream",
     "text": [
      "   * 2\n",
      "    * 3\n",
      "     * 4\n",
      "      * 5\n",
      "       * 6\n"
     ]
    }
   ],
   "source": [
    "x=2\n",
    "while x<=6:\n",
    "    print(' '*x,'*',x)\n",
    "    x=x+1"
   ]
  },
  {
   "cell_type": "code",
   "execution_count": 27,
   "id": "e4bf681b",
   "metadata": {},
   "outputs": [
    {
     "name": "stdout",
     "output_type": "stream",
     "text": [
      "   * 2\n",
      "    * 3\n",
      "     * 4\n",
      "      * 5\n",
      "       * 6\n",
      "        * 7\n"
     ]
    }
   ],
   "source": [
    "x=2\n",
    "while x<=7:\n",
    "    print(\" \"*x,'*',x)\n",
    "    x=x+1"
   ]
  },
  {
   "cell_type": "code",
   "execution_count": 16,
   "id": "2e87ef9f",
   "metadata": {},
   "outputs": [
    {
     "name": "stdout",
     "output_type": "stream",
     "text": [
      "       *\n",
      "      **\n",
      "     ***\n",
      "    ****\n",
      "   *****\n",
      "  ******\n"
     ]
    }
   ],
   "source": [
    "d=6\n",
    "x=1\n",
    "while d!=0:\n",
    "    print(\" \"*d,\"*\"*x)\n",
    "    d=d-1\n",
    "    x=x+1"
   ]
  },
  {
   "cell_type": "code",
   "execution_count": 20,
   "id": "2cc4129c",
   "metadata": {},
   "outputs": [
    {
     "name": "stdout",
     "output_type": "stream",
     "text": [
      " * * * * * *  \n",
      " * * * * *   \n",
      " * * * *    \n",
      " * * *     \n",
      " * *      \n",
      " *       \n"
     ]
    }
   ],
   "source": [
    "d=6\n",
    "x=1\n",
    "while d!=0:\n",
    "    print(\" *\"*d,\" \"*x)\n",
    "    d=d-1\n",
    "    x=x+1"
   ]
  },
  {
   "cell_type": "code",
   "execution_count": 23,
   "id": "4360936c",
   "metadata": {},
   "outputs": [
    {
     "name": "stdout",
     "output_type": "stream",
     "text": [
      "ENter the number: 6\n",
      " * * * * * \n",
      " * * * * \n",
      " * * * \n",
      " * * \n",
      " * \n"
     ]
    }
   ],
   "source": [
    "a=int(input(\"ENter the number: \"))\n",
    "i=1\n",
    "while i<a:\n",
    "    print(\" \"*(a-i),\"*\"*i)\n",
    "    i=i+1"
   ]
  },
  {
   "cell_type": "code",
   "execution_count": 24,
   "id": "abf50fbb",
   "metadata": {},
   "outputs": [
    {
     "name": "stdout",
     "output_type": "stream",
     "text": [
      "ENter the number: 6\n",
      " * * * * * \n",
      " * * * * \n",
      " * * * \n",
      " * * \n",
      " * \n"
     ]
    }
   ],
   "source": [
    "a=int(input(\"ENter the number: \"))\n",
    "i=1\n",
    "while i<a:\n",
    "    print(\" *\"*(a-i),end=\" \")\n",
    "    i=i+1\n",
    "    print()"
   ]
  },
  {
   "cell_type": "code",
   "execution_count": 7,
   "id": "f3f1d316",
   "metadata": {},
   "outputs": [
    {
     "name": "stdout",
     "output_type": "stream",
     "text": [
      "hello pythonhello python\n"
     ]
    }
   ],
   "source": [
    "c='hello python'\n",
    "c[-1:]\n",
    "print(c*2)"
   ]
  },
  {
   "cell_type": "code",
   "execution_count": 18,
   "id": "3fe08caf",
   "metadata": {},
   "outputs": [
    {
     "name": "stdout",
     "output_type": "stream",
     "text": [
      "[4]\n",
      "[8]\n"
     ]
    }
   ],
   "source": [
    "# WAP to find the sum of 2 and count of 2\n",
    "l=[1,2,3,4,5,6,2,2,2]\n",
    "a=[]\n",
    "b=[]\n",
    "count=0\n",
    "sum=0\n",
    "for i in l:\n",
    "    if i==2:\n",
    "        sum=sum+i\n",
    "        count=count+1\n",
    "a.append(sum)\n",
    "b.append(count)\n",
    "print(b)\n",
    "print(a)"
   ]
  },
  {
   "cell_type": "code",
   "execution_count": 30,
   "id": "5320cf40",
   "metadata": {},
   "outputs": [
    {
     "name": "stdout",
     "output_type": "stream",
     "text": [
      "1\n",
      "2\n",
      "3\n",
      "[4, 5, 6]\n",
      "7\n",
      "8\n",
      "9\n",
      "10\n",
      "55\n"
     ]
    }
   ],
   "source": [
    "l=[1,2,3,[4,5,6],7,8,9,10]\n",
    "sum=0\n",
    "for i in l:\n",
    "    #print(i)\n",
    "    if type(i)==list:\n",
    "        for j in i:\n",
    "            sum=sum+j  \n",
    "    else:\n",
    "        sum=sum+i     \n",
    "print(sum)"
   ]
  },
  {
   "cell_type": "code",
   "execution_count": 35,
   "id": "65911bad",
   "metadata": {},
   "outputs": [
    {
     "name": "stdout",
     "output_type": "stream",
     "text": [
      "1\n",
      "3\n",
      "6\n",
      "True\n",
      "True True\n",
      "True True\n",
      "True True\n",
      "13\n",
      "21\n",
      "30\n",
      "40\n"
     ]
    }
   ],
   "source": [
    "l=[1,2,3,[4,5,6],7,8,9,10]\n",
    "sum=0\n",
    "for i in l:\n",
    "    if type(i)==list:\n",
    "        print(True)\n",
    "        for j in i:\n",
    "            print(True,True)\n",
    "    else:\n",
    "        sum=sum+i\n",
    "        print(sum)"
   ]
  },
  {
   "cell_type": "code",
   "execution_count": null,
   "id": "d3c1ad79",
   "metadata": {},
   "outputs": [],
   "source": []
  },
  {
   "cell_type": "code",
   "execution_count": 34,
   "id": "5dfa7573",
   "metadata": {},
   "outputs": [
    {
     "name": "stdout",
     "output_type": "stream",
     "text": [
      "Enter the number: 4\n",
      "Prime number and odd also\n"
     ]
    }
   ],
   "source": [
    "a=int(input(\"Enter the number: \"))\n",
    "x=1\n",
    "b=0\n",
    "while b<=a:\n",
    "    if x%a==0:\n",
    "        b=b+1\n",
    "    x=x+1\n",
    "if b==2:\n",
    "    print(\"Not prime number and even too\")\n",
    "else:\n",
    "    print(\"Prime number and odd also\")"
   ]
  },
  {
   "cell_type": "code",
   "execution_count": null,
   "id": "c4c04c3c",
   "metadata": {},
   "outputs": [],
   "source": [
    "# Print first 10 natural numbers using loop "
   ]
  },
  {
   "cell_type": "code",
   "execution_count": 1,
   "id": "0a893f70",
   "metadata": {},
   "outputs": [
    {
     "name": "stdout",
     "output_type": "stream",
     "text": [
      "1\n",
      "2\n",
      "3\n",
      "4\n",
      "5\n",
      "6\n",
      "7\n",
      "8\n",
      "9\n",
      "10\n"
     ]
    }
   ],
   "source": [
    "for i in range(1,11):\n",
    "    print(i)"
   ]
  },
  {
   "cell_type": "code",
   "execution_count": 10,
   "id": "3d8ca70c",
   "metadata": {},
   "outputs": [
    {
     "name": "stdout",
     "output_type": "stream",
     "text": [
      "ENter the number: -5\n"
     ]
    }
   ],
   "source": [
    "x=int(input(\"ENter the number: \"))\n",
    "fact=1\n",
    "for i in range(1,x+1):\n",
    "    fact=fact*i\n",
    "    print(fact)"
   ]
  },
  {
   "cell_type": "code",
   "execution_count": 16,
   "id": "20f246f7",
   "metadata": {},
   "outputs": [
    {
     "name": "stdout",
     "output_type": "stream",
     "text": [
      "enter the number:-1\n",
      "2\n"
     ]
    }
   ],
   "source": [
    "u = int(input(\"enter the number:\"))\n",
    "x = 2\n",
    "for i in range(1,u+1):\n",
    "    x=x*i\n",
    "    print(x)\n"
   ]
  },
  {
   "cell_type": "code",
   "execution_count": 21,
   "id": "3719291b",
   "metadata": {},
   "outputs": [
    {
     "name": "stdout",
     "output_type": "stream",
     "text": [
      "even numbers are:  [2, 4, 6, 8]\n",
      "Odd numbers are: [1, 3, 5, 7]\n"
     ]
    }
   ],
   "source": [
    "l=[1,2,3,4,5,6,7,8]\n",
    "a=[]\n",
    "b=[]\n",
    "for i in l:\n",
    "    if i%2==0:\n",
    "        a.append(i)\n",
    "    else:\n",
    "        b.append(i)\n",
    "print('even numbers are: ',a)\n",
    "print('Odd numbers are:',b)"
   ]
  },
  {
   "cell_type": "code",
   "execution_count": 27,
   "id": "485d1f05",
   "metadata": {},
   "outputs": [
    {
     "name": "stdout",
     "output_type": "stream",
     "text": [
      "28\n",
      "1917\n"
     ]
    }
   ],
   "source": [
    "l=[21,324,325,356,456,456,7]\n",
    "x=0\n",
    "b=0\n",
    "for i in l:\n",
    "    if i%7==0:\n",
    "        x=x+i   # i=21  21%7==0 True  sum=0+21=21 i=7 7%7==0 True sum=21+7=28\n",
    "    else:\n",
    "        b=b+i  # b=0  b=0+324=324\n",
    "print(x)\n",
    "print(b)"
   ]
  },
  {
   "cell_type": "code",
   "execution_count": 28,
   "id": "8889c1d8",
   "metadata": {},
   "outputs": [
    {
     "data": {
      "text/plain": [
       "2"
      ]
     },
     "execution_count": 28,
     "metadata": {},
     "output_type": "execute_result"
    }
   ],
   "source": [
    "324%7"
   ]
  },
  {
   "cell_type": "code",
   "execution_count": 29,
   "id": "754598cb",
   "metadata": {},
   "outputs": [
    {
     "data": {
      "text/plain": [
       "3"
      ]
     },
     "execution_count": 29,
     "metadata": {},
     "output_type": "execute_result"
    }
   ],
   "source": [
    "325%7"
   ]
  },
  {
   "cell_type": "code",
   "execution_count": null,
   "id": "b9fc46d7",
   "metadata": {},
   "outputs": [],
   "source": [
    "# WAP to print odd numbers in a list\n",
    "# WAP to print even numbers in a list\n",
    "# WAP to print sum of all even numbers \n",
    "# WAP to print sum of all odd numbers\n",
    "# Wap to print the factorial of a number given by user\n",
    "# WAP to print table of 4,5,7,8\n",
    "# WAP to print the product of the number"
   ]
  },
  {
   "cell_type": "code",
   "execution_count": 58,
   "id": "b7a761db",
   "metadata": {},
   "outputs": [
    {
     "name": "stdout",
     "output_type": "stream",
     "text": [
      "Enter the number: 5\n",
      "5 * 1 = 5\n",
      "5 * 2 = 10\n",
      "5 * 3 = 15\n",
      "5 * 4 = 20\n",
      "5 * 5 = 25\n",
      "5 * 6 = 30\n",
      "5 * 7 = 35\n",
      "5 * 8 = 40\n",
      "5 * 9 = 45\n",
      "5 * 10 = 50\n"
     ]
    }
   ],
   "source": [
    "x=int(input(\"Enter the number: \"))#7\n",
    "for i in range(1,11):\n",
    "    print(x,'*',i,'=',x*i)     #x=5 i=1 x*i 5*1=5   x=5 i=2  x*i  5*2=10"
   ]
  },
  {
   "cell_type": "code",
   "execution_count": 59,
   "id": "2a658dc8",
   "metadata": {},
   "outputs": [
    {
     "name": "stdout",
     "output_type": "stream",
     "text": [
      " * *  * *  \n",
      "*   *   * \n",
      "*      * \n",
      " *    *  \n",
      "  *  *   \n",
      "   *    \n"
     ]
    }
   ],
   "source": [
    "for row in range(6):  \n",
    "    for col in range(7):  \n",
    "        if (row==0 and col %3 !=0)or(row==1 and col %3==0) or(row-col==2) or(row+col==8):  \n",
    "            print(\"*\",end=\" \")  \n",
    "        else:  \n",
    "            print(end=\" \")  \n",
    "    print()"
   ]
  },
  {
   "cell_type": "code",
   "execution_count": 63,
   "id": "655509b6",
   "metadata": {},
   "outputs": [
    {
     "name": "stdout",
     "output_type": "stream",
     "text": [
      "  *   *   *   *   \n",
      "*       *       * \n",
      "*               * \n",
      "*     G F G     *   *           *       *       *           *   *               *         \n"
     ]
    }
   ],
   "source": [
    "\n",
    "n = 8\n",
    "m = n+1\n",
    "\n",
    "\n",
    "for i in range(n//2-1):\n",
    "    for j in range(m):\n",
    "        if i == n//2-2 and (j == 0 or j == m-1):\n",
    "            print(\"*\", end=\" \")\n",
    "        elif j <= m//2 and ((i+j == n//2-3 and j <= m//4) \\\n",
    "                            or (j-i == m//2-n//2+3 and j > m//4)):\n",
    "            print(\"*\", end=\" \")\n",
    "        elif j > m//2 and ((i+j == n//2-3+m//2 and j < 3*m//4) \\\n",
    "            or (j-i == m//2-n//2+3+m//2 and j >= 3*m//4)):\n",
    "            print(\"*\", end=\" \")\n",
    "        else:\n",
    "            print(\" \", end=\" \")\n",
    "    print()\n",
    "for i in range(n//2-1, n):\n",
    "    for j in range(m):\n",
    "        if (i-j == n//2-1) or (i+j == n-1+m//2):\n",
    "            print('*', end=\" \")\n",
    "        elif i == n//2-1:\n",
    "    \n",
    "            if j == m//2-1 or j == m//2+1:\n",
    "                print('G', end=\" \")\n",
    "            elif j == m//2:\n",
    "                print('F', end=\" \")\n",
    "            else:\n",
    "                print(' ', end=\" \")\n",
    "        else:\n",
    "            print(' ', end=\" \")\n",
    "print()\n"
   ]
  },
  {
   "cell_type": "code",
   "execution_count": 64,
   "id": "c146ae02",
   "metadata": {},
   "outputs": [],
   "source": [
    "import turtle\n",
    "\n",
    "\n",
    "# Creating a turtle object(vr)\n",
    "vr = turtle.Turtle()\n",
    "\n",
    "#set the Back Ground color\n",
    "turtle.Screen().bgcolor('black')\n",
    "# set the pen size\n",
    "turtle.pensize(4)\n",
    "vr.speed (10)\n",
    "\n",
    "# Defining a method to draw curve\n",
    "def drawcurve():\n",
    "    for i in range(200):\n",
    "        # Defining step by step curve motion\n",
    "        vr.right(1)\n",
    "        vr. forward(1)\n",
    "        \n",
    "\n",
    "\n",
    "# Set the fill color to pink and border color to Red\n",
    "vr.color('red', 'pink')\n",
    " # Start filling the color\n",
    "vr.begin_fill()\n",
    "vr.left(140)\n",
    "\n",
    " # Draw the left line\n",
    "vr.forward(111.65)\n",
    "# Draw the left curve\n",
    "drawcurve()\n",
    "vr.left(120)\n",
    "drawcurve()\n",
    " # Draw the right line\n",
    "vr.forward(111.65)\n",
    " # end_fill() : This method fills the polygon with the current fill color by closing it between the current position and the initial position.\n",
    "vr.end_fill()\n",
    "vr.penup()\n",
    "vr.goto(77, -40)\n",
    "vr.pendown()\n",
    "vr.hideturtle()"
   ]
  },
  {
   "cell_type": "code",
   "execution_count": 86,
   "id": "215a7b70",
   "metadata": {},
   "outputs": [
    {
     "data": {
      "image/png": "[encoded data removed]",
      "text/plain": [
       "<Figure size 432x288 with 1 Axes>"
      ]
     },
     "metadata": {
      "needs_background": "light"
     },
     "output_type": "display_data"
    }
   ],
   "source": [
    "import numpy as np\n",
    "from matplotlib import pyplot as plt\n",
    "theta = np.linspace(0, 3 * np.pi, 500)\n",
    "x = 16 * ( np.sin(theta) ** 3 )\n",
    "y = 13 * np.cos(theta) - 5* np.cos(2*theta) - 2*np.cos(3*theta) - np.cos(4*theta)\n",
    "plt.plot(x, y)\n",
    "plt.title('Heart Shape')\n",
    "plt.show()"
   ]
  },
  {
   "cell_type": "code",
   "execution_count": 1,
   "id": "e44792fc",
   "metadata": {},
   "outputs": [],
   "source": []
  },
  {
   "cell_type": "code",
   "execution_count": 98,
   "id": "14b85513",
   "metadata": {},
   "outputs": [],
   "source": [
    "import turtle\n",
    "pen = turtle.Turtle()\n",
    "def curve():\n",
    "    for i in range(200):\n",
    "        pen.right(1)\n",
    "        pen.forward(1)\n",
    "def heart():\n",
    "    pen.fillcolor('Red')\n",
    "    pen.begin_fill()\n",
    "    pen.left(140)\n",
    "    pen.forward(113)\n",
    "    curve()\n",
    "    pen.left(120)\n",
    "    curve()\n",
    "    pen.forward(112)\n",
    "    pen.end_fill()\n",
    "def txt():\n",
    "    pen.up()\n",
    "    pen.setpos(-68, 95)\n",
    "    pen.down()\n",
    "    pen.color('Black')\n",
    "    pen.write(\"\", font=(\n",
    "    \"ALGERIAN\", 15, \"bold\"))\n",
    "heart()\n",
    "txt()\n",
    "pen.ht()"
   ]
  },
  {
   "cell_type": "code",
   "execution_count": 1,
   "id": "85b5f08d",
   "metadata": {},
   "outputs": [],
   "source": [
    "a='abc'\n",
    "b='xyz'\n",
    "output= 'xyc' 'abz'"
   ]
  },
  {
   "cell_type": "code",
   "execution_count": 3,
   "id": "b7a3392e",
   "metadata": {},
   "outputs": [],
   "source": [
    "\n",
    "# Q12.Write a Python program to check whether a string starts with specified characters\n",
    "\n",
    "r = \"All the best\"\n"
   ]
  },
  {
   "cell_type": "code",
   "execution_count": null,
   "id": "bac186f4",
   "metadata": {},
   "outputs": [],
   "source": [
    "a=[[]]\n",
    "output:[[5],[5],[5]]"
   ]
  },
  {
   "cell_type": "code",
   "execution_count": 37,
   "id": "e6ed1f64",
   "metadata": {},
   "outputs": [
    {
     "name": "stdout",
     "output_type": "stream",
     "text": [
      "55\n"
     ]
    }
   ],
   "source": [
    "l=[1,2,3,[4,5,6],7,8,9,10]\n",
    "s = 0\n",
    "for i in l:\n",
    "    if type(i)==list:\n",
    "        for j in i:\n",
    "            s=s+j\n",
    "    else:\n",
    "        s=s+i\n",
    "print(s)\n"
   ]
  },
  {
   "cell_type": "code",
   "execution_count": null,
   "id": "4d47a58e",
   "metadata": {},
   "outputs": [],
   "source": [
    "i=1    if false     else   s=s+1 =0+1=1\n",
    "i=2    if false     else   s=1+2 =3\n",
    "i=3    if false     else   s=3+3 = 6\n",
    "i=[4,5,6]  if True  s=s+j  s=6+4=10\n",
    "                    s=s+j  s=10+5=15\n",
    "                           s=15+6=21\n",
    "i=7    if false    else s=s+i  s=21+7=28\n",
    "i=8    if false    else    s=28+8=36\n",
    "i=9    if false    else  s=36+9=45\n",
    "i=10   if false    else  s=45+10=55"
   ]
  },
  {
   "cell_type": "code",
   "execution_count": 8,
   "id": "94640f20",
   "metadata": {},
   "outputs": [],
   "source": []
  },
  {
   "cell_type": "code",
   "execution_count": 5,
   "id": "0094c013",
   "metadata": {},
   "outputs": [
    {
     "name": "stdout",
     "output_type": "stream",
     "text": [
      "200,202,204,206,208,220,222,224,226,228,240,242,244,246,248,260,262,264,266,268,280,282,284,286,288,400\n"
     ]
    }
   ],
   "source": [
    "items = []\n",
    "for i in range(100, 401):\n",
    "    s = str(i)\n",
    "    if (int(s[0])%2==0) and (int(s[1])%2==0) and (int(s[2])%2==0):\n",
    "        items.append(s)\n",
    "print( \",\".join(items))"
   ]
  },
  {
   "cell_type": "code",
   "execution_count": 22,
   "id": "3adbd373",
   "metadata": {},
   "outputs": [
    {
     "name": "stdout",
     "output_type": "stream",
     "text": [
      "['apple', 'banana', 'orange', 'dragon fruit']\n",
      "['kiwi', 'fruit']\n"
     ]
    }
   ],
   "source": [
    "l=['apple','banana','kiwi','orange','fruit','dragon fruit']\n",
    "a=[]\n",
    "b=[]\n",
    "for i in l:\n",
    "    x='a'\n",
    "    if x in i:\n",
    "        a.append(i)\n",
    "    else:\n",
    "        b.append(i)\n",
    "print(a)\n",
    "print(b)"
   ]
  },
  {
   "cell_type": "code",
   "execution_count": 23,
   "id": "5f5524e7",
   "metadata": {},
   "outputs": [
    {
     "name": "stdout",
     "output_type": "stream",
     "text": [
      "['apple', 'banana', 'orange', 'dragon fruit']\n",
      "['kiwi', 'fruit']\n"
     ]
    }
   ],
   "source": [
    "l=['apple','banana','kiwi','orange','fruit','dragon fruit']\n",
    "a=[]\n",
    "b=[]\n",
    "for i in l:\n",
    "    if 'a' in i:\n",
    "        a.append(i)\n",
    "    else:\n",
    "        b.append(i)\n",
    "print(a)\n",
    "print(b)"
   ]
  },
  {
   "cell_type": "code",
   "execution_count": 39,
   "id": "d411a0fa",
   "metadata": {},
   "outputs": [
    {
     "name": "stdout",
     "output_type": "stream",
     "text": [
      "[1, 2, 3, [2, 4, 6], 3, 6, 9]\n"
     ]
    }
   ],
   "source": [
    "a=[]\n",
    "for i in range(1,4):\n",
    "    b=[]\n",
    "    for j in range(1,4):\n",
    "        a.append(i*j)\n",
    "    b.append(a[3:6])\n",
    "print(a[0:3]+b+a[6:])"
   ]
  },
  {
   "cell_type": "code",
   "execution_count": 41,
   "id": "9b2120b7",
   "metadata": {},
   "outputs": [
    {
     "name": "stdout",
     "output_type": "stream",
     "text": [
      "# # # \n",
      "# # # \n",
      "# # # \n"
     ]
    }
   ],
   "source": [
    "for i in range(3):\n",
    "    for j in range(1,4):\n",
    "        print(\"#\",end=' ')\n",
    "    print()"
   ]
  },
  {
   "cell_type": "code",
   "execution_count": 43,
   "id": "43d42c2f",
   "metadata": {},
   "outputs": [
    {
     "data": {
      "text/plain": [
       "[[1, 2, 3], [2, 4, 6], [3, 6, 9]]"
      ]
     },
     "execution_count": 43,
     "metadata": {},
     "output_type": "execute_result"
    }
   ],
   "source": [
    "a=[]\n",
    "for i in range(1,4):\n",
    "    b=[]\n",
    "    for j in range(1,4):\n",
    "        b.append(i*j)\n",
    "    a.append(b)\n",
    "a"
   ]
  },
  {
   "cell_type": "code",
   "execution_count": 66,
   "id": "648b9188",
   "metadata": {},
   "outputs": [
    {
     "name": "stdout",
     "output_type": "stream",
     "text": [
      "5000\n"
     ]
    }
   ],
   "source": [
    "a='2500'\n",
    "b='2500'\n",
    "print(a[1:]+b[-1])"
   ]
  },
  {
   "cell_type": "code",
   "execution_count": 71,
   "id": "e9d6ca4d",
   "metadata": {},
   "outputs": [
    {
     "name": "stdout",
     "output_type": "stream",
     "text": [
      "200,202,204,206,208,220,222,224,226,228,240,242,244,246,248,260,262,264,266,268,280,282,284,286,288,400\n"
     ]
    }
   ],
   "source": [
    "x = []\n",
    "for i in range(100, 401):\n",
    "    s = str(i)\n",
    "    if (int(s[0])%2==0) and (int(s[1])%2==0) and (int(s[2])%2==0):\n",
    "        x.append(s)\n",
    "print( \",\".join(x))"
   ]
  },
  {
   "cell_type": "code",
   "execution_count": 75,
   "id": "2b86dd73",
   "metadata": {},
   "outputs": [
    {
     "name": "stdout",
     "output_type": "stream",
     "text": [
      "233.0\n"
     ]
    }
   ],
   "source": [
    "a=233\n",
    "print(float(a))"
   ]
  },
  {
   "cell_type": "code",
   "execution_count": 73,
   "id": "d5b25b31",
   "metadata": {},
   "outputs": [
    {
     "name": "stdout",
     "output_type": "stream",
     "text": [
      "233\n"
     ]
    }
   ],
   "source": [
    "a=233\n",
    "print(str(a))"
   ]
  },
  {
   "cell_type": "code",
   "execution_count": 76,
   "id": "63fea58b",
   "metadata": {},
   "outputs": [
    {
     "name": "stdout",
     "output_type": "stream",
     "text": [
      "52\n"
     ]
    }
   ],
   "source": [
    "l=[1,2,4,6,7,9,23]\n",
    "sum=0\n",
    "for i in l:\n",
    "    sum=sum+i\n",
    "print(sum)"
   ]
  },
  {
   "cell_type": "code",
   "execution_count": 7,
   "id": "f2e06f40",
   "metadata": {},
   "outputs": [
    {
     "name": "stdout",
     "output_type": "stream",
     "text": [
      "Most frequent number is : 9\n"
     ]
    }
   ],
   "source": [
    "x = [9,4,5,4,4,5,9,9,9,9,9,9,9,5,4]\n",
    "a = 0\n",
    "b = x[0]\n",
    "for i in x:\n",
    "    max = x.count(i)\n",
    "    if max > a:\n",
    "        a = max\n",
    "        b = i\n",
    "print (\"Most frequent number is : \" + str(b))"
   ]
  },
  {
   "cell_type": "code",
   "execution_count": null,
   "id": "a2185b22",
   "metadata": {},
   "outputs": [],
   "source": [
    "a='AD2T3E4'\n",
    "for i in a:"
   ]
  },
  {
   "cell_type": "code",
   "execution_count": 88,
   "id": "c9a609e3",
   "metadata": {},
   "outputs": [
    {
     "name": "stdout",
     "output_type": "stream",
     "text": [
      "1\n",
      "4\n",
      "5\n",
      "10\n"
     ]
    }
   ],
   "source": [
    "v={'name':['shreya','nehal','pragya'],'gender':['female','male','female']}\n",
    "t=0\n",
    "for i in v:\n",
    "    for j in i:\n",
    "        if j=='e':\n",
    "            t=t+1\n",
    "           # print(t)\n",
    "    for k in v[i]:\n",
    "        for h in k:\n",
    "            if h=='e':\n",
    "                t=t+1\n",
    "print(t)"
   ]
  },
  {
   "cell_type": "code",
   "execution_count": 22,
   "id": "3a823cf8",
   "metadata": {},
   "outputs": [],
   "source": [
    "#string \n",
    "#'wrhjfbw134.34'"
   ]
  },
  {
   "cell_type": "code",
   "execution_count": null,
   "id": "6c4ecbd9",
   "metadata": {},
   "outputs": [],
   "source": []
  },
  {
   "cell_type": "code",
   "execution_count": null,
   "id": "86d7884c",
   "metadata": {},
   "outputs": [],
   "source": []
  },
  {
   "cell_type": "code",
   "execution_count": null,
   "id": "943bca44",
   "metadata": {},
   "outputs": [],
   "source": []
  },
  {
   "cell_type": "code",
   "execution_count": null,
   "id": "a5e91e79",
   "metadata": {},
   "outputs": [],
   "source": []
  },
  {
   "cell_type": "code",
   "execution_count": 33,
   "id": "f04cb251",
   "metadata": {},
   "outputs": [
    {
     "name": "stdout",
     "output_type": "stream",
     "text": [
      "45\n"
     ]
    }
   ],
   "source": [
    "l=[1,2,3,[4,5,6],[7],8,9]\n",
    "a=0\n",
    "for i in l:\n",
    "    if type(i)==list:\n",
    "        for j in i:\n",
    "            a=a+j\n",
    "    else:\n",
    "        a=a+i\n",
    "print(a)"
   ]
  },
  {
   "cell_type": "code",
   "execution_count": 35,
   "id": "947319b4",
   "metadata": {},
   "outputs": [
    {
     "name": "stdout",
     "output_type": "stream",
     "text": [
      "45\n"
     ]
    }
   ],
   "source": [
    "l=[1,2,3,[4,5,6,[7,8,9]]]\n",
    "a=0\n",
    "for i in l:\n",
    "    if type(i)==list:\n",
    "        for j in i:\n",
    "            if type(j)==list:\n",
    "                for k in j:\n",
    "                    a=a+k\n",
    "            else:\n",
    "                a=a+j\n",
    "    else:\n",
    "        a=a+i\n",
    "print(a)"
   ]
  },
  {
   "cell_type": "code",
   "execution_count": 61,
   "id": "202314d3",
   "metadata": {},
   "outputs": [
    {
     "name": "stdout",
     "output_type": "stream",
     "text": [
      "100\n"
     ]
    }
   ],
   "source": [
    "s=3\n",
    "nitin=4\n",
    "for nitin in range(5,7): #s=5+3=8  s=8+6=14 s=14+7=21  s=21+6=27 s=27+6=33+7=40 ==s+60=100\n",
    "    s=s+nitin\n",
    "    nitin=6\n",
    "    s=s+nitin\n",
    "    for nitin in range(7,8):\n",
    "        s=s+nitin\n",
    "print(s+60)\n"
   ]
  },
  {
   "cell_type": "code",
   "execution_count": 70,
   "id": "cbf60bf4",
   "metadata": {},
   "outputs": [
    {
     "name": "stdout",
     "output_type": "stream",
     "text": [
      "[1, 3, 2, 4, 7, 6, 5]\n"
     ]
    }
   ],
   "source": [
    "s=[1,2,3,2,3,2,4,5,6,7,6,5]    #i=12\n",
    "for i in range(len(s)):        #1 del  #l=2  kya mera 2 s ke andr hh \n",
    "    l=s.pop(0)                 #l=3 kya mera 3 s ke ande hh\n",
    "    if l not in s:             #l=2 kya mera 2 s ke andr hh\n",
    "        s.append(l)            #l=3 kya mera 3 s ke andr hh s=[1,3]\n",
    "print(s)                       #l=2 kya mera 2 s ke andr hh s=[1,3,2]\n",
    "                               #l=4 kya mera 4 s ke andr hh s=[1,3,2,4]"
   ]
  },
  {
   "cell_type": "code",
   "execution_count": 56,
   "id": "f70334df",
   "metadata": {},
   "outputs": [
    {
     "name": "stdout",
     "output_type": "stream",
     "text": [
      "1 jo hai 8 baar aaya h\n"
     ]
    }
   ],
   "source": [
    "l=[1,1,1,1,1,1,1,2,3,1]   #####i=1,___if l.count(1)==2>(k=0)==c (then i is equal c)\n",
    "k=1 \n",
    "c=0                                          #####i=2____if l.count(2)\n",
    "for i in l:\n",
    "    if l.count(i)>k:  # 2>1  True\n",
    "        c=i\n",
    "        k=l.count(i) # \n",
    "print(c,'jo hai',k,'baar aaya h')"
   ]
  },
  {
   "cell_type": "code",
   "execution_count": 42,
   "id": "3f5f1229",
   "metadata": {},
   "outputs": [
    {
     "name": "stdout",
     "output_type": "stream",
     "text": [
      "3\n"
     ]
    }
   ],
   "source": [
    "l=[1,1,1,2,3,4,5]\n",
    "print(l.count(1))"
   ]
  },
  {
   "cell_type": "code",
   "execution_count": 47,
   "id": "21512cd0",
   "metadata": {},
   "outputs": [
    {
     "name": "stdout",
     "output_type": "stream",
     "text": [
      "3 jo hai 2 baar aaya h\n"
     ]
    }
   ],
   "source": [
    "l=[1,2,3]   #####i=1,___if l.count(1)==2>(k=0)==c (then i is equal c)\n",
    "k=2                           #####i=2____if l.count(2)\n",
    "c=0\n",
    "for i in l:\n",
    "    if l.count(i)>k:  # 2>1  True   \n",
    "        s=l.count(i) # \n",
    "print(i,'jo hai',s,'baar aaya h')"
   ]
  },
  {
   "cell_type": "code",
   "execution_count": 65,
   "id": "c08fb41e",
   "metadata": {},
   "outputs": [],
   "source": [
    "l=[1,2,3,4,5]\n",
    "s=l.pop(0)"
   ]
  },
  {
   "cell_type": "code",
   "execution_count": 66,
   "id": "9fe489ad",
   "metadata": {},
   "outputs": [
    {
     "data": {
      "text/plain": [
       "1"
      ]
     },
     "execution_count": 66,
     "metadata": {},
     "output_type": "execute_result"
    }
   ],
   "source": [
    "s"
   ]
  },
  {
   "cell_type": "code",
   "execution_count": 69,
   "id": "c910e3d3",
   "metadata": {},
   "outputs": [
    {
     "name": "stdout",
     "output_type": "stream",
     "text": [
      "z\n"
     ]
    }
   ],
   "source": [
    "val=\"ABCdDcBaz\"\n",
    "m=val[0]\n",
    "for i in val:   #ascii value \n",
    "    if(m<i):\n",
    "        m=i\n",
    "print(m)\n",
    "                          #65 90  97 122"
   ]
  },
  {
   "cell_type": "code",
   "execution_count": 93,
   "id": "e649fc10",
   "metadata": {},
   "outputs": [
    {
     "name": "stdout",
     "output_type": "stream",
     "text": [
      "ple\n"
     ]
    }
   ],
   "source": [
    "a='apples'\n",
    "f=len(a)//2\n",
    "print(a[f-1]+a[f]+a[f+1])"
   ]
  },
  {
   "cell_type": "code",
   "execution_count": 94,
   "id": "f194edb9",
   "metadata": {},
   "outputs": [
    {
     "name": "stdout",
     "output_type": "stream",
     "text": [
      "Intal Interest\n"
     ]
    }
   ],
   "source": [
    "#Q2.Ways to remove i’th character from string in Python?\n",
    "s='Initial Interest'\n",
    "print(s.replace('i',''))"
   ]
  },
  {
   "cell_type": "code",
   "execution_count": 97,
   "id": "39c82949",
   "metadata": {},
   "outputs": [
    {
     "name": "stdout",
     "output_type": "stream",
     "text": [
      "kashal\n"
     ]
    }
   ],
   "source": [
    "a='kaushal'\n",
    "print(a.replace('u',''))"
   ]
  },
  {
   "cell_type": "code",
   "execution_count": 111,
   "id": "de65b0ac",
   "metadata": {},
   "outputs": [
    {
     "name": "stdout",
     "output_type": "stream",
     "text": [
      "4321"
     ]
    }
   ],
   "source": [
    "a=1234\n",
    "for i in reversed(range(1,5)):\n",
    "    print(i,end='')"
   ]
  },
  {
   "cell_type": "code",
   "execution_count": 122,
   "id": "08c8788a",
   "metadata": {},
   "outputs": [
    {
     "name": "stdout",
     "output_type": "stream",
     "text": [
      "Enter the number: nitin\n",
      "palindrome\n"
     ]
    }
   ],
   "source": [
    "#palindrome\n",
    "\n",
    "x=input(\"Enter the number: \")\n",
    "s=''\n",
    "for i in x:                         \n",
    "    s=s+i\n",
    "if x==s[::-1]:      \n",
    "    print('palindrome')\n",
    "else:\n",
    "    print('Not palindrome')"
   ]
  },
  {
   "cell_type": "code",
   "execution_count": null,
   "id": "7dd70c8e",
   "metadata": {},
   "outputs": [],
   "source": []
  },
  {
   "cell_type": "code",
   "execution_count": null,
   "id": "78071dac",
   "metadata": {},
   "outputs": [],
   "source": []
  },
  {
   "cell_type": "code",
   "execution_count": 105,
   "id": "f92fb856",
   "metadata": {},
   "outputs": [
    {
     "name": "stdout",
     "output_type": "stream",
     "text": [
      "11\n",
      "10\n",
      "9\n",
      "8\n",
      "7\n",
      "6\n",
      "5\n",
      "4\n",
      "3\n",
      "2\n",
      "1\n"
     ]
    }
   ],
   "source": [
    "for i in range(11,0,-1):\n",
    "    print(i)"
   ]
  },
  {
   "cell_type": "code",
   "execution_count": 1,
   "id": "f3767adb",
   "metadata": {},
   "outputs": [
    {
     "name": "stdout",
     "output_type": "stream",
     "text": [
      "0.0\n"
     ]
    }
   ],
   "source": [
    "a=5/5.5\n",
    "b=5*5.5\n",
    "print(a//b)"
   ]
  },
  {
   "cell_type": "code",
   "execution_count": 2,
   "id": "3511f1af",
   "metadata": {},
   "outputs": [
    {
     "name": "stdout",
     "output_type": "stream",
     "text": [
      "[5, 5, '3', '4']\n"
     ]
    }
   ],
   "source": [
    "l=list('1234')\n",
    "l[0]=l[1]=5\n",
    "print(l)"
   ]
  },
  {
   "cell_type": "code",
   "execution_count": 10,
   "id": "119a839f",
   "metadata": {},
   "outputs": [
    {
     "name": "stdout",
     "output_type": "stream",
     "text": [
      "[1, 2, 3]\n"
     ]
    }
   ],
   "source": [
    "a=[1,2,3]\n",
    "b=a\n",
    "print(a is b,a==b)"
   ]
  },
  {
   "cell_type": "code",
   "execution_count": 11,
   "id": "26396710",
   "metadata": {},
   "outputs": [
    {
     "ename": "TypeError",
     "evalue": "'>' not supported between instances of 'str' and 'int'",
     "output_type": "error",
     "traceback": [
      "\u001b[1;31m---------------------------------------------------------------------------\u001b[0m",
      "\u001b[1;31mTypeError\u001b[0m                                 Traceback (most recent call last)",
      "Input \u001b[1;32mIn [11]\u001b[0m, in \u001b[0;36m<cell line: 2>\u001b[1;34m()\u001b[0m\n\u001b[0;32m      1\u001b[0m t\u001b[38;5;241m=\u001b[39m(\u001b[38;5;241m1120\u001b[39m,\u001b[38;5;124m'\u001b[39m\u001b[38;5;124ma\u001b[39m\u001b[38;5;124m'\u001b[39m)\n\u001b[1;32m----> 2\u001b[0m \u001b[38;5;28mprint\u001b[39m(\u001b[38;5;28;43mmax\u001b[39;49m\u001b[43m(\u001b[49m\u001b[43mt\u001b[49m\u001b[43m)\u001b[49m)\n",
      "\u001b[1;31mTypeError\u001b[0m: '>' not supported between instances of 'str' and 'int'"
     ]
    }
   ],
   "source": [
    "t=(1120,'a')\n",
    "print(max(t))"
   ]
  },
  {
   "cell_type": "code",
   "execution_count": 17,
   "id": "4f35e725",
   "metadata": {},
   "outputs": [
    {
     "name": "stdout",
     "output_type": "stream",
     "text": [
      "123\n"
     ]
    }
   ],
   "source": [
    "x=123,2,3\n",
    "a,b,c=x\n",
    "print(a)"
   ]
  },
  {
   "cell_type": "code",
   "execution_count": null,
   "id": "3c71595f",
   "metadata": {},
   "outputs": [],
   "source": []
  },
  {
   "cell_type": "code",
   "execution_count": 19,
   "id": "2b1b4888",
   "metadata": {},
   "outputs": [
    {
     "name": "stdout",
     "output_type": "stream",
     "text": [
      "22\n"
     ]
    }
   ],
   "source": [
    "a='2'\n",
    "b='2'\n",
    "print(a+b)"
   ]
  },
  {
   "cell_type": "code",
   "execution_count": 22,
   "id": "0a6ddb0e",
   "metadata": {},
   "outputs": [
    {
     "name": "stdout",
     "output_type": "stream",
     "text": [
      "[1]\n"
     ]
    }
   ],
   "source": [
    "for i in [2]:\n",
    "    print([1])\n"
   ]
  },
  {
   "cell_type": "code",
   "execution_count": 29,
   "id": "64bf754e",
   "metadata": {},
   "outputs": [
    {
     "name": "stdout",
     "output_type": "stream",
     "text": [
      "k r k r "
     ]
    }
   ],
   "source": [
    "val=\"kartik sharma\"\n",
    "for i in val:\n",
    "    if (val.count(i)==1 and 0):\n",
    "              print(i)\n",
    "    elif(val.count(i)==2 and 1):\n",
    "             print(i,end=' ')\n"
   ]
  },
  {
   "cell_type": "code",
   "execution_count": 30,
   "id": "44d4b384",
   "metadata": {},
   "outputs": [
    {
     "name": "stdout",
     "output_type": "stream",
     "text": [
      "288\n"
     ]
    }
   ],
   "source": [
    "val=\"Ram\"\n",
    "s=0\n",
    "for i in val:\n",
    "    s=s+ord(i)\n",
    "print(s)\n"
   ]
  },
  {
   "cell_type": "code",
   "execution_count": 33,
   "id": "2ef326c9",
   "metadata": {},
   "outputs": [
    {
     "name": "stdout",
     "output_type": "stream",
     "text": [
      "1\n",
      "3\n",
      "6\n",
      "10\n",
      "15\n",
      "21\n",
      "27\n"
     ]
    }
   ],
   "source": [
    "l=[1,2,3,4,5,6,6]\n",
    "a=0\n",
    "for i in l:   #i=1  a=0+1=1  #i=2 a=1+1=2  #i=3 a=2+1=3\n",
    "    a=a+i      #i=4 a=3+1=4\n",
    "    print(a)"
   ]
  },
  {
   "cell_type": "code",
   "execution_count": 53,
   "id": "5d0f0833",
   "metadata": {},
   "outputs": [
    {
     "name": "stdout",
     "output_type": "stream",
     "text": [
      "[1, 3, 2, 4, 7, 6, 5]\n"
     ]
    }
   ],
   "source": [
    "s=[1,2,3,2,3,2,4,5,6,7,6,5]    \n",
    "for i in range(len(s)):    #l=1 kya mera 1 s ke andr hh # l=2 remove  #l \n",
    "    l=s.pop(0)\n",
    "   # print(l)\n",
    "    if l not in s :\n",
    "        s.append(l)\n",
    "print(s)"
   ]
  },
  {
   "cell_type": "code",
   "execution_count": 1,
   "id": "fa5da01a",
   "metadata": {},
   "outputs": [
    {
     "name": "stdout",
     "output_type": "stream",
     "text": [
      "[1, 3, 2, 4, 7, 6, 5]\n"
     ]
    }
   ],
   "source": [
    "s=[1,2,3,2,3,2,4,5,6,7,6,5]    #i=12\n",
    "for i in range(len(s)):        #1 del  #l=2  kya mera 2 s ke andr hh \n",
    "    l=s.pop(0)                 #l=3 kya mera 3 s ke ande hh\n",
    "    if l not in s:             #l=2 kya mera 2 s ke andr hh\n",
    "        s.append(l)            #l=3 kya mera 3 s ke andr hh s=[1,3]\n",
    "print(s)  "
   ]
  },
  {
   "cell_type": "code",
   "execution_count": 7,
   "id": "b36ca9d0",
   "metadata": {},
   "outputs": [
    {
     "name": "stdout",
     "output_type": "stream",
     "text": [
      "Enter the number: 2\n",
      "2 + 22 + = 24\n"
     ]
    }
   ],
   "source": [
    "x=int(input(\"Enter the number: \"))#x=2\n",
    "a=x\n",
    "s=0\n",
    "for i in range(0,x): #i=0              #i=1 \n",
    "    print(x,end=' + ') #print(2   +)   #print(2   +  22   +)\n",
    "    x=x*10+a           #x=2*10+2=22    #x=22*10+2=222\n",
    "    s=s+x              #s=0+22=22       s=22+222=244\n",
    "print('=', s)"
   ]
  },
  {
   "cell_type": "code",
   "execution_count": null,
   "id": "88790352",
   "metadata": {},
   "outputs": [],
   "source": [
    "x='AB6CD11'"
   ]
  },
  {
   "cell_type": "code",
   "execution_count": 6,
   "id": "c994faea",
   "metadata": {},
   "outputs": [
    {
     "name": "stdout",
     "output_type": "stream",
     "text": [
      "[[1, 2, 3, 4, 5, 6, 1, 2, 3, 4, 5, 6, 1, 2, 3, 4, 5, 6], [1, 2, 3, 4, 5, 6, 1, 2, 3, 4, 5, 6, 1, 2, 3, 4, 5, 6], [1, 2, 3, 4, 5, 6, 1, 2, 3, 4, 5, 6, 1, 2, 3, 4, 5, 6], [1, 2, 3, 4, 5, 6, 1, 2, 3, 4, 5, 6, 1, 2, 3, 4, 5, 6], [1, 2, 3, 4, 5, 6, 1, 2, 3, 4, 5, 6, 1, 2, 3, 4, 5, 6], [1, 2, 3, 4, 5, 6, 1, 2, 3, 4, 5, 6, 1, 2, 3, 4, 5, 6], [1, 2, 3, 4, 5, 6, 1, 2, 3, 4, 5, 6, 1, 2, 3, 4, 5, 6], [1, 2, 3, 4, 5, 6, 1, 2, 3, 4, 5, 6, 1, 2, 3, 4, 5, 6], [1, 2, 3, 4, 5, 6, 1, 2, 3, 4, 5, 6, 1, 2, 3, 4, 5, 6], [1, 2, 3, 4, 5, 6, 1, 2, 3, 4, 5, 6, 1, 2, 3, 4, 5, 6], [1, 2, 3, 4, 5, 6, 1, 2, 3, 4, 5, 6, 1, 2, 3, 4, 5, 6], [1, 2, 3, 4, 5, 6, 1, 2, 3, 4, 5, 6, 1, 2, 3, 4, 5, 6], [1, 2, 3, 4, 5, 6, 1, 2, 3, 4, 5, 6, 1, 2, 3, 4, 5, 6], [1, 2, 3, 4, 5, 6, 1, 2, 3, 4, 5, 6, 1, 2, 3, 4, 5, 6], [1, 2, 3, 4, 5, 6, 1, 2, 3, 4, 5, 6, 1, 2, 3, 4, 5, 6], [1, 2, 3, 4, 5, 6, 1, 2, 3, 4, 5, 6, 1, 2, 3, 4, 5, 6], [1, 2, 3, 4, 5, 6, 1, 2, 3, 4, 5, 6, 1, 2, 3, 4, 5, 6], [1, 2, 3, 4, 5, 6, 1, 2, 3, 4, 5, 6, 1, 2, 3, 4, 5, 6]]\n"
     ]
    }
   ],
   "source": [
    "a=[]\n",
    "c=[]\n",
    "for i in range(1,4):\n",
    "    for j in range(1,7):\n",
    "        a.append(j)\n",
    "        b=i*j\n",
    "        c.append(a)\n",
    "print(c)"
   ]
  },
  {
   "cell_type": "code",
   "execution_count": 14,
   "id": "d235e39e",
   "metadata": {},
   "outputs": [
    {
     "name": "stdout",
     "output_type": "stream",
     "text": [
      "[[0, 0, 0, 0, 0, 0, 0], [0, 1, 2, 3, 4, 5, 6], [0, 2, 4, 6, 8, 10, 12], [0, 3, 6, 9, 12, 15, 18]]\n"
     ]
    }
   ],
   "source": [
    "b=[]\n",
    "for i in range(0,4):\n",
    "    c=[]\n",
    "    for j in range(0,7):\n",
    "        a=i*j\n",
    "        c.append(a)\n",
    "    b.append(c)\n",
    "print(b)"
   ]
  },
  {
   "cell_type": "code",
   "execution_count": null,
   "id": "e54bf665",
   "metadata": {},
   "outputs": [],
   "source": []
  }
 ],
 "metadata": {
  "kernelspec": {
   "display_name": "Python 3 (ipykernel)",
   "language": "python",
   "name": "python3"
  },
  "language_info": {
   "codemirror_mode": {
    "name": "ipython",
    "version": 3
   },
   "file_extension": ".py",
   "mimetype": "text/x-python",
   "name": "python",
   "nbconvert_exporter": "python",
   "pygments_lexer": "ipython3",
   "version": "3.9.12"
  }
 },
 "nbformat": 4,
 "nbformat_minor": 5
}
