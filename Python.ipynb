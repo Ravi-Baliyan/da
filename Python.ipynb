{
 "cells": [
  {
   "cell_type": "code",
   "execution_count": null,
   "id": "48ab4bab",
   "metadata": {},
   "outputs": [],
   "source": [
    "# Data types\n",
    "\n",
    "1. Integers--1,2,3,4,5\n",
    "2 String --'urgrugb'\n",
    "3. Float--4.5\n",
    "4. Bool-True ,False\n",
    "5. Complex-Exp\n"
   ]
  },
  {
   "cell_type": "markdown",
   "id": "c5d536cc",
   "metadata": {},
   "source": [
    "# String"
   ]
  },
  {
   "cell_type": "code",
   "execution_count": 3,
   "id": "f7b2e7a2",
   "metadata": {},
   "outputs": [
    {
     "data": {
      "text/plain": [
       "'e'"
      ]
     },
     "execution_count": 3,
     "metadata": {},
     "output_type": "execute_result"
    }
   ],
   "source": [
    "x='name'\n",
    "#x=[start:stop:step]\n",
    "x[3]"
   ]
  },
  {
   "cell_type": "code",
   "execution_count": 4,
   "id": "5c7ff341",
   "metadata": {},
   "outputs": [
    {
     "name": "stdout",
     "output_type": "stream",
     "text": [
      "eman\n"
     ]
    }
   ],
   "source": [
    "x='name'\n",
    "print(x[::-1])"
   ]
  },
  {
   "cell_type": "code",
   "execution_count": null,
   "id": "155a14a3",
   "metadata": {},
   "outputs": [],
   "source": []
  },
  {
   "cell_type": "code",
   "execution_count": 12,
   "id": "7ce92dc2",
   "metadata": {},
   "outputs": [
    {
     "data": {
      "text/plain": [
       "8"
      ]
     },
     "execution_count": 12,
     "metadata": {},
     "output_type": "execute_result"
    }
   ],
   "source": [
    "a='atul Tomar'\n",
    "a.rfind('a')"
   ]
  },
  {
   "cell_type": "code",
   "execution_count": 10,
   "id": "3a750d70",
   "metadata": {},
   "outputs": [
    {
     "data": {
      "text/plain": [
       "4"
      ]
     },
     "execution_count": 10,
     "metadata": {},
     "output_type": "execute_result"
    }
   ],
   "source": [
    "a='namee'    #----indexing find krta hai\n",
    "a.rfind('e')"
   ]
  },
  {
   "cell_type": "code",
   "execution_count": 13,
   "id": "430bf20d",
   "metadata": {},
   "outputs": [
    {
     "name": "stdout",
     "output_type": "stream",
     "text": [
      "ATUL\n"
     ]
    }
   ],
   "source": [
    "a=['A','T','U','L']\n",
    "print(''.join(a))"
   ]
  },
  {
   "cell_type": "code",
   "execution_count": 30,
   "id": "4d08aadc",
   "metadata": {},
   "outputs": [
    {
     "data": {
      "text/plain": [
       "['my', 'name', 'is', 'atul', 'tomar']"
      ]
     },
     "execution_count": 30,
     "metadata": {},
     "output_type": "execute_result"
    }
   ],
   "source": [
    "a='my name is atul tomar'\n",
    "a.split(' ')"
   ]
  },
  {
   "cell_type": "code",
   "execution_count": 39,
   "id": "1b69e192",
   "metadata": {},
   "outputs": [
    {
     "name": "stdout",
     "output_type": "stream",
     "text": [
      "((1, 2), (2, 3), (3, 4), (4, 5), (5, 6))\n"
     ]
    }
   ],
   "source": [
    "a=[1,2,3,4,5]\n",
    "b=[2,3,4,5,6]\n",
    "x=tuple(zip(a,b))\n",
    "print(x)"
   ]
  },
  {
   "cell_type": "code",
   "execution_count": 40,
   "id": "eee39e5b",
   "metadata": {},
   "outputs": [
    {
     "data": {
      "text/plain": [
       "'ramoT lutA'"
      ]
     },
     "execution_count": 40,
     "metadata": {},
     "output_type": "execute_result"
    }
   ],
   "source": [
    "x='Atul Tomar'\n",
    "x[::-1]"
   ]
  },
  {
   "cell_type": "code",
   "execution_count": 45,
   "id": "3c9e8596",
   "metadata": {},
   "outputs": [
    {
     "name": "stdout",
     "output_type": "stream",
     "text": [
      "eatul tomarubufbriUFBREIUGBEUIGBUIBR\n"
     ]
    }
   ],
   "source": [
    "x='eAtul Tomarubufbriufbreiugbeuigbuibr'\n",
    "b=len(x)//2\n",
    "print(x[:b].lower()+x[b:].upper())"
   ]
  },
  {
   "cell_type": "code",
   "execution_count": 53,
   "id": "77a2ee87",
   "metadata": {},
   "outputs": [
    {
     "name": "stdout",
     "output_type": "stream",
     "text": [
      "i\n",
      "mii\n"
     ]
    }
   ],
   "source": [
    "x='mynameisravi'\n",
    "b=x[len(x)//2]\n",
    "print(b)\n",
    "print(x[0]+x[len(x)//2]+x[-1])"
   ]
  },
  {
   "cell_type": "code",
   "execution_count": 56,
   "id": "f1d4e276",
   "metadata": {},
   "outputs": [
    {
     "name": "stdout",
     "output_type": "stream",
     "text": [
      "eis\n"
     ]
    }
   ],
   "source": [
    "x='mynameisravi'\n",
    "b=len(x)//2\n",
    "print(x[len(x)//2-1]+x[len(x)//2]+x[len(x)//2+1])"
   ]
  },
  {
   "cell_type": "code",
   "execution_count": 24,
   "id": "c66e6750",
   "metadata": {},
   "outputs": [
    {
     "data": {
      "text/plain": [
       "['__add__',\n",
       " '__class__',\n",
       " '__contains__',\n",
       " '__delattr__',\n",
       " '__dir__',\n",
       " '__doc__',\n",
       " '__eq__',\n",
       " '__format__',\n",
       " '__ge__',\n",
       " '__getattribute__',\n",
       " '__getitem__',\n",
       " '__getnewargs__',\n",
       " '__gt__',\n",
       " '__hash__',\n",
       " '__init__',\n",
       " '__init_subclass__',\n",
       " '__iter__',\n",
       " '__le__',\n",
       " '__len__',\n",
       " '__lt__',\n",
       " '__mod__',\n",
       " '__mul__',\n",
       " '__ne__',\n",
       " '__new__',\n",
       " '__reduce__',\n",
       " '__reduce_ex__',\n",
       " '__repr__',\n",
       " '__rmod__',\n",
       " '__rmul__',\n",
       " '__setattr__',\n",
       " '__sizeof__',\n",
       " '__str__',\n",
       " '__subclasshook__',\n",
       " 'capitalize',\n",
       " 'casefold',\n",
       " 'center',\n",
       " 'count',\n",
       " 'encode',\n",
       " 'endswith',\n",
       " 'expandtabs',\n",
       " 'find',\n",
       " 'format',\n",
       " 'format_map',\n",
       " 'index',\n",
       " 'isalnum',\n",
       " 'isalpha',\n",
       " 'isascii',\n",
       " 'isdecimal',\n",
       " 'isdigit',\n",
       " 'isidentifier',\n",
       " 'islower',\n",
       " 'isnumeric',\n",
       " 'isprintable',\n",
       " 'isspace',\n",
       " 'istitle',\n",
       " 'isupper',\n",
       " 'join',\n",
       " 'ljust',\n",
       " 'lower',\n",
       " 'lstrip',\n",
       " 'maketrans',\n",
       " 'partition',\n",
       " 'removeprefix',\n",
       " 'removesuffix',\n",
       " 'replace',\n",
       " 'rfind',\n",
       " 'rindex',\n",
       " 'rjust',\n",
       " 'rpartition',\n",
       " 'rsplit',\n",
       " 'rstrip',\n",
       " 'split',\n",
       " 'splitlines',\n",
       " 'startswith',\n",
       " 'strip',\n",
       " 'swapcase',\n",
       " 'title',\n",
       " 'translate',\n",
       " 'upper',\n",
       " 'zfill']"
      ]
     },
     "execution_count": 24,
     "metadata": {},
     "output_type": "execute_result"
    }
   ],
   "source": [
    "dir(str)"
   ]
  },
  {
   "cell_type": "code",
   "execution_count": 6,
   "id": "c1143092",
   "metadata": {},
   "outputs": [
    {
     "name": "stdout",
     "output_type": "stream",
     "text": [
      "['my', 'name', 'is', 'ravi']\n"
     ]
    }
   ],
   "source": [
    "s='my name is ravi'\n",
    "print(s.split())"
   ]
  },
  {
   "cell_type": "code",
   "execution_count": 23,
   "id": "1aa66360",
   "metadata": {},
   "outputs": [
    {
     "name": "stdout",
     "output_type": "stream",
     "text": [
      "[\"['ravi']\"]\n"
     ]
    }
   ],
   "source": [
    "s=['ravi']\n",
    "#output=s=[\"r\",\"a\",\"v\",\"i\"]\n"
   ]
  },
  {
   "cell_type": "code",
   "execution_count": 19,
   "id": "bedfc35d",
   "metadata": {},
   "outputs": [
    {
     "name": "stdout",
     "output_type": "stream",
     "text": [
      "['ravi']\n"
     ]
    }
   ],
   "source": [
    "s='ravi'\n",
    "print(s.split())"
   ]
  },
  {
   "cell_type": "code",
   "execution_count": 14,
   "id": "d2a368a5",
   "metadata": {},
   "outputs": [
    {
     "data": {
      "text/plain": [
       "'a'"
      ]
     },
     "execution_count": 14,
     "metadata": {},
     "output_type": "execute_result"
    }
   ],
   "source": [
    "b"
   ]
  },
  {
   "cell_type": "code",
   "execution_count": 15,
   "id": "ac04d058",
   "metadata": {},
   "outputs": [
    {
     "data": {
      "text/plain": [
       "'v'"
      ]
     },
     "execution_count": 15,
     "metadata": {},
     "output_type": "execute_result"
    }
   ],
   "source": [
    "c"
   ]
  },
  {
   "cell_type": "code",
   "execution_count": 16,
   "id": "82a0c030",
   "metadata": {},
   "outputs": [
    {
     "data": {
      "text/plain": [
       "'i'"
      ]
     },
     "execution_count": 16,
     "metadata": {},
     "output_type": "execute_result"
    }
   ],
   "source": [
    "d"
   ]
  },
  {
   "cell_type": "code",
   "execution_count": 28,
   "id": "ecea8cb4",
   "metadata": {},
   "outputs": [
    {
     "name": "stdout",
     "output_type": "stream",
     "text": [
      "3\n"
     ]
    }
   ],
   "source": [
    "a='Ravi'\n",
    "print(a.find('i'))"
   ]
  },
  {
   "cell_type": "code",
   "execution_count": 30,
   "id": "cd9615fb",
   "metadata": {},
   "outputs": [
    {
     "name": "stdout",
     "output_type": "stream",
     "text": [
      "2\n"
     ]
    }
   ],
   "source": [
    "a='Ravi'\n",
    "print(a.index('v'))"
   ]
  },
  {
   "cell_type": "code",
   "execution_count": 39,
   "id": "6d96ae62",
   "metadata": {},
   "outputs": [
    {
     "name": "stdout",
     "output_type": "stream",
     "text": [
      "False\n"
     ]
    }
   ],
   "source": [
    "a='rf'\n",
    "print(a.isalnum())"
   ]
  },
  {
   "cell_type": "code",
   "execution_count": 42,
   "id": "1c5e4557",
   "metadata": {},
   "outputs": [
    {
     "name": "stdout",
     "output_type": "stream",
     "text": [
      "False\n"
     ]
    }
   ],
   "source": [
    "a=\"2345\"\n",
    "print(a.isalpha())"
   ]
  },
  {
   "cell_type": "code",
   "execution_count": 43,
   "id": "57b79eb1",
   "metadata": {},
   "outputs": [
    {
     "name": "stdout",
     "output_type": "stream",
     "text": [
      "False\n"
     ]
    }
   ],
   "source": [
    "a='wrt'\n",
    "print(a.isdigit())"
   ]
  },
  {
   "cell_type": "code",
   "execution_count": 44,
   "id": "cd6c53a0",
   "metadata": {},
   "outputs": [
    {
     "name": "stdout",
     "output_type": "stream",
     "text": [
      "True\n"
     ]
    }
   ],
   "source": [
    "a='2134'\n",
    "print(a.isnumeric())"
   ]
  },
  {
   "cell_type": "code",
   "execution_count": 46,
   "id": "692f3847",
   "metadata": {},
   "outputs": [
    {
     "name": "stdout",
     "output_type": "stream",
     "text": [
      "False\n"
     ]
    }
   ],
   "source": [
    "a='Ahee Td he'\n",
    "print(a.istitle())"
   ]
  },
  {
   "cell_type": "code",
   "execution_count": 48,
   "id": "a05f77fa",
   "metadata": {},
   "outputs": [
    {
     "name": "stdout",
     "output_type": "stream",
     "text": [
      "False\n"
     ]
    }
   ],
   "source": [
    "a='jefB'\n",
    "print(a.islower())"
   ]
  },
  {
   "cell_type": "code",
   "execution_count": 50,
   "id": "e531b52d",
   "metadata": {},
   "outputs": [
    {
     "name": "stdout",
     "output_type": "stream",
     "text": [
      "False\n"
     ]
    }
   ],
   "source": [
    "a='JHGVBj'\n",
    "print(a.isupper())"
   ]
  },
  {
   "cell_type": "code",
   "execution_count": 51,
   "id": "b54847e3",
   "metadata": {},
   "outputs": [
    {
     "name": "stdout",
     "output_type": "stream",
     "text": [
      "hgtdgfcvh\n"
     ]
    }
   ],
   "source": [
    "a='HGTDGFCVH'\n",
    "print(a.lower())"
   ]
  },
  {
   "cell_type": "code",
   "execution_count": 52,
   "id": "eefb6046",
   "metadata": {},
   "outputs": [
    {
     "name": "stdout",
     "output_type": "stream",
     "text": [
      "HGTDGFCVH\n"
     ]
    }
   ],
   "source": [
    "a='HGTDGFCVH'\n",
    "print(a.upper())"
   ]
  },
  {
   "cell_type": "code",
   "execution_count": 53,
   "id": "acbfacb5",
   "metadata": {},
   "outputs": [
    {
     "name": "stdout",
     "output_type": "stream",
     "text": [
      "Qgtdgfcvh\n"
     ]
    }
   ],
   "source": [
    "a='qGTDGFCVH'\n",
    "print(a.capitalize())"
   ]
  },
  {
   "cell_type": "code",
   "execution_count": 54,
   "id": "896be8f9",
   "metadata": {},
   "outputs": [
    {
     "name": "stdout",
     "output_type": "stream",
     "text": [
      "Bejhs Esjb Sejf\n"
     ]
    }
   ],
   "source": [
    "a='bejhs esjb sejf'\n",
    "print(a.title())"
   ]
  },
  {
   "cell_type": "code",
   "execution_count": 62,
   "id": "ab26f740",
   "metadata": {},
   "outputs": [
    {
     "data": {
      "text/plain": [
       "'r a v i'"
      ]
     },
     "execution_count": 62,
     "metadata": {},
     "output_type": "execute_result"
    }
   ],
   "source": [
    "a='ravi'\n",
    "b=a[0]+' '+a[1]+' '+a[2]+' '+a[3]\n",
    "#print(b.split())\n",
    "b"
   ]
  },
  {
   "cell_type": "code",
   "execution_count": 68,
   "id": "69ed2c95",
   "metadata": {},
   "outputs": [
    {
     "name": "stdout",
     "output_type": "stream",
     "text": [
      "abcdefgh\n"
     ]
    }
   ],
   "source": [
    "a=['a','b','c','d','e','f','g','h']\n",
    "print(''.join(a))"
   ]
  },
  {
   "cell_type": "code",
   "execution_count": 72,
   "id": "1836bb11",
   "metadata": {},
   "outputs": [
    {
     "name": "stdout",
     "output_type": "stream",
     "text": [
      "13\n"
     ]
    }
   ],
   "source": [
    "a='ejbsfvsjbfkrsjbgkdbgvlkldv'\n",
    "print(a.rfind('j'))"
   ]
  },
  {
   "cell_type": "code",
   "execution_count": 74,
   "id": "240e1525",
   "metadata": {},
   "outputs": [
    {
     "name": "stdout",
     "output_type": "stream",
     "text": [
      "ntal ntrest\n"
     ]
    }
   ],
   "source": [
    "s='initial intrest'\n",
    "print(s.replace('i',''))"
   ]
  },
  {
   "cell_type": "code",
   "execution_count": 77,
   "id": "62eabdd5",
   "metadata": {},
   "outputs": [
    {
     "name": "stdout",
     "output_type": "stream",
     "text": [
      "Intrest\n"
     ]
    }
   ],
   "source": [
    "s='Interest'\n",
    "print(s.replace('e','',1))"
   ]
  },
  {
   "cell_type": "code",
   "execution_count": 81,
   "id": "a5309a1d",
   "metadata": {},
   "outputs": [
    {
     "name": "stdout",
     "output_type": "stream",
     "text": [
      "Enter the string: lkjhugtfdxchjbkl\n",
      "LKJHUGTFdxchjbkl\n"
     ]
    }
   ],
   "source": [
    "a=input(\"Enter the string: \")\n",
    "b=len(a)//2\n",
    "print(a[:b].upper()+a[b:])"
   ]
  },
  {
   "cell_type": "code",
   "execution_count": 87,
   "id": "22a37a0c",
   "metadata": {},
   "outputs": [
    {
     "name": "stdout",
     "output_type": "stream",
     "text": [
      "ergTHFD\n"
     ]
    }
   ],
   "source": [
    "a='ergthfd'\n",
    "b=len(a)//2\n",
    "print(a[:b]+a[b:].upper())"
   ]
  },
  {
   "cell_type": "code",
   "execution_count": 92,
   "id": "7355ba6c",
   "metadata": {},
   "outputs": [
    {
     "name": "stdout",
     "output_type": "stream",
     "text": [
      "['4', 'a', 'c', 'h', 'i']\n"
     ]
    }
   ],
   "source": [
    "a='[4achi]'\n",
    "b=a[0]\n",
    "c=a[1]\n",
    "d=a[2]\n",
    "e=a[3]\n",
    "f=a[4]\n",
    "x=b.split()\n"
   ]
  },
  {
   "cell_type": "code",
   "execution_count": 93,
   "id": "c048fe5a",
   "metadata": {},
   "outputs": [
    {
     "name": "stdout",
     "output_type": "stream",
     "text": [
      "['hjefv', 'ejhfb', 'ehfvj']\n"
     ]
    }
   ],
   "source": [
    "b='hjefv ejhfb ehfvj'\n",
    "print(b.split())"
   ]
  },
  {
   "cell_type": "code",
   "execution_count": 94,
   "id": "a934de6f",
   "metadata": {},
   "outputs": [
    {
     "name": "stdout",
     "output_type": "stream",
     "text": [
      "('4', 'a', 'c', 'h', 'i')\n"
     ]
    }
   ],
   "source": [
    "a='4achi'\n",
    "b=tuple(a)\n",
    "print(b)"
   ]
  },
  {
   "cell_type": "code",
   "execution_count": 96,
   "id": "bd985937",
   "metadata": {},
   "outputs": [
    {
     "name": "stdout",
     "output_type": "stream",
     "text": [
      "4achi\n"
     ]
    }
   ],
   "source": [
    "a='4achi'\n",
    "b=list(a)\n",
    "c=b\n",
    "print(''.join(c))"
   ]
  },
  {
   "cell_type": "code",
   "execution_count": null,
   "id": "b39c0057",
   "metadata": {},
   "outputs": [],
   "source": [
    "a='4achi'\n"
   ]
  },
  {
   "cell_type": "code",
   "execution_count": 103,
   "id": "cb1f65cd",
   "metadata": {},
   "outputs": [
    {
     "name": "stdout",
     "output_type": "stream",
     "text": [
      "11, 2, 312, 4\n",
      "<class 'str'>\n"
     ]
    }
   ],
   "source": [
    "a=[11,2,312,4]\n",
    "x=', '.join(str(i)for i in a)\n",
    "print(x)\n",
    "print(type(x))"
   ]
  },
  {
   "cell_type": "code",
   "execution_count": null,
   "id": "24b6cb5f",
   "metadata": {},
   "outputs": [],
   "source": []
  },
  {
   "cell_type": "code",
   "execution_count": 106,
   "id": "913670bc",
   "metadata": {},
   "outputs": [
    {
     "name": "stdout",
     "output_type": "stream",
     "text": [
      "['bobby', 'hadz', '-', 'com']\n"
     ]
    }
   ],
   "source": [
    "d=[['bobby'],['hadz'],['-','com']]\n",
    "#output=['bobby','hadz','-','com']\n",
    "a=[x for i in d for x in i]\n",
    "print(a)"
   ]
  },
  {
   "cell_type": "code",
   "execution_count": 159,
   "id": "316cb091",
   "metadata": {},
   "outputs": [
    {
     "name": "stdout",
     "output_type": "stream",
     "text": [
      "['bobby', 'hadz', '-', 'com']\n"
     ]
    }
   ],
   "source": [
    "s=[[['bobby'],['hadz'],['-','com']]]\n",
    "#output=['bobby','hadz','-','com']\n",
    "a=[]\n",
    "for i in s:\n",
    "    #print(i)\n",
    "    for j in i:\n",
    "        for k in j:\n",
    "            a.append(k)\n",
    "print(a)"
   ]
  },
  {
   "cell_type": "code",
   "execution_count": 128,
   "id": "d5ff76a4",
   "metadata": {},
   "outputs": [
    {
     "name": "stdout",
     "output_type": "stream",
     "text": [
      "[12323]\n",
      "[2345]\n",
      "[123]\n"
     ]
    }
   ],
   "source": [
    "s=[[12323],[2345],[123]]\n",
    "for i in s:\n",
    "    print(i)\n",
    "    for j in i:\n",
    "        "
   ]
  },
  {
   "cell_type": "code",
   "execution_count": 154,
   "id": "a2f7a848",
   "metadata": {},
   "outputs": [],
   "source": [
    "a=1\n",
    "while a<=-10:\n",
    "    print(a)\n",
    "    a=a-1"
   ]
  },
  {
   "cell_type": "code",
   "execution_count": 133,
   "id": "0a9f3153",
   "metadata": {},
   "outputs": [
    {
     "name": "stdout",
     "output_type": "stream",
     "text": [
      "0\n",
      "1\n",
      "2\n",
      "3\n",
      "4\n",
      "5\n",
      "6\n",
      "7\n",
      "8\n",
      "9\n"
     ]
    }
   ],
   "source": [
    "a=10\n",
    "for i in range(a):\n",
    "    print(i)"
   ]
  },
  {
   "cell_type": "code",
   "execution_count": 169,
   "id": "55fc6758",
   "metadata": {},
   "outputs": [
    {
     "name": "stdout",
     "output_type": "stream",
     "text": [
      "com\n"
     ]
    }
   ],
   "source": [
    "s=[[[['bobby'],['hadz'],['-','com']]]]\n",
    "a=[]\n",
    "for i in s:\n",
    "    #print(i)\n",
    "    for j in i:\n",
    "        #print(j)\n",
    "        for k in j:\n",
    "            #print(k)\n",
    "                a.append(t)\n",
    "print(t)"
   ]
  },
  {
   "cell_type": "code",
   "execution_count": 170,
   "id": "7fdd0538",
   "metadata": {},
   "outputs": [],
   "source": [
    "a=[1,2,23,3]\n",
    "b=[2312,4344,3,34]\n"
   ]
  },
  {
   "cell_type": "code",
   "execution_count": null,
   "id": "32c6f8e3",
   "metadata": {},
   "outputs": [],
   "source": []
  },
  {
   "cell_type": "code",
   "execution_count": null,
   "id": "cca3b73c",
   "metadata": {},
   "outputs": [],
   "source": []
  },
  {
   "cell_type": "code",
   "execution_count": null,
   "id": "81489bd8",
   "metadata": {},
   "outputs": [],
   "source": []
  },
  {
   "cell_type": "code",
   "execution_count": 193,
   "id": "ef0fcb23",
   "metadata": {},
   "outputs": [
    {
     "name": "stdout",
     "output_type": "stream",
     "text": [
      "bobby\n",
      "hadz\n",
      "-\n",
      "com\n"
     ]
    }
   ],
   "source": [
    "s=[[[['bobby'],['hadz'],['-','com']]]]\n",
    "for i in s:\n",
    "    for j in i:\n",
    "        for k in j:\n",
    "            for t in k:\n",
    "                print(t)"
   ]
  },
  {
   "cell_type": "code",
   "execution_count": 209,
   "id": "289a4ed2",
   "metadata": {},
   "outputs": [
    {
     "name": "stdout",
     "output_type": "stream",
     "text": [
      "[(1, 12), (2, 3), (23, 3)]\n"
     ]
    }
   ],
   "source": [
    "a=[1,2,23,4]\n",
    "b=[12,3,3]\n",
    "d=list(zip(a,b))\n",
    "print(d)"
   ]
  },
  {
   "cell_type": "code",
   "execution_count": 208,
   "id": "db3d9308",
   "metadata": {},
   "outputs": [
    {
     "name": "stdout",
     "output_type": "stream",
     "text": [
      "[('b', 'h', '-', 'c')]\n"
     ]
    }
   ],
   "source": [
    "o='bobby'\n",
    "p='hadz'\n",
    "l='-'\n",
    "m='com'\n",
    "print(list(zip(o,p,l,m)))"
   ]
  },
  {
   "cell_type": "code",
   "execution_count": 205,
   "id": "003a4419",
   "metadata": {},
   "outputs": [
    {
     "name": "stdout",
     "output_type": "stream",
     "text": [
      "[('h', 'h'), ('g', 'f'), ('f', 'e')]\n"
     ]
    }
   ],
   "source": [
    "l='hgf'\n",
    "s='hfe'\n",
    "print(list(zip(l,s)))"
   ]
  },
  {
   "cell_type": "code",
   "execution_count": null,
   "id": "65246a51",
   "metadata": {},
   "outputs": [],
   "source": []
  },
  {
   "cell_type": "code",
   "execution_count": 198,
   "id": "b428d91a",
   "metadata": {},
   "outputs": [
    {
     "name": "stdout",
     "output_type": "stream",
     "text": [
      "bobby\n"
     ]
    }
   ],
   "source": [
    "o=['bobby','hadz']\n",
    "p='hadz'\n",
    "l='-'\n",
    "m='com'\n",
    "print(o[0])"
   ]
  },
  {
   "cell_type": "code",
   "execution_count": 178,
   "id": "2ca862eb",
   "metadata": {},
   "outputs": [
    {
     "name": "stdout",
     "output_type": "stream",
     "text": [
      "['bobby', 'hadz', '-', 'com']\n"
     ]
    }
   ],
   "source": [
    "s=[[[['bobby'],['hadz'],['-','com']]]]\n",
    "a=[]\n",
    "for i in s:#First list mai enter krne ke liye\n",
    "    for j in i:# Second list mai enter krne ke liye\n",
    "        for k in j:#Third list mai enter krne ke liye\n",
    "            #a.append(k)\n",
    "            #print(k)\n",
    "            for l in k:#body ke andr jane ke liye\n",
    "                a.append(l)# append ek list mai krvane ke liye\n",
    "        print(a)"
   ]
  },
  {
   "cell_type": "code",
   "execution_count": null,
   "id": "560f45a4",
   "metadata": {},
   "outputs": [],
   "source": [
    "# If we have to find the length function in SQL\n",
    "   SELECT LEN(Column_name) from Table_name;\n",
    "#IN MY SQL\n",
    "    SELECT CHARACTER_LENGTH(Column_name) from Table_name;\n",
    "    \n",
    "    \n",
    "Mysql open_source database available in the market which is developed by the swedish company Mysql AB.\n",
    "USES: It is used for handling,storing,deleting in tabular form\n",
    "    database software that uses the SQL language .It is developed by Oracle\n",
    "    It supports Extended running support for languages like Perl,Tcl,Haskey \n",
    "\n",
    "SQL (Structured query language) is a programming language that is useful for managing our relational database\n",
    "SQL used to query and operate the database.It is developed by Microsoft.It supports languages like java,c++,Ruby,Visual basic\n",
    ",Delphi ,R etc"
   ]
  }
 ],
 "metadata": {
  "kernelspec": {
   "display_name": "Python 3 (ipykernel)",
   "language": "python",
   "name": "python3"
  },
  "language_info": {
   "codemirror_mode": {
    "name": "ipython",
    "version": 3
   },
   "file_extension": ".py",
   "mimetype": "text/x-python",
   "name": "python",
   "nbconvert_exporter": "python",
   "pygments_lexer": "ipython3",
   "version": "3.9.12"
  }
 },
 "nbformat": 4,
 "nbformat_minor": 5
}
