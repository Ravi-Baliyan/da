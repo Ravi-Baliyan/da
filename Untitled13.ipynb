{
 "cells": [
  {
   "cell_type": "markdown",
   "id": "77ba9198",
   "metadata": {},
   "source": [
    "# Q1.Python program to interchange first and last elements \n",
    "# in a list? l=[1,2,3,4,6,5,7]"
   ]
  },
  {
   "cell_type": "code",
   "execution_count": 10,
   "id": "79ff6982",
   "metadata": {},
   "outputs": [
    {
     "name": "stdout",
     "output_type": "stream",
     "text": [
      "[7, 2, 3, 4, 5, 6, 1]\n"
     ]
    }
   ],
   "source": [
    "l=[1,2,3,4,5,6,7]\n",
    "l.pop(0)\n",
    "l.pop(-1)\n",
    "l.insert(0,7)\n",
    "l.insert(6,1)\n",
    "print(l)"
   ]
  },
  {
   "cell_type": "code",
   "execution_count": null,
   "id": "352ad06d",
   "metadata": {},
   "outputs": [],
   "source": []
  },
  {
   "cell_type": "code",
   "execution_count": null,
   "id": "f18f4810",
   "metadata": {},
   "outputs": [],
   "source": []
  },
  {
   "cell_type": "code",
   "execution_count": null,
   "id": "f2e05a1f",
   "metadata": {},
   "outputs": [],
   "source": []
  },
  {
   "cell_type": "markdown",
   "id": "e3051790",
   "metadata": {},
   "source": [
    "# Q7. Write a Python program to convert a list of characters \n",
    "# into a string?(s=['4','A','C','H','I','E','V','E','R','S'])\n",
    " # Note:Their should be space between 4 and A"
   ]
  },
  {
   "cell_type": "code",
   "execution_count": 21,
   "id": "8c061e2c",
   "metadata": {},
   "outputs": [
    {
     "name": "stdout",
     "output_type": "stream",
     "text": [
      "4 ACHIEVERS\n"
     ]
    }
   ],
   "source": [
    "s=['4 ','A','C','H','I','E','V','E','R','S']\n",
    "s1=''.join(s)\n",
    "print(s1)"
   ]
  },
  {
   "cell_type": "markdown",
   "id": "baea172d",
   "metadata": {},
   "source": [
    "# Q13.From the given list =[[]],The output should be [[5],[5],[5]]"
   ]
  },
  {
   "cell_type": "code",
   "execution_count": 12,
   "id": "f20d6f94",
   "metadata": {},
   "outputs": [
    {
     "name": "stdout",
     "output_type": "stream",
     "text": [
      "[[], [], []]\n",
      "[[5], [5], [5]]\n"
     ]
    }
   ],
   "source": [
    "l=[[]]\n",
    "z=l*3\n",
    "print(z)\n",
    "z[1].append(5)\n",
    "print(z)"
   ]
  },
  {
   "cell_type": "markdown",
   "id": "46829476",
   "metadata": {},
   "source": [
    "# Q14.From the given string l=[10,20,30],The output should be [10,20,30,10,20,30]"
   ]
  },
  {
   "cell_type": "code",
   "execution_count": 6,
   "id": "18e6788b",
   "metadata": {},
   "outputs": [
    {
     "name": "stdout",
     "output_type": "stream",
     "text": [
      "[10, 20, 30, 10, 20, 30]\n"
     ]
    }
   ],
   "source": [
    "l=[10,20,30]\n",
    "l.extend(l)\n",
    "print(l)"
   ]
  },
  {
   "cell_type": "markdown",
   "id": "af42974c",
   "metadata": {},
   "source": [
    "# Q5.Write a programme to check weather the two strings is anagram or not?\n",
    "# s1=\"apple\"\n",
    "# s2=\"lpeaP\""
   ]
  },
  {
   "cell_type": "code",
   "execution_count": 15,
   "id": "20604790",
   "metadata": {},
   "outputs": [
    {
     "ename": "NameError",
     "evalue": "name 'shorted' is not defined",
     "output_type": "error",
     "traceback": [
      "\u001b[1;31m---------------------------------------------------------------------------\u001b[0m",
      "\u001b[1;31mNameError\u001b[0m                                 Traceback (most recent call last)",
      "Input \u001b[1;32mIn [15]\u001b[0m, in \u001b[0;36m<cell line: 1>\u001b[1;34m()\u001b[0m\n\u001b[1;32m----> 1\u001b[0m x\u001b[38;5;241m=\u001b[39m\u001b[43mshorted\u001b[49m(s1)\u001b[38;5;241m==\u001b[39mshorted(s2)\n",
      "\u001b[1;31mNameError\u001b[0m: name 'shorted' is not defined"
     ]
    }
   ],
   "source": [
    "x=shorted(s1)==shorted(s2)"
   ]
  },
  {
   "cell_type": "code",
   "execution_count": null,
   "id": "cc565401",
   "metadata": {},
   "outputs": [],
   "source": []
  }
 ],
 "metadata": {
  "kernelspec": {
   "display_name": "Python 3 (ipykernel)",
   "language": "python",
   "name": "python3"
  },
  "language_info": {
   "codemirror_mode": {
    "name": "ipython",
    "version": 3
   },
   "file_extension": ".py",
   "mimetype": "text/x-python",
   "name": "python",
   "nbconvert_exporter": "python",
   "pygments_lexer": "ipython3",
   "version": "3.9.12"
  }
 },
 "nbformat": 4,
 "nbformat_minor": 5
}
