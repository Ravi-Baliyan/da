{
 "cells": [
  {
   "cell_type": "code",
   "execution_count": 8,
   "id": "ed38957f",
   "metadata": {},
   "outputs": [
    {
     "data": {
      "text/plain": [
       "{('a', 100): ['a', 'b', 'c'], 'key2': {'a': 100, 'b': 200}}"
      ]
     },
     "execution_count": 8,
     "metadata": {},
     "output_type": "execute_result"
    }
   ],
   "source": [
    "a={('a',100):['a','b','c'],'key2':{'a':100,'b':200}}\n",
    "a"
   ]
  },
  {
   "cell_type": "code",
   "execution_count": 9,
   "id": "0f672115",
   "metadata": {},
   "outputs": [],
   "source": [
    "def my_func(a,b,c):\n",
    "    print(a,b,c)"
   ]
  },
  {
   "cell_type": "code",
   "execution_count": 10,
   "id": "658d061a",
   "metadata": {},
   "outputs": [
    {
     "data": {
      "text/plain": [
       "124477225629"
      ]
     },
     "execution_count": 10,
     "metadata": {},
     "output_type": "execute_result"
    }
   ],
   "source": [
    "hash(my_func)"
   ]
  },
  {
   "cell_type": "code",
   "execution_count": 13,
   "id": "c653dff4",
   "metadata": {},
   "outputs": [
    {
     "data": {
      "text/plain": [
       "{'a': 1, 'b': 2, 'c': 3}"
      ]
     },
     "execution_count": 13,
     "metadata": {},
     "output_type": "execute_result"
    }
   ],
   "source": [
    "keys=['a','b','c','d']\n",
    "values=(1,2,3)\n",
    "x=dict(zip(keys,values))\n",
    "x\n"
   ]
  },
  {
   "cell_type": "markdown",
   "id": "edcd7f88",
   "metadata": {},
   "source": [
    "# list comprehension in dict"
   ]
  },
  {
   "cell_type": "code",
   "execution_count": 14,
   "id": "1afa28b6",
   "metadata": {},
   "outputs": [
    {
     "data": {
      "text/plain": [
       "{'a': 1, 'b': 2, 'c': 3}"
      ]
     },
     "execution_count": 14,
     "metadata": {},
     "output_type": "execute_result"
    }
   ],
   "source": [
    "d={k: v for k , v in zip(keys,values)}\n",
    "d"
   ]
  },
  {
   "cell_type": "code",
   "execution_count": 15,
   "id": "f598380e",
   "metadata": {},
   "outputs": [
    {
     "data": {
      "text/plain": [
       "{'b': 2, 'd': 4}"
      ]
     },
     "execution_count": 15,
     "metadata": {},
     "output_type": "execute_result"
    }
   ],
   "source": [
    "keys=['a','b','c','d']\n",
    "values=(1,2,3,4)\n",
    "d={k: v for k , v in zip(keys,values) if v%2==0}\n",
    "d"
   ]
  },
  {
   "cell_type": "code",
   "execution_count": 23,
   "id": "37d9c40d",
   "metadata": {},
   "outputs": [
    {
     "data": {
      "text/plain": [
       "[(1, 5),\n",
       " (1, 6),\n",
       " (1, 7),\n",
       " (1, 8),\n",
       " (1, 9),\n",
       " (2, 5),\n",
       " (2, 6),\n",
       " (2, 7),\n",
       " (2, 8),\n",
       " (2, 9),\n",
       " (3, 5),\n",
       " (3, 6),\n",
       " (3, 7),\n",
       " (3, 8),\n",
       " (3, 9),\n",
       " (4, 5),\n",
       " (4, 6),\n",
       " (4, 7),\n",
       " (4, 8),\n",
       " (4, 9),\n",
       " (5, 5),\n",
       " (5, 6),\n",
       " (5, 7),\n",
       " (5, 8),\n",
       " (5, 9)]"
      ]
     },
     "execution_count": 23,
     "metadata": {},
     "output_type": "execute_result"
    }
   ],
   "source": [
    "x_coords=(1,2,3,4,5)\n",
    "y_coords=(5,6,7,8,9)\n",
    "grid =[(x,y)\n",
    "      for x in x_coords\n",
    "      for y in y_coords]\n",
    "grid"
   ]
  },
  {
   "cell_type": "code",
   "execution_count": 24,
   "id": "0b28c58e",
   "metadata": {},
   "outputs": [],
   "source": [
    "import math"
   ]
  },
  {
   "cell_type": "code",
   "execution_count": 25,
   "id": "b02e43cc",
   "metadata": {},
   "outputs": [
    {
     "data": {
      "text/plain": [
       "1.4142135623730951"
      ]
     },
     "execution_count": 25,
     "metadata": {},
     "output_type": "execute_result"
    }
   ],
   "source": [
    "math.hypot(-1,-1)"
   ]
  },
  {
   "cell_type": "code",
   "execution_count": 26,
   "id": "117c971e",
   "metadata": {},
   "outputs": [
    {
     "data": {
      "text/plain": [
       "2.8284271247461903"
      ]
     },
     "execution_count": 26,
     "metadata": {},
     "output_type": "execute_result"
    }
   ],
   "source": [
    "math.hypot(-2,-2)"
   ]
  },
  {
   "cell_type": "code",
   "execution_count": 27,
   "id": "c590605d",
   "metadata": {},
   "outputs": [
    {
     "data": {
      "text/plain": [
       "[(1, 5, 5.099019513592785),\n",
       " (1, 6, 6.0827625302982185),\n",
       " (1, 7, 7.0710678118654755),\n",
       " (1, 8, 8.06225774829855),\n",
       " (1, 9, 9.055385138137417),\n",
       " (2, 5, 5.385164807134505),\n",
       " (2, 6, 6.324555320336759),\n",
       " (2, 7, 7.280109889280519),\n",
       " (2, 8, 8.246211251235321),\n",
       " (2, 9, 9.219544457292889),\n",
       " (3, 5, 5.8309518948453),\n",
       " (3, 6, 6.708203932499369),\n",
       " (3, 7, 7.615773105863909),\n",
       " (3, 8, 8.54400374531753),\n",
       " (3, 9, 9.486832980505138),\n",
       " (4, 5, 6.4031242374328485),\n",
       " (4, 6, 7.211102550927979),\n",
       " (4, 7, 8.06225774829855),\n",
       " (4, 8, 8.94427190999916),\n",
       " (4, 9, 9.848857801796104),\n",
       " (5, 5, 7.0710678118654755),\n",
       " (5, 6, 7.810249675906656),\n",
       " (5, 7, 8.602325267042627),\n",
       " (5, 8, 9.433981132056603),\n",
       " (5, 9, 10.295630140987)]"
      ]
     },
     "execution_count": 27,
     "metadata": {},
     "output_type": "execute_result"
    }
   ],
   "source": [
    "grid_extended =[(x,y,math.hypot(x,y))for x,y in grid]\n",
    "grid_extended"
   ]
  },
  {
   "cell_type": "code",
   "execution_count": 34,
   "id": "de63ab09",
   "metadata": {},
   "outputs": [],
   "source": [
    "d=dict(zip('abc',range(1,20)))"
   ]
  },
  {
   "cell_type": "code",
   "execution_count": 35,
   "id": "3e6e83ce",
   "metadata": {},
   "outputs": [
    {
     "data": {
      "text/plain": [
       "{'a': 1, 'b': 2, 'c': 3}"
      ]
     },
     "execution_count": 35,
     "metadata": {},
     "output_type": "execute_result"
    }
   ],
   "source": [
    "d"
   ]
  },
  {
   "cell_type": "code",
   "execution_count": 36,
   "id": "ca2be79b",
   "metadata": {},
   "outputs": [
    {
     "data": {
      "text/plain": [
       "3"
      ]
     },
     "execution_count": 36,
     "metadata": {},
     "output_type": "execute_result"
    }
   ],
   "source": [
    "len(d)"
   ]
  },
  {
   "cell_type": "code",
   "execution_count": 42,
   "id": "fae5d9c1",
   "metadata": {},
   "outputs": [
    {
     "name": "stdout",
     "output_type": "stream",
     "text": [
      "None\n"
     ]
    }
   ],
   "source": [
    "x=d.get('python')\n",
    "print(x)"
   ]
  },
  {
   "cell_type": "code",
   "execution_count": 46,
   "id": "d6c5861c",
   "metadata": {},
   "outputs": [
    {
     "name": "stdout",
     "output_type": "stream",
     "text": [
      "{'u': 18, 'a': 7, 'j': 11, 'e': 22, 'k': 4, ' ': 7, 'h': 16, 'f': 19, 'w': 8, 'b': 22, 'i': 10, 'J': 5, 'H': 2, 'G': 1, 'R': 2, 'S': 5, 'V': 6, 'D': 3, 'B': 2, 'L': 1, 'K': 3, 'N': 2, 'Z': 1, 'g': 13, 'y': 13, 's': 17, 'c': 7, 'v': 18, 'r': 14, 'd': 7}\n"
     ]
    }
   ],
   "source": [
    "x='uajek jhfea awbfiuewJHGRSVSVRHJSDVBLKJDVJDBVKNZSVJSKNiw weugfyu ehjfskwf ceuskbfs jyfeayhsyegfwayvwcreyeryvsyurebyegubhjsvbhdvbhesvbhjbsvchjbvuyfdgvburebvubvhjsbdahvcreyvbhjreburshdbcrgfureifbrhjvbfdhvyurebvchdbcvhyrevfevbjgsfiwisgfisgaufsiugfiusgfiusregrdig esbgkfu'\n",
    "a={}\n",
    "for i in x:\n",
    "    a[i]=x.count(i)\n",
    "print(a)"
   ]
  },
  {
   "cell_type": "code",
   "execution_count": 3,
   "id": "941ea0b0",
   "metadata": {},
   "outputs": [
    {
     "name": "stdout",
     "output_type": "stream",
     "text": [
      "enter the number: ugvwqd ywvd hjaywvfj wdahvy\n",
      "dqwvgu dvwy jfvwyajh yvhadw\n"
     ]
    }
   ],
   "source": [
    "x=input(\"enter the number: \")\n",
    "a=''\n",
    "b=''\n",
    "for i in x:\n",
    "    if i.isalpha():\n",
    "        a=a+i\n",
    "    else:\n",
    "        b=b+a[::-1]+i\n",
    "        a=''\n",
    "print(b+a[::-1])"
   ]
  },
  {
   "cell_type": "code",
   "execution_count": 4,
   "id": "e80919c9",
   "metadata": {},
   "outputs": [
    {
     "data": {
      "text/plain": [
       "False"
      ]
     },
     "execution_count": 4,
     "metadata": {},
     "output_type": "execute_result"
    }
   ],
   "source": [
    "0.2+0.1==0.3"
   ]
  },
  {
   "cell_type": "code",
   "execution_count": 5,
   "id": "d72a9c12",
   "metadata": {},
   "outputs": [
    {
     "data": {
      "text/plain": [
       "['__class__',\n",
       " '__class_getitem__',\n",
       " '__contains__',\n",
       " '__delattr__',\n",
       " '__delitem__',\n",
       " '__dir__',\n",
       " '__doc__',\n",
       " '__eq__',\n",
       " '__format__',\n",
       " '__ge__',\n",
       " '__getattribute__',\n",
       " '__getitem__',\n",
       " '__gt__',\n",
       " '__hash__',\n",
       " '__init__',\n",
       " '__init_subclass__',\n",
       " '__ior__',\n",
       " '__iter__',\n",
       " '__le__',\n",
       " '__len__',\n",
       " '__lt__',\n",
       " '__ne__',\n",
       " '__new__',\n",
       " '__or__',\n",
       " '__reduce__',\n",
       " '__reduce_ex__',\n",
       " '__repr__',\n",
       " '__reversed__',\n",
       " '__ror__',\n",
       " '__setattr__',\n",
       " '__setitem__',\n",
       " '__sizeof__',\n",
       " '__str__',\n",
       " '__subclasshook__',\n",
       " 'clear',\n",
       " 'copy',\n",
       " 'fromkeys',\n",
       " 'get',\n",
       " 'items',\n",
       " 'keys',\n",
       " 'pop',\n",
       " 'popitem',\n",
       " 'setdefault',\n",
       " 'update',\n",
       " 'values']"
      ]
     },
     "execution_count": 5,
     "metadata": {},
     "output_type": "execute_result"
    }
   ],
   "source": [
    "dir(dict)"
   ]
  },
  {
   "cell_type": "code",
   "execution_count": 9,
   "id": "0d76bee5",
   "metadata": {},
   "outputs": [
    {
     "name": "stdout",
     "output_type": "stream",
     "text": [
      "enter the number: 8\n",
      "Key is not present in the dictionary\n"
     ]
    }
   ],
   "source": [
    "\n",
    "d = {1: 10, 2: 20, 3: 30, 4: 40, 5: 50, 6: 60}\n",
    "x=int(input(\"enter the number: \"))\n",
    "if x in d:\n",
    "      print('Key is present in the dictionary')\n",
    "else:\n",
    "      print('Key is not present in the dictionary')"
   ]
  },
  {
   "cell_type": "code",
   "execution_count": 10,
   "id": "1bd3ebde",
   "metadata": {},
   "outputs": [],
   "source": [
    "import numpy as np"
   ]
  },
  {
   "cell_type": "code",
   "execution_count": 11,
   "id": "76831322",
   "metadata": {},
   "outputs": [
    {
     "name": "stdout",
     "output_type": "stream",
     "text": [
      "[2]\n"
     ]
    }
   ],
   "source": [
    "a=np.array([1,2,3,4])\n",
    "print(a[[False,True,False,False]])"
   ]
  },
  {
   "cell_type": "code",
   "execution_count": 12,
   "id": "149ce1d7",
   "metadata": {},
   "outputs": [
    {
     "name": "stdout",
     "output_type": "stream",
     "text": [
      "[3 4]\n"
     ]
    }
   ],
   "source": [
    "table=np.array([\n",
    "    [1,3],\n",
    "    [2,4]\n",
    "])\n",
    "print(table.max(axis=1))"
   ]
  },
  {
   "cell_type": "code",
   "execution_count": 13,
   "id": "ca302d3d",
   "metadata": {},
   "outputs": [],
   "source": [
    "import math\n"
   ]
  },
  {
   "cell_type": "code",
   "execution_count": 14,
   "id": "0da83644",
   "metadata": {},
   "outputs": [
    {
     "name": "stdout",
     "output_type": "stream",
     "text": [
      "1024.0\n"
     ]
    }
   ],
   "source": [
    "print(math.pow(2,10))"
   ]
  },
  {
   "cell_type": "code",
   "execution_count": 15,
   "id": "b833d467",
   "metadata": {},
   "outputs": [
    {
     "ename": "SyntaxError",
     "evalue": "non-default argument follows default argument (570581689.py, line 1)",
     "output_type": "error",
     "traceback": [
      "\u001b[1;36m  Input \u001b[1;32mIn [15]\u001b[1;36m\u001b[0m\n\u001b[1;33m    def be_friendly(greet='how are you!',name):\u001b[0m\n\u001b[1;37m                                             ^\u001b[0m\n\u001b[1;31mSyntaxError\u001b[0m\u001b[1;31m:\u001b[0m non-default argument follows default argument\n"
     ]
    }
   ],
   "source": [
    "def be_friendly(greet='how are you!',name):\n",
    "    pass"
   ]
  },
  {
   "cell_type": "code",
   "execution_count": 17,
   "id": "6d283063",
   "metadata": {},
   "outputs": [
    {
     "data": {
      "text/plain": [
       "2"
      ]
     },
     "execution_count": 17,
     "metadata": {},
     "output_type": "execute_result"
    }
   ],
   "source": [
    "l=[False,True,False,True]\n",
    "np.sum(l)"
   ]
  },
  {
   "cell_type": "code",
   "execution_count": 18,
   "id": "6eb4aec6",
   "metadata": {},
   "outputs": [
    {
     "data": {
      "text/plain": [
       "[(1, 2), (2, 3), (3, 4), (4, 5)]"
      ]
     },
     "execution_count": 18,
     "metadata": {},
     "output_type": "execute_result"
    }
   ],
   "source": [
    "\n",
    "[(x,x+1)for x in range(1,5)]"
   ]
  },
  {
   "cell_type": "code",
   "execution_count": 21,
   "id": "d6ff76b1",
   "metadata": {},
   "outputs": [
    {
     "name": "stdout",
     "output_type": "stream",
     "text": [
      "hello i am from spain\n",
      "hello i am from \n",
      "hello i am from France\n"
     ]
    }
   ],
   "source": [
    "def my(country=\"France\"):\n",
    "    print(\"hello i am from\",country)\n",
    "my(\"spain\")\n",
    "my(\"\")\n",
    "my()"
   ]
  },
  {
   "cell_type": "code",
   "execution_count": 22,
   "id": "ec6a62cc",
   "metadata": {},
   "outputs": [],
   "source": [
    "import numpy as np"
   ]
  },
  {
   "cell_type": "code",
   "execution_count": 23,
   "id": "e118ad9e",
   "metadata": {},
   "outputs": [
    {
     "name": "stdout",
     "output_type": "stream",
     "text": [
      "[4 5 6]\n"
     ]
    }
   ],
   "source": [
    "a=np.array([[1,2],[3,4],[5,6]])\n",
    "c=a[(a>3) & (a<11)]\n",
    "print(c)"
   ]
  },
  {
   "cell_type": "code",
   "execution_count": 56,
   "id": "9ebb4ecf",
   "metadata": {},
   "outputs": [
    {
     "data": {
      "text/plain": [
       "{'Gold': 550,\n",
       " 'Pouch': ['flint', 'twine', 'gemstone'],\n",
       " 'backpack': ['xylophone', 'bedroll', 'bread loaf'],\n",
       " 'Pocket': ['lint', 'seashell', 'strange breey']}"
      ]
     },
     "execution_count": 56,
     "metadata": {},
     "output_type": "execute_result"
    }
   ],
   "source": [
    "d={\n",
    "    \"Gold\":500,\n",
    "    \"Pouch\":[\"flint\",\"twine\",\"gemstone\"],\n",
    "    \"backpack\":['xylophone','dagger','bedroll','bread loaf']\n",
    "    \n",
    "}\n",
    "d['Pocket']=['seashell','strange breey','lint'] # To add the key and values in dict\n",
    "d['Pocket'].sort()                              # To sort the elements of Pocket in ascending order\n",
    "d['backpack'][1]                                # To check the name of the element present at index 1\n",
    "d['backpack'].remove('dagger')                  # To remove the 'dagger' form dict \n",
    "d['Gold']=d['Gold']+50                          # To add 50 in the same dict \n",
    "d"
   ]
  },
  {
   "cell_type": "code",
   "execution_count": 39,
   "id": "dbe17080",
   "metadata": {},
   "outputs": [
    {
     "data": {
      "text/plain": [
       "['__class__',\n",
       " '__class_getitem__',\n",
       " '__contains__',\n",
       " '__delattr__',\n",
       " '__delitem__',\n",
       " '__dir__',\n",
       " '__doc__',\n",
       " '__eq__',\n",
       " '__format__',\n",
       " '__ge__',\n",
       " '__getattribute__',\n",
       " '__getitem__',\n",
       " '__gt__',\n",
       " '__hash__',\n",
       " '__init__',\n",
       " '__init_subclass__',\n",
       " '__ior__',\n",
       " '__iter__',\n",
       " '__le__',\n",
       " '__len__',\n",
       " '__lt__',\n",
       " '__ne__',\n",
       " '__new__',\n",
       " '__or__',\n",
       " '__reduce__',\n",
       " '__reduce_ex__',\n",
       " '__repr__',\n",
       " '__reversed__',\n",
       " '__ror__',\n",
       " '__setattr__',\n",
       " '__setitem__',\n",
       " '__sizeof__',\n",
       " '__str__',\n",
       " '__subclasshook__',\n",
       " 'clear',\n",
       " 'copy',\n",
       " 'fromkeys',\n",
       " 'get',\n",
       " 'items',\n",
       " 'keys',\n",
       " 'pop',\n",
       " 'popitem',\n",
       " 'setdefault',\n",
       " 'update',\n",
       " 'values']"
      ]
     },
     "execution_count": 39,
     "metadata": {},
     "output_type": "execute_result"
    }
   ],
   "source": [
    "dir(dict\n",
    "   \n",
    "   )"
   ]
  },
  {
   "cell_type": "code",
   "execution_count": 70,
   "id": "17b6f9ae",
   "metadata": {},
   "outputs": [
    {
     "name": "stdout",
     "output_type": "stream",
     "text": [
      "[[1, 3, 5, 7, 9, 11, 13, 15]]\n",
      "[[2, 4, 6, 8, 10, 12, 14]]\n"
     ]
    }
   ],
   "source": [
    "even=[]\n",
    "odd=[]\n",
    "l=[1,2,3,4,5,6,7,8,9,10,11,12,13,14,15]\n",
    "odd.append(l[::2])\n",
    "print(odd)\n",
    "even.append(l[1::2])\n",
    "print(even)"
   ]
  },
  {
   "cell_type": "code",
   "execution_count": 2,
   "id": "fd9e7d2d",
   "metadata": {},
   "outputs": [],
   "source": [
    "import turtle\n",
    "pen = turtle.Turtle()\n",
    "def curve():\n",
    "\tfor i in range(200):\n",
    "\t\tpen.right(1)\n",
    "\t\tpen.forward(1)\n",
    "\n",
    "# Defining method to draw a full heart\n",
    "def heart():\n",
    "\n",
    "\t# Set the fill color to red\n",
    "\tpen.fillcolor('red')\n",
    "\n",
    "\t# Start filling the color\n",
    "\tpen.begin_fill()\n",
    "\n",
    "\t# Draw the left line\n",
    "\tpen.left(140)\n",
    "\tpen.forward(113)\n",
    "\n",
    "\t# Draw the left curve\n",
    "\tcurve()\n",
    "\tpen.left(120)\n",
    "\n",
    "\t# Draw the right curve\n",
    "\tcurve()\n",
    "\n",
    "\t# Draw the right line\n",
    "\tpen.forward(112)\n",
    "\n",
    "\t# Ending the filling of the color\n",
    "\tpen.end_fill()\n",
    "\n",
    "# Defining method to write text\n",
    "def txt():\n",
    "\n",
    "\t# Move turtle to air\n",
    "\tpen.up()\n",
    "\n",
    "\t# Move turtle to a given position\n",
    "\tpen.setpos(-68, 95)\n",
    "\n",
    "\t# Move the turtle to the ground\n",
    "\tpen.down()\n",
    "\n",
    "\t# Set the text color to lightgreen\n",
    "\tpen.color('lightgreen')\n",
    "\n",
    "\t# Write the specified text in\n",
    "\t# specified font style and size\n",
    "\tpen.write(\"GeeksForGeeks\", font=(\n",
    "\t\"Verdana\", 12, \"bold\"))\n",
    "\n",
    "\n",
    "# Draw a heart\n",
    "heart()\n",
    "\n",
    "# Write text\n",
    "txt()\n",
    "\n",
    "# To hide turtle\n",
    "pen.ht()\n"
   ]
  },
  {
   "cell_type": "code",
   "execution_count": 3,
   "id": "3b5f8163",
   "metadata": {},
   "outputs": [
    {
     "ename": "AttributeError",
     "evalue": "module 'skimage.measure' has no attribute 'marching_cubes_lewiner'",
     "output_type": "error",
     "traceback": [
      "\u001b[1;31m---------------------------------------------------------------------------\u001b[0m",
      "\u001b[1;31mAttributeError\u001b[0m                            Traceback (most recent call last)",
      "Input \u001b[1;32mIn [3]\u001b[0m, in \u001b[0;36m<cell line: 25>\u001b[1;34m()\u001b[0m\n\u001b[0;32m     22\u001b[0m vol \u001b[38;5;241m=\u001b[39m f_heart(X,Y,Z) \n\u001b[0;32m     24\u001b[0m \u001b[38;5;66;03m# Extract a 2D surface mesh from a 3D volume (F=0)\u001b[39;00m\n\u001b[1;32m---> 25\u001b[0m verts, faces, normals, values \u001b[38;5;241m=\u001b[39m \u001b[43mmeasure\u001b[49m\u001b[38;5;241;43m.\u001b[39;49m\u001b[43mmarching_cubes_lewiner\u001b[49m(vol, \u001b[38;5;241m0\u001b[39m,  spacing\u001b[38;5;241m=\u001b[39m(\u001b[38;5;241m0.1\u001b[39m, \u001b[38;5;241m0.1\u001b[39m, \u001b[38;5;241m0.1\u001b[39m))\n\u001b[0;32m     28\u001b[0m \u001b[38;5;66;03m# Create a 3D figure\u001b[39;00m\n\u001b[0;32m     29\u001b[0m fig \u001b[38;5;241m=\u001b[39m plt\u001b[38;5;241m.\u001b[39mfigure(figsize\u001b[38;5;241m=\u001b[39m(\u001b[38;5;241m12\u001b[39m,\u001b[38;5;241m8\u001b[39m))\n",
      "\u001b[1;31mAttributeError\u001b[0m: module 'skimage.measure' has no attribute 'marching_cubes_lewiner'"
     ]
    }
   ],
   "source": [
    "from mpl_toolkits.mplot3d import Axes3D\n",
    "from matplotlib import pyplot as plt\n",
    "import numpy as np\n",
    "from skimage import measure\n",
    "\n",
    "\n",
    "# Set up mesh\n",
    "n = 100 \n",
    "\n",
    "x = np.linspace(-3,3,n)\n",
    "y = np.linspace(-3,3,n)\n",
    "z = np.linspace(-3,3,n)\n",
    "X, Y, Z =  np.meshgrid(x, y, z)\n",
    "\n",
    "# Create cardioid function \n",
    "def f_heart(x,y,z):\n",
    "    F = 320 * ((-x**2 * z**3 -9*y**2 * z**3/80) +\n",
    "               (x**2 + 9*y**2/4 + z**2-1)**3)\n",
    "    return F\n",
    "\n",
    "# Obtain value to at every point in mesh\n",
    "vol = f_heart(X,Y,Z) \n",
    "\n",
    "# Extract a 2D surface mesh from a 3D volume (F=0)\n",
    "verts, faces, normals, values = measure.marching_cubes_lewiner(vol, 0,  spacing=(0.1, 0.1, 0.1))\n",
    "\n",
    "\n",
    "# Create a 3D figure\n",
    "fig = plt.figure(figsize=(12,8))\n",
    "ax = fig.add_subplot(111, projection='3d')\n",
    "\n",
    "# Plot the surface\n",
    "ax.plot_trisurf(verts[:, 0], verts[:,1], faces, verts[:, 2],\n",
    "                cmap='Spectral', lw=1)\n",
    "\n",
    "# Change the angle of view and title\n",
    "ax.view_init(15, -15)\n",
    "\n",
    "# ax.set_title(u\"Made with ❤ (and Python)\", fontsize=15) # if you have Python 3\n",
    "ax.set_title(\"Made with <3 (and Python)\", fontsize=15)\n",
    "\n",
    "# Show me some love ^^\n",
    "plt.show()"
   ]
  },
  {
   "cell_type": "code",
   "execution_count": null,
   "id": "9ef2cae9",
   "metadata": {},
   "outputs": [],
   "source": []
  }
 ],
 "metadata": {
  "kernelspec": {
   "display_name": "Python 3 (ipykernel)",
   "language": "python",
   "name": "python3"
  },
  "language_info": {
   "codemirror_mode": {
    "name": "ipython",
    "version": 3
   },
   "file_extension": ".py",
   "mimetype": "text/x-python",
   "name": "python",
   "nbconvert_exporter": "python",
   "pygments_lexer": "ipython3",
   "version": "3.9.12"
  }
 },
 "nbformat": 4,
 "nbformat_minor": 5
}
