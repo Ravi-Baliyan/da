{
 "cells": [
  {
   "cell_type": "code",
   "execution_count": 3,
   "id": "f70b98fb",
   "metadata": {},
   "outputs": [],
   "source": [
    "import pandas as pd\n",
    "import matplotlib.pyplot as plt\n",
    "import seaborn as sns"
   ]
  },
  {
   "cell_type": "code",
   "execution_count": 4,
   "id": "59c088e2",
   "metadata": {},
   "outputs": [
    {
     "name": "stderr",
     "output_type": "stream",
     "text": [
      "C:\\Users\\baliy\\AppData\\Local\\Temp\\ipykernel_23088\\3160477881.py:1: DtypeWarning: Columns (47) have mixed types. Specify dtype option on import or set low_memory=False.\n",
      "  x=pd.read_csv(\"Downloads\\\\loan\\\\loan.csv\")\n"
     ]
    }
   ],
   "source": [
    "x=pd.read_csv(\"Downloads\\\\loan\\\\loan.csv\")"
   ]
  },
  {
   "cell_type": "code",
   "execution_count": 7,
   "id": "3d254cc9",
   "metadata": {},
   "outputs": [
    {
     "data": {
      "text/plain": [
       "id                                0\n",
       "member_id                         0\n",
       "loan_amnt                         0\n",
       "funded_amnt                       0\n",
       "funded_amnt_inv                   0\n",
       "                              ...  \n",
       "tax_liens                        32\n",
       "tot_hi_cred_lim               39717\n",
       "total_bal_ex_mort             39717\n",
       "total_bc_limit                39717\n",
       "total_il_high_credit_limit    39717\n",
       "Length: 111, dtype: int64"
      ]
     },
     "execution_count": 7,
     "metadata": {},
     "output_type": "execute_result"
    }
   ],
   "source": [
    "x.fillna(method='bfill').isna().sum()"
   ]
  },
  {
   "cell_type": "code",
   "execution_count": 13,
   "id": "9b1f858b",
   "metadata": {},
   "outputs": [
    {
     "data": {
      "text/plain": [
       "(39717, 111)"
      ]
     },
     "execution_count": 13,
     "metadata": {},
     "output_type": "execute_result"
    }
   ],
   "source": [
    "x.shape"
   ]
  },
  {
   "cell_type": "code",
   "execution_count": 14,
   "id": "4296f110",
   "metadata": {},
   "outputs": [
    {
     "data": {
      "text/plain": [
       "id                                0\n",
       "member_id                         0\n",
       "loan_amnt                         0\n",
       "funded_amnt                       0\n",
       "funded_amnt_inv                   0\n",
       "                              ...  \n",
       "tax_liens                        39\n",
       "tot_hi_cred_lim               39717\n",
       "total_bal_ex_mort             39717\n",
       "total_bc_limit                39717\n",
       "total_il_high_credit_limit    39717\n",
       "Length: 111, dtype: int64"
      ]
     },
     "execution_count": 14,
     "metadata": {},
     "output_type": "execute_result"
    }
   ],
   "source": [
    "x.isna().sum()"
   ]
  },
  {
   "cell_type": "code",
   "execution_count": 8,
   "id": "2cecd999",
   "metadata": {},
   "outputs": [],
   "source": [
    "d = x.isna().mean()*100"
   ]
  },
  {
   "cell_type": "code",
   "execution_count": 9,
   "id": "717bc298",
   "metadata": {},
   "outputs": [
    {
     "name": "stdout",
     "output_type": "stream",
     "text": [
      "0.0\n",
      "0.0\n",
      "0.0\n",
      "0.0\n",
      "0.0\n",
      "0.0\n",
      "0.0\n",
      "0.0\n",
      "0.0\n",
      "0.0\n",
      "6.191303472064859\n",
      "2.7066495455346575\n",
      "0.0\n",
      "0.0\n",
      "0.0\n",
      "0.0\n",
      "0.0\n",
      "0.0\n",
      "0.0\n",
      "32.58050708764509\n",
      "0.0\n",
      "0.027695948838029054\n",
      "0.0\n",
      "0.0\n",
      "0.0\n",
      "0.0\n",
      "0.0\n",
      "0.0\n",
      "64.66248709620565\n",
      "92.98537150338646\n",
      "0.0\n",
      "0.0\n",
      "0.0\n",
      "0.12589067653649572\n",
      "0.0\n",
      "0.0\n",
      "0.0\n",
      "0.0\n",
      "0.0\n",
      "0.0\n",
      "0.0\n",
      "0.0\n",
      "0.0\n",
      "0.0\n",
      "0.0\n",
      "0.1787647606818239\n",
      "0.0\n",
      "97.12969257496789\n",
      "0.0050356270614598285\n",
      "0.1409975577208752\n",
      "100.0\n",
      "0.0\n",
      "0.0\n",
      "100.0\n",
      "100.0\n",
      "100.0\n",
      "0.0\n",
      "100.0\n",
      "100.0\n",
      "100.0\n",
      "100.0\n",
      "100.0\n",
      "100.0\n",
      "100.0\n",
      "100.0\n",
      "100.0\n",
      "100.0\n",
      "100.0\n",
      "100.0\n",
      "100.0\n",
      "100.0\n",
      "100.0\n",
      "100.0\n",
      "100.0\n",
      "100.0\n",
      "100.0\n",
      "100.0\n",
      "100.0\n",
      "0.1409975577208752\n",
      "0.0\n",
      "100.0\n",
      "100.0\n",
      "100.0\n",
      "100.0\n",
      "100.0\n",
      "100.0\n",
      "100.0\n",
      "100.0\n",
      "100.0\n",
      "100.0\n",
      "100.0\n",
      "100.0\n",
      "100.0\n",
      "100.0\n",
      "100.0\n",
      "100.0\n",
      "100.0\n",
      "100.0\n",
      "100.0\n",
      "100.0\n",
      "100.0\n",
      "100.0\n",
      "100.0\n",
      "100.0\n",
      "100.0\n",
      "1.7549160309187504\n",
      "0.09819472769846666\n",
      "100.0\n",
      "100.0\n",
      "100.0\n",
      "100.0\n"
     ]
    }
   ],
   "source": [
    "for i in d:\n",
    "    print(i)"
   ]
  },
  {
   "cell_type": "code",
   "execution_count": 10,
   "id": "e5260f15",
   "metadata": {},
   "outputs": [],
   "source": [
    "a=pd.DataFrame(d,columns=[\"Null values\"])"
   ]
  },
  {
   "cell_type": "code",
   "execution_count": 11,
   "id": "edd68f76",
   "metadata": {},
   "outputs": [],
   "source": [
    "for i in a.index:\n",
    "    if a['Null values'][i]>=15:\n",
    "        del x[i]"
   ]
  },
  {
   "cell_type": "code",
   "execution_count": 12,
   "id": "6c650678",
   "metadata": {},
   "outputs": [
    {
     "data": {
      "text/plain": [
       "id                                                                      1077501\n",
       "member_id                                                               1296599\n",
       "loan_amnt                                                                  5000\n",
       "funded_amnt                                                                5000\n",
       "funded_amnt_inv                                                          4975.0\n",
       "term                                                                  36 months\n",
       "int_rate                                                                 10.65%\n",
       "installment                                                              162.87\n",
       "grade                                                                         B\n",
       "sub_grade                                                                    B2\n",
       "emp_title                                                                   NaN\n",
       "emp_length                                                            10+ years\n",
       "home_ownership                                                             RENT\n",
       "annual_inc                                                              24000.0\n",
       "verification_status                                                    Verified\n",
       "issue_d                                                                  Dec-11\n",
       "loan_status                                                          Fully Paid\n",
       "pymnt_plan                                                                    n\n",
       "url                           https://lendingclub.com/browse/loanDetail.acti...\n",
       "purpose                                                             credit_card\n",
       "title                                                                  Computer\n",
       "zip_code                                                                  860xx\n",
       "addr_state                                                                   AZ\n",
       "dti                                                                       27.65\n",
       "delinq_2yrs                                                                   0\n",
       "earliest_cr_line                                                         Jan-85\n",
       "inq_last_6mths                                                                1\n",
       "open_acc                                                                      3\n",
       "pub_rec                                                                       0\n",
       "revol_bal                                                                 13648\n",
       "revol_util                                                               83.70%\n",
       "total_acc                                                                     9\n",
       "initial_list_status                                                           f\n",
       "out_prncp                                                                   0.0\n",
       "out_prncp_inv                                                               0.0\n",
       "total_pymnt                                                         5863.155187\n",
       "total_pymnt_inv                                                         5833.84\n",
       "total_rec_prncp                                                          5000.0\n",
       "total_rec_int                                                            863.16\n",
       "total_rec_late_fee                                                          0.0\n",
       "recoveries                                                                  0.0\n",
       "collection_recovery_fee                                                     0.0\n",
       "last_pymnt_d                                                             Jan-15\n",
       "last_pymnt_amnt                                                          171.62\n",
       "last_credit_pull_d                                                       May-16\n",
       "collections_12_mths_ex_med                                                  0.0\n",
       "policy_code                                                                   1\n",
       "application_type                                                     INDIVIDUAL\n",
       "acc_now_delinq                                                                0\n",
       "chargeoff_within_12_mths                                                    0.0\n",
       "delinq_amnt                                                                   0\n",
       "pub_rec_bankruptcies                                                        0.0\n",
       "tax_liens                                                                   0.0\n",
       "Name: 0, dtype: object"
      ]
     },
     "execution_count": 12,
     "metadata": {},
     "output_type": "execute_result"
    }
   ],
   "source": [
    "x.iloc[0,:]"
   ]
  },
  {
   "cell_type": "code",
   "execution_count": 13,
   "id": "da107212",
   "metadata": {},
   "outputs": [],
   "source": [
    "x.fillna(method='ffill',inplace = True)"
   ]
  },
  {
   "cell_type": "code",
   "execution_count": 14,
   "id": "3e88267a",
   "metadata": {},
   "outputs": [
    {
     "data": {
      "text/plain": [
       "id                            0\n",
       "member_id                     0\n",
       "loan_amnt                     0\n",
       "funded_amnt                   0\n",
       "funded_amnt_inv               0\n",
       "term                          0\n",
       "int_rate                      0\n",
       "installment                   0\n",
       "grade                         0\n",
       "sub_grade                     0\n",
       "emp_title                     1\n",
       "emp_length                    0\n",
       "home_ownership                0\n",
       "annual_inc                    0\n",
       "verification_status           0\n",
       "issue_d                       0\n",
       "loan_status                   0\n",
       "pymnt_plan                    0\n",
       "url                           0\n",
       "purpose                       0\n",
       "title                         0\n",
       "zip_code                      0\n",
       "addr_state                    0\n",
       "dti                           0\n",
       "delinq_2yrs                   0\n",
       "earliest_cr_line              0\n",
       "inq_last_6mths                0\n",
       "open_acc                      0\n",
       "pub_rec                       0\n",
       "revol_bal                     0\n",
       "revol_util                    0\n",
       "total_acc                     0\n",
       "initial_list_status           0\n",
       "out_prncp                     0\n",
       "out_prncp_inv                 0\n",
       "total_pymnt                   0\n",
       "total_pymnt_inv               0\n",
       "total_rec_prncp               0\n",
       "total_rec_int                 0\n",
       "total_rec_late_fee            0\n",
       "recoveries                    0\n",
       "collection_recovery_fee       0\n",
       "last_pymnt_d                  0\n",
       "last_pymnt_amnt               0\n",
       "last_credit_pull_d            0\n",
       "collections_12_mths_ex_med    0\n",
       "policy_code                   0\n",
       "application_type              0\n",
       "acc_now_delinq                0\n",
       "chargeoff_within_12_mths      0\n",
       "delinq_amnt                   0\n",
       "pub_rec_bankruptcies          0\n",
       "tax_liens                     0\n",
       "dtype: int64"
      ]
     },
     "execution_count": 14,
     "metadata": {},
     "output_type": "execute_result"
    }
   ],
   "source": [
    "x.isna().sum()"
   ]
  },
  {
   "cell_type": "code",
   "execution_count": 15,
   "id": "58155764",
   "metadata": {},
   "outputs": [],
   "source": [
    "x.fillna(method='bfill',inplace=True)"
   ]
  },
  {
   "cell_type": "code",
   "execution_count": 16,
   "id": "fa5f2dcf",
   "metadata": {},
   "outputs": [
    {
     "data": {
      "text/plain": [
       "id                            0\n",
       "member_id                     0\n",
       "loan_amnt                     0\n",
       "funded_amnt                   0\n",
       "funded_amnt_inv               0\n",
       "term                          0\n",
       "int_rate                      0\n",
       "installment                   0\n",
       "grade                         0\n",
       "sub_grade                     0\n",
       "emp_title                     0\n",
       "emp_length                    0\n",
       "home_ownership                0\n",
       "annual_inc                    0\n",
       "verification_status           0\n",
       "issue_d                       0\n",
       "loan_status                   0\n",
       "pymnt_plan                    0\n",
       "url                           0\n",
       "purpose                       0\n",
       "title                         0\n",
       "zip_code                      0\n",
       "addr_state                    0\n",
       "dti                           0\n",
       "delinq_2yrs                   0\n",
       "earliest_cr_line              0\n",
       "inq_last_6mths                0\n",
       "open_acc                      0\n",
       "pub_rec                       0\n",
       "revol_bal                     0\n",
       "revol_util                    0\n",
       "total_acc                     0\n",
       "initial_list_status           0\n",
       "out_prncp                     0\n",
       "out_prncp_inv                 0\n",
       "total_pymnt                   0\n",
       "total_pymnt_inv               0\n",
       "total_rec_prncp               0\n",
       "total_rec_int                 0\n",
       "total_rec_late_fee            0\n",
       "recoveries                    0\n",
       "collection_recovery_fee       0\n",
       "last_pymnt_d                  0\n",
       "last_pymnt_amnt               0\n",
       "last_credit_pull_d            0\n",
       "collections_12_mths_ex_med    0\n",
       "policy_code                   0\n",
       "application_type              0\n",
       "acc_now_delinq                0\n",
       "chargeoff_within_12_mths      0\n",
       "delinq_amnt                   0\n",
       "pub_rec_bankruptcies          0\n",
       "tax_liens                     0\n",
       "dtype: int64"
      ]
     },
     "execution_count": 16,
     "metadata": {},
     "output_type": "execute_result"
    }
   ],
   "source": [
    "x.isna().sum()"
   ]
  },
  {
   "cell_type": "code",
   "execution_count": 40,
   "id": "4fefd827",
   "metadata": {},
   "outputs": [
    {
     "data": {
      "text/plain": [
       "Index(['id', 'member_id', 'loan_amnt', 'funded_amnt', 'funded_amnt_inv',\n",
       "       'term', 'int_rate', 'installment', 'grade', 'sub_grade', 'emp_title',\n",
       "       'emp_length', 'home_ownership', 'annual_inc', 'verification_status',\n",
       "       'issue_d', 'loan_status', 'pymnt_plan', 'url', 'purpose', 'title',\n",
       "       'zip_code', 'addr_state', 'dti', 'delinq_2yrs', 'earliest_cr_line',\n",
       "       'inq_last_6mths', 'open_acc', 'pub_rec', 'revol_bal', 'revol_util',\n",
       "       'total_acc', 'initial_list_status', 'out_prncp', 'out_prncp_inv',\n",
       "       'total_pymnt', 'total_pymnt_inv', 'total_rec_prncp', 'total_rec_int',\n",
       "       'total_rec_late_fee', 'recoveries', 'collection_recovery_fee',\n",
       "       'last_pymnt_d', 'last_pymnt_amnt', 'last_credit_pull_d',\n",
       "       'collections_12_mths_ex_med', 'policy_code', 'application_type',\n",
       "       'acc_now_delinq', 'chargeoff_within_12_mths', 'delinq_amnt',\n",
       "       'pub_rec_bankruptcies', 'tax_liens'],\n",
       "      dtype='object')"
      ]
     },
     "execution_count": 40,
     "metadata": {},
     "output_type": "execute_result"
    }
   ],
   "source": [
    "x.columns"
   ]
  },
  {
   "cell_type": "code",
   "execution_count": 41,
   "id": "5b6dedd9",
   "metadata": {},
   "outputs": [
    {
     "data": {
      "text/plain": [
       "0               credit_card\n",
       "1                       car\n",
       "2            small_business\n",
       "3                     other\n",
       "4                     other\n",
       "                ...        \n",
       "39712      home_improvement\n",
       "39713           credit_card\n",
       "39714    debt_consolidation\n",
       "39715                 other\n",
       "39716    debt_consolidation\n",
       "Name: purpose, Length: 39717, dtype: object"
      ]
     },
     "execution_count": 41,
     "metadata": {},
     "output_type": "execute_result"
    }
   ],
   "source": [
    "x.purpose"
   ]
  },
  {
   "cell_type": "code",
   "execution_count": 44,
   "id": "c2f42fce",
   "metadata": {},
   "outputs": [
    {
     "data": {
      "text/plain": [
       "10.99%    956\n",
       "13.49%    826\n",
       "11.49%    825\n",
       "7.51%     787\n",
       "7.88%     725\n",
       "         ... \n",
       "18.36%      1\n",
       "16.96%      1\n",
       "16.15%      1\n",
       "16.01%      1\n",
       "17.44%      1\n",
       "Name: int_rate, Length: 371, dtype: int64"
      ]
     },
     "execution_count": 44,
     "metadata": {},
     "output_type": "execute_result"
    }
   ],
   "source": [
    "x.int_rate.value_counts()"
   ]
  },
  {
   "cell_type": "code",
   "execution_count": 45,
   "id": "90fb3601",
   "metadata": {},
   "outputs": [
    {
     "data": {
      "text/plain": [
       "<BarContainer object of 371 artists>"
      ]
     },
     "execution_count": 45,
     "metadata": {},
     "output_type": "execute_result"
    },
    {
     "data": {
      "image/png": "[encoded data removed]",
      "text/plain": [
       "<Figure size 432x288 with 1 Axes>"
      ]
     },
     "metadata": {
      "needs_background": "light"
     },
     "output_type": "display_data"
    }
   ],
   "source": [
    "plt.bar(x.int_rate.unique(),x.int_rate.value_counts())"
   ]
  },
  {
   "cell_type": "code",
   "execution_count": 47,
   "id": "84ba77db",
   "metadata": {},
   "outputs": [
    {
     "data": {
      "text/plain": [
       "<AxesSubplot:>"
      ]
     },
     "execution_count": 47,
     "metadata": {},
     "output_type": "execute_result"
    },
    {
     "data": {
      "image/png": "[encoded data removed]",
      "text/plain": [
       "<Figure size 432x288 with 1 Axes>"
      ]
     },
     "metadata": {
      "needs_background": "light"
     },
     "output_type": "display_data"
    }
   ],
   "source": [
    "x.int_rate.hist(bins=15)"
   ]
  },
  {
   "cell_type": "code",
   "execution_count": 52,
   "id": "401a49e3",
   "metadata": {},
   "outputs": [],
   "source": [
    "value_counts=dict(x.int_rate.value_counts())"
   ]
  },
  {
   "cell_type": "code",
   "execution_count": 53,
   "id": "481640c6",
   "metadata": {},
   "outputs": [
    {
     "data": {
      "text/plain": [
       "{'10.99%': 956,\n",
       " '13.49%': 826,\n",
       " '11.49%': 825,\n",
       " '7.51%': 787,\n",
       " '7.88%': 725,\n",
       " '7.49%': 656,\n",
       " '11.71%': 607,\n",
       " '9.99%': 603,\n",
       " '7.90%': 582,\n",
       " '5.42%': 573,\n",
       " '11.99%': 532,\n",
       " '12.69%': 491,\n",
       " '10.37%': 468,\n",
       " '6.03%': 447,\n",
       " '12.99%': 446,\n",
       " '8.49%': 445,\n",
       " '12.42%': 442,\n",
       " '10.65%': 435,\n",
       " '5.79%': 410,\n",
       " '8.90%': 402,\n",
       " '7.29%': 397,\n",
       " '6.62%': 396,\n",
       " '11.86%': 391,\n",
       " '14.27%': 390,\n",
       " '10.59%': 380,\n",
       " '9.63%': 378,\n",
       " '9.91%': 377,\n",
       " '5.99%': 347,\n",
       " '7.14%': 341,\n",
       " '6.99%': 336,\n",
       " '11.11%': 331,\n",
       " '12.53%': 327,\n",
       " '16.77%': 327,\n",
       " '10.74%': 312,\n",
       " '6.54%': 305,\n",
       " '6.91%': 303,\n",
       " '8.94%': 294,\n",
       " '7.66%': 292,\n",
       " '13.61%': 291,\n",
       " '15.99%': 286,\n",
       " '13.98%': 284,\n",
       " '13.23%': 263,\n",
       " '11.12%': 259,\n",
       " '13.99%': 257,\n",
       " '6.17%': 252,\n",
       " '10.00%': 251,\n",
       " '12.68%': 251,\n",
       " '10.75%': 250,\n",
       " '10.36%': 250,\n",
       " '11.36%': 247,\n",
       " '16.49%': 241,\n",
       " '11.83%': 233,\n",
       " '18.25%': 230,\n",
       " '10.62%': 228,\n",
       " '14.65%': 222,\n",
       " '13.06%': 220,\n",
       " '10.38%': 219,\n",
       " '10.25%': 218,\n",
       " '15.23%': 215,\n",
       " '14.96%': 214,\n",
       " '16.89%': 209,\n",
       " '15.65%': 208,\n",
       " '11.14%': 206,\n",
       " '6.92%': 204,\n",
       " '12.18%': 203,\n",
       " '17.27%': 203,\n",
       " '15.27%': 200,\n",
       " '15.95%': 199,\n",
       " '16.32%': 198,\n",
       " '14.79%': 192,\n",
       " '8.00%': 191,\n",
       " '17.49%': 190,\n",
       " '12.73%': 187,\n",
       " '15.21%': 187,\n",
       " '9.62%': 186,\n",
       " '15.58%': 185,\n",
       " '9.32%': 184,\n",
       " '17.58%': 183,\n",
       " '11.48%': 183,\n",
       " '15.96%': 183,\n",
       " '9.88%': 181,\n",
       " '8.59%': 181,\n",
       " '12.61%': 181,\n",
       " '13.11%': 177,\n",
       " '12.87%': 176,\n",
       " '14.91%': 172,\n",
       " '15.62%': 171,\n",
       " '12.21%': 169,\n",
       " '6.76%': 168,\n",
       " '16.45%': 162,\n",
       " '8.88%': 160,\n",
       " '11.89%': 154,\n",
       " '18.39%': 154,\n",
       " '7.74%': 153,\n",
       " '13.48%': 152,\n",
       " '16.02%': 149,\n",
       " '17.99%': 148,\n",
       " '15.28%': 147,\n",
       " '13.43%': 145,\n",
       " '18.64%': 142,\n",
       " '16.29%': 142,\n",
       " '13.22%': 142,\n",
       " '16.40%': 140,\n",
       " '9.25%': 139,\n",
       " '13.57%': 135,\n",
       " '12.23%': 134,\n",
       " '12.84%': 133,\n",
       " '16.82%': 132,\n",
       " '13.16%': 131,\n",
       " '13.80%': 131,\n",
       " '13.85%': 130,\n",
       " '13.35%': 127,\n",
       " '14.26%': 125,\n",
       " '19.03%': 124,\n",
       " '13.47%': 124,\n",
       " '14.17%': 122,\n",
       " '13.92%': 121,\n",
       " '14.84%': 120,\n",
       " '14.35%': 120,\n",
       " '19.29%': 119,\n",
       " '14.22%': 118,\n",
       " '19.42%': 116,\n",
       " '13.72%': 116,\n",
       " '12.98%': 116,\n",
       " '14.59%': 113,\n",
       " '14.72%': 112,\n",
       " '13.79%': 111,\n",
       " '17.19%': 110,\n",
       " '14.46%': 107,\n",
       " '17.14%': 107,\n",
       " '17.56%': 106,\n",
       " '18.79%': 106,\n",
       " '19.69%': 105,\n",
       " '15.33%': 102,\n",
       " '11.58%': 99,\n",
       " '16.00%': 95,\n",
       " '14.61%': 92,\n",
       " '11.26%': 91,\n",
       " '15.31%': 91,\n",
       " '14.11%': 91,\n",
       " '19.91%': 90,\n",
       " '20.30%': 89,\n",
       " '7.68%': 89,\n",
       " '14.83%': 89,\n",
       " '14.42%': 84,\n",
       " '15.70%': 80,\n",
       " '17.93%': 79,\n",
       " '15.57%': 79,\n",
       " '10.95%': 78,\n",
       " '20.25%': 77,\n",
       " '14.54%': 75,\n",
       " '7.40%': 72,\n",
       " '20.89%': 72,\n",
       " '14.09%': 68,\n",
       " '15.20%': 67,\n",
       " '17.88%': 66,\n",
       " '9.76%': 65,\n",
       " '14.74%': 65,\n",
       " '17.51%': 65,\n",
       " '15.05%': 59,\n",
       " '6.39%': 58,\n",
       " '18.30%': 58,\n",
       " '16.07%': 57,\n",
       " '20.62%': 57,\n",
       " '20.99%': 52,\n",
       " '11.03%': 50,\n",
       " '16.69%': 50,\n",
       " '10.39%': 49,\n",
       " '18.62%': 49,\n",
       " '10.08%': 48,\n",
       " '21.36%': 45,\n",
       " '8.32%': 44,\n",
       " '16.35%': 44,\n",
       " '15.37%': 43,\n",
       " '10.71%': 43,\n",
       " '21.28%': 43,\n",
       " '18.67%': 42,\n",
       " '21.67%': 42,\n",
       " '11.34%': 41,\n",
       " '8.63%': 38,\n",
       " '11.66%': 38,\n",
       " '15.68%': 38,\n",
       " '22.06%': 37,\n",
       " '9.45%': 37,\n",
       " '11.97%': 37,\n",
       " '12.29%': 36,\n",
       " '17.06%': 34,\n",
       " '16.70%': 34,\n",
       " '19.04%': 32,\n",
       " '19.36%': 31,\n",
       " '17.43%': 31,\n",
       " '21.74%': 31,\n",
       " '7.37%': 31,\n",
       " '22.11%': 31,\n",
       " '18.99%': 30,\n",
       " '19.74%': 30,\n",
       " '10.83%': 30,\n",
       " '13.24%': 29,\n",
       " '17.04%': 26,\n",
       " '11.78%': 26,\n",
       " '12.92%': 26,\n",
       " '7.43%': 26,\n",
       " '18.17%': 26,\n",
       " '22.35%': 25,\n",
       " '19.41%': 25,\n",
       " '11.46%': 25,\n",
       " '20.11%': 25,\n",
       " '7.75%': 23,\n",
       " '7.05%': 23,\n",
       " '8.07%': 23,\n",
       " '10.51%': 22,\n",
       " '20.48%': 22,\n",
       " '10.28%': 21,\n",
       " '9.38%': 21,\n",
       " '22.74%': 20,\n",
       " '12.41%': 20,\n",
       " '18.54%': 20,\n",
       " '17.80%': 19,\n",
       " '9.96%': 19,\n",
       " '12.09%': 18,\n",
       " '8.38%': 18,\n",
       " '6.00%': 18,\n",
       " '10.20%': 18,\n",
       " '17.74%': 18,\n",
       " '11.28%': 18,\n",
       " '9.64%': 18,\n",
       " '13.55%': 18,\n",
       " '13.04%': 17,\n",
       " '13.67%': 17,\n",
       " '10.91%': 17,\n",
       " '12.72%': 16,\n",
       " '16.95%': 16,\n",
       " '10.78%': 16,\n",
       " '22.48%': 16,\n",
       " '11.22%': 15,\n",
       " '20.85%': 15,\n",
       " '9.07%': 15,\n",
       " '17.39%': 15,\n",
       " '7.91%': 14,\n",
       " '10.96%': 14,\n",
       " '9.33%': 14,\n",
       " '13.87%': 14,\n",
       " '21.27%': 13,\n",
       " '12.22%': 13,\n",
       " '20.03%': 13,\n",
       " '18.43%': 13,\n",
       " '16.63%': 13,\n",
       " '19.79%': 12,\n",
       " '20.16%': 12,\n",
       " '20.53%': 12,\n",
       " '9.01%': 12,\n",
       " '11.54%': 12,\n",
       " '8.70%': 12,\n",
       " '17.26%': 11,\n",
       " '20.90%': 11,\n",
       " '19.13%': 11,\n",
       " '9.20%': 11,\n",
       " '11.91%': 11,\n",
       " '23.91%': 11,\n",
       " '10.14%': 10,\n",
       " '12.17%': 10,\n",
       " '20.77%': 10,\n",
       " '12.49%': 9,\n",
       " '10.33%': 9,\n",
       " '23.13%': 9,\n",
       " '23.52%': 9,\n",
       " '19.66%': 9,\n",
       " '23.22%': 9,\n",
       " '11.72%': 9,\n",
       " '11.59%': 9,\n",
       " '18.07%': 9,\n",
       " '14.18%': 9,\n",
       " '9.51%': 9,\n",
       " '18.09%': 9,\n",
       " '13.30%': 8,\n",
       " '18.91%': 8,\n",
       " '9.83%': 8,\n",
       " '22.85%': 8,\n",
       " '9.70%': 8,\n",
       " '21.59%': 8,\n",
       " '12.36%': 8,\n",
       " '13.36%': 8,\n",
       " '11.63%': 8,\n",
       " '14.50%': 8,\n",
       " '12.86%': 8,\n",
       " '12.80%': 8,\n",
       " '11.41%': 7,\n",
       " '7.12%': 7,\n",
       " '21.22%': 7,\n",
       " '10.01%': 7,\n",
       " '14.93%': 7,\n",
       " '7.42%': 7,\n",
       " '14.82%': 7,\n",
       " '16.11%': 7,\n",
       " '19.47%': 7,\n",
       " '9.67%': 7,\n",
       " '12.04%': 7,\n",
       " '10.46%': 7,\n",
       " '13.17%': 6,\n",
       " '12.67%': 5,\n",
       " '11.09%': 5,\n",
       " '14.38%': 5,\n",
       " '16.59%': 5,\n",
       " '12.54%': 5,\n",
       " '12.12%': 5,\n",
       " '14.30%': 5,\n",
       " '19.82%': 5,\n",
       " '18.21%': 5,\n",
       " '13.75%': 5,\n",
       " '15.13%': 4,\n",
       " '19.39%': 4,\n",
       " '23.59%': 4,\n",
       " '18.78%': 4,\n",
       " '21.21%': 4,\n",
       " '15.25%': 4,\n",
       " '15.88%': 4,\n",
       " '21.14%': 4,\n",
       " '18.53%': 4,\n",
       " '18.49%': 3,\n",
       " '13.12%': 3,\n",
       " '13.93%': 3,\n",
       " '14.12%': 3,\n",
       " '12.62%': 3,\n",
       " '21.64%': 3,\n",
       " '20.86%': 3,\n",
       " '19.16%': 3,\n",
       " '18.84%': 3,\n",
       " '20.17%': 3,\n",
       " '13.62%': 3,\n",
       " '20.40%': 3,\n",
       " '15.76%': 3,\n",
       " '16.08%': 3,\n",
       " '20.69%': 3,\n",
       " '15.45%': 3,\n",
       " '24.11%': 3,\n",
       " '14.75%': 3,\n",
       " '14.70%': 2,\n",
       " '14.25%': 2,\n",
       " '14.88%': 2,\n",
       " '15.83%': 2,\n",
       " '14.07%': 2,\n",
       " '15.01%': 2,\n",
       " '17.15%': 2,\n",
       " '21.82%': 2,\n",
       " '17.03%': 2,\n",
       " '10.64%': 2,\n",
       " '17.90%': 2,\n",
       " '15.07%': 2,\n",
       " '16.33%': 2,\n",
       " '13.84%': 2,\n",
       " '20.20%': 2,\n",
       " '15.38%': 2,\n",
       " '14.62%': 2,\n",
       " '22.94%': 2,\n",
       " '22.64%': 1,\n",
       " '24.59%': 1,\n",
       " '24.40%': 1,\n",
       " '21.48%': 1,\n",
       " '14.67%': 1,\n",
       " '17.54%': 1,\n",
       " '16.71%': 1,\n",
       " '20.52%': 1,\n",
       " '17.46%': 1,\n",
       " '17.34%': 1,\n",
       " '16.20%': 1,\n",
       " '18.72%': 1,\n",
       " '18.36%': 1,\n",
       " '16.96%': 1,\n",
       " '16.15%': 1,\n",
       " '16.01%': 1,\n",
       " '17.44%': 1}"
      ]
     },
     "execution_count": 53,
     "metadata": {},
     "output_type": "execute_result"
    }
   ],
   "source": [
    "value_counts"
   ]
  },
  {
   "cell_type": "code",
   "execution_count": null,
   "id": "124c2f61",
   "metadata": {},
   "outputs": [],
   "source": []
  },
  {
   "cell_type": "code",
   "execution_count": 59,
   "id": "5205519e",
   "metadata": {},
   "outputs": [],
   "source": [
    "d=pd.read_excel(\"Downloads\\\\Data_Dictionary.xlsx\")"
   ]
  },
  {
   "cell_type": "code",
   "execution_count": 60,
   "id": "20ba40d8",
   "metadata": {},
   "outputs": [
    {
     "data": {
      "text/html": [
       "<div>\n",
       "<style scoped>\n",
       "    .dataframe tbody tr th:only-of-type {\n",
       "        vertical-align: middle;\n",
       "    }\n",
       "\n",
       "    .dataframe tbody tr th {\n",
       "        vertical-align: top;\n",
       "    }\n",
       "\n",
       "    .dataframe thead th {\n",
       "        text-align: right;\n",
       "    }\n",
       "</style>\n",
       "<table border=\"1\" class=\"dataframe\">\n",
       "  <thead>\n",
       "    <tr style=\"text-align: right;\">\n",
       "      <th></th>\n",
       "      <th>LoanStatNew</th>\n",
       "      <th>Description</th>\n",
       "    </tr>\n",
       "  </thead>\n",
       "  <tbody>\n",
       "    <tr>\n",
       "      <th>0</th>\n",
       "      <td>acc_now_delinq</td>\n",
       "      <td>The number of accounts on which the borrower i...</td>\n",
       "    </tr>\n",
       "    <tr>\n",
       "      <th>1</th>\n",
       "      <td>acc_open_past_24mths</td>\n",
       "      <td>Number of trades opened in past 24 months.</td>\n",
       "    </tr>\n",
       "    <tr>\n",
       "      <th>2</th>\n",
       "      <td>addr_state</td>\n",
       "      <td>The state provided by the borrower in the loan...</td>\n",
       "    </tr>\n",
       "    <tr>\n",
       "      <th>3</th>\n",
       "      <td>all_util</td>\n",
       "      <td>Balance to credit limit on all trades</td>\n",
       "    </tr>\n",
       "    <tr>\n",
       "      <th>4</th>\n",
       "      <td>annual_inc</td>\n",
       "      <td>The self-reported annual income provided by th...</td>\n",
       "    </tr>\n",
       "    <tr>\n",
       "      <th>...</th>\n",
       "      <td>...</td>\n",
       "      <td>...</td>\n",
       "    </tr>\n",
       "    <tr>\n",
       "      <th>112</th>\n",
       "      <td>verification_status</td>\n",
       "      <td>Indicates if income was verified by LC, not ve...</td>\n",
       "    </tr>\n",
       "    <tr>\n",
       "      <th>113</th>\n",
       "      <td>verified_status_joint</td>\n",
       "      <td>Indicates if the co-borrowers' joint income wa...</td>\n",
       "    </tr>\n",
       "    <tr>\n",
       "      <th>114</th>\n",
       "      <td>zip_code</td>\n",
       "      <td>The first 3 numbers of the zip code provided b...</td>\n",
       "    </tr>\n",
       "    <tr>\n",
       "      <th>115</th>\n",
       "      <td>NaN</td>\n",
       "      <td>NaN</td>\n",
       "    </tr>\n",
       "    <tr>\n",
       "      <th>116</th>\n",
       "      <td>NaN</td>\n",
       "      <td>* Employer Title replaces Employer Name for al...</td>\n",
       "    </tr>\n",
       "  </tbody>\n",
       "</table>\n",
       "<p>117 rows × 2 columns</p>\n",
       "</div>"
      ],
      "text/plain": [
       "               LoanStatNew                                        Description\n",
       "0           acc_now_delinq  The number of accounts on which the borrower i...\n",
       "1     acc_open_past_24mths         Number of trades opened in past 24 months.\n",
       "2               addr_state  The state provided by the borrower in the loan...\n",
       "3                 all_util              Balance to credit limit on all trades\n",
       "4               annual_inc  The self-reported annual income provided by th...\n",
       "..                     ...                                                ...\n",
       "112    verification_status  Indicates if income was verified by LC, not ve...\n",
       "113  verified_status_joint  Indicates if the co-borrowers' joint income wa...\n",
       "114               zip_code  The first 3 numbers of the zip code provided b...\n",
       "115                    NaN                                                NaN\n",
       "116                    NaN  * Employer Title replaces Employer Name for al...\n",
       "\n",
       "[117 rows x 2 columns]"
      ]
     },
     "execution_count": 60,
     "metadata": {},
     "output_type": "execute_result"
    }
   ],
   "source": [
    "d"
   ]
  },
  {
   "cell_type": "code",
   "execution_count": 63,
   "id": "39b5eed3",
   "metadata": {},
   "outputs": [
    {
     "data": {
      "text/plain": [
       "<AxesSubplot:>"
      ]
     },
     "execution_count": 63,
     "metadata": {},
     "output_type": "execute_result"
    },
    {
     "data": {
      "image/png": "[encoded data removed]",
      "text/plain": [
       "<Figure size 432x288 with 1 Axes>"
      ]
     },
     "metadata": {
      "needs_background": "light"
     },
     "output_type": "display_data"
    }
   ],
   "source": [
    "x.home_ownership.hist(bins=15)"
   ]
  },
  {
   "cell_type": "code",
   "execution_count": 64,
   "id": "06a3cf59",
   "metadata": {},
   "outputs": [
    {
     "data": {
      "text/plain": [
       "RENT        18899\n",
       "MORTGAGE    17659\n",
       "OWN          3058\n",
       "OTHER          98\n",
       "NONE            3\n",
       "Name: home_ownership, dtype: int64"
      ]
     },
     "execution_count": 64,
     "metadata": {},
     "output_type": "execute_result"
    }
   ],
   "source": [
    "x.home_ownership.value_counts()"
   ]
  },
  {
   "cell_type": "code",
   "execution_count": 67,
   "id": "e39d1787",
   "metadata": {},
   "outputs": [
    {
     "ename": "AttributeError",
     "evalue": "module 'matplotlib.pyplot' has no attribute 'x'",
     "output_type": "error",
     "traceback": [
      "\u001b[1;31m---------------------------------------------------------------------------\u001b[0m",
      "\u001b[1;31mAttributeError\u001b[0m                            Traceback (most recent call last)",
      "Input \u001b[1;32mIn [67]\u001b[0m, in \u001b[0;36m<cell line: 1>\u001b[1;34m()\u001b[0m\n\u001b[1;32m----> 1\u001b[0m a\u001b[38;5;241m=\u001b[39m\u001b[43mplt\u001b[49m\u001b[38;5;241;43m.\u001b[39;49m\u001b[43mx\u001b[49m\u001b[38;5;241m.\u001b[39mhome_ownership\u001b[38;5;241m.\u001b[39mvalue_counts()(kind\u001b[38;5;241m=\u001b[39m\u001b[38;5;124m'\u001b[39m\u001b[38;5;124mbar\u001b[39m\u001b[38;5;124m'\u001b[39m)\n\u001b[0;32m      2\u001b[0m a\u001b[38;5;241m=\u001b[39mbar_container[\u001b[38;5;241m0\u001b[39m]\n\u001b[0;32m      3\u001b[0m plt\u001b[38;5;241m.\u001b[39mshow()\n",
      "\u001b[1;31mAttributeError\u001b[0m: module 'matplotlib.pyplot' has no attribute 'x'"
     ]
    }
   ],
   "source": [
    "a=plt.x.home_ownership.value_counts()(kind='bar')\n",
    "a=bar_container[0]\n",
    "plt.show()"
   ]
  },
  {
   "cell_type": "code",
   "execution_count": 68,
   "id": "14d4c13d",
   "metadata": {},
   "outputs": [],
   "source": [
    "a=dict(x.home_ownership.value_counts())"
   ]
  },
  {
   "cell_type": "code",
   "execution_count": 69,
   "id": "3382845b",
   "metadata": {},
   "outputs": [
    {
     "data": {
      "text/plain": [
       "{'RENT': 18899, 'MORTGAGE': 17659, 'OWN': 3058, 'OTHER': 98, 'NONE': 3}"
      ]
     },
     "execution_count": 69,
     "metadata": {},
     "output_type": "execute_result"
    }
   ],
   "source": [
    "a"
   ]
  },
  {
   "cell_type": "code",
   "execution_count": 73,
   "id": "29e3b2a8",
   "metadata": {},
   "outputs": [
    {
     "data": {
      "text/plain": [
       "<BarContainer object of 5 artists>"
      ]
     },
     "execution_count": 73,
     "metadata": {},
     "output_type": "execute_result"
    },
    {
     "data": {
      "image/png": "[encoded data removed]",
      "text/plain": [
       "<Figure size 432x288 with 1 Axes>"
      ]
     },
     "metadata": {
      "needs_background": "light"
     },
     "output_type": "display_data"
    }
   ],
   "source": [
    "plt.bar(a.keys(),a.values())"
   ]
  },
  {
   "cell_type": "code",
   "execution_count": 77,
   "id": "79e84f79",
   "metadata": {},
   "outputs": [],
   "source": [
    "d=dict(x.annual_inc.value_counts())"
   ]
  },
  {
   "cell_type": "code",
   "execution_count": 78,
   "id": "0f00c7b4",
   "metadata": {},
   "outputs": [
    {
     "data": {
      "text/plain": [
       "<BarContainer object of 5318 artists>"
      ]
     },
     "execution_count": 78,
     "metadata": {},
     "output_type": "execute_result"
    },
    {
     "data": {
      "image/png": "[encoded data removed]",
      "text/plain": [
       "<Figure size 432x288 with 1 Axes>"
      ]
     },
     "metadata": {
      "needs_background": "light"
     },
     "output_type": "display_data"
    }
   ],
   "source": [
    "plt.bar(d.keys(),d.values())"
   ]
  },
  {
   "cell_type": "code",
   "execution_count": 83,
   "id": "fceb0501",
   "metadata": {},
   "outputs": [
    {
     "data": {
      "text/plain": [
       "60000.0    1505\n",
       "50000.0    1057\n",
       "40000.0     876\n",
       "45000.0     830\n",
       "30000.0     825\n",
       "           ... \n",
       "56820.0       1\n",
       "45314.0       1\n",
       "53913.0       1\n",
       "62880.0       1\n",
       "27376.0       1\n",
       "Name: annual_inc, Length: 5318, dtype: int64"
      ]
     },
     "execution_count": 83,
     "metadata": {},
     "output_type": "execute_result"
    }
   ],
   "source": [
    "d=x.annual_inc.value_counts()"
   ]
  },
  {
   "cell_type": "code",
   "execution_count": 86,
   "id": "677459b4",
   "metadata": {},
   "outputs": [
    {
     "data": {
      "text/plain": [
       "<AxesSubplot:>"
      ]
     },
     "execution_count": 86,
     "metadata": {},
     "output_type": "execute_result"
    },
    {
     "data": {
      "image/png": "[encoded data removed]",
      "text/plain": [
       "<Figure size 432x288 with 1 Axes>"
      ]
     },
     "metadata": {
      "needs_background": "light"
     },
     "output_type": "display_data"
    }
   ],
   "source": [
    "x.annual_inc.hist(bins=500)"
   ]
  },
  {
   "cell_type": "code",
   "execution_count": 89,
   "id": "4515e7dc",
   "metadata": {},
   "outputs": [
    {
     "data": {
      "text/plain": [
       "Series([], Name: annual_inc, dtype: int64)"
      ]
     },
     "execution_count": 89,
     "metadata": {},
     "output_type": "execute_result"
    }
   ],
   "source": [
    "x.annual_inc.value_counts()[x.annual_inc.value_counts()>x.annual_inc.mean()]"
   ]
  },
  {
   "cell_type": "code",
   "execution_count": 91,
   "id": "3db71da5",
   "metadata": {},
   "outputs": [
    {
     "data": {
      "text/html": [
       "<div>\n",
       "<style scoped>\n",
       "    .dataframe tbody tr th:only-of-type {\n",
       "        vertical-align: middle;\n",
       "    }\n",
       "\n",
       "    .dataframe tbody tr th {\n",
       "        vertical-align: top;\n",
       "    }\n",
       "\n",
       "    .dataframe thead th {\n",
       "        text-align: right;\n",
       "    }\n",
       "</style>\n",
       "<table border=\"1\" class=\"dataframe\">\n",
       "  <thead>\n",
       "    <tr style=\"text-align: right;\">\n",
       "      <th></th>\n",
       "      <th>id</th>\n",
       "      <th>member_id</th>\n",
       "      <th>loan_amnt</th>\n",
       "      <th>funded_amnt</th>\n",
       "      <th>funded_amnt_inv</th>\n",
       "      <th>installment</th>\n",
       "      <th>annual_inc</th>\n",
       "      <th>dti</th>\n",
       "      <th>delinq_2yrs</th>\n",
       "      <th>inq_last_6mths</th>\n",
       "      <th>...</th>\n",
       "      <th>recoveries</th>\n",
       "      <th>collection_recovery_fee</th>\n",
       "      <th>last_pymnt_amnt</th>\n",
       "      <th>collections_12_mths_ex_med</th>\n",
       "      <th>policy_code</th>\n",
       "      <th>acc_now_delinq</th>\n",
       "      <th>chargeoff_within_12_mths</th>\n",
       "      <th>delinq_amnt</th>\n",
       "      <th>pub_rec_bankruptcies</th>\n",
       "      <th>tax_liens</th>\n",
       "    </tr>\n",
       "  </thead>\n",
       "  <tbody>\n",
       "    <tr>\n",
       "      <th>count</th>\n",
       "      <td>3.971700e+04</td>\n",
       "      <td>3.971700e+04</td>\n",
       "      <td>39717.000000</td>\n",
       "      <td>39717.000000</td>\n",
       "      <td>39717.000000</td>\n",
       "      <td>39717.000000</td>\n",
       "      <td>3.971700e+04</td>\n",
       "      <td>39717.000000</td>\n",
       "      <td>39717.000000</td>\n",
       "      <td>39717.000000</td>\n",
       "      <td>...</td>\n",
       "      <td>39717.000000</td>\n",
       "      <td>39717.000000</td>\n",
       "      <td>39717.000000</td>\n",
       "      <td>39717.0</td>\n",
       "      <td>39717.0</td>\n",
       "      <td>39717.0</td>\n",
       "      <td>39717.0</td>\n",
       "      <td>39717.0</td>\n",
       "      <td>39717.000000</td>\n",
       "      <td>39717.0</td>\n",
       "    </tr>\n",
       "    <tr>\n",
       "      <th>mean</th>\n",
       "      <td>6.831319e+05</td>\n",
       "      <td>8.504636e+05</td>\n",
       "      <td>11219.443815</td>\n",
       "      <td>10947.713196</td>\n",
       "      <td>10397.448868</td>\n",
       "      <td>324.561922</td>\n",
       "      <td>6.896893e+04</td>\n",
       "      <td>13.315130</td>\n",
       "      <td>0.146512</td>\n",
       "      <td>0.869200</td>\n",
       "      <td>...</td>\n",
       "      <td>95.221624</td>\n",
       "      <td>12.406112</td>\n",
       "      <td>2678.826162</td>\n",
       "      <td>0.0</td>\n",
       "      <td>1.0</td>\n",
       "      <td>0.0</td>\n",
       "      <td>0.0</td>\n",
       "      <td>0.0</td>\n",
       "      <td>0.059848</td>\n",
       "      <td>0.0</td>\n",
       "    </tr>\n",
       "    <tr>\n",
       "      <th>std</th>\n",
       "      <td>2.106941e+05</td>\n",
       "      <td>2.656783e+05</td>\n",
       "      <td>7456.670694</td>\n",
       "      <td>7187.238670</td>\n",
       "      <td>7128.450439</td>\n",
       "      <td>208.874874</td>\n",
       "      <td>6.379377e+04</td>\n",
       "      <td>6.678594</td>\n",
       "      <td>0.491812</td>\n",
       "      <td>1.070219</td>\n",
       "      <td>...</td>\n",
       "      <td>688.744771</td>\n",
       "      <td>148.671593</td>\n",
       "      <td>4447.136012</td>\n",
       "      <td>0.0</td>\n",
       "      <td>0.0</td>\n",
       "      <td>0.0</td>\n",
       "      <td>0.0</td>\n",
       "      <td>0.0</td>\n",
       "      <td>0.237951</td>\n",
       "      <td>0.0</td>\n",
       "    </tr>\n",
       "    <tr>\n",
       "      <th>min</th>\n",
       "      <td>5.473400e+04</td>\n",
       "      <td>7.069900e+04</td>\n",
       "      <td>500.000000</td>\n",
       "      <td>500.000000</td>\n",
       "      <td>0.000000</td>\n",
       "      <td>15.690000</td>\n",
       "      <td>4.000000e+03</td>\n",
       "      <td>0.000000</td>\n",
       "      <td>0.000000</td>\n",
       "      <td>0.000000</td>\n",
       "      <td>...</td>\n",
       "      <td>0.000000</td>\n",
       "      <td>0.000000</td>\n",
       "      <td>0.000000</td>\n",
       "      <td>0.0</td>\n",
       "      <td>1.0</td>\n",
       "      <td>0.0</td>\n",
       "      <td>0.0</td>\n",
       "      <td>0.0</td>\n",
       "      <td>0.000000</td>\n",
       "      <td>0.0</td>\n",
       "    </tr>\n",
       "    <tr>\n",
       "      <th>25%</th>\n",
       "      <td>5.162210e+05</td>\n",
       "      <td>6.667800e+05</td>\n",
       "      <td>5500.000000</td>\n",
       "      <td>5400.000000</td>\n",
       "      <td>5000.000000</td>\n",
       "      <td>167.020000</td>\n",
       "      <td>4.040400e+04</td>\n",
       "      <td>8.170000</td>\n",
       "      <td>0.000000</td>\n",
       "      <td>0.000000</td>\n",
       "      <td>...</td>\n",
       "      <td>0.000000</td>\n",
       "      <td>0.000000</td>\n",
       "      <td>218.680000</td>\n",
       "      <td>0.0</td>\n",
       "      <td>1.0</td>\n",
       "      <td>0.0</td>\n",
       "      <td>0.0</td>\n",
       "      <td>0.0</td>\n",
       "      <td>0.000000</td>\n",
       "      <td>0.0</td>\n",
       "    </tr>\n",
       "    <tr>\n",
       "      <th>50%</th>\n",
       "      <td>6.656650e+05</td>\n",
       "      <td>8.508120e+05</td>\n",
       "      <td>10000.000000</td>\n",
       "      <td>9600.000000</td>\n",
       "      <td>8975.000000</td>\n",
       "      <td>280.220000</td>\n",
       "      <td>5.900000e+04</td>\n",
       "      <td>13.400000</td>\n",
       "      <td>0.000000</td>\n",
       "      <td>1.000000</td>\n",
       "      <td>...</td>\n",
       "      <td>0.000000</td>\n",
       "      <td>0.000000</td>\n",
       "      <td>546.140000</td>\n",
       "      <td>0.0</td>\n",
       "      <td>1.0</td>\n",
       "      <td>0.0</td>\n",
       "      <td>0.0</td>\n",
       "      <td>0.0</td>\n",
       "      <td>0.000000</td>\n",
       "      <td>0.0</td>\n",
       "    </tr>\n",
       "    <tr>\n",
       "      <th>75%</th>\n",
       "      <td>8.377550e+05</td>\n",
       "      <td>1.047339e+06</td>\n",
       "      <td>15000.000000</td>\n",
       "      <td>15000.000000</td>\n",
       "      <td>14400.000000</td>\n",
       "      <td>430.780000</td>\n",
       "      <td>8.230000e+04</td>\n",
       "      <td>18.600000</td>\n",
       "      <td>0.000000</td>\n",
       "      <td>1.000000</td>\n",
       "      <td>...</td>\n",
       "      <td>0.000000</td>\n",
       "      <td>0.000000</td>\n",
       "      <td>3293.160000</td>\n",
       "      <td>0.0</td>\n",
       "      <td>1.0</td>\n",
       "      <td>0.0</td>\n",
       "      <td>0.0</td>\n",
       "      <td>0.0</td>\n",
       "      <td>0.000000</td>\n",
       "      <td>0.0</td>\n",
       "    </tr>\n",
       "    <tr>\n",
       "      <th>max</th>\n",
       "      <td>1.077501e+06</td>\n",
       "      <td>1.314167e+06</td>\n",
       "      <td>35000.000000</td>\n",
       "      <td>35000.000000</td>\n",
       "      <td>35000.000000</td>\n",
       "      <td>1305.190000</td>\n",
       "      <td>6.000000e+06</td>\n",
       "      <td>29.990000</td>\n",
       "      <td>11.000000</td>\n",
       "      <td>8.000000</td>\n",
       "      <td>...</td>\n",
       "      <td>29623.350000</td>\n",
       "      <td>7002.190000</td>\n",
       "      <td>36115.200000</td>\n",
       "      <td>0.0</td>\n",
       "      <td>1.0</td>\n",
       "      <td>0.0</td>\n",
       "      <td>0.0</td>\n",
       "      <td>0.0</td>\n",
       "      <td>2.000000</td>\n",
       "      <td>0.0</td>\n",
       "    </tr>\n",
       "  </tbody>\n",
       "</table>\n",
       "<p>8 rows × 31 columns</p>\n",
       "</div>"
      ],
      "text/plain": [
       "                 id     member_id     loan_amnt   funded_amnt  \\\n",
       "count  3.971700e+04  3.971700e+04  39717.000000  39717.000000   \n",
       "mean   6.831319e+05  8.504636e+05  11219.443815  10947.713196   \n",
       "std    2.106941e+05  2.656783e+05   7456.670694   7187.238670   \n",
       "min    5.473400e+04  7.069900e+04    500.000000    500.000000   \n",
       "25%    5.162210e+05  6.667800e+05   5500.000000   5400.000000   \n",
       "50%    6.656650e+05  8.508120e+05  10000.000000   9600.000000   \n",
       "75%    8.377550e+05  1.047339e+06  15000.000000  15000.000000   \n",
       "max    1.077501e+06  1.314167e+06  35000.000000  35000.000000   \n",
       "\n",
       "       funded_amnt_inv   installment    annual_inc           dti  \\\n",
       "count     39717.000000  39717.000000  3.971700e+04  39717.000000   \n",
       "mean      10397.448868    324.561922  6.896893e+04     13.315130   \n",
       "std        7128.450439    208.874874  6.379377e+04      6.678594   \n",
       "min           0.000000     15.690000  4.000000e+03      0.000000   \n",
       "25%        5000.000000    167.020000  4.040400e+04      8.170000   \n",
       "50%        8975.000000    280.220000  5.900000e+04     13.400000   \n",
       "75%       14400.000000    430.780000  8.230000e+04     18.600000   \n",
       "max       35000.000000   1305.190000  6.000000e+06     29.990000   \n",
       "\n",
       "        delinq_2yrs  inq_last_6mths  ...    recoveries  \\\n",
       "count  39717.000000    39717.000000  ...  39717.000000   \n",
       "mean       0.146512        0.869200  ...     95.221624   \n",
       "std        0.491812        1.070219  ...    688.744771   \n",
       "min        0.000000        0.000000  ...      0.000000   \n",
       "25%        0.000000        0.000000  ...      0.000000   \n",
       "50%        0.000000        1.000000  ...      0.000000   \n",
       "75%        0.000000        1.000000  ...      0.000000   \n",
       "max       11.000000        8.000000  ...  29623.350000   \n",
       "\n",
       "       collection_recovery_fee  last_pymnt_amnt  collections_12_mths_ex_med  \\\n",
       "count             39717.000000     39717.000000                     39717.0   \n",
       "mean                 12.406112      2678.826162                         0.0   \n",
       "std                 148.671593      4447.136012                         0.0   \n",
       "min                   0.000000         0.000000                         0.0   \n",
       "25%                   0.000000       218.680000                         0.0   \n",
       "50%                   0.000000       546.140000                         0.0   \n",
       "75%                   0.000000      3293.160000                         0.0   \n",
       "max                7002.190000     36115.200000                         0.0   \n",
       "\n",
       "       policy_code  acc_now_delinq  chargeoff_within_12_mths  delinq_amnt  \\\n",
       "count      39717.0         39717.0                   39717.0      39717.0   \n",
       "mean           1.0             0.0                       0.0          0.0   \n",
       "std            0.0             0.0                       0.0          0.0   \n",
       "min            1.0             0.0                       0.0          0.0   \n",
       "25%            1.0             0.0                       0.0          0.0   \n",
       "50%            1.0             0.0                       0.0          0.0   \n",
       "75%            1.0             0.0                       0.0          0.0   \n",
       "max            1.0             0.0                       0.0          0.0   \n",
       "\n",
       "       pub_rec_bankruptcies  tax_liens  \n",
       "count          39717.000000    39717.0  \n",
       "mean               0.059848        0.0  \n",
       "std                0.237951        0.0  \n",
       "min                0.000000        0.0  \n",
       "25%                0.000000        0.0  \n",
       "50%                0.000000        0.0  \n",
       "75%                0.000000        0.0  \n",
       "max                2.000000        0.0  \n",
       "\n",
       "[8 rows x 31 columns]"
      ]
     },
     "execution_count": 91,
     "metadata": {},
     "output_type": "execute_result"
    }
   ],
   "source": [
    "x.describe()"
   ]
  },
  {
   "cell_type": "code",
   "execution_count": null,
   "id": "8a170742",
   "metadata": {},
   "outputs": [],
   "source": []
  }
 ],
 "metadata": {
  "kernelspec": {
   "display_name": "Python 3 (ipykernel)",
   "language": "python",
   "name": "python3"
  },
  "language_info": {
   "codemirror_mode": {
    "name": "ipython",
    "version": 3
   },
   "file_extension": ".py",
   "mimetype": "text/x-python",
   "name": "python",
   "nbconvert_exporter": "python",
   "pygments_lexer": "ipython3",
   "version": "3.9.12"
  }
 },
 "nbformat": 4,
 "nbformat_minor": 5
}
