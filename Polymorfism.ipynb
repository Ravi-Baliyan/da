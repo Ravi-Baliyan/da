{
 "cells": [
  {
   "cell_type": "code",
   "execution_count": 6,
   "id": "0e0245f4",
   "metadata": {},
   "outputs": [
    {
     "name": "stdout",
     "output_type": "stream",
     "text": [
      "Meow\n",
      "I am a cat. My name is kitty.I am 2.8 years old.\n",
      "Bark\n",
      "I am a dog.My name is Fluffy. I am 4 years old\n"
     ]
    }
   ],
   "source": [
    "class cat:\n",
    "    def __init__(self,name,age):\n",
    "        self.name=name\n",
    "        self.age=age\n",
    "    def info(self):\n",
    "        print(f\"I am a cat. My name is {self.name}.I am {self.age} years old.\")\n",
    "    def make_sound(self):\n",
    "        print(\"Meow\")\n",
    "class Dog:\n",
    "    def __init__(self,name,age):\n",
    "        self.name=name\n",
    "        self.age=age\n",
    "        \n",
    "    def info(self):\n",
    "        print(f\"I am a dog.My name is {self.name}. I am {self.age} years old\")\n",
    "    def make_sound(slef):\n",
    "        print(\"Bark\")\n",
    "cat1=cat(\"kitty\",2.8)\n",
    "dog1=Dog(\"Fluffy\",4)\n",
    "\n",
    "for animal in (cat1,dog1):\n",
    "    animal.make_sound()\n",
    "    animal.info()\n",
    " #   animal.make_sound()"
   ]
  },
  {
   "cell_type": "markdown",
   "id": "03b713c6",
   "metadata": {},
   "source": [
    "# Encapsulation"
   ]
  },
  {
   "cell_type": "code",
   "execution_count": 9,
   "id": "c936e3c8",
   "metadata": {},
   "outputs": [
    {
     "name": "stdout",
     "output_type": "stream",
     "text": [
      "we will call the protected member outside the class 78\n",
      "WE will call the protected member outside the class 433\n",
      "Acess the protected member of obj_1: 433\n",
      "Access the protected member of obj_2: 78\n"
     ]
    }
   ],
   "source": [
    "class Base1:\n",
    "    def __init__(self):\n",
    "        self._p=78\n",
    "class derived1(Base1):\n",
    "    def __init__(self):\n",
    "        Base1.__init__(self)\n",
    "        print(\"we will call the protected member outside the class\",self._p)\n",
    "        \n",
    "        self._p=433\n",
    "        print(\"WE will call the protected member outside the class\",self._p)\n",
    "obj_1=derived1()\n",
    "obj_2=Base1()\n",
    "\n",
    "print(\"Acess the protected member of obj_1:\",obj_1._p)\n",
    "\n",
    "print(\"Access the protected member of obj_2:\",obj_2._p)"
   ]
  },
  {
   "cell_type": "code",
   "execution_count": 3,
   "id": "16308ed0",
   "metadata": {},
   "outputs": [
    {
     "ename": "NameError",
     "evalue": "name 'x' is not defined",
     "output_type": "error",
     "traceback": [
      "\u001b[1;31m---------------------------------------------------------------------------\u001b[0m",
      "\u001b[1;31mNameError\u001b[0m                                 Traceback (most recent call last)",
      "Input \u001b[1;32mIn [3]\u001b[0m, in \u001b[0;36m<cell line: 25>\u001b[1;34m()\u001b[0m\n\u001b[0;32m     20\u001b[0m         \u001b[38;5;28mprint\u001b[39m(\u001b[38;5;124m\"\u001b[39m\u001b[38;5;124mName:\u001b[39m\u001b[38;5;124m\"\u001b[39m\u001b[38;5;241m+\u001b[39m\u001b[38;5;28mstr\u001b[39m(\u001b[38;5;28mself\u001b[39m\u001b[38;5;241m.\u001b[39mname)\u001b[38;5;241m+\u001b[39m\u001b[38;5;124m\"\u001b[39m\u001b[38;5;130;01m\\n\u001b[39;00m\u001b[38;5;124m\"\u001b[39m)\n\u001b[0;32m     21\u001b[0m         \u001b[38;5;28mprint\u001b[39m(\u001b[38;5;124m\"\u001b[39m\u001b[38;5;124mBalance: \u001b[39m\u001b[38;5;124m\"\u001b[39m\u001b[38;5;241m+\u001b[39m\u001b[38;5;28mstr\u001b[39m(\u001b[38;5;28mself\u001b[39m\u001b[38;5;241m.\u001b[39mbalance)\u001b[38;5;241m+\u001b[39m\u001b[38;5;124m\"\u001b[39m\u001b[38;5;130;01m\\n\u001b[39;00m\u001b[38;5;124m\"\u001b[39m)\n\u001b[1;32m---> 25\u001b[0m \u001b[43mx\u001b[49m\u001b[38;5;241m.\u001b[39mdeposite(\u001b[38;5;241m10000\u001b[39m)\n\u001b[0;32m     26\u001b[0m \u001b[38;5;28mprint\u001b[39m(x)\n\u001b[0;32m     27\u001b[0m x\u001b[38;5;241m.\u001b[39mwithdraw(\u001b[38;5;241m16100.25\u001b[39m)\n",
      "\u001b[1;31mNameError\u001b[0m: name 'x' is not defined"
     ]
    }
   ],
   "source": [
    "class bank_account():\n",
    "    def __init__(self,name,acc_no,balance,Type):\n",
    "        self.name=name\n",
    "        self.balance=balance\n",
    "        self.Type=Type\n",
    "        self.acc_no=acc_no\n",
    "    def __str__(self):\n",
    "            a=(\"Name:\"+(self.name)+\"\\n\")\n",
    "            a+=(\"Type:\"+(self.Type)+\"\\n\")\n",
    "            a+= (\"Account_number:\"+str(self.acc_no)+\"\\n\")\n",
    "            a+=(\"Balance:\"+str(self.balance)+\"\\n\")\n",
    "    def deposite(self,amount):\n",
    "        self.balance+=amount\n",
    "    def withdraw(self,amount):\n",
    "        if self.balance >= amount:\n",
    "            self.balance -= amount\n",
    "        else:\n",
    "            print(\"Account\",self.acc_no,\"contains\",self.balance,\"which is insufficient balance to withdraw\")\n",
    "    def display(self):\n",
    "        print(\"Name:\"+str(self.name)+\"\\n\")\n",
    "        print(\"Balance: \"+str(self.balance)+\"\\n\")\n",
    "        \n",
    "\n",
    "\n",
    "x.deposite(10000)\n",
    "print(x)\n",
    "x.withdraw(16100.25)\n",
    "print(x)\n",
    "x.display()\n",
    "print(x)\n",
    "    "
   ]
  },
  {
   "cell_type": "code",
   "execution_count": null,
   "id": "754a9542",
   "metadata": {},
   "outputs": [],
   "source": []
  }
 ],
 "metadata": {
  "kernelspec": {
   "display_name": "Python 3 (ipykernel)",
   "language": "python",
   "name": "python3"
  },
  "language_info": {
   "codemirror_mode": {
    "name": "ipython",
    "version": 3
   },
   "file_extension": ".py",
   "mimetype": "text/x-python",
   "name": "python",
   "nbconvert_exporter": "python",
   "pygments_lexer": "ipython3",
   "version": "3.9.12"
  }
 },
 "nbformat": 4,
 "nbformat_minor": 5
}
