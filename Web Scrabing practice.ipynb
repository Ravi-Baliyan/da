{
 "cells": [
  {
   "cell_type": "code",
   "execution_count": 23,
   "id": "90071544",
   "metadata": {},
   "outputs": [
    {
     "data": {
      "text/plain": [
       "'4 achievers'"
      ]
     },
     "execution_count": 23,
     "metadata": {},
     "output_type": "execute_result"
    }
   ],
   "source": [
    "a=['4','a','c','h','i','e','v','e','r','s']\n",
    "z=''.join(a)\n",
    "z[0:1]+' '+z[1:]"
   ]
  },
  {
   "cell_type": "code",
   "execution_count": null,
   "id": "6585e931",
   "metadata": {},
   "outputs": [],
   "source": []
  },
  {
   "cell_type": "code",
   "execution_count": 21,
   "id": "2d834d69",
   "metadata": {},
   "outputs": [
    {
     "name": "stdout",
     "output_type": "stream",
     "text": [
      "Enter the stringshadab\n",
      "badahs"
     ]
    }
   ],
   "source": [
    "x=input(\"Enter the string\")\n",
    "a=0\n",
    "for i in x:\n",
    "    print(x[a-1],end=\"\")\n",
    "    a=a-1"
   ]
  },
  {
   "cell_type": "code",
   "execution_count": 26,
   "id": "2a302d3e",
   "metadata": {},
   "outputs": [
    {
     "name": "stdout",
     "output_type": "stream",
     "text": [
      "Int-rview\n"
     ]
    }
   ],
   "source": [
    "x='Interview'\n",
    "print(x.replace('e','-',1))\n"
   ]
  },
  {
   "cell_type": "code",
   "execution_count": 35,
   "id": "bcd64c40",
   "metadata": {},
   "outputs": [
    {
     "name": "stdout",
     "output_type": "stream",
     "text": [
      "enter the number: ghc/htc*hhgv\n",
      "chg/cth*vghh\n"
     ]
    }
   ],
   "source": [
    "x=input(\"enter the number: \")\n",
    "a=''\n",
    "b=''\n",
    "for i in x:\n",
    "    if i.isalnum():\n",
    "        a=a+i\n",
    "    else:\n",
    "        b=b+a[::-1]+i\n",
    "        a=''\n",
    "print(b+a[::-1])"
   ]
  },
  {
   "cell_type": "code",
   "execution_count": 34,
   "id": "c56cf927",
   "metadata": {},
   "outputs": [
    {
     "name": "stdout",
     "output_type": "stream",
     "text": [
      "Enter the string: hejf/ej*hef\n",
      "fjeh/je*feh\n"
     ]
    }
   ],
   "source": [
    "x=input(\"Enter the string: \")\n",
    "a=''\n",
    "b=''\n",
    "for i in x:\n",
    "    if i.isalnum():\n",
    "        a=a+i\n",
    "    else:\n",
    "        b=b+a[::-1]+i\n",
    "        a=''\n",
    "print(b+a[::-1])"
   ]
  },
  {
   "cell_type": "code",
   "execution_count": 41,
   "id": "d78e3660",
   "metadata": {},
   "outputs": [
    {
     "name": "stdout",
     "output_type": "stream",
     "text": [
      "['s', 'd', 50, 'h', 50, 'h', 'j', 'u', 'o', 'p', 50, 'h']\n"
     ]
    }
   ],
   "source": [
    "a=['s','d','h','h','j','u','o','p','h']\n",
    "i=0\n",
    "while i<len(a):\n",
    "    if a[i]=='h':\n",
    "        a.insert(i,50)\n",
    "        i=i+2\n",
    "    else:\n",
    "        i=i+1\n",
    "print(a)"
   ]
  },
  {
   "cell_type": "code",
   "execution_count": 47,
   "id": "52855375",
   "metadata": {},
   "outputs": [
    {
     "name": "stdout",
     "output_type": "stream",
     "text": [
      "Enter the price: 45000\n",
      "Enter the price: 50000\n",
      "-5000\n",
      "{}\n"
     ]
    }
   ],
   "source": [
    "x=int(input(\"Enter the price: \"))\n",
    "y=int(input(\"Enter the price: \"))\n",
    "\n",
    "print(b)\n",
    "l=[2000,500,200,100,50,10,1]\n",
    "a={}\n",
    "for i in l:\n",
    "    if b>=i:\n",
    "        a[i]=b//i\n",
    "        b=b%i\n",
    "print(a)"
   ]
  },
  {
   "cell_type": "code",
   "execution_count": null,
   "id": "b616129c",
   "metadata": {},
   "outputs": [],
   "source": []
  }
 ],
 "metadata": {
  "kernelspec": {
   "display_name": "Python 3 (ipykernel)",
   "language": "python",
   "name": "python3"
  },
  "language_info": {
   "codemirror_mode": {
    "name": "ipython",
    "version": 3
   },
   "file_extension": ".py",
   "mimetype": "text/x-python",
   "name": "python",
   "nbconvert_exporter": "python",
   "pygments_lexer": "ipython3",
   "version": "3.9.12"
  }
 },
 "nbformat": 4,
 "nbformat_minor": 5
}
