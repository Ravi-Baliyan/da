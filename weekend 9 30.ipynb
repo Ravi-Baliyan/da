{
 "cells": [
  {
   "cell_type": "code",
   "execution_count": 1,
   "id": "d3c967bc",
   "metadata": {},
   "outputs": [],
   "source": [
    "# conditional statements:\n",
    "#     if\n",
    "#     else\n",
    "#     elif\n",
    "#     nested if else"
   ]
  },
  {
   "cell_type": "code",
   "execution_count": 2,
   "id": "573b2c11",
   "metadata": {},
   "outputs": [
    {
     "name": "stdout",
     "output_type": "stream",
     "text": [
      "4\n"
     ]
    }
   ],
   "source": [
    "if 3>4:\n",
    "    print(3)\n",
    "else:\n",
    "    print(4)"
   ]
  },
  {
   "cell_type": "code",
   "execution_count": 3,
   "id": "de8c7304",
   "metadata": {},
   "outputs": [],
   "source": [
    "# 1-12 -> child\n",
    "# 12-24 -> adult\n",
    "# 24+ -> mature"
   ]
  },
  {
   "cell_type": "code",
   "execution_count": 4,
   "id": "49a0d0cf",
   "metadata": {},
   "outputs": [
    {
     "name": "stdout",
     "output_type": "stream",
     "text": [
      "age: 45\n",
      "mature\n"
     ]
    }
   ],
   "source": [
    "age = int(input('age: '))\n",
    "if age >=1 and age<=12:\n",
    "    print('child')\n",
    "elif age >12 and age <=24:\n",
    "    print('adult')\n",
    "elif age > 24:\n",
    "    print('mature')\n",
    "else:\n",
    "    print('age not valid')"
   ]
  },
  {
   "cell_type": "code",
   "execution_count": 11,
   "id": "706f59d2",
   "metadata": {},
   "outputs": [
    {
     "name": "stdout",
     "output_type": "stream",
     "text": [
      "Total marks: 101\n",
      "Invalid marks\n"
     ]
    }
   ],
   "source": [
    "marks = int(input('Total marks: '))\n",
    "# 0-30 -> D\n",
    "# 31-45 -C\n",
    "# 45-65 - B\n",
    "# 65-100 - A\n",
    "\n",
    "if marks>=0 and marks <= 30:\n",
    "    print('Grade D')\n",
    "elif marks >= 31 and marks<=45:\n",
    "    print('Grade c')\n",
    "elif marks > 45 and marks <= 65:\n",
    "        print('Grade B')\n",
    "elif marks>65 and marks <=100:\n",
    "    print('Grade A')\n",
    "else:\n",
    "    print('Invalid marks')"
   ]
  },
  {
   "cell_type": "code",
   "execution_count": 12,
   "id": "fc487ee3",
   "metadata": {},
   "outputs": [],
   "source": [
    "# nested if else\n",
    "# check for a number is positive even , positive odd,negative even,negative odd"
   ]
  },
  {
   "cell_type": "code",
   "execution_count": 16,
   "id": "5a6d0a7b",
   "metadata": {},
   "outputs": [
    {
     "name": "stdout",
     "output_type": "stream",
     "text": [
      "4\n",
      "Positive even number\n"
     ]
    }
   ],
   "source": [
    "n = int(input())\n",
    "if n>=0:\n",
    "    if n%2==0:\n",
    "        print('Positive even number')\n",
    "    else:\n",
    "        print('positive odd number')\n",
    "else:\n",
    "    if n%2==0:\n",
    "        print('negative even number')\n",
    "    else:\n",
    "        print('negative odd number')"
   ]
  },
  {
   "cell_type": "code",
   "execution_count": 17,
   "id": "46a48eb8",
   "metadata": {},
   "outputs": [],
   "source": [
    "s = 'Hello class'"
   ]
  },
  {
   "cell_type": "code",
   "execution_count": 18,
   "id": "ad709c4c",
   "metadata": {},
   "outputs": [],
   "source": [
    "# Index number\n",
    "# start from 0 -> "
   ]
  },
  {
   "cell_type": "code",
   "execution_count": 19,
   "id": "6aa72844",
   "metadata": {},
   "outputs": [
    {
     "data": {
      "text/plain": [
       "'e'"
      ]
     },
     "execution_count": 19,
     "metadata": {},
     "output_type": "execute_result"
    }
   ],
   "source": [
    "s[1]"
   ]
  },
  {
   "cell_type": "code",
   "execution_count": 20,
   "id": "7855a01a",
   "metadata": {},
   "outputs": [
    {
     "data": {
      "text/plain": [
       "'s'"
      ]
     },
     "execution_count": 20,
     "metadata": {},
     "output_type": "execute_result"
    }
   ],
   "source": [
    "# a\n",
    "s[9]"
   ]
  },
  {
   "cell_type": "code",
   "execution_count": 21,
   "id": "02a7c2d9",
   "metadata": {},
   "outputs": [
    {
     "data": {
      "text/plain": [
       "8"
      ]
     },
     "execution_count": 21,
     "metadata": {},
     "output_type": "execute_result"
    }
   ],
   "source": [
    "s.find('a')"
   ]
  },
  {
   "cell_type": "code",
   "execution_count": 22,
   "id": "da71bd45",
   "metadata": {},
   "outputs": [
    {
     "data": {
      "text/plain": [
       "'a'"
      ]
     },
     "execution_count": 22,
     "metadata": {},
     "output_type": "execute_result"
    }
   ],
   "source": [
    "s[8]"
   ]
  },
  {
   "cell_type": "code",
   "execution_count": 23,
   "id": "898c0245",
   "metadata": {},
   "outputs": [
    {
     "data": {
      "text/plain": [
       "2"
      ]
     },
     "execution_count": 23,
     "metadata": {},
     "output_type": "execute_result"
    }
   ],
   "source": [
    "s.find('l')"
   ]
  },
  {
   "cell_type": "code",
   "execution_count": 24,
   "id": "603391f9",
   "metadata": {},
   "outputs": [
    {
     "data": {
      "text/plain": [
       "'Hello class'"
      ]
     },
     "execution_count": 24,
     "metadata": {},
     "output_type": "execute_result"
    }
   ],
   "source": [
    "s"
   ]
  },
  {
   "cell_type": "code",
   "execution_count": 25,
   "id": "1d90b647",
   "metadata": {},
   "outputs": [],
   "source": [
    "# Slicing\n",
    "# Syntax: \n",
    "#     variable_name[start_index:end_index+1:steps]"
   ]
  },
  {
   "cell_type": "code",
   "execution_count": 26,
   "id": "adee7020",
   "metadata": {},
   "outputs": [
    {
     "data": {
      "text/plain": [
       "'class'"
      ]
     },
     "execution_count": 26,
     "metadata": {},
     "output_type": "execute_result"
    }
   ],
   "source": [
    "# class\n",
    "s[6:11:1]"
   ]
  },
  {
   "cell_type": "code",
   "execution_count": 27,
   "id": "9aa8da56",
   "metadata": {},
   "outputs": [],
   "source": [
    "# 6,7,8,9,10"
   ]
  },
  {
   "cell_type": "code",
   "execution_count": 28,
   "id": "676902bd",
   "metadata": {},
   "outputs": [
    {
     "data": {
      "text/plain": [
       "'Hloc'"
      ]
     },
     "execution_count": 28,
     "metadata": {},
     "output_type": "execute_result"
    }
   ],
   "source": [
    "s[0:7:2]"
   ]
  },
  {
   "cell_type": "code",
   "execution_count": 29,
   "id": "d0057a9d",
   "metadata": {},
   "outputs": [
    {
     "data": {
      "text/plain": [
       "'Hello class'"
      ]
     },
     "execution_count": 29,
     "metadata": {},
     "output_type": "execute_result"
    }
   ],
   "source": [
    "s"
   ]
  },
  {
   "cell_type": "code",
   "execution_count": 30,
   "id": "994eb28b",
   "metadata": {},
   "outputs": [],
   "source": [
    "# 0,2,4,6"
   ]
  },
  {
   "cell_type": "code",
   "execution_count": 31,
   "id": "19c3da41",
   "metadata": {},
   "outputs": [],
   "source": [
    "r = 'elephant'"
   ]
  },
  {
   "cell_type": "code",
   "execution_count": null,
   "id": "87efaaed",
   "metadata": {},
   "outputs": [],
   "source": [
    "# lep"
   ]
  },
  {
   "cell_type": "code",
   "execution_count": 32,
   "id": "47006c0b",
   "metadata": {},
   "outputs": [
    {
     "data": {
      "text/plain": [
       "'lep'"
      ]
     },
     "execution_count": 32,
     "metadata": {},
     "output_type": "execute_result"
    }
   ],
   "source": [
    "r[1:4:1]"
   ]
  },
  {
   "cell_type": "code",
   "execution_count": 33,
   "id": "4bf7b571",
   "metadata": {},
   "outputs": [
    {
     "data": {
      "text/plain": [
       "'l'"
      ]
     },
     "execution_count": 33,
     "metadata": {},
     "output_type": "execute_result"
    }
   ],
   "source": [
    "# index: 1,2,3\n",
    "r[1]"
   ]
  },
  {
   "cell_type": "code",
   "execution_count": 34,
   "id": "0e61ff02",
   "metadata": {},
   "outputs": [
    {
     "data": {
      "text/plain": [
       "'e'"
      ]
     },
     "execution_count": 34,
     "metadata": {},
     "output_type": "execute_result"
    }
   ],
   "source": [
    "r[2]"
   ]
  },
  {
   "cell_type": "code",
   "execution_count": 35,
   "id": "beebf847",
   "metadata": {},
   "outputs": [
    {
     "data": {
      "text/plain": [
       "'p'"
      ]
     },
     "execution_count": 35,
     "metadata": {},
     "output_type": "execute_result"
    }
   ],
   "source": [
    "r[3]"
   ]
  },
  {
   "cell_type": "code",
   "execution_count": 36,
   "id": "1d8059c1",
   "metadata": {},
   "outputs": [],
   "source": [
    "# get password from user, ask to re enter the same password \n",
    "# if both password match..then wellcome user"
   ]
  },
  {
   "cell_type": "code",
   "execution_count": 38,
   "id": "d93f097b",
   "metadata": {},
   "outputs": [
    {
     "name": "stdout",
     "output_type": "stream",
     "text": [
      "Please enter your password: admin\n",
      "re-enter your password: admin\n",
      "welcome\n"
     ]
    }
   ],
   "source": [
    "p1 = input('Please enter your password: ')\n",
    "p2 = input('re-enter your password: ')\n",
    "if p1==p2:\n",
    "    print('welcome')\n",
    "else:\n",
    "    print('Incorrect password')"
   ]
  },
  {
   "cell_type": "code",
   "execution_count": 39,
   "id": "ec07ff8d",
   "metadata": {},
   "outputs": [],
   "source": [
    "# Negative slicing"
   ]
  },
  {
   "cell_type": "code",
   "execution_count": 40,
   "id": "f9dede6f",
   "metadata": {},
   "outputs": [],
   "source": [
    "e = 'Arun'"
   ]
  },
  {
   "cell_type": "code",
   "execution_count": 41,
   "id": "86f44b20",
   "metadata": {},
   "outputs": [
    {
     "data": {
      "text/plain": [
       "'n'"
      ]
     },
     "execution_count": 41,
     "metadata": {},
     "output_type": "execute_result"
    }
   ],
   "source": [
    "e[-1]"
   ]
  },
  {
   "cell_type": "code",
   "execution_count": 42,
   "id": "88f06dde",
   "metadata": {},
   "outputs": [
    {
     "data": {
      "text/plain": [
       "'u'"
      ]
     },
     "execution_count": 42,
     "metadata": {},
     "output_type": "execute_result"
    }
   ],
   "source": [
    "e[-2]"
   ]
  },
  {
   "cell_type": "code",
   "execution_count": 43,
   "id": "82ea2895",
   "metadata": {},
   "outputs": [
    {
     "data": {
      "text/plain": [
       "'r'"
      ]
     },
     "execution_count": 43,
     "metadata": {},
     "output_type": "execute_result"
    }
   ],
   "source": [
    "e[-3]"
   ]
  },
  {
   "cell_type": "code",
   "execution_count": 52,
   "id": "40ed91d3",
   "metadata": {},
   "outputs": [],
   "source": [
    "e = 'parrot'"
   ]
  },
  {
   "cell_type": "code",
   "execution_count": 53,
   "id": "213f3858",
   "metadata": {},
   "outputs": [
    {
     "data": {
      "text/plain": [
       "'rot'"
      ]
     },
     "execution_count": 53,
     "metadata": {},
     "output_type": "execute_result"
    }
   ],
   "source": [
    "e[-3:6:1]"
   ]
  },
  {
   "cell_type": "code",
   "execution_count": 49,
   "id": "9503c89c",
   "metadata": {},
   "outputs": [
    {
     "data": {
      "text/plain": [
       "6"
      ]
     },
     "execution_count": 49,
     "metadata": {},
     "output_type": "execute_result"
    }
   ],
   "source": [
    "len(e)\n",
    "# provides total number of elements in a string\n",
    "# starts from 1"
   ]
  },
  {
   "cell_type": "code",
   "execution_count": 51,
   "id": "c3d3b118",
   "metadata": {},
   "outputs": [
    {
     "data": {
      "text/plain": [
       "'rot'"
      ]
     },
     "execution_count": 51,
     "metadata": {},
     "output_type": "execute_result"
    }
   ],
   "source": [
    "e[-3:len(e):1]"
   ]
  },
  {
   "cell_type": "code",
   "execution_count": 54,
   "id": "ca1ba9b9",
   "metadata": {},
   "outputs": [],
   "source": [
    "# reverse the string parrot => torrap"
   ]
  },
  {
   "cell_type": "code",
   "execution_count": 57,
   "id": "630efa23",
   "metadata": {},
   "outputs": [
    {
     "name": "stdout",
     "output_type": "stream",
     "text": [
      "syou are in the class\n"
     ]
    }
   ],
   "source": [
    "w = input()"
   ]
  },
  {
   "cell_type": "code",
   "execution_count": 59,
   "id": "7b3ca2da",
   "metadata": {},
   "outputs": [],
   "source": [
    "# w[-1:-7:-1]"
   ]
  },
  {
   "cell_type": "code",
   "execution_count": 60,
   "id": "a1d0114a",
   "metadata": {},
   "outputs": [
    {
     "data": {
      "text/plain": [
       "'ssalc eht ni era uoys'"
      ]
     },
     "execution_count": 60,
     "metadata": {},
     "output_type": "execute_result"
    }
   ],
   "source": [
    "w[-1:-(len(w)+1):-1]"
   ]
  },
  {
   "cell_type": "code",
   "execution_count": 4,
   "id": "b59edb36",
   "metadata": {},
   "outputs": [
    {
     "name": "stdout",
     "output_type": "stream",
     "text": [
      "elephant\n"
     ]
    }
   ],
   "source": [
    "s = input()"
   ]
  },
  {
   "cell_type": "code",
   "execution_count": 5,
   "id": "47f55b6b",
   "metadata": {},
   "outputs": [],
   "source": [
    "# print second half of string in reverse order"
   ]
  },
  {
   "cell_type": "code",
   "execution_count": 9,
   "id": "030b7e29",
   "metadata": {},
   "outputs": [
    {
     "data": {
      "text/plain": [
       "'tnah'"
      ]
     },
     "execution_count": 9,
     "metadata": {},
     "output_type": "execute_result"
    }
   ],
   "source": [
    "s[-1:-(len(s)//2+1):-1]\n",
    "# variable_name[start_index:end_index:steps]"
   ]
  },
  {
   "cell_type": "code",
   "execution_count": 10,
   "id": "47174ab9",
   "metadata": {},
   "outputs": [
    {
     "data": {
      "text/plain": [
       "1.5"
      ]
     },
     "execution_count": 10,
     "metadata": {},
     "output_type": "execute_result"
    }
   ],
   "source": [
    "3/2"
   ]
  },
  {
   "cell_type": "code",
   "execution_count": 11,
   "id": "382cad8d",
   "metadata": {},
   "outputs": [
    {
     "data": {
      "text/plain": [
       "1"
      ]
     },
     "execution_count": 11,
     "metadata": {},
     "output_type": "execute_result"
    }
   ],
   "source": [
    "3//2"
   ]
  },
  {
   "cell_type": "code",
   "execution_count": 12,
   "id": "ee8d7e5c",
   "metadata": {},
   "outputs": [],
   "source": [
    "# Name, NAME, Hello Class"
   ]
  },
  {
   "cell_type": "code",
   "execution_count": 13,
   "id": "28b079ac",
   "metadata": {},
   "outputs": [],
   "source": [
    "# String cases:\n",
    "#     1. UPPER -> capital letters\n",
    "#     2. lower -> small letters\n",
    "#     3. title -> first letter of each word is in upper case\n",
    "#     4. Capitalize -> paragraph\n",
    "#     5. swapcase -> reverse case of original value"
   ]
  },
  {
   "cell_type": "code",
   "execution_count": 19,
   "id": "ec125529",
   "metadata": {},
   "outputs": [],
   "source": [
    "s = 'Hello class,how are you all' #-> capitalize case"
   ]
  },
  {
   "cell_type": "code",
   "execution_count": 20,
   "id": "01d6becb",
   "metadata": {},
   "outputs": [
    {
     "data": {
      "text/plain": [
       "'HELLO CLASS,HOW ARE YOU ALL'"
      ]
     },
     "execution_count": 20,
     "metadata": {},
     "output_type": "execute_result"
    }
   ],
   "source": [
    "s.upper()"
   ]
  },
  {
   "cell_type": "code",
   "execution_count": 21,
   "id": "94e5defd",
   "metadata": {},
   "outputs": [
    {
     "data": {
      "text/plain": [
       "'hello class,how are you all'"
      ]
     },
     "execution_count": 21,
     "metadata": {},
     "output_type": "execute_result"
    }
   ],
   "source": [
    "s.lower()"
   ]
  },
  {
   "cell_type": "code",
   "execution_count": 22,
   "id": "9e9f1496",
   "metadata": {},
   "outputs": [],
   "source": [
    "# convert second half of string in upper case"
   ]
  },
  {
   "cell_type": "code",
   "execution_count": 23,
   "id": "bbd3d161",
   "metadata": {},
   "outputs": [
    {
     "data": {
      "text/plain": [
       "'OW ARE YOU ALL'"
      ]
     },
     "execution_count": 23,
     "metadata": {},
     "output_type": "execute_result"
    }
   ],
   "source": [
    "s[len(s)//2:len(s):1].upper()"
   ]
  },
  {
   "cell_type": "code",
   "execution_count": 26,
   "id": "f742d2ff",
   "metadata": {},
   "outputs": [],
   "source": [
    "# first half in lower and second half in upper case"
   ]
  },
  {
   "cell_type": "code",
   "execution_count": 27,
   "id": "0e25632e",
   "metadata": {},
   "outputs": [
    {
     "name": "stdout",
     "output_type": "stream",
     "text": [
      "good morning\n"
     ]
    },
    {
     "data": {
      "text/plain": [
       "'good mORNING'"
      ]
     },
     "execution_count": 27,
     "metadata": {},
     "output_type": "execute_result"
    }
   ],
   "source": [
    "s=input()\n",
    "s[0:len(s)//2].lower()+s[len(s)//2:len(s)].upper()"
   ]
  },
  {
   "cell_type": "code",
   "execution_count": 29,
   "id": "23ccfbb4",
   "metadata": {},
   "outputs": [
    {
     "name": "stdout",
     "output_type": "stream",
     "text": [
      "hello\n"
     ]
    },
    {
     "data": {
      "text/plain": [
       "'heLLO'"
      ]
     },
     "execution_count": 29,
     "metadata": {},
     "output_type": "execute_result"
    }
   ],
   "source": [
    "d = input()\n",
    "mid = len(d)//2\n",
    "d[0:mid].lower()+d[mid:len(d)].upper()"
   ]
  },
  {
   "cell_type": "code",
   "execution_count": 31,
   "id": "f69cbfbe",
   "metadata": {},
   "outputs": [
    {
     "data": {
      "text/plain": [
       "'Hello Class, Be Attentive'"
      ]
     },
     "execution_count": 31,
     "metadata": {},
     "output_type": "execute_result"
    }
   ],
   "source": [
    "d = 'hello class, be attentive'\n",
    "d.title()"
   ]
  },
  {
   "cell_type": "code",
   "execution_count": 32,
   "id": "a88e2b27",
   "metadata": {},
   "outputs": [
    {
     "data": {
      "text/plain": [
       "'Hello class, be attentive'"
      ]
     },
     "execution_count": 32,
     "metadata": {},
     "output_type": "execute_result"
    }
   ],
   "source": [
    "d.capitalize()"
   ]
  },
  {
   "cell_type": "code",
   "execution_count": 33,
   "id": "483b934e",
   "metadata": {},
   "outputs": [],
   "source": [
    "p = \"PaRRot\""
   ]
  },
  {
   "cell_type": "code",
   "execution_count": 34,
   "id": "1e080080",
   "metadata": {},
   "outputs": [
    {
     "data": {
      "text/plain": [
       "'pArrOT'"
      ]
     },
     "execution_count": 34,
     "metadata": {},
     "output_type": "execute_result"
    }
   ],
   "source": [
    "p.swapcase()"
   ]
  },
  {
   "cell_type": "code",
   "execution_count": 35,
   "id": "93494211",
   "metadata": {},
   "outputs": [
    {
     "data": {
      "text/plain": [
       "'hello class, be attentive'"
      ]
     },
     "execution_count": 35,
     "metadata": {},
     "output_type": "execute_result"
    }
   ],
   "source": [
    "d"
   ]
  },
  {
   "cell_type": "code",
   "execution_count": 41,
   "id": "aefd577c",
   "metadata": {},
   "outputs": [
    {
     "data": {
      "text/plain": [
       "0"
      ]
     },
     "execution_count": 41,
     "metadata": {},
     "output_type": "execute_result"
    }
   ],
   "source": [
    "d.count('d')"
   ]
  },
  {
   "cell_type": "code",
   "execution_count": null,
   "id": "94f07e87",
   "metadata": {},
   "outputs": [],
   "source": []
  },
  {
   "cell_type": "code",
   "execution_count": 42,
   "id": "06758a8d",
   "metadata": {},
   "outputs": [],
   "source": [
    "# get email id and password from user, welcome user if id = 'admin@class.com'\n",
    "# and password = 'admin'"
   ]
  },
  {
   "cell_type": "code",
   "execution_count": 45,
   "id": "68e5b1f2",
   "metadata": {},
   "outputs": [
    {
     "name": "stdout",
     "output_type": "stream",
     "text": [
      "Enter your email: ADMIN@class.COM\n",
      "Enter your password: admin\n",
      "Welcome\n"
     ]
    }
   ],
   "source": [
    "email = input('Enter your email: ')\n",
    "passw = input('Enter your password: ')\n",
    "if email.lower() == 'admin@class.com' and passw == 'admin':\n",
    "    print('Welcome')\n",
    "else:\n",
    "    print('VISIT DUBAI...')"
   ]
  },
  {
   "cell_type": "code",
   "execution_count": 46,
   "id": "c4aa7be0",
   "metadata": {},
   "outputs": [],
   "source": [
    "f = 'Hello Class'"
   ]
  },
  {
   "cell_type": "code",
   "execution_count": 49,
   "id": "23613bda",
   "metadata": {},
   "outputs": [
    {
     "data": {
      "text/plain": [
       "'HeLLo CLass'"
      ]
     },
     "execution_count": 49,
     "metadata": {},
     "output_type": "execute_result"
    }
   ],
   "source": [
    "f.replace('l','L')"
   ]
  },
  {
   "cell_type": "code",
   "execution_count": 50,
   "id": "fb4729cc",
   "metadata": {},
   "outputs": [],
   "source": [
    "# split and join"
   ]
  },
  {
   "cell_type": "code",
   "execution_count": 53,
   "id": "90670a05",
   "metadata": {},
   "outputs": [],
   "source": [
    "j = f.split(' ')"
   ]
  },
  {
   "cell_type": "code",
   "execution_count": 62,
   "id": "f2a08084",
   "metadata": {},
   "outputs": [
    {
     "name": "stdout",
     "output_type": "stream",
     "text": [
      "['TOMMY', 'Class']\n"
     ]
    },
    {
     "data": {
      "text/plain": [
       "list"
      ]
     },
     "execution_count": 62,
     "metadata": {},
     "output_type": "execute_result"
    }
   ],
   "source": [
    "print(j)\n",
    "type(j)"
   ]
  },
  {
   "cell_type": "code",
   "execution_count": 55,
   "id": "c48205be",
   "metadata": {},
   "outputs": [],
   "source": [
    "# list is a mutable collection of data"
   ]
  },
  {
   "cell_type": "code",
   "execution_count": 56,
   "id": "92c9e6d5",
   "metadata": {},
   "outputs": [],
   "source": [
    "# mutable -> can be edited after creation"
   ]
  },
  {
   "cell_type": "code",
   "execution_count": 57,
   "id": "b15d1415",
   "metadata": {},
   "outputs": [],
   "source": [
    "# string -> immutable -> cannot be edited after creation"
   ]
  },
  {
   "cell_type": "code",
   "execution_count": 63,
   "id": "3891dc38",
   "metadata": {},
   "outputs": [
    {
     "data": {
      "text/plain": [
       "'hello class, be attentive'"
      ]
     },
     "execution_count": 63,
     "metadata": {},
     "output_type": "execute_result"
    }
   ],
   "source": [
    "# d[9]='J'\n",
    "d"
   ]
  },
  {
   "cell_type": "code",
   "execution_count": 60,
   "id": "77dbfbf2",
   "metadata": {},
   "outputs": [],
   "source": [
    "j[0]='TOMMY'"
   ]
  },
  {
   "cell_type": "code",
   "execution_count": 61,
   "id": "98be1792",
   "metadata": {},
   "outputs": [
    {
     "data": {
      "text/plain": [
       "['TOMMY', 'Class']"
      ]
     },
     "execution_count": 61,
     "metadata": {},
     "output_type": "execute_result"
    }
   ],
   "source": [
    "j"
   ]
  },
  {
   "cell_type": "code",
   "execution_count": 64,
   "id": "c181b4e0",
   "metadata": {},
   "outputs": [],
   "source": [
    "f = 'jerimy'"
   ]
  },
  {
   "cell_type": "code",
   "execution_count": 66,
   "id": "3bec83d6",
   "metadata": {},
   "outputs": [
    {
     "data": {
      "text/plain": [
       "'TOMMY Class'"
      ]
     },
     "execution_count": 66,
     "metadata": {},
     "output_type": "execute_result"
    }
   ],
   "source": [
    "\" \".join(j)"
   ]
  },
  {
   "cell_type": "code",
   "execution_count": 68,
   "id": "65b7e7dd",
   "metadata": {},
   "outputs": [],
   "source": [
    "p='parrot'\n",
    "t = \" \".join(p)"
   ]
  },
  {
   "cell_type": "code",
   "execution_count": 69,
   "id": "21b64374",
   "metadata": {},
   "outputs": [
    {
     "data": {
      "text/plain": [
       "['p', 'a', 'r', 'r', 'o', 't']"
      ]
     },
     "execution_count": 69,
     "metadata": {},
     "output_type": "execute_result"
    }
   ],
   "source": [
    "t.split(\" \")"
   ]
  },
  {
   "cell_type": "code",
   "execution_count": 70,
   "id": "8a944d56",
   "metadata": {},
   "outputs": [],
   "source": [
    "d = 'bollywood'"
   ]
  },
  {
   "cell_type": "code",
   "execution_count": 71,
   "id": "ad9d6209",
   "metadata": {},
   "outputs": [
    {
     "data": {
      "text/plain": [
       "['bo', '', 'ywood']"
      ]
     },
     "execution_count": 71,
     "metadata": {},
     "output_type": "execute_result"
    }
   ],
   "source": [
    "d.split('l')\n",
    "# 'bo',\"\",'ywood'"
   ]
  },
  {
   "cell_type": "code",
   "execution_count": 1,
   "id": "f9a7b167",
   "metadata": {},
   "outputs": [],
   "source": [
    "# Ravi       \n",
    "# Vineet\n",
    "# Harshit \n",
    "# prakhar\n",
    "# menakshi\n",
    "# gaurav\n",
    "# mritanjay\n",
    "# Kunal"
   ]
  },
  {
   "cell_type": "code",
   "execution_count": 2,
   "id": "7e1933b0",
   "metadata": {},
   "outputs": [
    {
     "data": {
      "text/plain": [
       "[1, 2, 3, 1, 2, 3, 1, 2, 3]"
      ]
     },
     "execution_count": 2,
     "metadata": {},
     "output_type": "execute_result"
    }
   ],
   "source": [
    "[1,2,3]*3"
   ]
  },
  {
   "cell_type": "code",
   "execution_count": 4,
   "id": "936c3586",
   "metadata": {},
   "outputs": [
    {
     "data": {
      "text/plain": [
       "[]"
      ]
     },
     "execution_count": 4,
     "metadata": {},
     "output_type": "execute_result"
    }
   ],
   "source": [
    "n=0\n",
    "[x*2 for x in range(1,n)]"
   ]
  },
  {
   "cell_type": "code",
   "execution_count": 5,
   "id": "3efdbca6",
   "metadata": {},
   "outputs": [
    {
     "data": {
      "text/plain": [
       "{1: 1,\n",
       " 2: 4,\n",
       " 3: 9,\n",
       " 4: 16,\n",
       " 5: 25,\n",
       " 6: 36,\n",
       " 7: 49,\n",
       " 8: 64,\n",
       " 9: 81,\n",
       " 10: 100,\n",
       " 11: 121,\n",
       " 12: 144,\n",
       " 13: 169,\n",
       " 14: 196,\n",
       " 15: 225,\n",
       " 16: 256,\n",
       " 17: 289,\n",
       " 18: 324,\n",
       " 19: 361,\n",
       " 20: 400,\n",
       " 21: 441,\n",
       " 22: 484,\n",
       " 23: 529,\n",
       " 24: 576,\n",
       " 25: 625,\n",
       " 26: 676,\n",
       " 27: 729,\n",
       " 28: 784,\n",
       " 29: 841,\n",
       " 30: 900,\n",
       " 31: 961,\n",
       " 32: 1024,\n",
       " 33: 1089,\n",
       " 34: 1156,\n",
       " 35: 1225,\n",
       " 36: 1296,\n",
       " 37: 1369,\n",
       " 38: 1444,\n",
       " 39: 1521,\n",
       " 40: 1600,\n",
       " 41: 1681,\n",
       " 42: 1764,\n",
       " 43: 1849,\n",
       " 44: 1936,\n",
       " 45: 2025,\n",
       " 46: 2116,\n",
       " 47: 2209,\n",
       " 48: 2304,\n",
       " 49: 2401,\n",
       " 50: 2500,\n",
       " 51: 2601,\n",
       " 52: 2704,\n",
       " 53: 2809,\n",
       " 54: 2916,\n",
       " 55: 3025,\n",
       " 56: 3136,\n",
       " 57: 3249,\n",
       " 58: 3364,\n",
       " 59: 3481,\n",
       " 60: 3600,\n",
       " 61: 3721,\n",
       " 62: 3844,\n",
       " 63: 3969,\n",
       " 64: 4096,\n",
       " 65: 4225,\n",
       " 66: 4356,\n",
       " 67: 4489,\n",
       " 68: 4624,\n",
       " 69: 4761,\n",
       " 70: 4900,\n",
       " 71: 5041,\n",
       " 72: 5184,\n",
       " 73: 5329,\n",
       " 74: 5476,\n",
       " 75: 5625,\n",
       " 76: 5776,\n",
       " 77: 5929,\n",
       " 78: 6084,\n",
       " 79: 6241,\n",
       " 80: 6400,\n",
       " 81: 6561,\n",
       " 82: 6724,\n",
       " 83: 6889,\n",
       " 84: 7056,\n",
       " 85: 7225,\n",
       " 86: 7396,\n",
       " 87: 7569,\n",
       " 88: 7744,\n",
       " 89: 7921,\n",
       " 90: 8100,\n",
       " 91: 8281,\n",
       " 92: 8464,\n",
       " 93: 8649,\n",
       " 94: 8836,\n",
       " 95: 9025,\n",
       " 96: 9216,\n",
       " 97: 9409,\n",
       " 98: 9604,\n",
       " 99: 9801}"
      ]
     },
     "execution_count": 5,
     "metadata": {},
     "output_type": "execute_result"
    }
   ],
   "source": [
    "{x:x*x for x in range(1,100)}"
   ]
  },
  {
   "cell_type": "code",
   "execution_count": 12,
   "id": "15ce1bd9",
   "metadata": {},
   "outputs": [
    {
     "name": "stdout",
     "output_type": "stream",
     "text": [
      "1\n",
      "8\n"
     ]
    }
   ],
   "source": [
    "x=[1,2,3,4,2,1,2,3,2,6,7,8]\n",
    "l=set(x)\n",
    "a=list(l)\n",
    "print(a[0])\n",
    "print(a[-1])"
   ]
  },
  {
   "cell_type": "code",
   "execution_count": 10,
   "id": "684ea2f8",
   "metadata": {},
   "outputs": [
    {
     "data": {
      "text/plain": [
       "[1, 2, 3, 4, 6, 7, 8]"
      ]
     },
     "execution_count": 10,
     "metadata": {},
     "output_type": "execute_result"
    }
   ],
   "source": [
    "a"
   ]
  },
  {
   "cell_type": "code",
   "execution_count": null,
   "id": "58646423",
   "metadata": {},
   "outputs": [],
   "source": []
  }
 ],
 "metadata": {
  "kernelspec": {
   "display_name": "Python 3 (ipykernel)",
   "language": "python",
   "name": "python3"
  },
  "language_info": {
   "codemirror_mode": {
    "name": "ipython",
    "version": 3
   },
   "file_extension": ".py",
   "mimetype": "text/x-python",
   "name": "python",
   "nbconvert_exporter": "python",
   "pygments_lexer": "ipython3",
   "version": "3.9.12"
  }
 },
 "nbformat": 4,
 "nbformat_minor": 5
}
