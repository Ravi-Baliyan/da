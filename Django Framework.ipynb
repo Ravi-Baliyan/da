{
 "cells": [
  {
   "cell_type": "code",
   "execution_count": 1,
   "id": "97685ca8",
   "metadata": {},
   "outputs": [],
   "source": [
    "# Django framework is a particular set of rules,beliefs and ideas to build a framework which is used in web development\n",
    "\n",
    "# Django is an open source python framework hh\n",
    "\n",
    "\n",
    "# It is fast\n",
    "# and Secure\n",
    "# It suits any web applications Project\n",
    "# It is well established\n"
   ]
  },
  {
   "cell_type": "code",
   "execution_count": null,
   "id": "afc259e6",
   "metadata": {},
   "outputs": [],
   "source": [
    "# Django MTV\n",
    "# It is a collection of three important components Model,View and Template\n",
    "\n",
    "# 1.Model = Model is going to act as interface of the data\n",
    "# 2.View = The view is the user interface - what we see in our browser when we render a website\n",
    "# 3.Template = A templete consists of static parts of the desired HTML output some special syntax how dynamic content will be inserted"
   ]
  }
 ],
 "metadata": {
  "kernelspec": {
   "display_name": "Python 3 (ipykernel)",
   "language": "python",
   "name": "python3"
  },
  "language_info": {
   "codemirror_mode": {
    "name": "ipython",
    "version": 3
   },
   "file_extension": ".py",
   "mimetype": "text/x-python",
   "name": "python",
   "nbconvert_exporter": "python",
   "pygments_lexer": "ipython3",
   "version": "3.9.12"
  }
 },
 "nbformat": 4,
 "nbformat_minor": 5
}
