{
 "cells": [
  {
   "cell_type": "code",
   "execution_count": 1,
   "id": "d4b82b88",
   "metadata": {},
   "outputs": [
    {
     "name": "stdout",
     "output_type": "stream",
     "text": [
      "Requirement already satisfied: numpy in c:\\users\\baliy\\anaconda3\\lib\\site-packages (1.21.5)Note: you may need to restart the kernel to use updated packages.\n",
      "\n"
     ]
    }
   ],
   "source": [
    "pip install numpy"
   ]
  },
  {
   "cell_type": "code",
   "execution_count": null,
   "id": "4856875f",
   "metadata": {},
   "outputs": [],
   "source": [
    "# NumPy is a library for the Python programming language,which works on multi-dimensional arrays and matrices"
   ]
  },
  {
   "cell_type": "code",
   "execution_count": 2,
   "id": "9365cded",
   "metadata": {},
   "outputs": [],
   "source": [
    "import numpy as np"
   ]
  },
  {
   "cell_type": "code",
   "execution_count": 3,
   "id": "f898d4ab",
   "metadata": {},
   "outputs": [
    {
     "data": {
      "text/plain": [
       "[10, 20, 50, 60, 70]"
      ]
     },
     "execution_count": 3,
     "metadata": {},
     "output_type": "execute_result"
    }
   ],
   "source": [
    "my_list=[10,20,50,60,70]\n",
    "my_list"
   ]
  },
  {
   "cell_type": "code",
   "execution_count": 7,
   "id": "c6093d26",
   "metadata": {},
   "outputs": [
    {
     "data": {
      "text/plain": [
       "array([10, 20, 50, 60, 70])"
      ]
     },
     "execution_count": 7,
     "metadata": {},
     "output_type": "execute_result"
    }
   ],
   "source": [
    "# let's create a numpy array from the list \"my_list\"\n",
    "x=np.array(my_list)\n",
    "x"
   ]
  },
  {
   "cell_type": "code",
   "execution_count": 6,
   "id": "acdf047b",
   "metadata": {},
   "outputs": [
    {
     "data": {
      "text/plain": [
       "numpy.ndarray"
      ]
     },
     "execution_count": 6,
     "metadata": {},
     "output_type": "execute_result"
    }
   ],
   "source": [
    "type(x)"
   ]
  },
  {
   "cell_type": "code",
   "execution_count": 13,
   "id": "5a9707c8",
   "metadata": {},
   "outputs": [
    {
     "data": {
      "text/plain": [
       "array([[ 5,  8],\n",
       "       [ 9, 13]])"
      ]
     },
     "execution_count": 13,
     "metadata": {},
     "output_type": "execute_result"
    }
   ],
   "source": [
    "# Multi-Dimentional\n",
    "matrix=np.array([[5,8],[9,13]])\n",
    "matrix"
   ]
  },
  {
   "cell_type": "code",
   "execution_count": 14,
   "id": "c03deaae",
   "metadata": {},
   "outputs": [
    {
     "data": {
      "text/plain": [
       "(2, 2)"
      ]
     },
     "execution_count": 14,
     "metadata": {},
     "output_type": "execute_result"
    }
   ],
   "source": [
    "matrix.shape"
   ]
  },
  {
   "cell_type": "code",
   "execution_count": 15,
   "id": "59a69a42",
   "metadata": {},
   "outputs": [
    {
     "data": {
      "text/plain": [
       "4"
      ]
     },
     "execution_count": 15,
     "metadata": {},
     "output_type": "execute_result"
    }
   ],
   "source": [
    "matrix.size"
   ]
  },
  {
   "cell_type": "code",
   "execution_count": 16,
   "id": "fa852a25",
   "metadata": {},
   "outputs": [
    {
     "data": {
      "text/plain": [
       "2"
      ]
     },
     "execution_count": 16,
     "metadata": {},
     "output_type": "execute_result"
    }
   ],
   "source": [
    "matrix.ndim"
   ]
  },
  {
   "cell_type": "code",
   "execution_count": 17,
   "id": "29314fe7",
   "metadata": {},
   "outputs": [
    {
     "data": {
      "text/plain": [
       "array([[[ 5,  8],\n",
       "        [ 9, 13]]])"
      ]
     },
     "execution_count": 17,
     "metadata": {},
     "output_type": "execute_result"
    }
   ],
   "source": [
    "matrix=np.array([[[5,8],[9,13]]])\n",
    "matrix"
   ]
  },
  {
   "cell_type": "code",
   "execution_count": 18,
   "id": "cb4147af",
   "metadata": {},
   "outputs": [
    {
     "data": {
      "text/plain": [
       "3"
      ]
     },
     "execution_count": 18,
     "metadata": {},
     "output_type": "execute_result"
    }
   ],
   "source": [
    "matrix.ndim"
   ]
  },
  {
   "cell_type": "markdown",
   "id": "7fa2ea9b",
   "metadata": {},
   "source": [
    "# Mini Challange\n",
    "# Write a code that creates the following 2*4 numpy array"
   ]
  },
  {
   "cell_type": "code",
   "execution_count": null,
   "id": "3fbc8146",
   "metadata": {},
   "outputs": [],
   "source": []
  },
  {
   "cell_type": "code",
   "execution_count": 25,
   "id": "32141d80",
   "metadata": {},
   "outputs": [
    {
     "data": {
      "text/plain": [
       "numpy.ndarray"
      ]
     },
     "execution_count": 25,
     "metadata": {},
     "output_type": "execute_result"
    }
   ],
   "source": [
    "type(x)"
   ]
  },
  {
   "cell_type": "code",
   "execution_count": 26,
   "id": "eb142810",
   "metadata": {},
   "outputs": [
    {
     "data": {
      "text/plain": [
       "2"
      ]
     },
     "execution_count": 26,
     "metadata": {},
     "output_type": "execute_result"
    }
   ],
   "source": [
    "x.ndim"
   ]
  },
  {
   "cell_type": "code",
   "execution_count": 27,
   "id": "93cb9e84",
   "metadata": {},
   "outputs": [
    {
     "data": {
      "text/plain": [
       "(2, 4)"
      ]
     },
     "execution_count": 27,
     "metadata": {},
     "output_type": "execute_result"
    }
   ],
   "source": [
    "x.shape"
   ]
  },
  {
   "cell_type": "code",
   "execution_count": 29,
   "id": "d43ec3cd",
   "metadata": {},
   "outputs": [
    {
     "data": {
      "text/plain": [
       "8"
      ]
     },
     "execution_count": 29,
     "metadata": {},
     "output_type": "execute_result"
    }
   ],
   "source": [
    "x.size"
   ]
  },
  {
   "cell_type": "code",
   "execution_count": null,
   "id": "144e08e9",
   "metadata": {},
   "outputs": [],
   "source": [
    "x=np.array([[1,2,3,4],[5,6,7,8]])\n",
    "x"
   ]
  },
  {
   "cell_type": "markdown",
   "id": "4c72f4f0",
   "metadata": {},
   "source": [
    "# Built-In Methods And Functions"
   ]
  },
  {
   "cell_type": "code",
   "execution_count": 33,
   "id": "565036cc",
   "metadata": {},
   "outputs": [],
   "source": [
    "# \"rand()\" uniform distribution between 0 and 1\n",
    "x=np.random.rand(15)"
   ]
  },
  {
   "cell_type": "code",
   "execution_count": 34,
   "id": "ad1eeb3d",
   "metadata": {},
   "outputs": [
    {
     "data": {
      "text/plain": [
       "array([0.77029   , 0.84179176, 0.02321786, 0.65293316, 0.39510473,\n",
       "       0.81342985, 0.60801618, 0.05441296, 0.40284466, 0.15383605,\n",
       "       0.44988954, 0.12424829, 0.58586754, 0.26461021, 0.21482099])"
      ]
     },
     "execution_count": 34,
     "metadata": {},
     "output_type": "execute_result"
    }
   ],
   "source": [
    "x"
   ]
  },
  {
   "cell_type": "code",
   "execution_count": 38,
   "id": "f1f5741b",
   "metadata": {},
   "outputs": [
    {
     "data": {
      "text/plain": [
       "array([[0.31764377, 0.53297579, 0.90233286],\n",
       "       [0.73763286, 0.24550631, 0.85355799],\n",
       "       [0.97543665, 0.64928623, 0.10555653],\n",
       "       [0.25416792, 0.10794613, 0.49932197],\n",
       "       [0.56109279, 0.47336484, 0.21889523]])"
      ]
     },
     "execution_count": 38,
     "metadata": {},
     "output_type": "execute_result"
    }
   ],
   "source": [
    "# you can create a matrix of random number as well\n",
    "x=np.random.rand(5,3) #5 rows and 3 column\n",
    "x"
   ]
  },
  {
   "cell_type": "code",
   "execution_count": 39,
   "id": "0d8d5964",
   "metadata": {},
   "outputs": [
    {
     "data": {
      "text/plain": [
       "array([ 0.4805441 , -0.55163124,  1.08105171,  1.52607583, -0.70411689,\n",
       "       -0.93633275, -0.65386696, -1.03336468,  0.40201367, -0.26236699])"
      ]
     },
     "execution_count": 39,
     "metadata": {},
     "output_type": "execute_result"
    }
   ],
   "source": [
    "# \"randn()\" normal distribution between 0 amd 1\n",
    "x=np.random.randn(10)\n",
    "x"
   ]
  },
  {
   "cell_type": "code",
   "execution_count": 41,
   "id": "69e589f2",
   "metadata": {},
   "outputs": [
    {
     "data": {
      "text/plain": [
       "6"
      ]
     },
     "execution_count": 41,
     "metadata": {},
     "output_type": "execute_result"
    }
   ],
   "source": [
    "# \"randint\" is used to generate random integers between upper and lower bounds\n",
    "x=np.random.randint(1,11)\n",
    "x"
   ]
  },
  {
   "cell_type": "code",
   "execution_count": 45,
   "id": "f530fca1",
   "metadata": {},
   "outputs": [
    {
     "data": {
      "text/plain": [
       "array([ 2, 53, 32, 12, 80, 69, 29, 59, 11, 81, 59, 50, 69, 26, 85])"
      ]
     },
     "execution_count": 45,
     "metadata": {},
     "output_type": "execute_result"
    }
   ],
   "source": [
    "# \"randint\" can be used to generate a certain number of random integers as follows\n",
    "x=np.random.randint(1,100,15)\n",
    "x"
   ]
  },
  {
   "cell_type": "code",
   "execution_count": 47,
   "id": "760cd8c0",
   "metadata": {},
   "outputs": [
    {
     "data": {
      "text/plain": [
       "array([ 1,  2,  3,  4,  5,  6,  7,  8,  9, 10, 11, 12, 13, 14, 15, 16, 17,\n",
       "       18, 19, 20, 21, 22, 23, 24, 25, 26, 27, 28, 29, 30, 31, 32, 33, 34,\n",
       "       35, 36, 37, 38, 39, 40, 41, 42, 43, 44, 45, 46, 47, 48, 49])"
      ]
     },
     "execution_count": 47,
     "metadata": {},
     "output_type": "execute_result"
    }
   ],
   "source": [
    "# np.arange creates an evenly spaced values within a given interval\n",
    "x=np.arange(1,50)\n",
    "x"
   ]
  },
  {
   "cell_type": "code",
   "execution_count": 48,
   "id": "55ba5045",
   "metadata": {},
   "outputs": [
    {
     "data": {
      "text/plain": [
       "array([ 0,  5, 10, 15, 20, 25, 30, 35, 40, 45])"
      ]
     },
     "execution_count": 48,
     "metadata": {},
     "output_type": "execute_result"
    }
   ],
   "source": [
    "# Create an evenly spaced values with a step of 5\n",
    "x=np.arange(0,50,5)\n",
    "x"
   ]
  },
  {
   "cell_type": "code",
   "execution_count": 50,
   "id": "55deb4e7",
   "metadata": {},
   "outputs": [
    {
     "data": {
      "text/plain": [
       "array([[1., 0., 0., 0., 0.],\n",
       "       [0., 1., 0., 0., 0.],\n",
       "       [0., 0., 1., 0., 0.],\n",
       "       [0., 0., 0., 1., 0.],\n",
       "       [0., 0., 0., 0., 1.]])"
      ]
     },
     "execution_count": 50,
     "metadata": {},
     "output_type": "execute_result"
    }
   ],
   "source": [
    "# create a diagonal of ones and zeros everwhere else\n",
    "x=np.eye(5)\n",
    "x"
   ]
  },
  {
   "cell_type": "code",
   "execution_count": 52,
   "id": "d85882bb",
   "metadata": {},
   "outputs": [
    {
     "data": {
      "text/plain": [
       "array([1., 1., 1., 1., 1., 1., 1., 1., 1., 1.])"
      ]
     },
     "execution_count": 52,
     "metadata": {},
     "output_type": "execute_result"
    }
   ],
   "source": [
    "# Array of ones\n",
    "x=np.ones(10)\n",
    "x"
   ]
  },
  {
   "cell_type": "code",
   "execution_count": 57,
   "id": "8e67d931",
   "metadata": {},
   "outputs": [
    {
     "data": {
      "text/plain": [
       "array([[1., 1., 1., 1., 1.],\n",
       "       [1., 1., 1., 1., 1.],\n",
       "       [1., 1., 1., 1., 1.],\n",
       "       [1., 1., 1., 1., 1.],\n",
       "       [1., 1., 1., 1., 1.]])"
      ]
     },
     "execution_count": 57,
     "metadata": {},
     "output_type": "execute_result"
    }
   ],
   "source": [
    "# Matrices of ones\n",
    "x=np.ones([5,5])\n",
    "x"
   ]
  },
  {
   "cell_type": "code",
   "execution_count": 56,
   "id": "0708b3d1",
   "metadata": {},
   "outputs": [
    {
     "data": {
      "text/plain": [
       "array([0., 0., 0., 0., 0., 0., 0., 0., 0., 0.])"
      ]
     },
     "execution_count": 56,
     "metadata": {},
     "output_type": "execute_result"
    }
   ],
   "source": [
    "# Array of zeros\n",
    "x=np.zeros(10)\n",
    "x"
   ]
  },
  {
   "cell_type": "code",
   "execution_count": 58,
   "id": "e5308718",
   "metadata": {},
   "outputs": [
    {
     "data": {
      "text/plain": [
       "array([[0., 0., 0.],\n",
       "       [0., 0., 0.]])"
      ]
     },
     "execution_count": 58,
     "metadata": {},
     "output_type": "execute_result"
    }
   ],
   "source": [
    "# Matrices of zeros\n",
    "x=np.zeros([2,3])\n",
    "x"
   ]
  },
  {
   "cell_type": "markdown",
   "id": "7a6e0803",
   "metadata": {},
   "source": [
    "# Mini challange #2."
   ]
  },
  {
   "cell_type": "code",
   "execution_count": 61,
   "id": "9edeb128",
   "metadata": {},
   "outputs": [
    {
     "data": {
      "text/plain": [
       "array([55, 51, 25, 93, 78, 94, 16, 28, 24, 59, 34, 63, 79,  5, 85, 96, 55,\n",
       "       41,  6, 70])"
      ]
     },
     "execution_count": 61,
     "metadata": {},
     "output_type": "execute_result"
    }
   ],
   "source": [
    "# Write a code that takes in a number x from the user and creates 1*20 array with random numbers ranging from 0 to x\n",
    "x=np.random.randint(1,100,20)\n",
    "x"
   ]
  },
  {
   "cell_type": "markdown",
   "id": "bc6cba87",
   "metadata": {},
   "source": [
    "# 3. Shape,Length,Type,Reshape And Max/Min Values"
   ]
  },
  {
   "cell_type": "code",
   "execution_count": 63,
   "id": "4fa98462",
   "metadata": {},
   "outputs": [
    {
     "data": {
      "text/plain": [
       "array([-30,   4,  50,  60,  29,  15,  22,  90])"
      ]
     },
     "execution_count": 63,
     "metadata": {},
     "output_type": "execute_result"
    }
   ],
   "source": [
    "# Let's define a one-dimensional array\n",
    "my_list=[-30,4,50,60,29,15,22,90]\n",
    "my_list\n",
    "x=np.array(my_list)\n",
    "x"
   ]
  },
  {
   "cell_type": "code",
   "execution_count": 64,
   "id": "106f8b9b",
   "metadata": {},
   "outputs": [
    {
     "data": {
      "text/plain": [
       "8"
      ]
     },
     "execution_count": 64,
     "metadata": {},
     "output_type": "execute_result"
    }
   ],
   "source": [
    "# Get length of a numpy array\n",
    "len(x)"
   ]
  },
  {
   "cell_type": "code",
   "execution_count": 65,
   "id": "a4dde381",
   "metadata": {},
   "outputs": [
    {
     "data": {
      "text/plain": [
       "(8,)"
      ]
     },
     "execution_count": 65,
     "metadata": {},
     "output_type": "execute_result"
    }
   ],
   "source": [
    "# Get shape\n",
    "x.shape"
   ]
  },
  {
   "cell_type": "code",
   "execution_count": 66,
   "id": "8dcd6808",
   "metadata": {},
   "outputs": [
    {
     "data": {
      "text/plain": [
       "dtype('int32')"
      ]
     },
     "execution_count": 66,
     "metadata": {},
     "output_type": "execute_result"
    }
   ],
   "source": [
    "# Obtain the data type\n",
    "matrix.dtype"
   ]
  },
  {
   "cell_type": "code",
   "execution_count": 67,
   "id": "e0f6e01a",
   "metadata": {},
   "outputs": [
    {
     "data": {
      "text/plain": [
       "dtype('int32')"
      ]
     },
     "execution_count": 67,
     "metadata": {},
     "output_type": "execute_result"
    }
   ],
   "source": [
    "x.dtype   # As we check the type why does it shows us 32 alongwith int32 what does it mean?                                         Beacuse it shows us the the bit of memory e.g 32 bit and the other one is 62 bit\n"
   ]
  },
  {
   "cell_type": "code",
   "execution_count": 78,
   "id": "78e60e89",
   "metadata": {},
   "outputs": [
    {
     "name": "stdout",
     "output_type": "stream",
     "text": [
      "[[[-30]\n",
      "  [  4]]\n",
      "\n",
      " [[ 50]\n",
      "  [ 60]]\n",
      "\n",
      " [[ 29]\n",
      "  [ 15]]\n",
      "\n",
      " [[ 22]\n",
      "  [ 90]]]\n"
     ]
    },
    {
     "data": {
      "text/plain": [
       "3"
      ]
     },
     "execution_count": 78,
     "metadata": {},
     "output_type": "execute_result"
    }
   ],
   "source": [
    "# Reshape 1D array into a matrix\n",
    "z=x.reshape(4,2,1)\n",
    "print(z)\n",
    "z.ndim"
   ]
  },
  {
   "cell_type": "code",
   "execution_count": 79,
   "id": "d89020fa",
   "metadata": {},
   "outputs": [
    {
     "data": {
      "text/plain": [
       "90"
      ]
     },
     "execution_count": 79,
     "metadata": {},
     "output_type": "execute_result"
    }
   ],
   "source": [
    "# obtain the maximum element\n",
    "x.max()"
   ]
  },
  {
   "cell_type": "code",
   "execution_count": 80,
   "id": "0e3833f5",
   "metadata": {},
   "outputs": [
    {
     "data": {
      "text/plain": [
       "-30"
      ]
     },
     "execution_count": 80,
     "metadata": {},
     "output_type": "execute_result"
    }
   ],
   "source": [
    "# obtain the minimum element\n",
    "x.min()"
   ]
  },
  {
   "cell_type": "code",
   "execution_count": 82,
   "id": "07bf5793",
   "metadata": {},
   "outputs": [
    {
     "data": {
      "text/plain": [
       "7"
      ]
     },
     "execution_count": 82,
     "metadata": {},
     "output_type": "execute_result"
    }
   ],
   "source": [
    "#obtain the location of the max element\n",
    "x.argmax()"
   ]
  },
  {
   "cell_type": "code",
   "execution_count": 83,
   "id": "299d4f52",
   "metadata": {},
   "outputs": [
    {
     "data": {
      "text/plain": [
       "0"
      ]
     },
     "execution_count": 83,
     "metadata": {},
     "output_type": "execute_result"
    }
   ],
   "source": [
    "#obtain the location of the min element\n",
    "x.argmin()"
   ]
  },
  {
   "cell_type": "markdown",
   "id": "b02dec23",
   "metadata": {},
   "source": [
    "# Mini challange #3."
   ]
  },
  {
   "cell_type": "code",
   "execution_count": 103,
   "id": "0842bf33",
   "metadata": {},
   "outputs": [
    {
     "data": {
      "text/plain": [
       "array([[300, 310, 320, 330, 340],\n",
       "       [350, 360, 370, 380, 390],\n",
       "       [400, 410, 420, 430, 440],\n",
       "       [450, 460, 470, 480, 490]])"
      ]
     },
     "execution_count": 103,
     "metadata": {},
     "output_type": "execute_result"
    }
   ],
   "source": [
    "# Write a code that creates a 4*5 array inwhich numbers range between 300 and 500 such that the \n",
    "# difference between is 10\n",
    "x=np.arange(300,500,10)\n",
    "x\n",
    "x=x.reshape(4,5)\n",
    "x"
   ]
  },
  {
   "cell_type": "markdown",
   "id": "412aca27",
   "metadata": {},
   "source": [
    "# Mini challange #4."
   ]
  },
  {
   "cell_type": "markdown",
   "id": "5bc48c81",
   "metadata": {},
   "source": [
    "# write a code that creates a 20*20 numpy array of random values that ranges from -1000 and obtain\n",
    "# the maximum,minimum and mean values\n"
   ]
  },
  {
   "cell_type": "code",
   "execution_count": 98,
   "id": "e6539e73",
   "metadata": {},
   "outputs": [
    {
     "data": {
      "text/plain": [
       "array([[-4782, -2107, -7398,  -494,  -805, -3058, -4986, -8272,  -515,\n",
       "        -3287, -2573, -8154,   849, -6049, -2636,  -600, -9707, -5129,\n",
       "         -879, -2997],\n",
       "       [-4918, -5355, -2288, -6143, -2626, -7431, -6396, -5392,   331,\n",
       "        -4704, -7764, -6622, -1823, -6164, -3193, -4434, -1281, -4102,\n",
       "        -9387,  -154],\n",
       "       [   14,   105, -5814, -6447, -1223, -6358,   763, -2410, -3831,\n",
       "        -2118, -6519, -8173, -1621, -9058, -9819, -8420,   935, -6232,\n",
       "        -5919, -1223],\n",
       "       [-2835, -3023, -7888, -5098, -4309, -5878, -9016, -4959, -1629,\n",
       "        -7434, -5336, -9338, -4704,  -160, -7168, -1685, -3140, -6923,\n",
       "        -4634, -3330],\n",
       "       [ -146, -3278, -6555, -8692, -7255, -6217, -4239,   733, -6840,\n",
       "        -5925, -4414, -2180,  -784, -7350, -3512, -5411, -7133, -2449,\n",
       "        -2141, -4502],\n",
       "       [ -597, -6018, -2222,     2, -4460, -9711, -5767,   217, -9451,\n",
       "        -2326,  -144, -7316, -8901, -7276, -3708, -6982,  -601, -8606,\n",
       "          718, -4456],\n",
       "       [-5514, -2292,   737,  -275, -5945, -9082, -8356, -8734, -6664,\n",
       "         -152, -3793, -7926, -4665,   363, -8576, -9953, -9633, -4902,\n",
       "        -3337, -3233],\n",
       "       [-6447, -3759, -2785, -9030,   890, -9575, -3904, -7760, -2388,\n",
       "        -5240, -5729, -1756,   476, -8825, -6814, -6801,  -941,   470,\n",
       "        -9349, -7042],\n",
       "       [-1098, -5329,   -89, -7018, -5678,   413, -2258, -7493, -5951,\n",
       "          231, -3855, -3762, -2623, -4663, -1055, -5682, -9916, -4468,\n",
       "        -2170, -8792],\n",
       "       [-5861,   551,   980, -8896, -2965, -9859, -6549, -9231, -2325,\n",
       "        -7266, -8802, -9719, -7229, -1959, -3248, -5950, -6363, -6558,\n",
       "        -4076, -7614],\n",
       "       [-7048,  -876, -2301, -3936, -4452, -4418, -9215, -4190, -6728,\n",
       "        -4359, -4119, -7917,  -164, -1300, -6861, -7364, -4052, -2870,\n",
       "        -7231, -5573],\n",
       "       [-4131, -3488,   391,   650, -7611,   404,   861, -3470, -7223,\n",
       "        -9362,  -250, -1694, -1951,  -481, -5191, -9643,  -464, -3652,\n",
       "        -7407, -6724],\n",
       "       [-6488, -8208, -7039,   680,   190, -8742, -1909, -8938, -7371,\n",
       "         -206, -3509, -9052, -6591, -1707, -7531, -9151, -8104, -6723,\n",
       "        -9789,  -863],\n",
       "       [-8270, -9974, -7457, -8967, -6032, -7610, -6618, -9959, -2197,\n",
       "        -8572, -7006, -9323, -9359, -7677, -1566, -4788, -1089, -3328,\n",
       "        -2325, -5975],\n",
       "       [-1719, -3452, -1064, -4401,   384, -3230, -3701,  -336, -6784,\n",
       "         -215, -2165, -1967, -9404, -8670, -6488, -6012, -6996, -5731,\n",
       "        -7493, -9133],\n",
       "       [-3305, -9429, -2257,   749, -9660, -8852,   227, -9711, -7669,\n",
       "        -3982, -3584,  -385, -6799, -7146, -9985,    24,   300, -9826,\n",
       "        -5219, -2773],\n",
       "       [-5000, -3476, -7633, -9057, -1792, -6907, -4736,   312, -6649,\n",
       "        -4872, -5450,   528, -7066, -4694,  -707,   863, -8352, -1006,\n",
       "        -8261,   633],\n",
       "       [-1200, -3690, -8032, -3879,    84, -5220,  -210, -5614, -6057,\n",
       "        -9023,   961, -2771,  -335, -2806, -5653, -6032,  -535,   492,\n",
       "        -7151, -9742],\n",
       "       [ -949, -9745, -6379,   411, -4680, -1844, -1036, -7256, -7128,\n",
       "        -1688, -1582, -4106, -4388, -9021,   155,    66, -3481, -8858,\n",
       "        -7069, -3105],\n",
       "       [-1250, -2215, -9013, -3667, -7260, -7561, -4645, -8407, -7026,\n",
       "        -2080, -5081, -6584,  -482, -1494, -5634, -8755, -2163, -8857,\n",
       "        -8312,   228]])"
      ]
     },
     "execution_count": 98,
     "metadata": {},
     "output_type": "execute_result"
    }
   ],
   "source": [
    "x=np.random.randint(-10000,1000,(20,20))\n",
    "x"
   ]
  },
  {
   "cell_type": "code",
   "execution_count": 99,
   "id": "f6c58e45",
   "metadata": {},
   "outputs": [
    {
     "data": {
      "text/plain": [
       "980"
      ]
     },
     "execution_count": 99,
     "metadata": {},
     "output_type": "execute_result"
    }
   ],
   "source": [
    "x.max()"
   ]
  },
  {
   "cell_type": "code",
   "execution_count": 100,
   "id": "f23b3ede",
   "metadata": {},
   "outputs": [
    {
     "data": {
      "text/plain": [
       "-9985"
      ]
     },
     "execution_count": 100,
     "metadata": {},
     "output_type": "execute_result"
    }
   ],
   "source": [
    "x.min()"
   ]
  },
  {
   "cell_type": "markdown",
   "id": "d8ae1797",
   "metadata": {},
   "source": [
    "# 4. Methametical Operation\n"
   ]
  },
  {
   "cell_type": "code",
   "execution_count": 3,
   "id": "a2bfd4eb",
   "metadata": {},
   "outputs": [
    {
     "data": {
      "text/plain": [
       "array([1, 2, 3, 4, 5, 6, 7, 8, 9])"
      ]
     },
     "execution_count": 3,
     "metadata": {},
     "output_type": "execute_result"
    }
   ],
   "source": [
    "x=np.arange(1,10)\n",
    "x"
   ]
  },
  {
   "cell_type": "code",
   "execution_count": 10,
   "id": "92566a9f",
   "metadata": {},
   "outputs": [
    {
     "data": {
      "text/plain": [
       "array([1, 2, 3, 4, 5, 6, 7, 8, 9])"
      ]
     },
     "execution_count": 10,
     "metadata": {},
     "output_type": "execute_result"
    }
   ],
   "source": [
    "y=np.arange(1,10)\n",
    "y"
   ]
  },
  {
   "cell_type": "code",
   "execution_count": 11,
   "id": "1578f353",
   "metadata": {},
   "outputs": [],
   "source": [
    "sum=x+y"
   ]
  },
  {
   "cell_type": "code",
   "execution_count": 12,
   "id": "fff0205d",
   "metadata": {},
   "outputs": [
    {
     "data": {
      "text/plain": [
       "array([ 2,  4,  6,  8, 10, 12, 14, 16, 18])"
      ]
     },
     "execution_count": 12,
     "metadata": {},
     "output_type": "execute_result"
    }
   ],
   "source": [
    "sum"
   ]
  },
  {
   "cell_type": "code",
   "execution_count": 13,
   "id": "5e1b0ebd",
   "metadata": {},
   "outputs": [
    {
     "data": {
      "text/plain": [
       "array([ 1,  4,  9, 16, 25, 36, 49, 64, 81], dtype=int32)"
      ]
     },
     "execution_count": 13,
     "metadata": {},
     "output_type": "execute_result"
    }
   ],
   "source": [
    "s=x**2\n",
    "s"
   ]
  },
  {
   "cell_type": "code",
   "execution_count": 15,
   "id": "480f1a34",
   "metadata": {},
   "outputs": [
    {
     "data": {
      "text/plain": [
       "array([1., 2., 3., 4., 5., 6., 7., 8., 9.])"
      ]
     },
     "execution_count": 15,
     "metadata": {},
     "output_type": "execute_result"
    }
   ],
   "source": [
    "sqrt=np.sqrt(s)\n",
    "sqrt"
   ]
  },
  {
   "cell_type": "code",
   "execution_count": 18,
   "id": "abf9820a",
   "metadata": {},
   "outputs": [
    {
     "data": {
      "text/plain": [
       "array([2.71828183e+00, 7.38905610e+00, 2.00855369e+01, 5.45981500e+01,\n",
       "       1.48413159e+02, 4.03428793e+02, 1.09663316e+03, 2.98095799e+03,\n",
       "       8.10308393e+03])"
      ]
     },
     "execution_count": 18,
     "metadata": {},
     "output_type": "execute_result"
    }
   ],
   "source": [
    "z=np.exp(y)\n",
    "z"
   ]
  },
  {
   "cell_type": "markdown",
   "id": "55d85f41",
   "metadata": {},
   "source": [
    "# 5. Slicing and Indexing"
   ]
  },
  {
   "cell_type": "code",
   "execution_count": 19,
   "id": "a87df727",
   "metadata": {},
   "outputs": [
    {
     "data": {
      "text/plain": [
       "array([20, 40, 50, 21, 13])"
      ]
     },
     "execution_count": 19,
     "metadata": {},
     "output_type": "execute_result"
    }
   ],
   "source": [
    "x=np.array([20,40,50,21,13])\n",
    "x"
   ]
  },
  {
   "cell_type": "code",
   "execution_count": 22,
   "id": "1091f4b6",
   "metadata": {},
   "outputs": [
    {
     "data": {
      "text/plain": [
       "50"
      ]
     },
     "execution_count": 22,
     "metadata": {},
     "output_type": "execute_result"
    }
   ],
   "source": [
    "x[2]"
   ]
  },
  {
   "cell_type": "code",
   "execution_count": 23,
   "id": "d5802194",
   "metadata": {},
   "outputs": [
    {
     "data": {
      "text/plain": [
       "array([20, 40, 50])"
      ]
     },
     "execution_count": 23,
     "metadata": {},
     "output_type": "execute_result"
    }
   ],
   "source": [
    "x[0:3]"
   ]
  },
  {
   "cell_type": "code",
   "execution_count": 24,
   "id": "b2411002",
   "metadata": {},
   "outputs": [
    {
     "data": {
      "text/plain": [
       "array([10, 10, 50, 21, 13])"
      ]
     },
     "execution_count": 24,
     "metadata": {},
     "output_type": "execute_result"
    }
   ],
   "source": [
    "x[0:2]=10\n",
    "x"
   ]
  },
  {
   "cell_type": "code",
   "execution_count": 25,
   "id": "b521e464",
   "metadata": {},
   "outputs": [],
   "source": [
    "matrix=np.random.randint(1,10,(5,5))"
   ]
  },
  {
   "cell_type": "code",
   "execution_count": 26,
   "id": "50c62239",
   "metadata": {},
   "outputs": [
    {
     "data": {
      "text/plain": [
       "array([[4, 4, 3, 4, 4],\n",
       "       [6, 2, 3, 5, 9],\n",
       "       [7, 1, 7, 1, 8],\n",
       "       [7, 8, 2, 2, 2],\n",
       "       [4, 5, 6, 4, 9]])"
      ]
     },
     "execution_count": 26,
     "metadata": {},
     "output_type": "execute_result"
    }
   ],
   "source": [
    "matrix"
   ]
  },
  {
   "cell_type": "code",
   "execution_count": 27,
   "id": "ec049ceb",
   "metadata": {},
   "outputs": [
    {
     "data": {
      "text/plain": [
       "array([7, 1, 7, 1, 8])"
      ]
     },
     "execution_count": 27,
     "metadata": {},
     "output_type": "execute_result"
    }
   ],
   "source": [
    "matrix[2]"
   ]
  },
  {
   "cell_type": "code",
   "execution_count": 28,
   "id": "400f4900",
   "metadata": {},
   "outputs": [
    {
     "data": {
      "text/plain": [
       "array([[4, 4, 3, 4, 4],\n",
       "       [7, 1, 7, 1, 8]])"
      ]
     },
     "execution_count": 28,
     "metadata": {},
     "output_type": "execute_result"
    }
   ],
   "source": [
    "matrix[0:4:2]"
   ]
  },
  {
   "cell_type": "code",
   "execution_count": 29,
   "id": "6d7220b8",
   "metadata": {},
   "outputs": [
    {
     "data": {
      "text/plain": [
       "9"
      ]
     },
     "execution_count": 29,
     "metadata": {},
     "output_type": "execute_result"
    }
   ],
   "source": [
    "matrix[4][4]"
   ]
  },
  {
   "cell_type": "code",
   "execution_count": 30,
   "id": "0b1d9f45",
   "metadata": {},
   "outputs": [],
   "source": [
    "mini_matrix=matrix[0:3]"
   ]
  },
  {
   "cell_type": "code",
   "execution_count": 31,
   "id": "9a15af31",
   "metadata": {},
   "outputs": [
    {
     "data": {
      "text/plain": [
       "array([[4, 4, 3, 4, 4],\n",
       "       [6, 2, 3, 5, 9],\n",
       "       [7, 1, 7, 1, 8]])"
      ]
     },
     "execution_count": 31,
     "metadata": {},
     "output_type": "execute_result"
    }
   ],
   "source": [
    "mini_matrix"
   ]
  },
  {
   "cell_type": "code",
   "execution_count": 40,
   "id": "ca00d12f",
   "metadata": {},
   "outputs": [
    {
     "data": {
      "text/plain": [
       "array([[6, 2, 3, 5, 9],\n",
       "       [7, 1, 7, 1, 8],\n",
       "       [7, 8, 2, 2, 2]])"
      ]
     },
     "execution_count": 40,
     "metadata": {},
     "output_type": "execute_result"
    }
   ],
   "source": [
    "mini_matrix=matrix[1:4]\n",
    "mini_matrix"
   ]
  },
  {
   "cell_type": "code",
   "execution_count": 42,
   "id": "df2b5bb2",
   "metadata": {},
   "outputs": [
    {
     "data": {
      "text/plain": [
       "array([[4, 4, 3],\n",
       "       [6, 2, 3],\n",
       "       [7, 1, 7],\n",
       "       [7, 8, 2],\n",
       "       [4, 5, 6]])"
      ]
     },
     "execution_count": 42,
     "metadata": {},
     "output_type": "execute_result"
    }
   ],
   "source": [
    "mini_matrix=matrix[:,0:3]\n",
    "mini_matrix"
   ]
  },
  {
   "cell_type": "code",
   "execution_count": 43,
   "id": "0cddb1bc",
   "metadata": {},
   "outputs": [
    {
     "data": {
      "text/plain": [
       "array([[3, 4, 4],\n",
       "       [3, 5, 9],\n",
       "       [7, 1, 8],\n",
       "       [2, 2, 2],\n",
       "       [6, 4, 9]])"
      ]
     },
     "execution_count": 43,
     "metadata": {},
     "output_type": "execute_result"
    }
   ],
   "source": [
    "mini_matrix=matrix[:,2:]\n",
    "mini_matrix"
   ]
  },
  {
   "cell_type": "markdown",
   "id": "2612830e",
   "metadata": {},
   "source": [
    "# Mini challange #6"
   ]
  },
  {
   "cell_type": "code",
   "execution_count": 69,
   "id": "7b3590d5",
   "metadata": {},
   "outputs": [
    {
     "data": {
      "text/plain": [
       "array([[5, 6, 2, 7, 1],\n",
       "       [4, 7, 3, 3, 8],\n",
       "       [5, 2, 4, 7, 3],\n",
       "       [2, 5, 3, 1, 4],\n",
       "       [3, 5, 1, 4, 5]])"
      ]
     },
     "execution_count": 69,
     "metadata": {},
     "output_type": "execute_result"
    }
   ],
   "source": [
    "# In the following matrix,relace the last row with -1\n",
    "# Multiply the 2*2 matrix in the upper right corner by 2\n",
    "\n",
    "x=np.random.randint(1,10,(5,5))\n",
    "x"
   ]
  },
  {
   "cell_type": "code",
   "execution_count": 70,
   "id": "a1f2e545",
   "metadata": {},
   "outputs": [],
   "source": [
    "x[-1]=-1"
   ]
  },
  {
   "cell_type": "code",
   "execution_count": 71,
   "id": "004a641c",
   "metadata": {},
   "outputs": [
    {
     "data": {
      "text/plain": [
       "array([[ 5,  6,  2,  7,  1],\n",
       "       [ 4,  7,  3,  3,  8],\n",
       "       [ 5,  2,  4,  7,  3],\n",
       "       [ 2,  5,  3,  1,  4],\n",
       "       [-1, -1, -1, -1, -1]])"
      ]
     },
     "execution_count": 71,
     "metadata": {},
     "output_type": "execute_result"
    }
   ],
   "source": [
    "x"
   ]
  },
  {
   "cell_type": "code",
   "execution_count": 75,
   "id": "e003afb7",
   "metadata": {},
   "outputs": [],
   "source": [
    "a=x[:2,3:]*2"
   ]
  },
  {
   "cell_type": "code",
   "execution_count": 76,
   "id": "1c2851ec",
   "metadata": {},
   "outputs": [
    {
     "data": {
      "text/plain": [
       "array([[14,  2],\n",
       "       [ 6, 16]])"
      ]
     },
     "execution_count": 76,
     "metadata": {},
     "output_type": "execute_result"
    }
   ],
   "source": [
    "a"
   ]
  },
  {
   "cell_type": "markdown",
   "id": "a74df4e8",
   "metadata": {},
   "source": [
    "# 6.Elements Section"
   ]
  },
  {
   "cell_type": "code",
   "execution_count": 77,
   "id": "21829116",
   "metadata": {},
   "outputs": [
    {
     "data": {
      "text/plain": [
       "array([[7, 7, 3, 3, 3],\n",
       "       [4, 5, 5, 5, 5],\n",
       "       [1, 7, 6, 6, 4],\n",
       "       [9, 6, 9, 1, 2],\n",
       "       [7, 8, 8, 4, 6]])"
      ]
     },
     "execution_count": 77,
     "metadata": {},
     "output_type": "execute_result"
    }
   ],
   "source": [
    "a=np.random.randint(1,10,(5,5))\n",
    "a"
   ]
  },
  {
   "cell_type": "code",
   "execution_count": 78,
   "id": "1ac236c6",
   "metadata": {},
   "outputs": [
    {
     "data": {
      "text/plain": [
       "array([7, 7, 4, 5, 5, 5, 5, 7, 6, 6, 4, 9, 6, 9, 7, 8, 8, 4, 6])"
      ]
     },
     "execution_count": 78,
     "metadata": {},
     "output_type": "execute_result"
    }
   ],
   "source": [
    "b=a[a>3]\n",
    "b"
   ]
  },
  {
   "cell_type": "code",
   "execution_count": 79,
   "id": "08e9566c",
   "metadata": {},
   "outputs": [
    {
     "data": {
      "text/plain": [
       "array([4, 6, 6, 4, 6, 2, 8, 8, 4, 6])"
      ]
     },
     "execution_count": 79,
     "metadata": {},
     "output_type": "execute_result"
    }
   ],
   "source": [
    "c=a[a%2==0]\n",
    "c"
   ]
  },
  {
   "cell_type": "code",
   "execution_count": 80,
   "id": "eacc8889",
   "metadata": {},
   "outputs": [
    {
     "data": {
      "text/plain": [
       "array([7, 7, 3, 3, 3, 5, 5, 5, 5, 1, 7, 9, 9, 1, 7])"
      ]
     },
     "execution_count": 80,
     "metadata": {},
     "output_type": "execute_result"
    }
   ],
   "source": [
    "d=a[a%2==1]\n",
    "d"
   ]
  },
  {
   "cell_type": "code",
   "execution_count": 1,
   "id": "ed26cc17",
   "metadata": {},
   "outputs": [],
   "source": [
    "import numpy as np"
   ]
  },
  {
   "cell_type": "code",
   "execution_count": 7,
   "id": "38e01751",
   "metadata": {},
   "outputs": [],
   "source": [
    "l1=np.linspace(1,10,18).reshape(9,2)"
   ]
  },
  {
   "cell_type": "code",
   "execution_count": 8,
   "id": "20581f5c",
   "metadata": {},
   "outputs": [
    {
     "data": {
      "text/plain": [
       "array([[ 1.        ,  1.52941176],\n",
       "       [ 2.05882353,  2.58823529],\n",
       "       [ 3.11764706,  3.64705882],\n",
       "       [ 4.17647059,  4.70588235],\n",
       "       [ 5.23529412,  5.76470588],\n",
       "       [ 6.29411765,  6.82352941],\n",
       "       [ 7.35294118,  7.88235294],\n",
       "       [ 8.41176471,  8.94117647],\n",
       "       [ 9.47058824, 10.        ]])"
      ]
     },
     "execution_count": 8,
     "metadata": {},
     "output_type": "execute_result"
    }
   ],
   "source": [
    "l1"
   ]
  },
  {
   "cell_type": "code",
   "execution_count": 9,
   "id": "da127c7a",
   "metadata": {},
   "outputs": [
    {
     "data": {
      "text/plain": [
       "(9, 2)"
      ]
     },
     "execution_count": 9,
     "metadata": {},
     "output_type": "execute_result"
    }
   ],
   "source": [
    "l1.shape"
   ]
  },
  {
   "cell_type": "code",
   "execution_count": 10,
   "id": "f65a791c",
   "metadata": {},
   "outputs": [],
   "source": [
    "a=np.array([3,5,8,4,7,9]).reshape(3,2)\n",
    "b=np.array([4,6,9,2,4,8]).reshape(3,2)"
   ]
  },
  {
   "cell_type": "code",
   "execution_count": 11,
   "id": "2dec97a1",
   "metadata": {},
   "outputs": [
    {
     "data": {
      "text/plain": [
       "array([[3, 5],\n",
       "       [8, 4],\n",
       "       [7, 9]])"
      ]
     },
     "execution_count": 11,
     "metadata": {},
     "output_type": "execute_result"
    }
   ],
   "source": [
    "a"
   ]
  },
  {
   "cell_type": "code",
   "execution_count": 12,
   "id": "6e5cc103",
   "metadata": {},
   "outputs": [
    {
     "data": {
      "text/plain": [
       "array([[4, 6],\n",
       "       [9, 2],\n",
       "       [4, 8]])"
      ]
     },
     "execution_count": 12,
     "metadata": {},
     "output_type": "execute_result"
    }
   ],
   "source": [
    "b"
   ]
  },
  {
   "cell_type": "code",
   "execution_count": 13,
   "id": "86ef8b76",
   "metadata": {},
   "outputs": [
    {
     "data": {
      "text/plain": [
       "array([[ 7, 11],\n",
       "       [17,  6],\n",
       "       [11, 17]])"
      ]
     },
     "execution_count": 13,
     "metadata": {},
     "output_type": "execute_result"
    }
   ],
   "source": [
    " a+b"
   ]
  },
  {
   "cell_type": "code",
   "execution_count": 14,
   "id": "42f0aae3",
   "metadata": {},
   "outputs": [
    {
     "data": {
      "text/plain": [
       "array([[3, 5],\n",
       "       [8, 4],\n",
       "       [7, 9],\n",
       "       [4, 6],\n",
       "       [9, 2],\n",
       "       [4, 8]])"
      ]
     },
     "execution_count": 14,
     "metadata": {},
     "output_type": "execute_result"
    }
   ],
   "source": [
    "np.concatenate((a,b))"
   ]
  },
  {
   "cell_type": "code",
   "execution_count": 15,
   "id": "37c26da6",
   "metadata": {},
   "outputs": [],
   "source": [
    "h=np.linspace(1,256,256).reshape(4,4,4,4)"
   ]
  },
  {
   "cell_type": "code",
   "execution_count": 16,
   "id": "0f1d18cc",
   "metadata": {},
   "outputs": [
    {
     "data": {
      "text/plain": [
       "array([[[[  1.,   2.,   3.,   4.],\n",
       "         [  5.,   6.,   7.,   8.],\n",
       "         [  9.,  10.,  11.,  12.],\n",
       "         [ 13.,  14.,  15.,  16.]],\n",
       "\n",
       "        [[ 17.,  18.,  19.,  20.],\n",
       "         [ 21.,  22.,  23.,  24.],\n",
       "         [ 25.,  26.,  27.,  28.],\n",
       "         [ 29.,  30.,  31.,  32.]],\n",
       "\n",
       "        [[ 33.,  34.,  35.,  36.],\n",
       "         [ 37.,  38.,  39.,  40.],\n",
       "         [ 41.,  42.,  43.,  44.],\n",
       "         [ 45.,  46.,  47.,  48.]],\n",
       "\n",
       "        [[ 49.,  50.,  51.,  52.],\n",
       "         [ 53.,  54.,  55.,  56.],\n",
       "         [ 57.,  58.,  59.,  60.],\n",
       "         [ 61.,  62.,  63.,  64.]]],\n",
       "\n",
       "\n",
       "       [[[ 65.,  66.,  67.,  68.],\n",
       "         [ 69.,  70.,  71.,  72.],\n",
       "         [ 73.,  74.,  75.,  76.],\n",
       "         [ 77.,  78.,  79.,  80.]],\n",
       "\n",
       "        [[ 81.,  82.,  83.,  84.],\n",
       "         [ 85.,  86.,  87.,  88.],\n",
       "         [ 89.,  90.,  91.,  92.],\n",
       "         [ 93.,  94.,  95.,  96.]],\n",
       "\n",
       "        [[ 97.,  98.,  99., 100.],\n",
       "         [101., 102., 103., 104.],\n",
       "         [105., 106., 107., 108.],\n",
       "         [109., 110., 111., 112.]],\n",
       "\n",
       "        [[113., 114., 115., 116.],\n",
       "         [117., 118., 119., 120.],\n",
       "         [121., 122., 123., 124.],\n",
       "         [125., 126., 127., 128.]]],\n",
       "\n",
       "\n",
       "       [[[129., 130., 131., 132.],\n",
       "         [133., 134., 135., 136.],\n",
       "         [137., 138., 139., 140.],\n",
       "         [141., 142., 143., 144.]],\n",
       "\n",
       "        [[145., 146., 147., 148.],\n",
       "         [149., 150., 151., 152.],\n",
       "         [153., 154., 155., 156.],\n",
       "         [157., 158., 159., 160.]],\n",
       "\n",
       "        [[161., 162., 163., 164.],\n",
       "         [165., 166., 167., 168.],\n",
       "         [169., 170., 171., 172.],\n",
       "         [173., 174., 175., 176.]],\n",
       "\n",
       "        [[177., 178., 179., 180.],\n",
       "         [181., 182., 183., 184.],\n",
       "         [185., 186., 187., 188.],\n",
       "         [189., 190., 191., 192.]]],\n",
       "\n",
       "\n",
       "       [[[193., 194., 195., 196.],\n",
       "         [197., 198., 199., 200.],\n",
       "         [201., 202., 203., 204.],\n",
       "         [205., 206., 207., 208.]],\n",
       "\n",
       "        [[209., 210., 211., 212.],\n",
       "         [213., 214., 215., 216.],\n",
       "         [217., 218., 219., 220.],\n",
       "         [221., 222., 223., 224.]],\n",
       "\n",
       "        [[225., 226., 227., 228.],\n",
       "         [229., 230., 231., 232.],\n",
       "         [233., 234., 235., 236.],\n",
       "         [237., 238., 239., 240.]],\n",
       "\n",
       "        [[241., 242., 243., 244.],\n",
       "         [245., 246., 247., 248.],\n",
       "         [249., 250., 251., 252.],\n",
       "         [253., 254., 255., 256.]]]])"
      ]
     },
     "execution_count": 16,
     "metadata": {},
     "output_type": "execute_result"
    }
   ],
   "source": [
    "h"
   ]
  },
  {
   "cell_type": "code",
   "execution_count": 24,
   "id": "448c9efd",
   "metadata": {},
   "outputs": [],
   "source": [
    "h=np.linspace(1,256,256).reshape(16,4,4)"
   ]
  },
  {
   "cell_type": "code",
   "execution_count": 25,
   "id": "2e2c68cd",
   "metadata": {},
   "outputs": [
    {
     "data": {
      "text/plain": [
       "array([[[  1.,   2.,   3.,   4.],\n",
       "        [  5.,   6.,   7.,   8.],\n",
       "        [  9.,  10.,  11.,  12.],\n",
       "        [ 13.,  14.,  15.,  16.]],\n",
       "\n",
       "       [[ 17.,  18.,  19.,  20.],\n",
       "        [ 21.,  22.,  23.,  24.],\n",
       "        [ 25.,  26.,  27.,  28.],\n",
       "        [ 29.,  30.,  31.,  32.]],\n",
       "\n",
       "       [[ 33.,  34.,  35.,  36.],\n",
       "        [ 37.,  38.,  39.,  40.],\n",
       "        [ 41.,  42.,  43.,  44.],\n",
       "        [ 45.,  46.,  47.,  48.]],\n",
       "\n",
       "       [[ 49.,  50.,  51.,  52.],\n",
       "        [ 53.,  54.,  55.,  56.],\n",
       "        [ 57.,  58.,  59.,  60.],\n",
       "        [ 61.,  62.,  63.,  64.]],\n",
       "\n",
       "       [[ 65.,  66.,  67.,  68.],\n",
       "        [ 69.,  70.,  71.,  72.],\n",
       "        [ 73.,  74.,  75.,  76.],\n",
       "        [ 77.,  78.,  79.,  80.]],\n",
       "\n",
       "       [[ 81.,  82.,  83.,  84.],\n",
       "        [ 85.,  86.,  87.,  88.],\n",
       "        [ 89.,  90.,  91.,  92.],\n",
       "        [ 93.,  94.,  95.,  96.]],\n",
       "\n",
       "       [[ 97.,  98.,  99., 100.],\n",
       "        [101., 102., 103., 104.],\n",
       "        [105., 106., 107., 108.],\n",
       "        [109., 110., 111., 112.]],\n",
       "\n",
       "       [[113., 114., 115., 116.],\n",
       "        [117., 118., 119., 120.],\n",
       "        [121., 122., 123., 124.],\n",
       "        [125., 126., 127., 128.]],\n",
       "\n",
       "       [[129., 130., 131., 132.],\n",
       "        [133., 134., 135., 136.],\n",
       "        [137., 138., 139., 140.],\n",
       "        [141., 142., 143., 144.]],\n",
       "\n",
       "       [[145., 146., 147., 148.],\n",
       "        [149., 150., 151., 152.],\n",
       "        [153., 154., 155., 156.],\n",
       "        [157., 158., 159., 160.]],\n",
       "\n",
       "       [[161., 162., 163., 164.],\n",
       "        [165., 166., 167., 168.],\n",
       "        [169., 170., 171., 172.],\n",
       "        [173., 174., 175., 176.]],\n",
       "\n",
       "       [[177., 178., 179., 180.],\n",
       "        [181., 182., 183., 184.],\n",
       "        [185., 186., 187., 188.],\n",
       "        [189., 190., 191., 192.]],\n",
       "\n",
       "       [[193., 194., 195., 196.],\n",
       "        [197., 198., 199., 200.],\n",
       "        [201., 202., 203., 204.],\n",
       "        [205., 206., 207., 208.]],\n",
       "\n",
       "       [[209., 210., 211., 212.],\n",
       "        [213., 214., 215., 216.],\n",
       "        [217., 218., 219., 220.],\n",
       "        [221., 222., 223., 224.]],\n",
       "\n",
       "       [[225., 226., 227., 228.],\n",
       "        [229., 230., 231., 232.],\n",
       "        [233., 234., 235., 236.],\n",
       "        [237., 238., 239., 240.]],\n",
       "\n",
       "       [[241., 242., 243., 244.],\n",
       "        [245., 246., 247., 248.],\n",
       "        [249., 250., 251., 252.],\n",
       "        [253., 254., 255., 256.]]])"
      ]
     },
     "execution_count": 25,
     "metadata": {},
     "output_type": "execute_result"
    }
   ],
   "source": [
    "h"
   ]
  },
  {
   "cell_type": "code",
   "execution_count": 26,
   "id": "6f9e03ad",
   "metadata": {},
   "outputs": [
    {
     "data": {
      "text/plain": [
       "3"
      ]
     },
     "execution_count": 26,
     "metadata": {},
     "output_type": "execute_result"
    }
   ],
   "source": [
    "h.ndim"
   ]
  },
  {
   "cell_type": "code",
   "execution_count": 27,
   "id": "87ee977d",
   "metadata": {},
   "outputs": [
    {
     "data": {
      "text/plain": [
       "(16, 4, 4)"
      ]
     },
     "execution_count": 27,
     "metadata": {},
     "output_type": "execute_result"
    }
   ],
   "source": [
    "h.shape"
   ]
  },
  {
   "cell_type": "code",
   "execution_count": 33,
   "id": "8fd31342",
   "metadata": {},
   "outputs": [
    {
     "name": "stdout",
     "output_type": "stream",
     "text": [
      "yes\n"
     ]
    }
   ],
   "source": [
    "v=' happy day'\n",
    "if v.find('happy'):\n",
    "    print('yes')\n",
    "else:\n",
    "    print('no')"
   ]
  },
  {
   "cell_type": "code",
   "execution_count": 31,
   "id": "89ad99cb",
   "metadata": {},
   "outputs": [
    {
     "data": {
      "text/plain": [
       "-3"
      ]
     },
     "execution_count": 31,
     "metadata": {},
     "output_type": "execute_result"
    }
   ],
   "source": [
    "-8//3"
   ]
  },
  {
   "cell_type": "code",
   "execution_count": 37,
   "id": "6cb98603",
   "metadata": {},
   "outputs": [
    {
     "name": "stdout",
     "output_type": "stream",
     "text": [
      "1\n"
     ]
    }
   ],
   "source": [
    "v=' happy day'\n",
    "print(v.find('happy'))"
   ]
  },
  {
   "cell_type": "code",
   "execution_count": 39,
   "id": "22210861",
   "metadata": {},
   "outputs": [
    {
     "data": {
      "text/plain": [
       "0"
      ]
     },
     "execution_count": 39,
     "metadata": {},
     "output_type": "execute_result"
    }
   ],
   "source": [
    "1//2"
   ]
  },
  {
   "cell_type": "code",
   "execution_count": 40,
   "id": "bb5ba9ab",
   "metadata": {},
   "outputs": [
    {
     "data": {
      "text/plain": [
       "-1"
      ]
     },
     "execution_count": 40,
     "metadata": {},
     "output_type": "execute_result"
    }
   ],
   "source": [
    "-1//2"
   ]
  },
  {
   "cell_type": "markdown",
   "id": "ddbc3c02",
   "metadata": {},
   "source": [
    "# Arithmetic operations"
   ]
  },
  {
   "cell_type": "code",
   "execution_count": 43,
   "id": "4d3df815",
   "metadata": {},
   "outputs": [],
   "source": [
    "a=np.array([[3,1],[2,-1]])\n",
    "b=np.array([[2,-2],[5,1]])"
   ]
  },
  {
   "cell_type": "code",
   "execution_count": 44,
   "id": "34337e7b",
   "metadata": {},
   "outputs": [
    {
     "data": {
      "text/plain": [
       "array([[ 3,  1],\n",
       "       [ 2, -1]])"
      ]
     },
     "execution_count": 44,
     "metadata": {},
     "output_type": "execute_result"
    }
   ],
   "source": [
    "a"
   ]
  },
  {
   "cell_type": "code",
   "execution_count": 45,
   "id": "098026dc",
   "metadata": {},
   "outputs": [
    {
     "data": {
      "text/plain": [
       "array([[ 2, -2],\n",
       "       [ 5,  1]])"
      ]
     },
     "execution_count": 45,
     "metadata": {},
     "output_type": "execute_result"
    }
   ],
   "source": [
    "b"
   ]
  },
  {
   "cell_type": "code",
   "execution_count": 48,
   "id": "a8963ee3",
   "metadata": {},
   "outputs": [],
   "source": [
    "from numpy.linalg import matrix_power as mpow"
   ]
  },
  {
   "cell_type": "code",
   "execution_count": 49,
   "id": "81361bdd",
   "metadata": {},
   "outputs": [
    {
     "data": {
      "text/plain": [
       "array([[37,  9],\n",
       "       [18,  1]])"
      ]
     },
     "execution_count": 49,
     "metadata": {},
     "output_type": "execute_result"
    }
   ],
   "source": [
    "mpow(a,3)"
   ]
  },
  {
   "cell_type": "code",
   "execution_count": 50,
   "id": "6c82c45e",
   "metadata": {},
   "outputs": [
    {
     "data": {
      "text/plain": [
       "array([[ 6, -2],\n",
       "       [10, -1]])"
      ]
     },
     "execution_count": 50,
     "metadata": {},
     "output_type": "execute_result"
    }
   ],
   "source": [
    "a*b"
   ]
  },
  {
   "cell_type": "code",
   "execution_count": 51,
   "id": "d700833c",
   "metadata": {},
   "outputs": [
    {
     "data": {
      "text/plain": [
       "array([[ 1.5, -0.5],\n",
       "       [ 0.4, -1. ]])"
      ]
     },
     "execution_count": 51,
     "metadata": {},
     "output_type": "execute_result"
    }
   ],
   "source": [
    "a/b"
   ]
  },
  {
   "cell_type": "code",
   "execution_count": 52,
   "id": "8a7dea86",
   "metadata": {},
   "outputs": [
    {
     "data": {
      "text/plain": [
       "array([[ 1,  3],\n",
       "       [-3, -2]])"
      ]
     },
     "execution_count": 52,
     "metadata": {},
     "output_type": "execute_result"
    }
   ],
   "source": [
    "a-b"
   ]
  },
  {
   "cell_type": "code",
   "execution_count": 53,
   "id": "38cee0c5",
   "metadata": {},
   "outputs": [
    {
     "data": {
      "text/plain": [
       "array([[ 5, -1],\n",
       "       [ 7,  0]])"
      ]
     },
     "execution_count": 53,
     "metadata": {},
     "output_type": "execute_result"
    }
   ],
   "source": [
    "a+b"
   ]
  },
  {
   "cell_type": "code",
   "execution_count": 54,
   "id": "9102a4e6",
   "metadata": {},
   "outputs": [
    {
     "data": {
      "text/plain": [
       "array([[9, 1],\n",
       "       [4, 1]], dtype=int32)"
      ]
     },
     "execution_count": 54,
     "metadata": {},
     "output_type": "execute_result"
    }
   ],
   "source": [
    "a**2"
   ]
  },
  {
   "cell_type": "code",
   "execution_count": 55,
   "id": "84ddc28e",
   "metadata": {},
   "outputs": [
    {
     "data": {
      "text/plain": [
       "array([[1, 1],\n",
       "       [0, 1]], dtype=int32)"
      ]
     },
     "execution_count": 55,
     "metadata": {},
     "output_type": "execute_result"
    }
   ],
   "source": [
    "a%2"
   ]
  },
  {
   "cell_type": "code",
   "execution_count": 56,
   "id": "83252075",
   "metadata": {},
   "outputs": [
    {
     "data": {
      "text/plain": [
       "array([[ 1,  0],\n",
       "       [ 1, -1]], dtype=int32)"
      ]
     },
     "execution_count": 56,
     "metadata": {},
     "output_type": "execute_result"
    }
   ],
   "source": [
    "a//2"
   ]
  },
  {
   "cell_type": "code",
   "execution_count": 57,
   "id": "98fae647",
   "metadata": {},
   "outputs": [
    {
     "data": {
      "text/plain": [
       "array([[11, -5],\n",
       "       [-1, -5]])"
      ]
     },
     "execution_count": 57,
     "metadata": {},
     "output_type": "execute_result"
    }
   ],
   "source": [
    "a@b"
   ]
  },
  {
   "cell_type": "code",
   "execution_count": 58,
   "id": "498b0560",
   "metadata": {},
   "outputs": [
    {
     "data": {
      "text/plain": [
       "array([[11,  2],\n",
       "       [ 4,  3]])"
      ]
     },
     "execution_count": 58,
     "metadata": {},
     "output_type": "execute_result"
    }
   ],
   "source": [
    "a@a"
   ]
  },
  {
   "cell_type": "code",
   "execution_count": 60,
   "id": "b63f6a9e",
   "metadata": {},
   "outputs": [
    {
     "name": "stdout",
     "output_type": "stream",
     "text": [
      "[ 8  7  9  7 -3 -2]\n"
     ]
    }
   ],
   "source": [
    "arr=np.array([8,7,9,7,-3,-2])\n",
    "print(arr)"
   ]
  },
  {
   "cell_type": "code",
   "execution_count": 61,
   "id": "f824c744",
   "metadata": {},
   "outputs": [
    {
     "data": {
      "text/plain": [
       "4.333333333333333"
      ]
     },
     "execution_count": 61,
     "metadata": {},
     "output_type": "execute_result"
    }
   ],
   "source": [
    "arr.mean()"
   ]
  },
  {
   "cell_type": "code",
   "execution_count": 62,
   "id": "8fd0d42f",
   "metadata": {},
   "outputs": [
    {
     "data": {
      "text/plain": [
       "26"
      ]
     },
     "execution_count": 62,
     "metadata": {},
     "output_type": "execute_result"
    }
   ],
   "source": [
    "arr.sum()"
   ]
  },
  {
   "cell_type": "code",
   "execution_count": 65,
   "id": "bcbd23a1",
   "metadata": {},
   "outputs": [
    {
     "name": "stdout",
     "output_type": "stream",
     "text": [
      "4.333333333333333\n"
     ]
    }
   ],
   "source": [
    "m=np.sum(arr)/arr.size\n",
    "print(m)"
   ]
  },
  {
   "cell_type": "code",
   "execution_count": null,
   "id": "45880b2d",
   "metadata": {},
   "outputs": [],
   "source": []
  },
  {
   "cell_type": "markdown",
   "id": "079e7aba",
   "metadata": {},
   "source": []
  },
  {
   "cell_type": "code",
   "execution_count": 7,
   "id": "20d0890a",
   "metadata": {},
   "outputs": [],
   "source": [
    "import numpy as np\n",
    "from numpy import random"
   ]
  },
  {
   "cell_type": "code",
   "execution_count": 9,
   "id": "db2afe59",
   "metadata": {},
   "outputs": [
    {
     "name": "stdout",
     "output_type": "stream",
     "text": [
      "[2 3 5 4 6 1]\n"
     ]
    }
   ],
   "source": [
    "arr=np.array([1,2,3,4,5,6])\n",
    "\n",
    "random.shuffle(arr)\n",
    "\n",
    "print(arr)"
   ]
  },
  {
   "cell_type": "code",
   "execution_count": 10,
   "id": "d465061e",
   "metadata": {},
   "outputs": [
    {
     "name": "stdout",
     "output_type": "stream",
     "text": [
      "[5 3 1 4 2]\n"
     ]
    }
   ],
   "source": [
    "arr=np.array([1,2,3,4,5])\n",
    "print(random.permutation(arr))"
   ]
  },
  {
   "cell_type": "code",
   "execution_count": 11,
   "id": "6c0d7c9e",
   "metadata": {},
   "outputs": [
    {
     "data": {
      "text/plain": [
       "array([1, 2, 3, 4, 5])"
      ]
     },
     "execution_count": 11,
     "metadata": {},
     "output_type": "execute_result"
    }
   ],
   "source": [
    "arr"
   ]
  },
  {
   "cell_type": "code",
   "execution_count": 12,
   "id": "85753a7a",
   "metadata": {},
   "outputs": [],
   "source": [
    "arr=np.array([1,2,3,4,899])"
   ]
  },
  {
   "cell_type": "code",
   "execution_count": 14,
   "id": "a37d8203",
   "metadata": {},
   "outputs": [
    {
     "name": "stdout",
     "output_type": "stream",
     "text": [
      "[ 42   2   3   4 899]\n",
      "[ 42   2   3   4 899]\n"
     ]
    }
   ],
   "source": [
    "x=arr.view()\n",
    "arr[0]=42\n",
    "print(arr)\n",
    "print(x)"
   ]
  },
  {
   "cell_type": "code",
   "execution_count": 15,
   "id": "dfab0d46",
   "metadata": {},
   "outputs": [
    {
     "data": {
      "text/plain": [
       "array([ 42,   2,   3,   4, 899])"
      ]
     },
     "execution_count": 15,
     "metadata": {},
     "output_type": "execute_result"
    }
   ],
   "source": [
    "x"
   ]
  },
  {
   "cell_type": "code",
   "execution_count": 16,
   "id": "309a26bb",
   "metadata": {},
   "outputs": [
    {
     "data": {
      "text/plain": [
       "array([ 42,   2,   3,   4, 899])"
      ]
     },
     "execution_count": 16,
     "metadata": {},
     "output_type": "execute_result"
    }
   ],
   "source": [
    "arr"
   ]
  },
  {
   "cell_type": "code",
   "execution_count": 17,
   "id": "5d43017d",
   "metadata": {},
   "outputs": [
    {
     "ename": "AttributeError",
     "evalue": "module 'numpy' has no attribute 'shuffle'",
     "output_type": "error",
     "traceback": [
      "\u001b[1;31m---------------------------------------------------------------------------\u001b[0m",
      "\u001b[1;31mAttributeError\u001b[0m                            Traceback (most recent call last)",
      "Input \u001b[1;32mIn [17]\u001b[0m, in \u001b[0;36m<cell line: 3>\u001b[1;34m()\u001b[0m\n\u001b[0;32m      1\u001b[0m arr\u001b[38;5;241m=\u001b[39mnp\u001b[38;5;241m.\u001b[39marray([\u001b[38;5;241m1\u001b[39m,\u001b[38;5;241m2\u001b[39m,\u001b[38;5;241m3\u001b[39m,\u001b[38;5;241m4\u001b[39m,\u001b[38;5;241m5\u001b[39m,\u001b[38;5;241m6\u001b[39m])\n\u001b[1;32m----> 3\u001b[0m \u001b[43mnp\u001b[49m\u001b[38;5;241;43m.\u001b[39;49m\u001b[43mshuffle\u001b[49m(arr)\n\u001b[0;32m      5\u001b[0m \u001b[38;5;28mprint\u001b[39m(arr)\n",
      "File \u001b[1;32m~\\anaconda3\\lib\\site-packages\\numpy\\__init__.py:313\u001b[0m, in \u001b[0;36m__getattr__\u001b[1;34m(attr)\u001b[0m\n\u001b[0;32m    310\u001b[0m     \u001b[38;5;28;01mfrom\u001b[39;00m \u001b[38;5;21;01m.\u001b[39;00m\u001b[38;5;21;01mtesting\u001b[39;00m \u001b[38;5;28;01mimport\u001b[39;00m Tester\n\u001b[0;32m    311\u001b[0m     \u001b[38;5;28;01mreturn\u001b[39;00m Tester\n\u001b[1;32m--> 313\u001b[0m \u001b[38;5;28;01mraise\u001b[39;00m \u001b[38;5;167;01mAttributeError\u001b[39;00m(\u001b[38;5;124m\"\u001b[39m\u001b[38;5;124mmodule \u001b[39m\u001b[38;5;132;01m{!r}\u001b[39;00m\u001b[38;5;124m has no attribute \u001b[39m\u001b[38;5;124m\"\u001b[39m\n\u001b[0;32m    314\u001b[0m                      \u001b[38;5;124m\"\u001b[39m\u001b[38;5;132;01m{!r}\u001b[39;00m\u001b[38;5;124m\"\u001b[39m\u001b[38;5;241m.\u001b[39mformat(\u001b[38;5;18m__name__\u001b[39m, attr))\n",
      "\u001b[1;31mAttributeError\u001b[0m: module 'numpy' has no attribute 'shuffle'"
     ]
    }
   ],
   "source": [
    "arr=np.array([1,2,3,4,5,6])\n",
    "\n",
    "np.shuffle(arr)\n",
    "\n",
    "print(arr)"
   ]
  },
  {
   "cell_type": "code",
   "execution_count": 23,
   "id": "eebf05ac",
   "metadata": {},
   "outputs": [
    {
     "name": "stdout",
     "output_type": "stream",
     "text": [
      "[array([1, 2, 3, 4]), array([5, 6, 7])]\n"
     ]
    }
   ],
   "source": [
    "arr=np.array([1,2,3,4,5,6,7])\n",
    "newarr=np.array_split(arr,2)\n",
    "print(newarr)"
   ]
  },
  {
   "cell_type": "code",
   "execution_count": 24,
   "id": "b82b4f40",
   "metadata": {},
   "outputs": [
    {
     "name": "stdout",
     "output_type": "stream",
     "text": [
      "(array([3, 4, 6], dtype=int64),)\n"
     ]
    }
   ],
   "source": [
    "arr=np.array([1,2,3,4,4,5,4])\n",
    "x=np.where(arr==4)\n",
    "print(x)"
   ]
  },
  {
   "cell_type": "code",
   "execution_count": 25,
   "id": "bc7b29fb",
   "metadata": {},
   "outputs": [
    {
     "name": "stdout",
     "output_type": "stream",
     "text": [
      "(array([1, 3, 4, 6], dtype=int64),)\n"
     ]
    }
   ],
   "source": [
    "arr=np.array([1,2,3,4,4,5,4])\n",
    "x=np.where(arr%2==0)\n",
    "print(x)"
   ]
  },
  {
   "cell_type": "code",
   "execution_count": 29,
   "id": "1804af70",
   "metadata": {},
   "outputs": [
    {
     "name": "stdout",
     "output_type": "stream",
     "text": [
      "[4 4 0]\n"
     ]
    }
   ],
   "source": [
    "arr=np.array([9,7,8,6,15,20,])\n",
    "x=np.searchsorted(arr,[7,8,6])\n",
    "print(x)"
   ]
  },
  {
   "cell_type": "code",
   "execution_count": 32,
   "id": "dbb3bd3b",
   "metadata": {},
   "outputs": [
    {
     "name": "stdout",
     "output_type": "stream",
     "text": [
      "3\n"
     ]
    }
   ],
   "source": [
    "arr=np.array([9,7,5,9,8,6,15,20,])\n",
    "x=np.searchsorted(arr,7,side='right')\n",
    "print(x)"
   ]
  },
  {
   "cell_type": "code",
   "execution_count": 35,
   "id": "35da9c65",
   "metadata": {},
   "outputs": [
    {
     "name": "stdout",
     "output_type": "stream",
     "text": [
      "8.18\n"
     ]
    }
   ],
   "source": [
    "arr=np.round(8.1766,2)\n",
    "print(arr)"
   ]
  },
  {
   "cell_type": "code",
   "execution_count": 37,
   "id": "c176ccde",
   "metadata": {},
   "outputs": [
    {
     "name": "stdout",
     "output_type": "stream",
     "text": [
      "[-9.  6.]\n"
     ]
    }
   ],
   "source": [
    "arr=np.floor([-8.1666,6.9997])\n",
    "print(arr)"
   ]
  },
  {
   "cell_type": "code",
   "execution_count": 38,
   "id": "4315828a",
   "metadata": {},
   "outputs": [
    {
     "name": "stdout",
     "output_type": "stream",
     "text": [
      "[-8.  7.]\n"
     ]
    }
   ],
   "source": [
    "arr=np.ceil([-8.1666,6.9997])\n",
    "print(arr)"
   ]
  },
  {
   "cell_type": "code",
   "execution_count": 39,
   "id": "1b32a4ce",
   "metadata": {},
   "outputs": [
    {
     "name": "stdout",
     "output_type": "stream",
     "text": [
      "[-8.  6.]\n"
     ]
    }
   ],
   "source": [
    "arr=np.trunc([-8.1666,6.9997])\n",
    "print(arr)"
   ]
  },
  {
   "cell_type": "code",
   "execution_count": 40,
   "id": "131c0cf1",
   "metadata": {},
   "outputs": [
    {
     "name": "stdout",
     "output_type": "stream",
     "text": [
      "72\n"
     ]
    }
   ],
   "source": [
    "num1=9\n",
    "num2=24\n",
    "x=np.lcm(num1,num2)\n",
    "print(x)"
   ]
  },
  {
   "cell_type": "code",
   "execution_count": 42,
   "id": "901e07e2",
   "metadata": {},
   "outputs": [
    {
     "name": "stdout",
     "output_type": "stream",
     "text": [
      "48\n"
     ]
    }
   ],
   "source": [
    "arr=np.array([8,16,24])\n",
    "x=np.lcm.reduce(arr)\n",
    "print(x)"
   ]
  },
  {
   "cell_type": "code",
   "execution_count": 43,
   "id": "4bad37ca",
   "metadata": {},
   "outputs": [
    {
     "name": "stdout",
     "output_type": "stream",
     "text": [
      "232792560\n"
     ]
    }
   ],
   "source": [
    "arr=np.arange(1,20)\n",
    "x=np.lcm.reduce(arr)\n",
    "print(x)"
   ]
  },
  {
   "cell_type": "code",
   "execution_count": 44,
   "id": "988e5a7c",
   "metadata": {},
   "outputs": [
    {
     "name": "stdout",
     "output_type": "stream",
     "text": [
      "[1 2 3 4 5]\n"
     ]
    }
   ],
   "source": [
    "arr=np.array([1,1,1,2,3,4,5,5,5,5])\n",
    "x=np.unique(arr)\n",
    "print(x)"
   ]
  },
  {
   "cell_type": "code",
   "execution_count": 45,
   "id": "b4d0a6ff",
   "metadata": {},
   "outputs": [
    {
     "name": "stdout",
     "output_type": "stream",
     "text": [
      "[2 3 4 5]\n"
     ]
    }
   ],
   "source": [
    "arr1=([1,2,3,4,5])\n",
    "arr2=([2,3,4,5,6])\n",
    "x=np.intersect1d(arr1,arr2)\n",
    "print(x)"
   ]
  },
  {
   "cell_type": "code",
   "execution_count": 46,
   "id": "92dfca16",
   "metadata": {},
   "outputs": [
    {
     "ename": "NameError",
     "evalue": "name 'a' is not defined",
     "output_type": "error",
     "traceback": [
      "\u001b[1;31m---------------------------------------------------------------------------\u001b[0m",
      "\u001b[1;31mNameError\u001b[0m                                 Traceback (most recent call last)",
      "Input \u001b[1;32mIn [46]\u001b[0m, in \u001b[0;36m<cell line: 1>\u001b[1;34m()\u001b[0m\n\u001b[1;32m----> 1\u001b[0m a[\u001b[38;5;241m1\u001b[39m\u001b[38;5;241m-\u001b[39m\u001b[38;5;241m1\u001b[39m]\u001b[38;5;241m=\u001b[39m\u001b[43ma\u001b[49m[\u001b[38;5;241m1\u001b[39m]\n\u001b[0;32m      2\u001b[0m a[\u001b[38;5;241m1\u001b[39m]\u001b[38;5;241m=\u001b[39ma[\u001b[38;5;241m2\u001b[39m]\n\u001b[0;32m      3\u001b[0m a[\u001b[38;5;241m2\u001b[39m]\u001b[38;5;241m=\u001b[39ma[\u001b[38;5;241m3\u001b[39m]\n",
      "\u001b[1;31mNameError\u001b[0m: name 'a' is not defined"
     ]
    }
   ],
   "source": [
    "a[1-1]=a[1]\n",
    "a[1]=a[2]\n",
    "a[2]=a[3]\n",
    "a[3]=a[4]\n",
    "a[4]=a[5]\n",
    "a[5]=a[6]"
   ]
  },
  {
   "cell_type": "code",
   "execution_count": 49,
   "id": "c8de7af5",
   "metadata": {},
   "outputs": [
    {
     "name": "stdout",
     "output_type": "stream",
     "text": [
      "[1, 2, 3, [...]]\n"
     ]
    }
   ],
   "source": [
    "a=[1,2,3]\n",
    "a.append(a)\n",
    "print(a)"
   ]
  },
  {
   "cell_type": "code",
   "execution_count": 53,
   "id": "8d520055",
   "metadata": {},
   "outputs": [
    {
     "name": "stdout",
     "output_type": "stream",
     "text": [
      "a\n",
      "b\n",
      "c\n",
      "c\n"
     ]
    }
   ],
   "source": [
    "x=['a','b','c','d']\n",
    "for x[-1] in x:\n",
    "    print(x[-1])"
   ]
  },
  {
   "cell_type": "code",
   "execution_count": null,
   "id": "ed46090f",
   "metadata": {},
   "outputs": [],
   "source": []
  },
  {
   "cell_type": "code",
   "execution_count": 57,
   "id": "49be3d42",
   "metadata": {},
   "outputs": [
    {
     "data": {
      "text/plain": [
       "368"
      ]
     },
     "execution_count": 57,
     "metadata": {},
     "output_type": "execute_result"
    }
   ],
   "source": [
    "arr=np.array([8,16,23])\n",
    "z=np.lcm.reduce(arr)\n",
    "z"
   ]
  },
  {
   "cell_type": "code",
   "execution_count": 60,
   "id": "9ad6be11",
   "metadata": {},
   "outputs": [
    {
     "name": "stdout",
     "output_type": "stream",
     "text": [
      "Requirement already satisfied: jupyter in c:\\users\\baliy\\anaconda3\\lib\\site-packages (1.0.0)\n",
      "Requirement already satisfied: jupyter-console in c:\\users\\baliy\\anaconda3\\lib\\site-packages (from jupyter) (6.4.0)\n",
      "Requirement already satisfied: nbconvert in c:\\users\\baliy\\anaconda3\\lib\\site-packages (from jupyter) (6.4.4)\n",
      "Requirement already satisfied: ipykernel in c:\\users\\baliy\\anaconda3\\lib\\site-packages (from jupyter) (6.9.1)\n",
      "Requirement already satisfied: ipywidgets in c:\\users\\baliy\\anaconda3\\lib\\site-packages (from jupyter) (7.6.5)\n",
      "Requirement already satisfied: notebook in c:\\users\\baliy\\anaconda3\\lib\\site-packages (from jupyter) (6.4.8)\n",
      "Requirement already satisfied: qtconsole in c:\\users\\baliy\\anaconda3\\lib\\site-packages (from jupyter) (5.3.0)\n",
      "Requirement already satisfied: ipython>=7.23.1 in c:\\users\\baliy\\anaconda3\\lib\\site-packages (from ipykernel->jupyter) (8.2.0)\n",
      "Requirement already satisfied: nest-asyncio in c:\\users\\baliy\\anaconda3\\lib\\site-packages (from ipykernel->jupyter) (1.5.5)\n",
      "Requirement already satisfied: matplotlib-inline<0.2.0,>=0.1.0 in c:\\users\\baliy\\anaconda3\\lib\\site-packages (from ipykernel->jupyter) (0.1.2)\n",
      "Requirement already satisfied: jupyter-client<8.0 in c:\\users\\baliy\\anaconda3\\lib\\site-packages (from ipykernel->jupyter) (6.1.12)\n",
      "Requirement already satisfied: debugpy<2.0,>=1.0.0 in c:\\users\\baliy\\anaconda3\\lib\\site-packages (from ipykernel->jupyter) (1.5.1)\n",
      "Requirement already satisfied: traitlets<6.0,>=5.1.0 in c:\\users\\baliy\\anaconda3\\lib\\site-packages (from ipykernel->jupyter) (5.1.1)\n",
      "Requirement already satisfied: tornado<7.0,>=4.2 in c:\\users\\baliy\\anaconda3\\lib\\site-packages (from ipykernel->jupyter) (6.1)\n",
      "Requirement already satisfied: prompt-toolkit!=3.0.0,!=3.0.1,<3.1.0,>=2.0.0 in c:\\users\\baliy\\anaconda3\\lib\\site-packages (from ipython>=7.23.1->ipykernel->jupyter) (3.0.20)\n",
      "Requirement already satisfied: jedi>=0.16 in c:\\users\\baliy\\anaconda3\\lib\\site-packages (from ipython>=7.23.1->ipykernel->jupyter) (0.18.1)\n",
      "Requirement already satisfied: backcall in c:\\users\\baliy\\anaconda3\\lib\\site-packages (from ipython>=7.23.1->ipykernel->jupyter) (0.2.0)\n",
      "Requirement already satisfied: pickleshare in c:\\users\\baliy\\anaconda3\\lib\\site-packages (from ipython>=7.23.1->ipykernel->jupyter) (0.7.5)\n",
      "Requirement already satisfied: colorama in c:\\users\\baliy\\anaconda3\\lib\\site-packages (from ipython>=7.23.1->ipykernel->jupyter) (0.4.4)\n",
      "Requirement already satisfied: setuptools>=18.5 in c:\\users\\baliy\\anaconda3\\lib\\site-packages (from ipython>=7.23.1->ipykernel->jupyter) (61.2.0)\n",
      "Requirement already satisfied: pygments>=2.4.0 in c:\\users\\baliy\\anaconda3\\lib\\site-packages (from ipython>=7.23.1->ipykernel->jupyter) (2.11.2)\n",
      "Requirement already satisfied: decorator in c:\\users\\baliy\\anaconda3\\lib\\site-packages (from ipython>=7.23.1->ipykernel->jupyter) (5.1.1)\n",
      "Requirement already satisfied: stack-data in c:\\users\\baliy\\anaconda3\\lib\\site-packages (from ipython>=7.23.1->ipykernel->jupyter) (0.2.0)\n",
      "Requirement already satisfied: parso<0.9.0,>=0.8.0 in c:\\users\\baliy\\anaconda3\\lib\\site-packages (from jedi>=0.16->ipython>=7.23.1->ipykernel->jupyter) (0.8.3)\n",
      "Requirement already satisfied: jupyter-core>=4.6.0 in c:\\users\\baliy\\anaconda3\\lib\\site-packages (from jupyter-client<8.0->ipykernel->jupyter) (4.9.2)\n",
      "Requirement already satisfied: pyzmq>=13 in c:\\users\\baliy\\anaconda3\\lib\\site-packages (from jupyter-client<8.0->ipykernel->jupyter) (22.3.0)\n",
      "Requirement already satisfied: python-dateutil>=2.1 in c:\\users\\baliy\\anaconda3\\lib\\site-packages (from jupyter-client<8.0->ipykernel->jupyter) (2.8.2)\n",
      "Note: you may need to restart the kernel to use updated packages.\n",
      "Requirement already satisfied: pywin32>=1.0 in c:\\users\\baliy\\anaconda3\\lib\\site-packages (from jupyter-core>=4.6.0->jupyter-client<8.0->ipykernel->jupyter) (302)\n",
      "Requirement already satisfied: wcwidth in c:\\users\\baliy\\anaconda3\\lib\\site-packages (from prompt-toolkit!=3.0.0,!=3.0.1,<3.1.0,>=2.0.0->ipython>=7.23.1->ipykernel->jupyter) (0.2.5)\n",
      "Requirement already satisfied: six>=1.5 in c:\\users\\baliy\\anaconda3\\lib\\site-packages (from python-dateutil>=2.1->jupyter-client<8.0->ipykernel->jupyter) (1.16.0)\n",
      "Requirement already satisfied: widgetsnbextension~=3.5.0 in c:\\users\\baliy\\anaconda3\\lib\\site-packages (from ipywidgets->jupyter) (3.5.2)\n",
      "Requirement already satisfied: ipython-genutils~=0.2.0 in c:\\users\\baliy\\anaconda3\\lib\\site-packages (from ipywidgets->jupyter) (0.2.0)\n",
      "Requirement already satisfied: nbformat>=4.2.0 in c:\\users\\baliy\\anaconda3\\lib\\site-packages (from ipywidgets->jupyter) (5.3.0)\n",
      "Requirement already satisfied: jupyterlab-widgets>=1.0.0 in c:\\users\\baliy\\anaconda3\\lib\\site-packages (from ipywidgets->jupyter) (1.0.0)\n",
      "Requirement already satisfied: jsonschema>=2.6 in c:\\users\\baliy\\anaconda3\\lib\\site-packages (from nbformat>=4.2.0->ipywidgets->jupyter) (4.4.0)\n",
      "Requirement already satisfied: fastjsonschema in c:\\users\\baliy\\anaconda3\\lib\\site-packages (from nbformat>=4.2.0->ipywidgets->jupyter) (2.15.1)\n",
      "Requirement already satisfied: attrs>=17.4.0 in c:\\users\\baliy\\anaconda3\\lib\\site-packages (from jsonschema>=2.6->nbformat>=4.2.0->ipywidgets->jupyter) (21.4.0)\n",
      "Requirement already satisfied: pyrsistent!=0.17.0,!=0.17.1,!=0.17.2,>=0.14.0 in c:\\users\\baliy\\anaconda3\\lib\\site-packages (from jsonschema>=2.6->nbformat>=4.2.0->ipywidgets->jupyter) (0.18.0)\n",
      "Requirement already satisfied: argon2-cffi in c:\\users\\baliy\\anaconda3\\lib\\site-packages (from notebook->jupyter) (21.3.0)\n",
      "Requirement already satisfied: jinja2 in c:\\users\\baliy\\anaconda3\\lib\\site-packages (from notebook->jupyter) (2.11.3)\n",
      "Requirement already satisfied: terminado>=0.8.3 in c:\\users\\baliy\\anaconda3\\lib\\site-packages (from notebook->jupyter) (0.13.1)\n",
      "Requirement already satisfied: Send2Trash>=1.8.0 in c:\\users\\baliy\\anaconda3\\lib\\site-packages (from notebook->jupyter) (1.8.0)\n",
      "Requirement already satisfied: prometheus-client in c:\\users\\baliy\\anaconda3\\lib\\site-packages (from notebook->jupyter) (0.13.1)\n",
      "Requirement already satisfied: pywinpty>=1.1.0 in c:\\users\\baliy\\anaconda3\\lib\\site-packages (from terminado>=0.8.3->notebook->jupyter) (2.0.2)\n",
      "Requirement already satisfied: argon2-cffi-bindings in c:\\users\\baliy\\anaconda3\\lib\\site-packages (from argon2-cffi->notebook->jupyter) (21.2.0)\n",
      "Requirement already satisfied: cffi>=1.0.1 in c:\\users\\baliy\\anaconda3\\lib\\site-packages (from argon2-cffi-bindings->argon2-cffi->notebook->jupyter) (1.15.0)\n",
      "Requirement already satisfied: pycparser in c:\\users\\baliy\\anaconda3\\lib\\site-packages (from cffi>=1.0.1->argon2-cffi-bindings->argon2-cffi->notebook->jupyter) (2.21)\n",
      "Requirement already satisfied: MarkupSafe>=0.23 in c:\\users\\baliy\\anaconda3\\lib\\site-packages (from jinja2->notebook->jupyter) (2.0.1)\n",
      "Requirement already satisfied: beautifulsoup4 in c:\\users\\baliy\\anaconda3\\lib\\site-packages (from nbconvert->jupyter) (4.11.1)\n",
      "Requirement already satisfied: testpath in c:\\users\\baliy\\anaconda3\\lib\\site-packages (from nbconvert->jupyter) (0.5.0)\n",
      "Requirement already satisfied: entrypoints>=0.2.2 in c:\\users\\baliy\\anaconda3\\lib\\site-packages (from nbconvert->jupyter) (0.4)\n",
      "Requirement already satisfied: jupyterlab-pygments in c:\\users\\baliy\\anaconda3\\lib\\site-packages (from nbconvert->jupyter) (0.1.2)\n",
      "Requirement already satisfied: defusedxml in c:\\users\\baliy\\anaconda3\\lib\\site-packages (from nbconvert->jupyter) (0.7.1)\n",
      "Requirement already satisfied: bleach in c:\\users\\baliy\\anaconda3\\lib\\site-packages (from nbconvert->jupyter) (4.1.0)\n",
      "Requirement already satisfied: pandocfilters>=1.4.1 in c:\\users\\baliy\\anaconda3\\lib\\site-packages (from nbconvert->jupyter) (1.5.0)\n",
      "Requirement already satisfied: mistune<2,>=0.8.1 in c:\\users\\baliy\\anaconda3\\lib\\site-packages (from nbconvert->jupyter) (0.8.4)\n",
      "Requirement already satisfied: nbclient<0.6.0,>=0.5.0 in c:\\users\\baliy\\anaconda3\\lib\\site-packages (from nbconvert->jupyter) (0.5.13)\n",
      "Requirement already satisfied: soupsieve>1.2 in c:\\users\\baliy\\anaconda3\\lib\\site-packages (from beautifulsoup4->nbconvert->jupyter) (2.3.1)\n",
      "Requirement already satisfied: packaging in c:\\users\\baliy\\anaconda3\\lib\\site-packages (from bleach->nbconvert->jupyter) (21.3)\n",
      "Requirement already satisfied: webencodings in c:\\users\\baliy\\anaconda3\\lib\\site-packages (from bleach->nbconvert->jupyter) (0.5.1)\n",
      "Requirement already satisfied: pyparsing!=3.0.5,>=2.0.2 in c:\\users\\baliy\\anaconda3\\lib\\site-packages (from packaging->bleach->nbconvert->jupyter) (3.0.4)\n",
      "Requirement already satisfied: qtpy>=2.0.1 in c:\\users\\baliy\\anaconda3\\lib\\site-packages (from qtconsole->jupyter) (2.0.1)\n",
      "Requirement already satisfied: executing in c:\\users\\baliy\\anaconda3\\lib\\site-packages (from stack-data->ipython>=7.23.1->ipykernel->jupyter) (0.8.3)\n",
      "Requirement already satisfied: pure-eval in c:\\users\\baliy\\anaconda3\\lib\\site-packages (from stack-data->ipython>=7.23.1->ipykernel->jupyter) (0.2.2)\n",
      "Requirement already satisfied: asttokens in c:\\users\\baliy\\anaconda3\\lib\\site-packages (from stack-data->ipython>=7.23.1->ipykernel->jupyter) (2.0.5)\n"
     ]
    }
   ],
   "source": [
    "pip install --upgrade jupyter"
   ]
  },
  {
   "cell_type": "code",
   "execution_count": 61,
   "id": "1d16c142",
   "metadata": {},
   "outputs": [
    {
     "name": "stdout",
     "output_type": "stream",
     "text": [
      "enter the string: hf*876/ug*54\n",
      "fh*678/gu*45\n"
     ]
    }
   ],
   "source": [
    "x=input(\"enter the string: \")\n",
    "a=''\n",
    "b=''\n",
    "for i in x:\n",
    "    if i.isalnum():\n",
    "        a=a+i\n",
    "    else:\n",
    "        b=b+a[::-1]+i\n",
    "        a=''\n",
    "print(b+a[::-1])"
   ]
  },
  {
   "cell_type": "markdown",
   "id": "19cf3950",
   "metadata": {},
   "source": [
    "# elif "
   ]
  },
  {
   "cell_type": "code",
   "execution_count": null,
   "id": "48f63a13",
   "metadata": {},
   "outputs": [],
   "source": [
    "x=int(input(\"Enter the number: \"))         \n",
    "y=int(input(\"Enter the number: \"))\n",
    "z=int(input(\"Enter the number: \"))\n",
    "if x>y>z:\n",
    "    print(x,\"is the largest among them all\")\n",
    "elif y>x>z:\n",
    "    print(y,\"is the largest among them all\")\n",
    "else:\n",
    "    print(z,\"is the largest among them all\")"
   ]
  },
  {
   "cell_type": "code",
   "execution_count": null,
   "id": "3a76cac9",
   "metadata": {},
   "outputs": [],
   "source": []
  },
  {
   "cell_type": "code",
   "execution_count": null,
   "id": "29e8d323",
   "metadata": {},
   "outputs": [],
   "source": []
  }
 ],
 "metadata": {
  "kernelspec": {
   "display_name": "Python 3 (ipykernel)",
   "language": "python",
   "name": "python3"
  },
  "language_info": {
   "codemirror_mode": {
    "name": "ipython",
    "version": 3
   },
   "file_extension": ".py",
   "mimetype": "text/x-python",
   "name": "python",
   "nbconvert_exporter": "python",
   "pygments_lexer": "ipython3",
   "version": "3.9.12"
  }
 },
 "nbformat": 4,
 "nbformat_minor": 5
}
