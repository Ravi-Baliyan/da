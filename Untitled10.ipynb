{
 "cells": [
  {
   "cell_type": "code",
   "execution_count": 33,
   "id": "ea9c5388",
   "metadata": {},
   "outputs": [
    {
     "name": "stdout",
     "output_type": "stream",
     "text": [
      "odd 1\n",
      "even 2\n",
      "odd 3\n"
     ]
    }
   ],
   "source": [
    "l=[1,2,3,4,5]       \n",
    "for i in l[0:3]:     # i=1     i=2\n",
    "    if i%2==0:   # 1%2==0=False      2%2==0=True\n",
    "        print('even',i)           #even 2\n",
    "    else:        # odd 1\n",
    "        print('odd',i)"
   ]
  },
  {
   "cell_type": "code",
   "execution_count": 60,
   "id": "661f7c50",
   "metadata": {},
   "outputs": [
    {
     "name": "stdout",
     "output_type": "stream",
     "text": [
      "7 * 1 = 7                   9 * 1 = 9\n",
      "7 * 2 = 14                   9 * 2 = 18\n",
      "7 * 3 = 21                   9 * 3 = 27\n",
      "7 * 4 = 28                   9 * 4 = 36\n",
      "7 * 5 = 35                   9 * 5 = 45\n",
      "7 * 6 = 42                   9 * 6 = 54\n",
      "7 * 7 = 49                   9 * 7 = 63\n",
      "7 * 8 = 56                   9 * 8 = 72\n",
      "7 * 9 = 63                   9 * 9 = 81\n",
      "7 * 10 = 70                   9 * 10 = 90\n"
     ]
    }
   ],
   "source": [
    "a=7\n",
    "b=9\n",
    "for i in range(1,11):\n",
    "    print(a,'*',i,'=',a*i, '                 ',b,'*',i,'=',b*i)\n",
    "#for i in range(1,11):\n",
    "   # print(b,'*',i,'=',b*i)"
   ]
  },
  {
   "cell_type": "code",
   "execution_count": 53,
   "id": "2f2b40d1",
   "metadata": {},
   "outputs": [
    {
     "name": "stdout",
     "output_type": "stream",
     "text": [
      "7\n",
      "14\n",
      "21\n",
      "28\n",
      "35\n",
      "42\n",
      "49\n",
      "56\n",
      "63\n",
      "70\n"
     ]
    }
   ],
   "source": [
    "for i in range(7,71,7):\n",
    "    print(i)"
   ]
  },
  {
   "cell_type": "code",
   "execution_count": 75,
   "id": "6d04e2cc",
   "metadata": {},
   "outputs": [
    {
     "name": "stdout",
     "output_type": "stream",
     "text": [
      "1\n",
      "2\n",
      "6\n",
      "24\n",
      "120\n",
      "720\n"
     ]
    }
   ],
   "source": [
    "#6 factorial=6*5*4*3*2*1*0\n",
    "a=7\n",
    "x=1\n",
    "for i in range(1,a):\n",
    "    x=x*i\n",
    "    print(x)\n",
    "   "
   ]
  },
  {
   "cell_type": "code",
   "execution_count": null,
   "id": "61108ffe",
   "metadata": {},
   "outputs": [],
   "source": []
  }
 ],
 "metadata": {
  "kernelspec": {
   "display_name": "Python 3 (ipykernel)",
   "language": "python",
   "name": "python3"
  },
  "language_info": {
   "codemirror_mode": {
    "name": "ipython",
    "version": 3
   },
   "file_extension": ".py",
   "mimetype": "text/x-python",
   "name": "python",
   "nbconvert_exporter": "python",
   "pygments_lexer": "ipython3",
   "version": "3.9.12"
  }
 },
 "nbformat": 4,
 "nbformat_minor": 5
}
