{
 "cells": [
  {
   "cell_type": "code",
   "execution_count": 2,
   "id": "02a162a5",
   "metadata": {},
   "outputs": [
    {
     "name": "stdout",
     "output_type": "stream",
     "text": [
      "[11, 8]\n"
     ]
    }
   ],
   "source": [
    "l = [[1,2],[3,4],[4,5]]\n",
    "x=0\n",
    "x1=0\n",
    "b=[]\n",
    "for i in l:\n",
    "    if type(i)==list:\n",
    "        for j in range(len(i)):\n",
    "            if j==1:\n",
    "                x=x+i[j]\n",
    "            else:\n",
    "                x1=x1+i[j]\n",
    "b.append(x)\n",
    "b.append(x1)\n",
    "print(b)"
   ]
  },
  {
   "cell_type": "code",
   "execution_count": 3,
   "id": "ce1380d8",
   "metadata": {},
   "outputs": [
    {
     "name": "stdout",
     "output_type": "stream",
     "text": [
      "[3, 7, 9]\n"
     ]
    }
   ],
   "source": [
    "l = [[1,2],[3,4],[4,5]]\n",
    "x=[]\n",
    "b=[]\n",
    "# l1 = [3 ,7 ,9]\n",
    "\n",
    "# l2 = [8 ,11]\n",
    "for i in l:\n",
    "    s1=0\n",
    "    if type(i)==list:\n",
    "        for j in i:\n",
    "            s1=s1+j\n",
    "    x.append(s1)\n",
    "print(x)"
   ]
  },
  {
   "cell_type": "code",
   "execution_count": null,
   "id": "d3292b3e",
   "metadata": {},
   "outputs": [],
   "source": []
  },
  {
   "cell_type": "code",
   "execution_count": 4,
   "id": "dca801a4",
   "metadata": {},
   "outputs": [
    {
     "name": "stdout",
     "output_type": "stream",
     "text": [
      "[[4, 8, 12, 16, 20, 24, 28, 32, 36, 40], [5, 10, 15, 20, 25, 30, 35, 40, 45, 50], [6, 12, 18, 24, 30, 36, 42, 48, 54, 60], [7, 14, 21, 28, 35, 42, 49, 56, 63, 70], [8, 16, 24, 32, 40, 48, 56, 64, 72, 80]]\n"
     ]
    }
   ],
   "source": [
    "# l = [[4......],[5......] ,[6......],[7.......]]\n",
    "\n",
    "\n",
    "l=[]\n",
    "for i in range(4,9):\n",
    "        l.append([i*j for j in range(1,11)])\n",
    "print(l)    \n"
   ]
  },
  {
   "cell_type": "code",
   "execution_count": 5,
   "id": "bb44181e",
   "metadata": {},
   "outputs": [
    {
     "name": "stdout",
     "output_type": "stream",
     "text": [
      "[50, 2, 50, 3, 50, 50, 4, 50]\n"
     ]
    }
   ],
   "source": [
    "l = [1,2,1,3,1,1,4,1]# l = [50,2,50,3,50,50,4,50]\n",
    "for i in range(len(l)):\n",
    "    if l[i]==1:\n",
    "        l[i]=50\n",
    "print(l)\n"
   ]
  },
  {
   "cell_type": "code",
   "execution_count": null,
   "id": "24c0e073",
   "metadata": {},
   "outputs": [],
   "source": []
  },
  {
   "cell_type": "code",
   "execution_count": null,
   "id": "6bb3944e",
   "metadata": {},
   "outputs": [],
   "source": []
  },
  {
   "cell_type": "code",
   "execution_count": 6,
   "id": "7cc0f16d",
   "metadata": {},
   "outputs": [
    {
     "name": "stdout",
     "output_type": "stream",
     "text": [
      "14\n"
     ]
    }
   ],
   "source": [
    "l = [1,2,[1,3,1,1],4,1]# sum ?\n",
    "sum=0\n",
    "for i in l:\n",
    "    if type(i)==list:\n",
    "        for j in i:\n",
    "                sum=sum+j\n",
    "    else:\n",
    "                sum=sum+i\n",
    "print(sum)\n",
    "        \n",
    "            "
   ]
  },
  {
   "cell_type": "code",
   "execution_count": 7,
   "id": "83200f42",
   "metadata": {},
   "outputs": [
    {
     "name": "stdout",
     "output_type": "stream",
     "text": [
      "[50, 2, [50, 3, 50, 50], 4, 50]\n"
     ]
    }
   ],
   "source": [
    "x=[1,2,[1,3,1,1],4,1]\n",
    "for i in range(len(x)):\n",
    "    if type(x[i])==list:\n",
    "        for j in range(len (x[i])):\n",
    "            if x[i][j]==1:\n",
    "                x[i][j]=50\n",
    "    else:\n",
    "                if x[i]==1:\n",
    "                    x[i]=50\n",
    "print(x)"
   ]
  },
  {
   "cell_type": "code",
   "execution_count": 76,
   "id": "192e8a22",
   "metadata": {},
   "outputs": [],
   "source": [
    "l = [\"nitin\" , \"riya\" , \"tina\"]"
   ]
  },
  {
   "cell_type": "code",
   "execution_count": null,
   "id": "d5e6e958",
   "metadata": {},
   "outputs": [],
   "source": []
  },
  {
   "cell_type": "code",
   "execution_count": 8,
   "id": "edd33aac",
   "metadata": {},
   "outputs": [],
   "source": [
    "import pandas as pd\n",
    "import numpy as np"
   ]
  },
  {
   "cell_type": "code",
   "execution_count": 36,
   "id": "73ddf11f",
   "metadata": {},
   "outputs": [
    {
     "name": "stdout",
     "output_type": "stream",
     "text": [
      "['Ravi', 'vineet']\n",
      "[21, 22]\n"
     ]
    }
   ],
   "source": [
    "d={'name':['Ravi','vineet','Uttam sir','Nikhil Sir'],\n",
    "  'age':[21,22,26,27]}\n",
    "x=pd.Series(d)\n",
    "for i in x:\n",
    "    print(i[0:2])\n"
   ]
  },
  {
   "cell_type": "code",
   "execution_count": 30,
   "id": "815db01f",
   "metadata": {},
   "outputs": [],
   "source": []
  },
  {
   "cell_type": "code",
   "execution_count": null,
   "id": "c6793b4e",
   "metadata": {},
   "outputs": [],
   "source": []
  },
  {
   "cell_type": "code",
   "execution_count": 67,
   "id": "c30f5ffd",
   "metadata": {},
   "outputs": [
    {
     "data": {
      "text/plain": [
       "ravi    12\n",
       "ravi    12\n",
       "ravi    12\n",
       "ravi    12\n",
       "ravi    12\n",
       "        ..\n",
       "ravi    12\n",
       "ravi    12\n",
       "ravi    12\n",
       "ravi    12\n",
       "ravi    12\n",
       "Length: 99, dtype: int64"
      ]
     },
     "execution_count": 67,
     "metadata": {},
     "output_type": "execute_result"
    }
   ],
   "source": [
    "x=pd.Series(12,index=['ravi' for i in range(1,100)])\n",
    "x"
   ]
  },
  {
   "cell_type": "code",
   "execution_count": 54,
   "id": "299f0de4",
   "metadata": {},
   "outputs": [
    {
     "data": {
      "text/plain": [
       "ravi    12\n",
       "ravi    12\n",
       "dtype: int64"
      ]
     },
     "execution_count": 54,
     "metadata": {},
     "output_type": "execute_result"
    }
   ],
   "source": [
    "x.head(2)"
   ]
  },
  {
   "cell_type": "code",
   "execution_count": 53,
   "id": "66ee4d62",
   "metadata": {},
   "outputs": [
    {
     "data": {
      "text/plain": [
       "ravi    12\n",
       "ravi    12\n",
       "dtype: int64"
      ]
     },
     "execution_count": 53,
     "metadata": {},
     "output_type": "execute_result"
    }
   ],
   "source": [
    "x.tail(2)"
   ]
  },
  {
   "cell_type": "code",
   "execution_count": 63,
   "id": "d255565d",
   "metadata": {},
   "outputs": [
    {
     "name": "stdout",
     "output_type": "stream",
     "text": [
      "0    24.0\n",
      "1    24.0\n",
      "2    24.0\n",
      "3    24.0\n",
      "4    24.0\n",
      "5     NaN\n",
      "6     NaN\n",
      "dtype: float64\n"
     ]
    }
   ],
   "source": [
    "x1=pd.Series(data=12,index=[0,1,2,3,4,5,6])\n",
    "x2=pd.Series(data=12,index=[0,1,2,3,4])\n",
    "print(x1+x2)"
   ]
  },
  {
   "cell_type": "code",
   "execution_count": null,
   "id": "98b69e5f",
   "metadata": {},
   "outputs": [],
   "source": []
  }
 ],
 "metadata": {
  "kernelspec": {
   "display_name": "Python 3 (ipykernel)",
   "language": "python",
   "name": "python3"
  },
  "language_info": {
   "codemirror_mode": {
    "name": "ipython",
    "version": 3
   },
   "file_extension": ".py",
   "mimetype": "text/x-python",
   "name": "python",
   "nbconvert_exporter": "python",
   "pygments_lexer": "ipython3",
   "version": "3.9.12"
  }
 },
 "nbformat": 4,
 "nbformat_minor": 5
}
