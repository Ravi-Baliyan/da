{
 "cells": [
  {
   "cell_type": "code",
   "execution_count": 2,
   "id": "1f245fd6",
   "metadata": {},
   "outputs": [
    {
     "name": "stdout",
     "output_type": "stream",
     "text": [
      "<class 'str'>\n"
     ]
    }
   ],
   "source": [
    "a='ewrt23.34'\n",
    "print(type(a))"
   ]
  },
  {
   "cell_type": "code",
   "execution_count": 6,
   "id": "f3daccb6",
   "metadata": {},
   "outputs": [
    {
     "name": "stdout",
     "output_type": "stream",
     "text": [
      "Ewfrgt dfgtyr\n"
     ]
    }
   ],
   "source": [
    "# len()\n",
    "# indexing and slicing \n",
    "x='ewfrgt dfgtyr'\n",
    "print(x.capitalize())\n"
   ]
  },
  {
   "cell_type": "code",
   "execution_count": 4,
   "id": "74a2449a",
   "metadata": {},
   "outputs": [
    {
     "data": {
      "text/plain": [
       "['__add__',\n",
       " '__class__',\n",
       " '__contains__',\n",
       " '__delattr__',\n",
       " '__dir__',\n",
       " '__doc__',\n",
       " '__eq__',\n",
       " '__format__',\n",
       " '__ge__',\n",
       " '__getattribute__',\n",
       " '__getitem__',\n",
       " '__getnewargs__',\n",
       " '__gt__',\n",
       " '__hash__',\n",
       " '__init__',\n",
       " '__init_subclass__',\n",
       " '__iter__',\n",
       " '__le__',\n",
       " '__len__',\n",
       " '__lt__',\n",
       " '__mod__',\n",
       " '__mul__',\n",
       " '__ne__',\n",
       " '__new__',\n",
       " '__reduce__',\n",
       " '__reduce_ex__',\n",
       " '__repr__',\n",
       " '__rmod__',\n",
       " '__rmul__',\n",
       " '__setattr__',\n",
       " '__sizeof__',\n",
       " '__str__',\n",
       " '__subclasshook__',\n",
       " 'capitalize',\n",
       " 'casefold',\n",
       " 'center',\n",
       " 'count',\n",
       " 'encode',\n",
       " 'endswith',\n",
       " 'expandtabs',\n",
       " 'find',\n",
       " 'format',\n",
       " 'format_map',\n",
       " 'index',\n",
       " 'isalnum',\n",
       " 'isalpha',\n",
       " 'isascii',\n",
       " 'isdecimal',\n",
       " 'isdigit',\n",
       " 'isidentifier',\n",
       " 'islower',\n",
       " 'isnumeric',\n",
       " 'isprintable',\n",
       " 'isspace',\n",
       " 'istitle',\n",
       " 'isupper',\n",
       " 'join',\n",
       " 'ljust',\n",
       " 'lower',\n",
       " 'lstrip',\n",
       " 'maketrans',\n",
       " 'partition',\n",
       " 'removeprefix',\n",
       " 'removesuffix',\n",
       " 'replace',\n",
       " 'rfind',\n",
       " 'rindex',\n",
       " 'rjust',\n",
       " 'rpartition',\n",
       " 'rsplit',\n",
       " 'rstrip',\n",
       " 'split',\n",
       " 'splitlines',\n",
       " 'startswith',\n",
       " 'strip',\n",
       " 'swapcase',\n",
       " 'title',\n",
       " 'translate',\n",
       " 'upper',\n",
       " 'zfill']"
      ]
     },
     "execution_count": 4,
     "metadata": {},
     "output_type": "execute_result"
    }
   ],
   "source": [
    "dir(str)"
   ]
  },
  {
   "cell_type": "code",
   "execution_count": 10,
   "id": "745a7bbe",
   "metadata": {},
   "outputs": [
    {
     "name": "stdout",
     "output_type": "stream",
     "text": [
      "2\n"
     ]
    }
   ],
   "source": [
    "# count\n",
    "x='we45434r3e'\n",
    "print(x.count('e'))"
   ]
  },
  {
   "cell_type": "code",
   "execution_count": 12,
   "id": "21f3f68c",
   "metadata": {},
   "outputs": [
    {
     "name": "stdout",
     "output_type": "stream",
     "text": [
      "False\n"
     ]
    }
   ],
   "source": [
    "x='we45434r3e'\n",
    "print(x.endswith('3'))"
   ]
  },
  {
   "cell_type": "code",
   "execution_count": 13,
   "id": "a7396738",
   "metadata": {},
   "outputs": [
    {
     "name": "stdout",
     "output_type": "stream",
     "text": [
      "1\n"
     ]
    }
   ],
   "source": [
    "x='we45434r3e'\n",
    "print(x.find('e'))"
   ]
  },
  {
   "cell_type": "code",
   "execution_count": 15,
   "id": "db02353d",
   "metadata": {},
   "outputs": [
    {
     "name": "stdout",
     "output_type": "stream",
     "text": [
      "10\n"
     ]
    }
   ],
   "source": [
    "x='we45e434r3e'\n",
    "print(x.rfind('e'))"
   ]
  },
  {
   "cell_type": "code",
   "execution_count": 18,
   "id": "c40b6a18",
   "metadata": {},
   "outputs": [
    {
     "name": "stdout",
     "output_type": "stream",
     "text": [
      "False\n"
     ]
    }
   ],
   "source": [
    "x='we1re'\n",
    "print(x.isalpha())#alpha is for alphabet"
   ]
  },
  {
   "cell_type": "code",
   "execution_count": 26,
   "id": "1256c64e",
   "metadata": {},
   "outputs": [
    {
     "name": "stdout",
     "output_type": "stream",
     "text": [
      "True\n"
     ]
    }
   ],
   "source": [
    "x='1234wer'\n",
    "print(x.isalnum())# alnum is for both alphabet and numbers (al-alpha)+(num-numbers)=alnum()"
   ]
  },
  {
   "cell_type": "code",
   "execution_count": 28,
   "id": "2e9119db",
   "metadata": {},
   "outputs": [
    {
     "name": "stdout",
     "output_type": "stream",
     "text": [
      "True\n"
     ]
    }
   ],
   "source": [
    "x='1234'\n",
    "print(x.isdigit())# just for digits"
   ]
  },
  {
   "cell_type": "code",
   "execution_count": 31,
   "id": "34258f3a",
   "metadata": {},
   "outputs": [
    {
     "name": "stdout",
     "output_type": "stream",
     "text": [
      "True\n"
     ]
    }
   ],
   "source": [
    "x='1234'\n",
    "print(x.isnumeric())# For numbers"
   ]
  },
  {
   "cell_type": "code",
   "execution_count": 33,
   "id": "bc6285a7",
   "metadata": {},
   "outputs": [
    {
     "name": "stdout",
     "output_type": "stream",
     "text": [
      "Hello Mam This Side Ravi\n"
     ]
    }
   ],
   "source": [
    "x='hello mam this side ravi'\n",
    "print(x.title())"
   ]
  },
  {
   "cell_type": "code",
   "execution_count": 34,
   "id": "01151dc4",
   "metadata": {},
   "outputs": [
    {
     "name": "stdout",
     "output_type": "stream",
     "text": [
      "o m\n"
     ]
    }
   ],
   "source": [
    "x='Hello mam'\n",
    "print(x[4:7])"
   ]
  },
  {
   "cell_type": "code",
   "execution_count": 35,
   "id": "9124b376",
   "metadata": {},
   "outputs": [
    {
     "name": "stdout",
     "output_type": "stream",
     "text": [
      "mam olleH\n"
     ]
    }
   ],
   "source": [
    "x='Hello mam' #to reverse the string   \n",
    "print(x[::-1])"
   ]
  },
  {
   "cell_type": "code",
   "execution_count": 37,
   "id": "b9657c71",
   "metadata": {},
   "outputs": [
    {
     "name": "stdout",
     "output_type": "stream",
     "text": [
      "mam Hello\n"
     ]
    }
   ],
   "source": [
    "x='Hello mam'\n",
    "print(x[6:]+\" \"+x[0:5])"
   ]
  },
  {
   "cell_type": "code",
   "execution_count": 39,
   "id": "216d1c45",
   "metadata": {},
   "outputs": [
    {
     "name": "stdout",
     "output_type": "stream",
     "text": [
      "HELLO MAM\n"
     ]
    }
   ],
   "source": [
    "x='Hello mam'\n",
    "print(x.upper())"
   ]
  },
  {
   "cell_type": "code",
   "execution_count": 40,
   "id": "438355ab",
   "metadata": {},
   "outputs": [
    {
     "name": "stdout",
     "output_type": "stream",
     "text": [
      "hello mam\n"
     ]
    }
   ],
   "source": [
    "x='Hello mam'\n",
    "print(x.lower())"
   ]
  },
  {
   "cell_type": "code",
   "execution_count": 45,
   "id": "fddcf59f",
   "metadata": {},
   "outputs": [
    {
     "name": "stdout",
     "output_type": "stream",
     "text": [
      "intrviw\n"
     ]
    }
   ],
   "source": [
    "x='interview'\n",
    "print(x.replace('e',''))"
   ]
  },
  {
   "cell_type": "code",
   "execution_count": 58,
   "id": "528b78da",
   "metadata": {},
   "outputs": [
    {
     "name": "stdout",
     "output_type": "stream",
     "text": [
      "Intrveeiew\n"
     ]
    }
   ],
   "source": [
    "x='Interveeiew'\n",
    "print(x.replace('e','',1))"
   ]
  },
  {
   "cell_type": "code",
   "execution_count": 70,
   "id": "7cee6aa6",
   "metadata": {},
   "outputs": [
    {
     "name": "stdout",
     "output_type": "stream",
     "text": [
      "5\n",
      "PrernA MAM\n"
     ]
    }
   ],
   "source": [
    "x='Prerna mam'  \n",
    "a=len(x)//2      #a=5 x[:5]='Prern'\n",
    "print(a)         # a=5 x[a:]    x[5:]='a mam'\n",
    "print(x[:a]+x[a:].upper())"
   ]
  },
  {
   "cell_type": "code",
   "execution_count": 81,
   "id": "58887a8d",
   "metadata": {},
   "outputs": [
    {
     "name": "stdout",
     "output_type": "stream",
     "text": [
      "Enter the alphabet: civic\n",
      "Palindrom\n"
     ]
    }
   ],
   "source": [
    "#palindrome \n",
    "x=input(\"Enter the alphabet: \")\n",
    "if x==x[::-1]:              #civic==civic True\n",
    "    print(\"Palindrom\")\n",
    "else:\n",
    "    print(\"not palindrome\")"
   ]
  },
  {
   "cell_type": "code",
   "execution_count": 87,
   "id": "e8586b05",
   "metadata": {},
   "outputs": [
    {
     "name": "stdout",
     "output_type": "stream",
     "text": [
      "[3, 12, 5, 4, 2]\n"
     ]
    }
   ],
   "source": [
    "#l=[2,3,4,12,2,2,2,4,5,2,4,2]\n",
    "#for i in range(len(l)):\n",
    "#    a=l.pop(0)\n",
    "#    if a not in l:\n",
    "#        l.append(a)\n",
    "#print(l)"
   ]
  },
  {
   "cell_type": "code",
   "execution_count": 1,
   "id": "726412fc",
   "metadata": {},
   "outputs": [
    {
     "name": "stdout",
     "output_type": "stream",
     "text": [
      "56\n",
      "62\n"
     ]
    }
   ],
   "source": [
    "#Q3.Find the last position of a given substring\n",
    "x=\"Emma is a data scientist who knows Python. Emma works at google.\"\n",
    "print(x.rfind(' '))\n",
    "print(x.rindex('e'))"
   ]
  },
  {
   "cell_type": "code",
   "execution_count": 2,
   "id": "346ff55a",
   "metadata": {},
   "outputs": [
    {
     "name": "stdout",
     "output_type": "stream",
     "text": [
      "433\n"
     ]
    }
   ],
   "source": [
    "a=['1','4','3','3']\n",
    "b=a[1]+a[2]+a[3]\n",
    "#output=433\n",
    "print(b)"
   ]
  },
  {
   "cell_type": "code",
   "execution_count": 11,
   "id": "9b1f3d4c",
   "metadata": {},
   "outputs": [
    {
     "name": "stdout",
     "output_type": "stream",
     "text": [
      "HloPen a\n"
     ]
    }
   ],
   "source": [
    "#Q3. Python program to print even length words in a string?\n",
    "x='Hello Prerna mam' #[start:stop:step]\n",
    "b=x[::2]\n",
    "print(b)"
   ]
  },
  {
   "cell_type": "code",
   "execution_count": 13,
   "id": "54a34e69",
   "metadata": {},
   "outputs": [
    {
     "name": "stdout",
     "output_type": "stream",
     "text": [
      "el rramm\n"
     ]
    }
   ],
   "source": [
    "#Q4. Python program to print odd length words in a string?\n",
    "x='Hello Prerna mam'\n",
    "b=x[1::2]\n",
    "print(b)"
   ]
  },
  {
   "cell_type": "code",
   "execution_count": 15,
   "id": "c9309b5b",
   "metadata": {},
   "outputs": [
    {
     "name": "stdout",
     "output_type": "stream",
     "text": [
      "Enter the number: 2\n",
      "Not divisible by 3\n"
     ]
    }
   ],
   "source": [
    "x=int(input(\"Enter the number: \"))\n",
    "if x%3==0:   #x=2   2%3==0 False \n",
    "    if x%7==0:\n",
    "        print(\"It is divisible by both \")\n",
    "    else:\n",
    "        print(\"Not divisible by 7\")\n",
    "else:\n",
    "    print(\"Not divisible by 3\")"
   ]
  },
  {
   "cell_type": "code",
   "execution_count": 17,
   "id": "2b6bee8b",
   "metadata": {},
   "outputs": [
    {
     "name": "stdout",
     "output_type": "stream",
     "text": [
      "Enter the number: 3\n",
      "Not divisible by both\n"
     ]
    }
   ],
   "source": [
    "x=int(input(\"Enter the number: \"))\n",
    "if x%3==0 and x%7==0:\n",
    "    print(\"Divisible by both\")\n",
    "else:\n",
    "    print(\"Not divisible by both\")"
   ]
  },
  {
   "cell_type": "code",
   "execution_count": 24,
   "id": "ae3e9d04",
   "metadata": {},
   "outputs": [
    {
     "name": "stdout",
     "output_type": "stream",
     "text": [
      "6\n",
      "Prerna RAWAL\n"
     ]
    }
   ],
   "source": [
    "x='Prerna Rawal'\n",
    "a=len(x)//2 #6\n",
    "print(a)\n",
    "print( x[:a]+x[a:].upper())"
   ]
  },
  {
   "cell_type": "code",
   "execution_count": 29,
   "id": "b28281f0",
   "metadata": {},
   "outputs": [
    {
     "name": "stdout",
     "output_type": "stream",
     "text": [
      "1 2 3 4 5 6 7 8 9 10 "
     ]
    }
   ],
   "source": [
    "#For loop\n",
    "l=[1,2,3,4,5,6,7,7,7,7]#count no.of elements\n",
    "a=0\n",
    "for i in l:   #i=1 a=0+1=1  #i=2 a=1+1=2  #i=3 a=2+1=3  #i=4  a=3+1=4   #i=5  a=4+1=5 \n",
    "    a=a+1\n",
    "    print(a,end=\" \")"
   ]
  },
  {
   "cell_type": "code",
   "execution_count": 33,
   "id": "5799bbf2",
   "metadata": {},
   "outputs": [
    {
     "name": "stdout",
     "output_type": "stream",
     "text": [
      "49\n"
     ]
    }
   ],
   "source": [
    "l=[1,2,3,4,5,6,7,7,7,7]#sum of all elemwnts in a list \n",
    "b=0\n",
    "for i in l:   #i=1 b=0+1=1  #i=2  b=1+2=3  # i=3  b=3+3=6  #i=4  b=6+4=10\n",
    "    b=b+i\n",
    "print(b)"
   ]
  },
  {
   "cell_type": "code",
   "execution_count": null,
   "id": "c6ac16f4",
   "metadata": {},
   "outputs": [],
   "source": []
  }
 ],
 "metadata": {
  "kernelspec": {
   "display_name": "Python 3 (ipykernel)",
   "language": "python",
   "name": "python3"
  },
  "language_info": {
   "codemirror_mode": {
    "name": "ipython",
    "version": 3
   },
   "file_extension": ".py",
   "mimetype": "text/x-python",
   "name": "python",
   "nbconvert_exporter": "python",
   "pygments_lexer": "ipython3",
   "version": "3.9.12"
  }
 },
 "nbformat": 4,
 "nbformat_minor": 5
}
