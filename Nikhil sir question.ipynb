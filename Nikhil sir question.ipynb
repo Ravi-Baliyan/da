{
 "cells": [
  {
   "cell_type": "markdown",
   "id": "30060099",
   "metadata": {},
   "source": [
    "# WAP to reverse the string before every special caracter"
   ]
  },
  {
   "cell_type": "code",
   "execution_count": 1,
   "id": "0d6c115e",
   "metadata": {},
   "outputs": [
    {
     "name": "stdout",
     "output_type": "stream",
     "text": [
      "Enter the string: jhfe/bef*hgevf\n",
      "efhj/feb*fvegh\n"
     ]
    }
   ],
   "source": [
    "x=input(\"Enter the string: \")\n",
    "a=''\n",
    "b=''\n",
    "for i in x:\n",
    "    if i.isalnum():\n",
    "        a=a+i\n",
    "    else:\n",
    "        b=b+a[::-1]+i\n",
    "        a=''\n",
    "print(b+a[::-1])"
   ]
  },
  {
   "cell_type": "markdown",
   "id": "db68d122",
   "metadata": {},
   "source": [
    "# Wap to print the occurance of currency"
   ]
  },
  {
   "cell_type": "code",
   "execution_count": 4,
   "id": "22e7961e",
   "metadata": {},
   "outputs": [
    {
     "name": "stdout",
     "output_type": "stream",
     "text": [
      "Enter the number: 656\n",
      "{500: 1, 100: 1, 50: 1, 1: 6}\n"
     ]
    }
   ],
   "source": [
    "x=int(input(\"Enter the number: \"))\n",
    "l=[500,200,100,50,10,1]\n",
    "a={}\n",
    "for i in l:\n",
    "    if x>=i:\n",
    "        a[i]=x//i\n",
    "        x=x%i\n",
    "print(a)"
   ]
  },
  {
   "cell_type": "code",
   "execution_count": 3,
   "id": "87c84ada",
   "metadata": {},
   "outputs": [
    {
     "name": "stdout",
     "output_type": "stream",
     "text": [
      "150\n"
     ]
    }
   ],
   "source": [
    "x=650\n",
    "i=500\n",
    "print(x%i)"
   ]
  },
  {
   "cell_type": "markdown",
   "id": "9eb6eb5d",
   "metadata": {},
   "source": []
  },
  {
   "cell_type": "code",
   "execution_count": null,
   "id": "5de439ca",
   "metadata": {},
   "outputs": [],
   "source": []
  },
  {
   "cell_type": "code",
   "execution_count": 4,
   "id": "3dc7eca9",
   "metadata": {},
   "outputs": [
    {
     "data": {
      "text/plain": [
       "150"
      ]
     },
     "execution_count": 4,
     "metadata": {},
     "output_type": "execute_result"
    }
   ],
   "source": [
    "x=650\n",
    "l=500\n",
    "x%l"
   ]
  },
  {
   "cell_type": "code",
   "execution_count": 5,
   "id": "2bf5739d",
   "metadata": {},
   "outputs": [
    {
     "data": {
      "text/plain": [
       "-3"
      ]
     },
     "execution_count": 5,
     "metadata": {},
     "output_type": "execute_result"
    }
   ],
   "source": [
    "-8//3"
   ]
  },
  {
   "cell_type": "code",
   "execution_count": null,
   "id": "0f4b6379",
   "metadata": {},
   "outputs": [],
   "source": []
  },
  {
   "cell_type": "code",
   "execution_count": null,
   "id": "32d906a4",
   "metadata": {},
   "outputs": [],
   "source": []
  },
  {
   "cell_type": "code",
   "execution_count": null,
   "id": "54ed5c1e",
   "metadata": {},
   "outputs": [],
   "source": []
  },
  {
   "cell_type": "code",
   "execution_count": null,
   "id": "19980a3d",
   "metadata": {},
   "outputs": [],
   "source": []
  }
 ],
 "metadata": {
  "kernelspec": {
   "display_name": "Python 3 (ipykernel)",
   "language": "python",
   "name": "python3"
  },
  "language_info": {
   "codemirror_mode": {
    "name": "ipython",
    "version": 3
   },
   "file_extension": ".py",
   "mimetype": "text/x-python",
   "name": "python",
   "nbconvert_exporter": "python",
   "pygments_lexer": "ipython3",
   "version": "3.9.12"
  }
 },
 "nbformat": 4,
 "nbformat_minor": 5
}
