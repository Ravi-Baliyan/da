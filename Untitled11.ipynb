{
 "cells": [
  {
   "cell_type": "code",
   "execution_count": 15,
   "id": "a365bed0",
   "metadata": {},
   "outputs": [
    {
     "name": "stdout",
     "output_type": "stream",
     "text": [
      "Enter the string wd/wef*hd\n",
      "dw/few*dh\n"
     ]
    }
   ],
   "source": [
    "x=input(\"Enter the string \")\n",
    "a=''\n",
    "b=''\n",
    "for i in x:\n",
    "    if i.isalnum():\n",
    "        a=a+i     \n",
    "    else:\n",
    "        b=b+a[::-1]+i\n",
    "        a=''\n",
    "print(b+a[::-1])"
   ]
  },
  {
   "cell_type": "code",
   "execution_count": 18,
   "id": "00ed7c83",
   "metadata": {},
   "outputs": [
    {
     "name": "stdout",
     "output_type": "stream",
     "text": [
      "even 0\n",
      "odd 1\n",
      "even 2\n",
      "odd 3\n",
      "even 4\n",
      "odd 5\n",
      "even 6\n"
     ]
    }
   ],
   "source": [
    "l = [0,1,2,3,4,5,6,]\n",
    "for i in l:\n",
    "    if i%2==0:\n",
    "        print(\"even\",i)\n",
    "    else:\n",
    "        print(\"odd\",i)\n"
   ]
  },
  {
   "cell_type": "code",
   "execution_count": 25,
   "id": "1eb5e621",
   "metadata": {},
   "outputs": [
    {
     "name": "stdout",
     "output_type": "stream",
     "text": [
      "enter the number:5\n",
      "1\n",
      "2\n",
      "6\n",
      "24\n",
      "120\n"
     ]
    }
   ],
   "source": [
    "n = int(input(\"enter the number:\"))\n",
    "x = 1\n",
    "for i in range(1,n+1):\n",
    "    x=x*i     # x=1  i=1   1*1=1\n",
    "              # x=1  i=2   1*2=2\n",
    "              # x=2  i=3   2*3=6\n",
    "              # x=6  i=4   6*4=24\n",
    "              # x=24 i=5   24*5=120\n",
    "    print(x)\n"
   ]
  },
  {
   "cell_type": "code",
   "execution_count": 32,
   "id": "5fab772f",
   "metadata": {},
   "outputs": [
    {
     "name": "stdout",
     "output_type": "stream",
     "text": [
      "6\n",
      "(1, 2, 3, 4, 5)\n"
     ]
    }
   ],
   "source": [
    "t=(1,2,3,4,5,6)\n",
    "a=list(t)\n",
    "\n",
    "x=a.pop()\n",
    "print(x)\n",
    "t=tuple(a)\n",
    "print(t)"
   ]
  },
  {
   "cell_type": "code",
   "execution_count": 35,
   "id": "ee72e4c3",
   "metadata": {},
   "outputs": [],
   "source": [
    "t=(1,2,3)\n",
    "x=list(t)"
   ]
  },
  {
   "cell_type": "code",
   "execution_count": 36,
   "id": "f74e13cc",
   "metadata": {},
   "outputs": [
    {
     "data": {
      "text/plain": [
       "[1, 2, 3]"
      ]
     },
     "execution_count": 36,
     "metadata": {},
     "output_type": "execute_result"
    }
   ],
   "source": [
    "x"
   ]
  },
  {
   "cell_type": "code",
   "execution_count": 38,
   "id": "6ef35872",
   "metadata": {},
   "outputs": [],
   "source": [
    "x[2]=4,5"
   ]
  },
  {
   "cell_type": "code",
   "execution_count": 39,
   "id": "c23f29d3",
   "metadata": {},
   "outputs": [
    {
     "data": {
      "text/plain": [
       "[1, 2, (4, 5)]"
      ]
     },
     "execution_count": 39,
     "metadata": {},
     "output_type": "execute_result"
    }
   ],
   "source": [
    "x"
   ]
  },
  {
   "cell_type": "code",
   "execution_count": null,
   "id": "48f89ef2",
   "metadata": {},
   "outputs": [],
   "source": []
  }
 ],
 "metadata": {
  "kernelspec": {
   "display_name": "Python 3 (ipykernel)",
   "language": "python",
   "name": "python3"
  },
  "language_info": {
   "codemirror_mode": {
    "name": "ipython",
    "version": 3
   },
   "file_extension": ".py",
   "mimetype": "text/x-python",
   "name": "python",
   "nbconvert_exporter": "python",
   "pygments_lexer": "ipython3",
   "version": "3.9.12"
  }
 },
 "nbformat": 4,
 "nbformat_minor": 5
}
