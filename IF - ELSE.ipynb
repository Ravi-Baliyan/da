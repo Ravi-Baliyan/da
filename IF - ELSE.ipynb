{
 "cells": [
  {
   "cell_type": "markdown",
   "id": "67516b74",
   "metadata": {},
   "source": [
    "#  2. Create a variable \"time\" whose value depends on the time entered in the form of integers input\n",
    "# by the user and create a logic that checks:\n",
    "# if the value of \"time\" is less than 12, print \"Good Morning\"\n",
    "# if the value of \"time\" is more than 24, print \"Invalid Input !!!\"\n",
    "# else, print \"Good Afternoon\"\n"
   ]
  },
  {
   "cell_type": "code",
   "execution_count": 1,
   "id": "33d97996",
   "metadata": {},
   "outputs": [
    {
     "name": "stdout",
     "output_type": "stream",
     "text": [
      "Enter the time: 23\n",
      "Invalid Input\n"
     ]
    }
   ],
   "source": [
    "time=int(input(\"Enter the time: \"))\n",
    "if time>12:\n",
    "        print(\"Invalid Input\")\n",
    "else:\n",
    "    print(\"Good Morning\")"
   ]
  },
  {
   "cell_type": "markdown",
   "id": "b4f7da3a",
   "metadata": {},
   "source": [
    "#  1. Create a variable \"a\" whose value depends on the input of the user and develop a logic that if the\n",
    "value of a is less than 10, then set the value of variable \"b\" as 20 and print it, or else set the value of\n",
    "b as 40 and print it. [Print the values using formatted (\"f\") strings.]\n"
   ]
  },
  {
   "cell_type": "code",
   "execution_count": 2,
   "id": "182a8b6f",
   "metadata": {},
   "outputs": [
    {
     "name": "stdout",
     "output_type": "stream",
     "text": [
      "Enter the value: 2\n",
      "b = 20\n"
     ]
    }
   ],
   "source": [
    "a=int(input(\"Enter the value: \"))\n",
    "if a<10:\n",
    "    print(f'b','=',20)\n",
    "else:\n",
    "      print(f'b','=',40)"
   ]
  },
  {
   "cell_type": "code",
   "execution_count": 3,
   "id": "87762b6a",
   "metadata": {},
   "outputs": [
    {
     "name": "stdout",
     "output_type": "stream",
     "text": [
      "Enter the value: 1\n",
      "\n"
     ]
    }
   ],
   "source": [
    "b=0\n",
    "a=int(input(\"Enter the value: \"))\n",
    "if a<10:\n",
    "    b=20\n",
    "    print(f'')\n",
    "else:\n",
    "      print(f'b','=',40)"
   ]
  },
  {
   "cell_type": "markdown",
   "id": "531ce057",
   "metadata": {},
   "source": [
    "# 3. Create a variable \"marks\" which takes input from the user in form of integers of their marks and\n",
    "develops a logic that:\n",
    " if the value of marks is equal to or greater than 75, print True.\n",
    " if the value of marks at the same time is greater than 100, print \"Invalid Input !\".\n",
    " else, print False. "
   ]
  },
  {
   "cell_type": "code",
   "execution_count": 4,
   "id": "12426bcc",
   "metadata": {},
   "outputs": [
    {
     "name": "stdout",
     "output_type": "stream",
     "text": [
      "Enter the marks: 78\n",
      "True\n"
     ]
    }
   ],
   "source": [
    "marks=int(input(\"Enter the marks: \"))\n",
    "if marks>=75 and marks<=100:\n",
    "    print(True)\n",
    "else:\n",
    "    print(\"Invalid Input\")"
   ]
  },
  {
   "cell_type": "markdown",
   "id": "4d8aa404",
   "metadata": {},
   "source": [
    "# 4. Take the user input, if the user gives 1 then it should calculate the area of the circle if the user\n",
    "gives input 2 it calculates the area of the rectangle,"
   ]
  },
  {
   "cell_type": "code",
   "execution_count": 5,
   "id": "3faad325",
   "metadata": {},
   "outputs": [
    {
     "name": "stdout",
     "output_type": "stream",
     "text": [
      "Enter the number: 1\n",
      "Enter the number: 3\n",
      "Enter the number: 4\n",
      "85.59\n"
     ]
    }
   ],
   "source": [
    "x=int(input(\"Enter the number: \"))\n",
    "y=int(input(\"Enter the number: \"))\n",
    "z=int(input(\"Enter the number: \"))\n",
    "if x==1:\n",
    "      print(3.17*y**y)\n",
    "elif x==2:\n",
    "      print(z*y)"
   ]
  },
  {
   "cell_type": "markdown",
   "id": "e1a8828d",
   "metadata": {},
   "source": [
    "#  5. Find whether the given number is one digited or two digited or three digited or more than three\n",
    "digited."
   ]
  },
  {
   "cell_type": "code",
   "execution_count": 6,
   "id": "7d7153e5",
   "metadata": {},
   "outputs": [
    {
     "name": "stdout",
     "output_type": "stream",
     "text": [
      "Enter the number: 12345\n",
      "5 digits\n"
     ]
    }
   ],
   "source": [
    "x=input(\"Enter the number: \")\n",
    "if len(x)>0:\n",
    "    print(len(x),'digits')"
   ]
  },
  {
   "cell_type": "markdown",
   "id": "87770de7",
   "metadata": {},
   "source": [
    "#  6. Write a program that reads three positive numbers a, b, and c, and determines whether they can\n",
    "form the three sides of a triangle."
   ]
  },
  {
   "cell_type": "code",
   "execution_count": 5,
   "id": "aa593f14",
   "metadata": {},
   "outputs": [
    {
     "name": "stdout",
     "output_type": "stream",
     "text": [
      "Enter the number: 1\n",
      "Enter the number: 2\n",
      "Enter the number: 5\n",
      "Not Triangle\n"
     ]
    }
   ],
   "source": [
    "a=int(input(\"Enter the number: \"))\n",
    "b=int(input(\"Enter the number: \"))\n",
    "c=int(input(\"Enter the number: \"))\n",
    "if a+b==c or a+c==b or b+c==a:\n",
    "    print(\"It is Triangle\")\n",
    "else:\n",
    "    print(\"Not Triangle\")"
   ]
  },
  {
   "cell_type": "code",
   "execution_count": null,
   "id": "c95189e0",
   "metadata": {},
   "outputs": [],
   "source": []
  },
  {
   "cell_type": "markdown",
   "id": "f4908918",
   "metadata": {},
   "source": [
    "# 7. A transport company charges the fare according to the following table:\n",
    "# Distance Charges\n",
    "# 1-50 8 Rs./Km\n",
    "# 51-100 10 Rs./Km\n",
    "# > 100 12 Rs/Km\n",
    "# Ask the user to enter the distance and compute the fare"
   ]
  },
  {
   "cell_type": "code",
   "execution_count": 7,
   "id": "eaccf876",
   "metadata": {},
   "outputs": [
    {
     "name": "stdout",
     "output_type": "stream",
     "text": [
      "Enter the number: 122\n",
      "1164\n"
     ]
    }
   ],
   "source": [
    "x=int(input(\"Enter the number: \"))\n",
    "if x>1 and x<50:\n",
    "    print(8*x)\n",
    "elif x>51 and x<=100:\n",
    "    print(400+(x-50)*10)\n",
    "elif x>100:\n",
    "    print(400+500+(x-100)*12)"
   ]
  },
  {
   "cell_type": "markdown",
   "id": "7c052189",
   "metadata": {},
   "source": [
    "# 8. Modify the above question to allow the student to sit if he/she has a medical cause. Ask the user\n",
    "if he/she has a medical cause or not ( 'Y' or 'N' ) and print accordingly.\n",
    " Otherwise, check if the attendance is not 75% he/she can not sit in the exam."
   ]
  },
  {
   "cell_type": "code",
   "execution_count": 8,
   "id": "e25953a6",
   "metadata": {},
   "outputs": [
    {
     "name": "stdout",
     "output_type": "stream",
     "text": [
      "Does it has a medical Cause: Y\n",
      "ENter the percentage: 89\n",
      "He can sit in the xms\n"
     ]
    }
   ],
   "source": [
    "x=input(\"Does it has a medical Cause: \")\n",
    "y=int(input(\"ENter the percentage: \"))\n",
    "if x==\"Y\" and y<75:\n",
    "    print(\"He/She can not sit in the xms\")\n",
    "elif x==\"N\" and y<75:\n",
    "    print(\"He can not sit in the xms\")\n",
    "else:\n",
    "    print(\"He can sit in the xms\")"
   ]
  },
  {
   "cell_type": "markdown",
   "id": "83a06799",
   "metadata": {},
   "source": [
    "# Q9. If is odd, print Weird\n",
    " If is even and in the inclusive range of 2 to 5, print Not Weird\n",
    " If is even and in the inclusive range of 6 to 20, print Weird\n",
    " If is even and greater than 20, print Not Weird\n",
    " Input Format\n",
    " A single line containing a positive integer,n.\n",
    " Constraints\n",
    " 1<n<100\n",
    " Output Format\n"
   ]
  },
  {
   "cell_type": "code",
   "execution_count": 27,
   "id": "6a2a19fc",
   "metadata": {},
   "outputs": [
    {
     "name": "stdout",
     "output_type": "stream",
     "text": [
      "enter a number - 43\n",
      "weird\n"
     ]
    }
   ],
   "source": [
    "a=int(input('enter a number - '))\n",
    "if a%2!=0:\n",
    "    print('weird')\n",
    "else:\n",
    "    if a in range(2,6):\n",
    "        print('not weird')\n",
    "    elif a in range(6,21):\n",
    "        print('weird')\n",
    "    elif a>20:\n",
    "        print('not weird')\n",
    "    else:\n",
    "        print('not valid')"
   ]
  },
  {
   "cell_type": "markdown",
   "id": "073e013c",
   "metadata": {},
   "source": [
    "# 10. Write a program to check whether a number is divisible by 9 or not."
   ]
  },
  {
   "cell_type": "code",
   "execution_count": 9,
   "id": "93363d86",
   "metadata": {},
   "outputs": [
    {
     "name": "stdout",
     "output_type": "stream",
     "text": [
      "Enter the number: 21\n",
      "Not Divisible by: 21\n"
     ]
    }
   ],
   "source": [
    "x=int(input(\"Enter the number: \"))\n",
    "if x%9==0:\n",
    "    print(\"Divisible by:\",x)\n",
    "else:\n",
    "    print(\"Not Divisible by:\",x)"
   ]
  },
  {
   "cell_type": "markdown",
   "id": "aff2f8a5",
   "metadata": {},
   "source": [
    "# 11. Write a program to display \"Hey\" if a number entered by the user is a multiple of 7. otherwise\n",
    "print 'Bye'."
   ]
  },
  {
   "cell_type": "code",
   "execution_count": 10,
   "id": "6536b181",
   "metadata": {},
   "outputs": [
    {
     "name": "stdout",
     "output_type": "stream",
     "text": [
      "Enter the number: 21\n",
      "Hey\n"
     ]
    }
   ],
   "source": [
    "x=int(input(\"Enter the number: \"))\n",
    "if x%7==0:\n",
    "    print(\"Hey\")\n",
    "else:\n",
    "    print(\"Bye\")"
   ]
  },
  {
   "cell_type": "markdown",
   "id": "65084d20",
   "metadata": {},
   "source": [
    "# 12. Write a program to display the first and last digits of a number."
   ]
  },
  {
   "cell_type": "code",
   "execution_count": 32,
   "id": "246a9dea",
   "metadata": {},
   "outputs": [
    {
     "name": "stdout",
     "output_type": "stream",
     "text": [
      "Enter any number : 1234\n",
      "The first digit is: 1 \n",
      "the last digit is: 4 \n"
     ]
    }
   ],
   "source": [
    "x=int(input(\"Enter any number : \"))\n",
    "a= str(x)\n",
    "first=int(a[0])\n",
    "last=int(a[-1])\n",
    "print(f\"The first digit is: {first} \")\n",
    "print(f\"the last digit is: {last} \")"
   ]
  },
  {
   "cell_type": "code",
   "execution_count": null,
   "id": "1201086c",
   "metadata": {},
   "outputs": [],
   "source": []
  },
  {
   "cell_type": "markdown",
   "id": "5a34e2be",
   "metadata": {},
   "source": [
    "# 13. Write a program to check whether the last digit of a number (entered by the user) is divisible by\n",
    "3 or not."
   ]
  },
  {
   "cell_type": "code",
   "execution_count": 14,
   "id": "963fbaa0",
   "metadata": {},
   "outputs": [
    {
     "name": "stdout",
     "output_type": "stream",
     "text": [
      "Enter the number: 236\n",
      "Divisible by:  3\n"
     ]
    }
   ],
   "source": [
    "x=int(input(\"Enter the number: \"))\n",
    "b=x%10\n",
    "if b%3==0:\n",
    "    print(\"Divisible by: \",3)\n",
    "else:\n",
    "    print(\"Not Divisible by: \",3)"
   ]
  },
  {
   "cell_type": "markdown",
   "id": "6e93e860",
   "metadata": {},
   "source": [
    "# 14. Write a program to check whether a character is a vowel or not"
   ]
  },
  {
   "cell_type": "code",
   "execution_count": 17,
   "id": "f8b821b4",
   "metadata": {},
   "outputs": [
    {
     "name": "stdout",
     "output_type": "stream",
     "text": [
      "enter the char: z\n",
      "Not Vowel\n"
     ]
    }
   ],
   "source": [
    "x=input('enter the char: ')\n",
    "if x in \"aeiouAEIOU\":\n",
    "    print(\"Vowel\")\n",
    "else:\n",
    "    print(\"Not Vowel\")"
   ]
  },
  {
   "cell_type": "markdown",
   "id": "e6f34fb1",
   "metadata": {},
   "source": [
    "# 15. Accept the marks of English, Math, and Science, and Social Studies subjects and display the\n",
    "# stream allotted according to the following,\n",
    "# All subjects with more than 80 marks --- Science Stream\n",
    "# English > 80 and Math, Science above 50 -- Commerce Stream\n",
    "# English > 80 and Social Studies > 80 -- Humanities"
   ]
  },
  {
   "cell_type": "markdown",
   "id": "2f72de91",
   "metadata": {},
   "source": []
  },
  {
   "cell_type": "code",
   "execution_count": 7,
   "id": "84ac5830",
   "metadata": {},
   "outputs": [
    {
     "name": "stdout",
     "output_type": "stream",
     "text": [
      "ENter the English marks: 82\n",
      "Enter the Maths marks: 82\n",
      "Enter the Science marks: 53\n",
      "Enter the SocialStudies marks: 34\n",
      "Commerce Stream\n"
     ]
    }
   ],
   "source": [
    "x=int(input(\"ENter the English marks: \"))\n",
    "a=int(input(\"Enter the Maths marks: \"))\n",
    "b=int(input(\"Enter the Science marks: \"))\n",
    "y=int(input(\"Enter the SocialStudies marks: \"))\n",
    "if x>80 and a>80 and b>80 and y>80:\n",
    "    print(\"Science Stream\")\n",
    "elif x>80 and a>80 and b>50 :\n",
    "    print(\"Commerce Stream\")\n",
    "elif x>80 and y>80:\n",
    "    print(\"Humanities\")"
   ]
  },
  {
   "cell_type": "code",
   "execution_count": 2,
   "id": "c031aab4",
   "metadata": {},
   "outputs": [
    {
     "name": "stdout",
     "output_type": "stream",
     "text": [
      "Receptionist------>Hello Sir\n",
      " Customer---Hello i am----> ravi\n",
      "Receptionist------> How Can i Help you sir\n",
      "Custumer--------> tell  me Any room are Aviliable in your hotel\n",
      "Receptionist-----> Yes offcourse sir\n",
      "1. Suggestion Regarding Hotel Rooms\n",
      "2. Available Rooms in Hotel\n",
      "3.Payments for rooms\n",
      "4. Food order and payments\n",
      "enter your choice3\n",
      "1.Single room\n",
      "2.Double room\n",
      "3.sweet_room\n",
      "Plz sir tell me yor choice which room you want to be book:2\n",
      "How many rooms you want to book\n",
      "plz sir tell me numbers2\n",
      "Your Amount Payble for rooms 2\n"
     ]
    },
    {
     "ename": "AttributeError",
     "evalue": "'hotel' object has no attribute 'doub_room_rate'",
     "output_type": "error",
     "traceback": [
      "\u001b[1;31m---------------------------------------------------------------------------\u001b[0m",
      "\u001b[1;31mAttributeError\u001b[0m                            Traceback (most recent call last)",
      "Input \u001b[1;32mIn [2]\u001b[0m, in \u001b[0;36m<cell line: 159>\u001b[1;34m()\u001b[0m\n\u001b[0;32m    168\u001b[0m     \u001b[38;5;28mprint\u001b[39m(\u001b[38;5;124m'\u001b[39m\u001b[38;5;124mWe have a lots of suggestion according to your need\u001b[39m\u001b[38;5;124m'\u001b[39m,obj\u001b[38;5;241m.\u001b[39mBooked_rooms())\n\u001b[0;32m    169\u001b[0m \u001b[38;5;28;01mif\u001b[39;00m choice4\u001b[38;5;241m==\u001b[39m\u001b[38;5;241m3\u001b[39m:\n\u001b[1;32m--> 170\u001b[0m     \u001b[38;5;28mprint\u001b[39m(\u001b[38;5;124m'\u001b[39m\u001b[38;5;124mTotal payment for your booked rooms\u001b[39m\u001b[38;5;124m'\u001b[39m,\u001b[43mobj\u001b[49m\u001b[38;5;241;43m.\u001b[39;49m\u001b[43mpayment\u001b[49m\u001b[43m(\u001b[49m\u001b[43m)\u001b[49m)\n\u001b[0;32m    171\u001b[0m \u001b[38;5;28;01mif\u001b[39;00m choice4\u001b[38;5;241m==\u001b[39m\u001b[38;5;241m4\u001b[39m:\n\u001b[0;32m    172\u001b[0m     \u001b[38;5;28mprint\u001b[39m(\u001b[38;5;124m'\u001b[39m\u001b[38;5;124mTotal Payment Food\u001b[39m\u001b[38;5;124m'\u001b[39m,obj\u001b[38;5;241m.\u001b[39mfood_section())\n",
      "Input \u001b[1;32mIn [2]\u001b[0m, in \u001b[0;36mhotel.payment\u001b[1;34m(self)\u001b[0m\n\u001b[0;32m     95\u001b[0m     b\u001b[38;5;241m=\u001b[39m\u001b[38;5;28mint\u001b[39m(\u001b[38;5;28minput\u001b[39m(\u001b[38;5;124m'\u001b[39m\u001b[38;5;124mplz sir tell me numbers\u001b[39m\u001b[38;5;124m'\u001b[39m))\n\u001b[0;32m     96\u001b[0m     \u001b[38;5;28mprint\u001b[39m(\u001b[38;5;124m'\u001b[39m\u001b[38;5;124mYour Amount Payble for rooms\u001b[39m\u001b[38;5;124m'\u001b[39m,b)\n\u001b[1;32m---> 97\u001b[0m     \u001b[38;5;28;01mreturn\u001b[39;00m \u001b[38;5;28;43mself\u001b[39;49m\u001b[38;5;241;43m.\u001b[39;49m\u001b[43mdoub_room_rate\u001b[49m\u001b[38;5;241m*\u001b[39mb\n\u001b[0;32m     99\u001b[0m \u001b[38;5;28;01mif\u001b[39;00m choice2\u001b[38;5;241m==\u001b[39m\u001b[38;5;241m3\u001b[39m:\n\u001b[0;32m    100\u001b[0m     \u001b[38;5;28mprint\u001b[39m(\u001b[38;5;124m'\u001b[39m\u001b[38;5;124mHow many rooms You wana book:\u001b[39m\u001b[38;5;124m'\u001b[39m)\n",
      "\u001b[1;31mAttributeError\u001b[0m: 'hotel' object has no attribute 'doub_room_rate'"
     ]
    }
   ],
   "source": [
    "class hotel:\n",
    "    def _init_(self,hotel_name='plaza',singl_room=50,doub_room=50,sweet_room=30,singl_room_rate=5000,doub_room_rate=10000,\n",
    "                sweet_room_rate=12000,tea=20,desert=40,break_fast=200,lunch=400):\n",
    "        self.hotel_name=hotel_name\n",
    "        self.singl_room=singl_room\n",
    "        self.doub_room=doub_room\n",
    "        self.sweet_room=sweet_room\n",
    "        self.singl_room_rate=singl_room_rate\n",
    "        self.doub_room_rate=doub_room_rate\n",
    "        self.sweet_room_rate=sweet_room_rate\n",
    "        self.tea=tea\n",
    "        self.desert=desert\n",
    "        self.break_fast=break_fast\n",
    "        self.lunch=lunch\n",
    "        \n",
    "    \n",
    "    def suggestion(self):\n",
    "        \n",
    "        print('Tell me your requirement sir:')\n",
    "        print('How many members you all have:')\n",
    "        choice1=1\n",
    "        while choice1!=0:\n",
    "            print('1. one member')\n",
    "            print('2. couples')\n",
    "            print('3. three members')\n",
    "            print('4. four members')\n",
    "            choice1=int(input('enter your choice'))\n",
    "            if choice1==1:\n",
    "                print('sir i suggest you should chose single room')\n",
    "            if choice1==2:\n",
    "                print('sir i suggest you should chose sweet room')\n",
    "            if choice1==3:\n",
    "                print('sir you should choose double room')\n",
    "            if choice1==4:\n",
    "                print('sir your should take two  single rooms')\n",
    "            if choice1==0:\n",
    "                print('Thankyou for ask')\n",
    "            else:\n",
    "                print('how can i help you sir in another way')\n",
    "                \n",
    "\n",
    "    def Booked_rooms(self):\n",
    "        choice=1\n",
    "        while choice!=0:\n",
    "            print('1.Single Rooms')\n",
    "            print('2. Double Rooms')\n",
    "            print('3. Sweet Rooms')\n",
    "            choice=int(input('enter your choice for rooms'))\n",
    "            \n",
    "        \n",
    "            if choice==1:\n",
    "                print('Single rooms:')\n",
    "                book_room=int(input('Enter Booked room Amount:'))\n",
    "                self.singl_room=self.singl_room-book_room\n",
    "                \n",
    "                return self.single_roon\n",
    "                print('Applicable Rooms',self.singl_room)\n",
    "            if choice==2:\n",
    "                print('Double Rooms:')\n",
    "                book1_room=int(input('enter booked room:'))\n",
    "                self.doub_room=self.doub_room-book1_room\n",
    "                print('Applicable Rooms',self.doub_room)\n",
    "            if choice==3:\n",
    "                print('Sweet_rooms:')\n",
    "                book2_room=int(input('enter booked rooms in hotel:'))\n",
    "                self.sweet_room=self.sweet_room-book2_room\n",
    "                print('Applicable Rooms for Booking:',self.sweet_room)\n",
    "            if choice==0:\n",
    "                print('Anything Else sir')\n",
    "            else:\n",
    "                print('Tell me your Requirement sir')\n",
    "            \n",
    "\n",
    "\n",
    "\n",
    "\n",
    "\n",
    "     \n",
    "    def payment(self):\n",
    "        \n",
    "        choice2=1\n",
    "        while choice2!=0:\n",
    "            print('1.Single room')\n",
    "            print('2.Double room')\n",
    "            print('3.sweet_room')\n",
    "            choice2=int(input('Plz sir tell me yor choice which room you want to be book:'))\n",
    "            if choice2==1:\n",
    "                print('How many room you want to be book:')\n",
    "                a=int(input('enter'))\n",
    "                print('your payble amount is for room:',a)\n",
    "                return self.singl_room_rate*a\n",
    "                \n",
    "            if choice2==2:\n",
    "                print('How many rooms you want to book')\n",
    "                b=int(input('plz sir tell me numbers'))\n",
    "                print('Your Amount Payble for rooms',b)\n",
    "                return self.doub_room_rate*b\n",
    "                \n",
    "            if choice2==3:\n",
    "                print('How many rooms You wana book:')\n",
    "                c=int(input('Plz sir tell me numbers:'))\n",
    "                print('Your payble amount for total room',c)\n",
    "                return self.sweet_room_rate*c\n",
    "            if choice2==0:\n",
    "                print('This is Your room key')\n",
    "            \n",
    "                \n",
    "            else:\n",
    "                print('have a nice day')\n",
    "\n",
    "\n",
    "\n",
    "    def food_section(self):\n",
    "        print('what you wana order:')\n",
    "        choice3=1\n",
    "        while choice3!=0:\n",
    "            print('1.Tea')\n",
    "            print('2. Breakfast')\n",
    "            print('3. Desert')\n",
    "            print('4. Lunch')\n",
    "            choice3=int(input('enter Your choice:'))\n",
    "            if choice3==1:\n",
    "                print('How many number of tea you wana order:')\n",
    "                a1=int(input('enter no of tea'))\n",
    "                print('Thanks for Your order sir Have a Nice Day')\n",
    "                print('Sir Your total Payble Amount for Tea',a1)\n",
    "                return self.tea*a1\n",
    "            if choice3==2:\n",
    "                print('How many numbers of Breakfast plate you want order')\n",
    "                a2=int(input('enter no of plates'))\n",
    "                print('Thanks for Your order sir Have a Nice Day')\n",
    "                print('your total Payble amount for Breakfast:',a2)\n",
    "                return self.break_fast*a2\n",
    "            if choice3==3:\n",
    "                print('How many numbers of Desert plate you want order')\n",
    "                a3=int(input('enter no of plates'))\n",
    "                print('Thanks for Your order sir Have a Nice Day')\n",
    "                print('your total Payble amount for desert:',a3)\n",
    "                return self.desert*a3\n",
    "            if choice3==4:\n",
    "                print('How many numbers of Lunch  Food plates you want order')\n",
    "                a4=int(input('enter no of plates'))\n",
    "                print('Thanks for Your order sir Have a Nice Day')\n",
    "                print('your total Payble amount for Lunch:',a4)\n",
    "                return self.lunch*a4\n",
    "            if choice3==0:\n",
    "                print('Thanks for call to us')\n",
    "            else:\n",
    "                print('Have a Good Day')\n",
    "                \n",
    "                \n",
    "print('Receptionist------>Hello Sir')\n",
    "na_me=input(' Customer---Hello i am----> ')\n",
    "print('Receptionist------> How Can i Help you sir')\n",
    "print('Custumer--------> tell  me Any room are Aviliable in your hotel')\n",
    "print('Receptionist-----> Yes offcourse sir')\n",
    "obj=hotel()\n",
    "choice4=1\n",
    "while choice4!=0:\n",
    "    print('1. Suggestion Regarding Hotel Rooms')\n",
    "    print('2. Available Rooms in Hotel')\n",
    "    print('3.Payments for rooms')\n",
    "    print('4. Food order and payments')\n",
    "    choice4=int(input('enter your choice'))\n",
    "    if choice4==1:\n",
    "        print('In This Hotel lots of rooms are Avaliable what room you wana we should suggest you:',obj.suggestion())\n",
    "    if choice4==2:\n",
    "        print('We have a lots of suggestion according to your need',obj.Booked_rooms())\n",
    "    if choice4==3:\n",
    "        print('Total payment for your booked rooms',obj.payment())\n",
    "    if choice4==4:\n",
    "        print('Total Payment Food',obj.food_section())\n",
    "    if choice4==0:\n",
    "        print('Thanks for vist')\n",
    "    else:\n",
    "        print('Any thing else sir')\n",
    "                   \n",
    "print()"
   ]
  },
  {
   "cell_type": "code",
   "execution_count": null,
   "id": "c77453b0",
   "metadata": {},
   "outputs": [],
   "source": []
  }
 ],
 "metadata": {
  "kernelspec": {
   "display_name": "Python 3 (ipykernel)",
   "language": "python",
   "name": "python3"
  },
  "language_info": {
   "codemirror_mode": {
    "name": "ipython",
    "version": 3
   },
   "file_extension": ".py",
   "mimetype": "text/x-python",
   "name": "python",
   "nbconvert_exporter": "python",
   "pygments_lexer": "ipython3",
   "version": "3.9.12"
  }
 },
 "nbformat": 4,
 "nbformat_minor": 5
}
