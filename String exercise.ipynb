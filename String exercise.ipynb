{
 "cells": [
  {
   "cell_type": "markdown",
   "id": "bfeff49d",
   "metadata": {},
   "source": [
    "# Q1. WAP to check whether it is symmentrical or palindrome."
   ]
  },
  {
   "cell_type": "code",
   "execution_count": 1,
   "id": "3182a7d9",
   "metadata": {},
   "outputs": [
    {
     "name": "stdout",
     "output_type": "stream",
     "text": [
      "Enter the string: civic\n",
      "It is Palindrome\n"
     ]
    }
   ],
   "source": [
    "x=input(\"Enter the string: \")\n",
    "if x==x[::-1]:\n",
    "    print(\"It is Palindrome\")\n",
    "else:\n",
    "    print(\"It is symmetrical\")"
   ]
  },
  {
   "cell_type": "markdown",
   "id": "87a75624",
   "metadata": {},
   "source": [
    "# Q2.Reverse words in a given String in Python"
   ]
  },
  {
   "cell_type": "code",
   "execution_count": 2,
   "id": "3ea69d92",
   "metadata": {},
   "outputs": [
    {
     "name": "stdout",
     "output_type": "stream",
     "text": [
      "enter the string: qWAFSDF\n",
      "FDSFAWq\n"
     ]
    }
   ],
   "source": [
    "x=input(\"enter the string: \")\n",
    "print(x[::-1])"
   ]
  },
  {
   "cell_type": "markdown",
   "id": "af8507ae",
   "metadata": {},
   "source": [
    "# Q3.Ways to remove i’th character from string in Python"
   ]
  },
  {
   "cell_type": "code",
   "execution_count": 3,
   "id": "ac56d62a",
   "metadata": {},
   "outputs": [
    {
     "name": "stdout",
     "output_type": "stream",
     "text": [
      "Enter the string: esgrdhtfiiiii\n",
      "esgrdhtfiiiii\n"
     ]
    }
   ],
   "source": [
    "x=input(\"Enter the string: \")\n",
    "print(x.replace('a','i'))"
   ]
  },
  {
   "cell_type": "markdown",
   "id": "e9450ef0",
   "metadata": {},
   "source": [
    "# Q4.Find length of a string in python (4 ways)"
   ]
  },
  {
   "cell_type": "code",
   "execution_count": 4,
   "id": "20793545",
   "metadata": {},
   "outputs": [
    {
     "name": "stdout",
     "output_type": "stream",
     "text": [
      "Enter the string: \n",
      "0\n"
     ]
    }
   ],
   "source": [
    "x=input(\"Enter the string: \")\n",
    "print(len(x))"
   ]
  },
  {
   "cell_type": "code",
   "execution_count": 5,
   "id": "13be5072",
   "metadata": {},
   "outputs": [
    {
     "name": "stdout",
     "output_type": "stream",
     "text": [
      "ENter the string: \n"
     ]
    }
   ],
   "source": [
    "x=input(\"ENter the string: \")\n",
    "c=0\n",
    "for i in x:\n",
    "    c=c+1\n",
    "    print(c)"
   ]
  },
  {
   "cell_type": "markdown",
   "id": "e89f2999",
   "metadata": {},
   "source": [
    "# Q5. WAP to Avoid Spaces in string length"
   ]
  },
  {
   "cell_type": "code",
   "execution_count": 6,
   "id": "a877886c",
   "metadata": {},
   "outputs": [
    {
     "name": "stdout",
     "output_type": "stream",
     "text": [
      "Enter the string: \n",
      "\n"
     ]
    }
   ],
   "source": [
    "x=input(\"Enter the string: \")\n",
    "print(x.strip())"
   ]
  },
  {
   "cell_type": "markdown",
   "id": "8733f0f9",
   "metadata": {},
   "source": [
    "# Q6. Python program to print even length words in a string"
   ]
  },
  {
   "cell_type": "code",
   "execution_count": 7,
   "id": "a360483f",
   "metadata": {},
   "outputs": [
    {
     "name": "stdout",
     "output_type": "stream",
     "text": [
      "Enter the string: \n",
      "\n"
     ]
    }
   ],
   "source": [
    "x=input(\"Enter the string: \")\n",
    "print(x[::2])"
   ]
  },
  {
   "cell_type": "code",
   "execution_count": 8,
   "id": "df67fd5f",
   "metadata": {},
   "outputs": [
    {
     "name": "stdout",
     "output_type": "stream",
     "text": [
      "Enter the string: \n",
      " "
     ]
    }
   ],
   "source": [
    "x=input(\"Enter the string: \")\n",
    "d=x.split(\" \")\n",
    "for i in d:\n",
    "    if len(i)%2==0:\n",
    "        print(i,end=\" \")"
   ]
  },
  {
   "cell_type": "code",
   "execution_count": 9,
   "id": "8da99551",
   "metadata": {},
   "outputs": [
    {
     "name": "stdout",
     "output_type": "stream",
     "text": [
      "Enter the string: \n",
      "\n"
     ]
    }
   ],
   "source": [
    "n=input(\"Enter the string: \")\n",
    "s=n.split(\" \")\n",
    "for i in s:\n",
    "    if len(i)%2==0:\n",
    "        print(i)"
   ]
  },
  {
   "cell_type": "markdown",
   "id": "2ceeeca8",
   "metadata": {},
   "source": [
    "# Q6.Python – Uppercase Half String"
   ]
  },
  {
   "cell_type": "code",
   "execution_count": 10,
   "id": "7db02b8f",
   "metadata": {},
   "outputs": [
    {
     "name": "stdout",
     "output_type": "stream",
     "text": [
      "Enter the string: \n",
      "\n"
     ]
    }
   ],
   "source": [
    "x=input(\"Enter the string: \")\n",
    "d=len(x)//2\n",
    "z=x[:d]+x[d:].upper()\n",
    "print(z)"
   ]
  },
  {
   "cell_type": "code",
   "execution_count": 11,
   "id": "a4565c05",
   "metadata": {},
   "outputs": [
    {
     "name": "stdout",
     "output_type": "stream",
     "text": [
      "Enter the string: \n"
     ]
    },
    {
     "ename": "ValueError",
     "evalue": "slice step cannot be zero",
     "output_type": "error",
     "traceback": [
      "\u001b[1;31m---------------------------------------------------------------------------\u001b[0m",
      "\u001b[1;31mValueError\u001b[0m                                Traceback (most recent call last)",
      "Input \u001b[1;32mIn [11]\u001b[0m, in \u001b[0;36m<cell line: 3>\u001b[1;34m()\u001b[0m\n\u001b[0;32m      1\u001b[0m x\u001b[38;5;241m=\u001b[39m\u001b[38;5;28minput\u001b[39m(\u001b[38;5;124m\"\u001b[39m\u001b[38;5;124mEnter the string: \u001b[39m\u001b[38;5;124m\"\u001b[39m)\n\u001b[0;32m      2\u001b[0m a\u001b[38;5;241m=\u001b[39m\u001b[38;5;28mlen\u001b[39m(x)\u001b[38;5;241m/\u001b[39m\u001b[38;5;241m/\u001b[39m\u001b[38;5;241m2\u001b[39m\n\u001b[1;32m----> 3\u001b[0m b\u001b[38;5;241m=\u001b[39m\u001b[43mx\u001b[49m\u001b[43m[\u001b[49m\u001b[43m:\u001b[49m\u001b[43m:\u001b[49m\u001b[43ma\u001b[49m\u001b[43m]\u001b[49m\u001b[38;5;241m+\u001b[39mx[a::]\u001b[38;5;241m.\u001b[39mupper()\n\u001b[0;32m      4\u001b[0m \u001b[38;5;28mprint\u001b[39m(b)\n\u001b[0;32m      5\u001b[0m \u001b[38;5;241m7\u001b[39m\u001b[38;5;241m/\u001b[39m\u001b[38;5;241m/\u001b[39m\u001b[38;5;241m2\u001b[39m\n",
      "\u001b[1;31mValueError\u001b[0m: slice step cannot be zero"
     ]
    }
   ],
   "source": [
    "x=input(\"Enter the string: \")\n",
    "a=len(x)//2\n",
    "b=x[::a]+x[a::].upper()\n",
    "print(b)\n",
    "7//2"
   ]
  },
  {
   "cell_type": "markdown",
   "id": "dc80e585",
   "metadata": {},
   "source": [
    "# Q7.Python program to capitalize the first and last character of each word in a string"
   ]
  },
  {
   "cell_type": "code",
   "execution_count": null,
   "id": "e0a0b7fe",
   "metadata": {},
   "outputs": [],
   "source": [
    "x=input(\"Enter the string: \")\n",
    "d=x.split(' ')\n",
    "for i in d:\n",
    "    x=i[0].upper()+i[1:-1]+i[-1].upper()\n",
    "    print(\" \".join(x))"
   ]
  },
  {
   "cell_type": "markdown",
   "id": "cd608fc8",
   "metadata": {},
   "source": [
    "# Q8.Python program to check if a string has at least one letter and one number"
   ]
  },
  {
   "cell_type": "code",
   "execution_count": null,
   "id": "21ba1ae0",
   "metadata": {},
   "outputs": [],
   "source": [
    "x=input(\"Enter the string: \")\n",
    "a=False\n",
    "b=False\n",
    "for i in x:\n",
    "    if i.isalpha():\n",
    "        print(\"Yes it has at least one letter and one number\")\n",
    "        a=True\n",
    "    if i.isdigit():\n",
    "            print(\"Yes it has at least one letter and one number\")\n",
    "            b=True\n",
    "    else:\n",
    "        print(\"It does not have atleast a digit or a number\")"
   ]
  },
  {
   "cell_type": "markdown",
   "id": "969a7f09",
   "metadata": {},
   "source": [
    "# Q9.Python | Program to accept the strings which contains all vowels"
   ]
  },
  {
   "cell_type": "code",
   "execution_count": null,
   "id": "7a3bc471",
   "metadata": {},
   "outputs": [],
   "source": [
    "x=input(\"Enter the string: \")\n",
    "a='aeiouAEIOU'\n",
    "for i in x:\n",
    "    if i in a:\n",
    "        print(\"Vowels\")\n",
    "        break;\n",
    "    else:\n",
    "        print(\"Consonent\")\n",
    "        break;"
   ]
  },
  {
   "cell_type": "markdown",
   "id": "eba9d03c",
   "metadata": {},
   "source": [
    "# Q.10 Python | Count the Number of matching characters in a pair of string"
   ]
  },
  {
   "cell_type": "code",
   "execution_count": null,
   "id": "0a8b7b6d",
   "metadata": {},
   "outputs": [],
   "source": [
    "a=\"motu\"\n",
    "b=\"bdamota\"\n",
    "count=0\n",
    "for i in a:\n",
    "    if i in b:\n",
    "        count+=1\n",
    "        print(count)"
   ]
  },
  {
   "cell_type": "markdown",
   "id": "ccf886ec",
   "metadata": {},
   "source": [
    "# Q11. Python Program to remove all duplicates from a given string"
   ]
  },
  {
   "cell_type": "code",
   "execution_count": null,
   "id": "12ca5ee8",
   "metadata": {},
   "outputs": [],
   "source": [
    "x=input(\"Enter the string: \")\n",
    "a=''\n",
    "for i in x:\n",
    "    if i in x:\n",
    "        print(i)"
   ]
  },
  {
   "cell_type": "markdown",
   "id": "d7433bdb",
   "metadata": {},
   "source": [
    "# *.Advanced Questions of string"
   ]
  },
  {
   "cell_type": "markdown",
   "id": "373fa119",
   "metadata": {},
   "source": [
    "# Q1. Python | Convert numeric words to numbers"
   ]
  },
  {
   "cell_type": "code",
   "execution_count": null,
   "id": "336f61f1",
   "metadata": {},
   "outputs": [],
   "source": [
    "x=input(\"Enter the number: \")\n",
    "if x=='a' or x==\"A\":\n",
    "    print(1)\n",
    "elif x==\"b\" or x==\"B\":\n",
    "    print(2)\n",
    "elif x==\"C\" or x=='c':\n",
    "    print(3)\n",
    "elif x==\"d\" or x==\"D\":\n",
    "    print(4)\n",
    "elif x==\"e\" or x==\"E\":\n",
    "    print(5)\n",
    "elif x==\"f\" or x=='F':\n",
    "    print(6)\n",
    "elif x==\"g\" or x==\"G\":\n",
    "    print(7)\n",
    "elif x==\"h\" or x==\"H\":\n",
    "    print(8)\n",
    "elif x==\"i\" or x=='I':\n",
    "    print(9)\n",
    "elif x==\"J\" or x==\"j\":\n",
    "    print(10)\n",
    "elif x==\"k\" or x==\"K\":\n",
    "    print(11)\n",
    "elif x==\"l\" or x=='L':\n",
    "    print(12)\n",
    "elif x==\"m\" or x==\"M\":\n",
    "    print(13)\n"
   ]
  },
  {
   "cell_type": "markdown",
   "id": "3702f1f8",
   "metadata": {},
   "source": [
    "# WAP to reverse the string"
   ]
  },
  {
   "cell_type": "code",
   "execution_count": null,
   "id": "51acbc06",
   "metadata": {},
   "outputs": [],
   "source": [
    "x=input(\"Enter the string: \")\n",
    "i=0\n",
    "while i<len(x):\n",
    "    i+=1\n",
    "print(x[::-1])"
   ]
  },
  {
   "cell_type": "code",
   "execution_count": null,
   "id": "44dfbb82",
   "metadata": {},
   "outputs": [],
   "source": [
    "x=\"jawbdfGHSWVDJ143254*&^%$#\"\n",
    "a=0\n",
    "b=0\n",
    "c=0\n",
    "p=0\n",
    "q=''\n",
    "w=''\n",
    "e=''\n",
    "t=''\n",
    "for i in x:\n",
    "    if i.isupper():\n",
    "        a=a+1\n",
    "        q=q+i\n",
    "    elif i.islower():\n",
    "        b=b+1\n",
    "        w=w+i\n",
    "    elif i.isdigit():\n",
    "        c=c+1\n",
    "        e=e+i\n",
    "    else:\n",
    "        p=p+1\n",
    "        t=t+i\n",
    "print(a,q)\n",
    "print(b,w)\n",
    "print(c,e)\n",
    "print(p,t)"
   ]
  },
  {
   "cell_type": "code",
   "execution_count": null,
   "id": "b66c4ade",
   "metadata": {},
   "outputs": [],
   "source": [
    "x=['a','b','c','h','d','h',\"h\",'l',\"k\"]\n",
    "i=0\n",
    "while i<len(x):\n",
    "    if x[i]=='h':\n",
    "        x.insert(i,'100')\n",
    "        x.insert(i+2,'100')\n",
    "        i=i+2\n",
    "    else:\n",
    "        i=i+1\n",
    "print(x)\n",
    "        "
   ]
  },
  {
   "cell_type": "code",
   "execution_count": null,
   "id": "dfd82556",
   "metadata": {},
   "outputs": [],
   "source": [
    "s='Initial Interest'\n",
    "print(s.replace('i',''))"
   ]
  },
  {
   "cell_type": "code",
   "execution_count": null,
   "id": "020d15e1",
   "metadata": {},
   "outputs": [],
   "source": [
    "s=['4 ','A','C','H','I','E','V','E','R','S']\n",
    "print(''.join(s))"
   ]
  },
  {
   "cell_type": "code",
   "execution_count": null,
   "id": "0c664d8a",
   "metadata": {},
   "outputs": [],
   "source": [
    "x=['1','2','3','4']\n",
    "print(x[3]+x[2]+x[2])"
   ]
  },
  {
   "cell_type": "code",
   "execution_count": null,
   "id": "a1556d6b",
   "metadata": {},
   "outputs": [],
   "source": [
    "a='Interview'\n",
    "print(a.replace('e','-',1))"
   ]
  },
  {
   "cell_type": "code",
   "execution_count": null,
   "id": "01e9ca62",
   "metadata": {},
   "outputs": [],
   "source": [
    "l=[[]]\n",
    "z=l*10\n",
    "z[1].append(5)\n",
    "print(z)"
   ]
  },
  {
   "cell_type": "code",
   "execution_count": null,
   "id": "bff9d538",
   "metadata": {},
   "outputs": [],
   "source": [
    "x='this is my cat and i love it!'      #output: 'is this cat my I and it love'\n",
    "z=x.replace('this','is')\n",
    "b=z[3:5].replace('is','this')\n",
    "a=z[0:3]+b+\" \"+z[6:]\n",
    "a\n",
    "\n"
   ]
  },
  {
   "cell_type": "code",
   "execution_count": null,
   "id": "707aa22a",
   "metadata": {},
   "outputs": [],
   "source": [
    "x=input(:Enter the number: )"
   ]
  },
  {
   "cell_type": "code",
   "execution_count": null,
   "id": "26a843fb",
   "metadata": {},
   "outputs": [],
   "source": [
    "a='b'\n",
    "print(a*7)"
   ]
  },
  {
   "cell_type": "code",
   "execution_count": null,
   "id": "0e29ce1c",
   "metadata": {},
   "outputs": [],
   "source": [
    "13/2000*100"
   ]
  },
  {
   "cell_type": "code",
   "execution_count": null,
   "id": "bc946974",
   "metadata": {},
   "outputs": [],
   "source": [
    "65/2000"
   ]
  },
  {
   "cell_type": "code",
   "execution_count": null,
   "id": "eed62c01",
   "metadata": {},
   "outputs": [],
   "source": []
  },
  {
   "cell_type": "code",
   "execution_count": null,
   "id": "b923e9ae",
   "metadata": {},
   "outputs": [],
   "source": [
    "def Home():   \n",
    "    print(\" WELCOME TO HOTEL SIR\")\n",
    "    print(\" 1 Booking\\n\")\n",
    "    print(\"2 Rooms Info\\n\")\n",
    "    print(\" 3 Room Service(Menu Card)\\n\")\n",
    "    print(\" 4 Payment\\n\")\n",
    "    print(\" 5 Record\\n\")\n",
    "    print(\" 0 Exit\\n\")  \n",
    "    ch=int(input(\"->\"))  \n",
    "    if ch == 1:\n",
    "        print(\" \")\n",
    "        Booking()    \n",
    "    elif ch == 2:\n",
    "        print(\" \")\n",
    "        Rooms_Info()     \n",
    "    elif ch == 3:\n",
    "        print(\" \")\n",
    "        restaurant()    \n",
    "    elif ch == 4:\n",
    "        print(\" \")\n",
    "        Payment()    \n",
    "    elif ch == 5:\n",
    "        print(\" \")\n",
    "        Record()    \n",
    "    else:\n",
    "        exit()\n",
    "def Rooms_Info():\n",
    "    print(\"         ------ HOTEL ROOMS INFO ------\")\n",
    "    print(\"\")\n",
    "    print(\"STANDARD NON-AC\")\n",
    "    print(\"---------------------------------------------------------------\")\n",
    "    print(\"Room amenities include: 1 Double Bed, Television, Telephone,\")\n",
    "    print(\"Double-Door Cupboard, 1 Coffee table with 2 sofa, Balcony and\")\n",
    "    print(\"an attached washroom with hot/cold water.\\n\")\n",
    "    print(\"STANDARD NON-AC\")\n",
    "    print(\"---------------------------------------------------------------\")\n",
    "    print(\"Room amenities include: 1 Double Bed, Television, Telephone,\")\n",
    "    print(\"Double-Door Cupboard, 1 Coffee table with 2 sofa, Balcony and\")\n",
    "    print(\"an attached washroom with hot/cold water + Window/Split AC.\\n\")\n",
    "    print(\"3-Bed NON-AC\")\n",
    "    print(\"---------------------------------------------------------------\")\n",
    "    print(\"Room amenities include: 1 Double Bed + 1 Single Bed, Television,\")\n",
    "    print(\"Telephone, a Triple-Door Cupboard, 1 Coffee table with 2 sofa, 1\")\n",
    "    print(\"Side table, Balcony with an Accent table with 2 Chair and an\")\n",
    "    print(\"attached washroom with hot/cold water.\\n\")\n",
    "    print(\"3-Bed AC\")\n",
    "    print(\"---------------------------------------------------------------\")\n",
    "    print(\"Room amenities include: 1 Double Bed + 1 Single Bed, Television,\")\n",
    "    print(\"Telephone, a Triple-Door Cupboard, 1 Coffee table with 2 sofa, \")\n",
    "    print(\"1 Side table, Balcony with an Accent table with 2 Chair and an\")\n",
    "    print(\"attached washroom with hot/cold water + Window/Split AC.\\n\\n\")\n",
    "    print()\n",
    "    n=int(input(\"0-BACK\\n ->\"))\n",
    "    if n==0:\n",
    "        Home()\n",
    "    else:\n",
    "        exit()\n",
    "home()"
   ]
  },
  {
   "cell_type": "code",
   "execution_count": null,
   "id": "b32d19ff",
   "metadata": {},
   "outputs": [],
   "source": [
    "a='efhskj234.34'\n",
    "print(type(a))"
   ]
  },
  {
   "cell_type": "code",
   "execution_count": null,
   "id": "bb1df6ac",
   "metadata": {},
   "outputs": [],
   "source": [
    "their are 4 types of data types\n",
    "1.integers=numeric values=Methametical operators\n",
    "2.float=which contains decimal in the value\n",
    "3.string=coats(\"34.345\")\n",
    "4.boolean=True False\n"
   ]
  },
  {
   "cell_type": "markdown",
   "id": "2e6e0f43",
   "metadata": {},
   "source": [
    "# String"
   ]
  },
  {
   "cell_type": "code",
   "execution_count": null,
   "id": "7d30b9ef",
   "metadata": {},
   "outputs": [],
   "source": [
    "1.len()\n",
    "2. indexing and slicing"
   ]
  },
  {
   "cell_type": "code",
   "execution_count": 12,
   "id": "a64ac32d",
   "metadata": {},
   "outputs": [
    {
     "data": {
      "text/plain": [
       "['__add__',\n",
       " '__class__',\n",
       " '__contains__',\n",
       " '__delattr__',\n",
       " '__dir__',\n",
       " '__doc__',\n",
       " '__eq__',\n",
       " '__format__',\n",
       " '__ge__',\n",
       " '__getattribute__',\n",
       " '__getitem__',\n",
       " '__getnewargs__',\n",
       " '__gt__',\n",
       " '__hash__',\n",
       " '__init__',\n",
       " '__init_subclass__',\n",
       " '__iter__',\n",
       " '__le__',\n",
       " '__len__',\n",
       " '__lt__',\n",
       " '__mod__',\n",
       " '__mul__',\n",
       " '__ne__',\n",
       " '__new__',\n",
       " '__reduce__',\n",
       " '__reduce_ex__',\n",
       " '__repr__',\n",
       " '__rmod__',\n",
       " '__rmul__',\n",
       " '__setattr__',\n",
       " '__sizeof__',\n",
       " '__str__',\n",
       " '__subclasshook__',\n",
       " 'capitalize',\n",
       " 'casefold',\n",
       " 'center',\n",
       " 'count',\n",
       " 'encode',\n",
       " 'endswith',\n",
       " 'expandtabs',\n",
       " 'find',\n",
       " 'format',\n",
       " 'format_map',\n",
       " 'index',\n",
       " 'isalnum',\n",
       " 'isalpha',\n",
       " 'isascii',\n",
       " 'isdecimal',\n",
       " 'isdigit',\n",
       " 'isidentifier',\n",
       " 'islower',\n",
       " 'isnumeric',\n",
       " 'isprintable',\n",
       " 'isspace',\n",
       " 'istitle',\n",
       " 'isupper',\n",
       " 'join',\n",
       " 'ljust',\n",
       " 'lower',\n",
       " 'lstrip',\n",
       " 'maketrans',\n",
       " 'partition',\n",
       " 'removeprefix',\n",
       " 'removesuffix',\n",
       " 'replace',\n",
       " 'rfind',\n",
       " 'rindex',\n",
       " 'rjust',\n",
       " 'rpartition',\n",
       " 'rsplit',\n",
       " 'rstrip',\n",
       " 'split',\n",
       " 'splitlines',\n",
       " 'startswith',\n",
       " 'strip',\n",
       " 'swapcase',\n",
       " 'title',\n",
       " 'translate',\n",
       " 'upper',\n",
       " 'zfill']"
      ]
     },
     "execution_count": 12,
     "metadata": {},
     "output_type": "execute_result"
    }
   ],
   "source": [
    "dir(str)"
   ]
  },
  {
   "cell_type": "code",
   "execution_count": null,
   "id": "41b8a0c7",
   "metadata": {},
   "outputs": [],
   "source": [
    "x='adsf afsf'\n",
    "print(x.capitalize())"
   ]
  },
  {
   "cell_type": "code",
   "execution_count": null,
   "id": "a763263b",
   "metadata": {},
   "outputs": [],
   "source": [
    "x='my name is kaushal'\n",
    "print(x.title())"
   ]
  },
  {
   "cell_type": "code",
   "execution_count": null,
   "id": "7594cc81",
   "metadata": {},
   "outputs": [],
   "source": [
    "x='my name is kaushal'\n",
    "print(x.count('n'))"
   ]
  },
  {
   "cell_type": "code",
   "execution_count": null,
   "id": "010682d5",
   "metadata": {},
   "outputs": [],
   "source": [
    "x='Kaushal'\n",
    "print(x.isalpha())  #alpha for alphabet"
   ]
  },
  {
   "cell_type": "code",
   "execution_count": null,
   "id": "2e4bab9e",
   "metadata": {},
   "outputs": [],
   "source": [
    "x='123'\n",
    "print(x.isdigit())  # digits for numbers"
   ]
  },
  {
   "cell_type": "code",
   "execution_count": null,
   "id": "666c4a4d",
   "metadata": {},
   "outputs": [],
   "source": [
    "x='1324'\n",
    "print(x.isnumeric())"
   ]
  },
  {
   "cell_type": "code",
   "execution_count": null,
   "id": "9b5de9e1",
   "metadata": {},
   "outputs": [],
   "source": [
    "x='213fesrd'\n",
    "print(x.isalnum())"
   ]
  },
  {
   "cell_type": "code",
   "execution_count": null,
   "id": "261445ea",
   "metadata": {},
   "outputs": [],
   "source": [
    "x='ewrdt'\n",
    "print(x.upper())"
   ]
  },
  {
   "cell_type": "code",
   "execution_count": null,
   "id": "7dbe1dac",
   "metadata": {},
   "outputs": [],
   "source": [
    "x='Kaushal'       #to find the index value of a particular alphabet\n",
    "print(x.find('a'))"
   ]
  },
  {
   "cell_type": "code",
   "execution_count": null,
   "id": "035273ce",
   "metadata": {},
   "outputs": [],
   "source": [
    "x=\"Kaushal\"\n",
    "print(x.index('a'))"
   ]
  },
  {
   "cell_type": "code",
   "execution_count": null,
   "id": "b09c93e4",
   "metadata": {},
   "outputs": [],
   "source": [
    "x='Kaushal'       #to find the index value of a particular alphabet\n",
    "print(x.rfind('a'))"
   ]
  },
  {
   "cell_type": "code",
   "execution_count": null,
   "id": "d1cb1cf8",
   "metadata": {},
   "outputs": [],
   "source": [
    "x='Kaushal'\n",
    "print(x.count('a'))"
   ]
  },
  {
   "cell_type": "code",
   "execution_count": null,
   "id": "50947709",
   "metadata": {},
   "outputs": [],
   "source": [
    "x='interview'\n",
    "print(x.replace('e',''))"
   ]
  },
  {
   "cell_type": "code",
   "execution_count": null,
   "id": "5d56023f",
   "metadata": {},
   "outputs": [],
   "source": [
    "x='interview'\n",
    "print(x.replace('e','',1))"
   ]
  },
  {
   "cell_type": "code",
   "execution_count": null,
   "id": "77f61af4",
   "metadata": {},
   "outputs": [],
   "source": [
    "i='kaushal'  # i='Kasuhal'   b=7//2=3    i[0:1:2]='Kau'+i[b:]=\"shal\"\n",
    "b=len(i)//2                                #='KauSHAL'\n",
    "print(i[:b]+i[b:].upper())"
   ]
  },
  {
   "cell_type": "code",
   "execution_count": null,
   "id": "f7bc22c6",
   "metadata": {},
   "outputs": [],
   "source": [
    "d='apples'\n",
    "x=len(d)//2\n",
    "print(d[b:]+d[:b].upper())"
   ]
  },
  {
   "cell_type": "code",
   "execution_count": 13,
   "id": "a4b6be5e",
   "metadata": {},
   "outputs": [
    {
     "ename": "IndexError",
     "evalue": "string index out of range",
     "output_type": "error",
     "traceback": [
      "\u001b[1;31m---------------------------------------------------------------------------\u001b[0m",
      "\u001b[1;31mIndexError\u001b[0m                                Traceback (most recent call last)",
      "Input \u001b[1;32mIn [13]\u001b[0m, in \u001b[0;36m<cell line: 3>\u001b[1;34m()\u001b[0m\n\u001b[0;32m      1\u001b[0m a\u001b[38;5;241m=\u001b[39m\u001b[38;5;124m'\u001b[39m\u001b[38;5;124mapples\u001b[39m\u001b[38;5;124m'\u001b[39m\n\u001b[0;32m      2\u001b[0m f\u001b[38;5;241m=\u001b[39m\u001b[38;5;28mlen\u001b[39m(a)\u001b[38;5;241m/\u001b[39m\u001b[38;5;241m/\u001b[39m\u001b[38;5;241m2\u001b[39m\n\u001b[1;32m----> 3\u001b[0m \u001b[38;5;28mprint\u001b[39m(\u001b[43mx\u001b[49m\u001b[43m[\u001b[49m\u001b[43mf\u001b[49m\u001b[43m]\u001b[49m)\n",
      "\u001b[1;31mIndexError\u001b[0m: string index out of range"
     ]
    }
   ],
   "source": [
    "a='apples'\n",
    "f=len(a)//2\n",
    "print(x[f])"
   ]
  },
  {
   "cell_type": "code",
   "execution_count": 14,
   "id": "ac83bca8",
   "metadata": {},
   "outputs": [
    {
     "ename": "IndexError",
     "evalue": "string index out of range",
     "output_type": "error",
     "traceback": [
      "\u001b[1;31m---------------------------------------------------------------------------\u001b[0m",
      "\u001b[1;31mIndexError\u001b[0m                                Traceback (most recent call last)",
      "Input \u001b[1;32mIn [14]\u001b[0m, in \u001b[0;36m<cell line: 1>\u001b[1;34m()\u001b[0m\n\u001b[1;32m----> 1\u001b[0m \u001b[43mx\u001b[49m\u001b[43m[\u001b[49m\u001b[43mf\u001b[49m\u001b[43m]\u001b[49m\n",
      "\u001b[1;31mIndexError\u001b[0m: string index out of range"
     ]
    }
   ],
   "source": [
    "x[f]"
   ]
  },
  {
   "cell_type": "code",
   "execution_count": 19,
   "id": "b10d702c",
   "metadata": {},
   "outputs": [
    {
     "name": "stdout",
     "output_type": "stream",
     "text": [
      "asegrtgfafefaw\n"
     ]
    }
   ],
   "source": [
    "x=('asegrtgf','afe','faw')\n",
    "print(''.join(x))"
   ]
  },
  {
   "cell_type": "code",
   "execution_count": 21,
   "id": "c5d55260",
   "metadata": {},
   "outputs": [
    {
     "name": "stdout",
     "output_type": "stream",
     "text": [
      "True\n"
     ]
    }
   ],
   "source": [
    "x='ASDCVGBN'\n",
    "print(x.isupper())"
   ]
  },
  {
   "cell_type": "code",
   "execution_count": null,
   "id": "cbe54e18",
   "metadata": {},
   "outputs": [],
   "source": []
  }
 ],
 "metadata": {
  "kernelspec": {
   "display_name": "Python 3 (ipykernel)",
   "language": "python",
   "name": "python3"
  },
  "language_info": {
   "codemirror_mode": {
    "name": "ipython",
    "version": 3
   },
   "file_extension": ".py",
   "mimetype": "text/x-python",
   "name": "python",
   "nbconvert_exporter": "python",
   "pygments_lexer": "ipython3",
   "version": "3.9.12"
  }
 },
 "nbformat": 4,
 "nbformat_minor": 5
}
