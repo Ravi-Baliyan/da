{
 "cells": [
  {
   "cell_type": "code",
   "execution_count": null,
   "id": "632e5db2",
   "metadata": {},
   "outputs": [
    {
     "name": "stdout",
     "output_type": "stream",
     "text": [
      "ENter the root data: 7\n"
     ]
    }
   ],
   "source": [
    "class binarytree:\n",
    "    def __init__(self,data):\n",
    "        self.data=data\n",
    "        self.left=None\n",
    "        self.right=None\n",
    "def printtree(root):\n",
    "    if root==None:\n",
    "        return\n",
    "    print(root.data,end=\":\")\n",
    "    if root.left != None:\n",
    "        print(root.left.data,end=\":\")\n",
    "    else:\n",
    "        print(root.left)\n",
    "    if root.right!=None:\n",
    "        print(root.right.data,end=\":\")\n",
    "    else:\n",
    "       print(root.right)\n",
    "def treeinput():\n",
    "    if rootdata==-1:\n",
    "        return None\n",
    "    root=binarytree(rootdata)\n",
    "    lefttree=treeinput()\n",
    "    root.left=root\n",
    "    righttree=treeinput()\n",
    "    root.right=root\n",
    "rootdata=int(input(\"ENter the root data: \"))\n",
    "root=treeinput()\n",
    "printtree(root)\n"
   ]
  },
  {
   "cell_type": "code",
   "execution_count": 4,
   "id": "c2ebc61a",
   "metadata": {},
   "outputs": [
    {
     "name": "stdout",
     "output_type": "stream",
     "text": [
      "['a', 'b', 'c', 'd', 'h', 2, 'h', 2, 'd', 'i', 'h', 2, 'o', 'h', 2]\n"
     ]
    }
   ],
   "source": [
    "l=['a','b','c','d','h','h','d','i','h','o','h']\n",
    "i=0\n",
    "while i<len(l):\n",
    "    if l[i]=='h':\n",
    "        l.insert(i+1,2)\n",
    "        i=i+2\n",
    "    else:\n",
    "        i=i+1\n",
    "print(l)"
   ]
  },
  {
   "cell_type": "code",
   "execution_count": null,
   "id": "ec8ac90e",
   "metadata": {},
   "outputs": [],
   "source": [
    "\n"
   ]
  }
 ],
 "metadata": {
  "kernelspec": {
   "display_name": "Python 3 (ipykernel)",
   "language": "python",
   "name": "python3"
  },
  "language_info": {
   "codemirror_mode": {
    "name": "ipython",
    "version": 3
   },
   "file_extension": ".py",
   "mimetype": "text/x-python",
   "name": "python",
   "nbconvert_exporter": "python",
   "pygments_lexer": "ipython3",
   "version": "3.9.12"
  }
 },
 "nbformat": 4,
 "nbformat_minor": 5
}
