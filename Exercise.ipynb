{
 "cells": [
  {
   "cell_type": "markdown",
   "id": "c70135aa",
   "metadata": {},
   "source": [
    "# 3: The distance Between City A & B is 60 km, where you are traveling on Bicycle, & your initial speed is\n",
    "# 10km’h, whereas with each 10km you travel your Travelling speed increases by 5km/h.\n",
    "# How much time will it take you to reach your destination B from A?\n",
    "# Ps: At starting Your speed is 10km/h, after 5 min- it becomes 15km/h, then after more 5min, it will become 20km/h\n",
    "# & So on"
   ]
  },
  {
   "cell_type": "code",
   "execution_count": null,
   "id": "b520c406",
   "metadata": {},
   "outputs": [],
   "source": [
    "a=0\n",
    "b=60"
   ]
  }
 ],
 "metadata": {
  "kernelspec": {
   "display_name": "Python 3 (ipykernel)",
   "language": "python",
   "name": "python3"
  },
  "language_info": {
   "codemirror_mode": {
    "name": "ipython",
    "version": 3
   },
   "file_extension": ".py",
   "mimetype": "text/x-python",
   "name": "python",
   "nbconvert_exporter": "python",
   "pygments_lexer": "ipython3",
   "version": "3.9.12"
  }
 },
 "nbformat": 4,
 "nbformat_minor": 5
}
