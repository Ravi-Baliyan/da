{
 "cells": [
  {
   "cell_type": "code",
   "execution_count": 1,
   "id": "eb8a87ae",
   "metadata": {},
   "outputs": [
    {
     "name": "stdout",
     "output_type": "stream",
     "text": [
      "enyer the number: 7\n",
      " Prime number\n"
     ]
    }
   ],
   "source": [
    "x=int(input(\"enyer the number: \"))\n",
    "a=0\n",
    "if x==1 or x==0:\n",
    "    a=1\n",
    "for i in range(2,x):\n",
    "    if x%i==0:\n",
    "        a=1\n",
    "if a==1:\n",
    "    print(\"Not prime number\")\n",
    "else:\n",
    "    print(\" Prime number\")"
   ]
  },
  {
   "cell_type": "code",
   "execution_count": 2,
   "id": "75911ff3",
   "metadata": {},
   "outputs": [],
   "source": [
    "import requests,webbrowser as mn\n",
    "import pandas as pd"
   ]
  },
  {
   "cell_type": "code",
   "execution_count": 6,
   "id": "64eb7cd4",
   "metadata": {},
   "outputs": [
    {
     "name": "stdout",
     "output_type": "stream",
     "text": [
      "['a', 'b', 'c', 2, 'h', 2, 'h', 'y', 'd', 's', 2, 'h', 2, 'h']\n"
     ]
    }
   ],
   "source": [
    "a=['a','b','c',\"h\",'h','y','d','s','h','h']\n",
    "i=0\n",
    "while i<len(a):\n",
    "    if a[i]=='h':\n",
    "        a.insert(i,2)\n",
    "        i=i+2\n",
    "        \n",
    "    else:\n",
    "        i=i+1\n",
    "print(a)"
   ]
  },
  {
   "cell_type": "code",
   "execution_count": null,
   "id": "08fd0481",
   "metadata": {},
   "outputs": [],
   "source": []
  },
  {
   "cell_type": "code",
   "execution_count": 3,
   "id": "c0ff0c95",
   "metadata": {},
   "outputs": [
    {
     "ename": "NameError",
     "evalue": "name 'webbrowser' is not defined",
     "output_type": "error",
     "traceback": [
      "\u001b[1;31m---------------------------------------------------------------------------\u001b[0m",
      "\u001b[1;31mNameError\u001b[0m                                 Traceback (most recent call last)",
      "Input \u001b[1;32mIn [3]\u001b[0m, in \u001b[0;36m<cell line: 1>\u001b[1;34m()\u001b[0m\n\u001b[1;32m----> 1\u001b[0m requests,\u001b[43mwebbrowser\u001b[49m(\u001b[38;5;124m\"\u001b[39m\u001b[38;5;124mhttps://www.bukalapak.com/\u001b[39m\u001b[38;5;124m\"\u001b[39m)\n",
      "\u001b[1;31mNameError\u001b[0m: name 'webbrowser' is not defined"
     ]
    }
   ],
   "source": [
    "requests,webbrowser(\"https://www.bukalapak.com/\")"
   ]
  },
  {
   "cell_type": "code",
   "execution_count": null,
   "id": "45f583a4",
   "metadata": {},
   "outputs": [],
   "source": [
    "import pandas as pd"
   ]
  },
  {
   "cell_type": "code",
   "execution_count": null,
   "id": "b0fa7aa7",
   "metadata": {},
   "outputs": [],
   "source": [
    "!pip install beautifulsoup4\n",
    "import requests\n",
    "import bs4\n",
    "link= \"https://www.bukalapak.com/\"\n",
    "temp=requests.get(link)\n",
    "temp\n",
    "data=bs4.BeautifulSoup(temp.content)"
   ]
  },
  {
   "cell_type": "code",
   "execution_count": null,
   "id": "1592d077",
   "metadata": {},
   "outputs": [],
   "source": [
    "data"
   ]
  },
  {
   "cell_type": "code",
   "execution_count": null,
   "id": "cdfd959a",
   "metadata": {},
   "outputs": [],
   "source": [
    "x=pd.DataFrame(data)"
   ]
  },
  {
   "cell_type": "code",
   "execution_count": 5,
   "id": "063c071c",
   "metadata": {},
   "outputs": [
    {
     "ename": "NameError",
     "evalue": "name 'x' is not defined",
     "output_type": "error",
     "traceback": [
      "\u001b[1;31m---------------------------------------------------------------------------\u001b[0m",
      "\u001b[1;31mNameError\u001b[0m                                 Traceback (most recent call last)",
      "Input \u001b[1;32mIn [5]\u001b[0m, in \u001b[0;36m<cell line: 1>\u001b[1;34m()\u001b[0m\n\u001b[1;32m----> 1\u001b[0m \u001b[43mx\u001b[49m\n",
      "\u001b[1;31mNameError\u001b[0m: name 'x' is not defined"
     ]
    }
   ],
   "source": [
    "x"
   ]
  },
  {
   "cell_type": "code",
   "execution_count": null,
   "id": "95e6987f",
   "metadata": {},
   "outputs": [],
   "source": [
    "n=int(input(\"ENter the number: \"))\n",
    "for i in range(n):\n",
    "    for j in range(n-i):\n",
    "        print"
   ]
  },
  {
   "cell_type": "code",
   "execution_count": null,
   "id": "2cca8ee4",
   "metadata": {},
   "outputs": [],
   "source": []
  },
  {
   "cell_type": "code",
   "execution_count": null,
   "id": "844b5164",
   "metadata": {},
   "outputs": [],
   "source": [
    "l=['a','b','c','h','h','y','h','d','h','h']\n",
    "i=0\n",
    "while i<len(l):\n",
    "    if l[i]=='h':\n",
    "        l.insert(i,2)\n",
    "        i=i+2\n",
    "    else:\n",
    "        i=i+1\n",
    "print(l)"
   ]
  },
  {
   "cell_type": "code",
   "execution_count": null,
   "id": "b5978042",
   "metadata": {},
   "outputs": [],
   "source": [
    "import pandas as pd "
   ]
  },
  {
   "cell_type": "code",
   "execution_count": null,
   "id": "6dc0eac7",
   "metadata": {},
   "outputs": [],
   "source": [
    "d={'age':[10,20,30,40,50,60],\n",
    "  'salary':[2000,3000,23000,23400,45500,9000]}"
   ]
  },
  {
   "cell_type": "code",
   "execution_count": null,
   "id": "2c7af274",
   "metadata": {},
   "outputs": [],
   "source": [
    "for i in x['salary']:\n",
    "    print(type(i))"
   ]
  },
  {
   "cell_type": "code",
   "execution_count": null,
   "id": "60360070",
   "metadata": {},
   "outputs": [],
   "source": [
    "d"
   ]
  },
  {
   "cell_type": "code",
   "execution_count": null,
   "id": "21794d3a",
   "metadata": {},
   "outputs": [],
   "source": [
    "x=pd.DataFrame(d)"
   ]
  },
  {
   "cell_type": "code",
   "execution_count": null,
   "id": "902ab78b",
   "metadata": {},
   "outputs": [],
   "source": [
    "x"
   ]
  },
  {
   "cell_type": "code",
   "execution_count": null,
   "id": "1c37921e",
   "metadata": {},
   "outputs": [],
   "source": [
    "x['age'].nlargest(2)"
   ]
  },
  {
   "cell_type": "code",
   "execution_count": null,
   "id": "37f02c74",
   "metadata": {},
   "outputs": [],
   "source": []
  },
  {
   "cell_type": "code",
   "execution_count": 16,
   "id": "90c3e438",
   "metadata": {},
   "outputs": [
    {
     "name": "stdout",
     "output_type": "stream",
     "text": [
      "['a', 'b', 'c', 2, 'h', 2, 'h', 'y', 'd', 's', 2, 'h', 2, 'h']\n"
     ]
    }
   ],
   "source": [
    "a=['a','b','c',\"h\",'h','y','d','s','h','h']\n",
    "i=0\n",
    "while i<len(a):\n",
    "    if a[i]=='h':\n",
    "        a.insert(i,2)\n",
    "        i=i+2\n",
    "    else:\n",
    "        i=i+1\n",
    "print(a)"
   ]
  },
  {
   "cell_type": "code",
   "execution_count": 7,
   "id": "2cc4fd9b",
   "metadata": {},
   "outputs": [
    {
     "data": {
      "text/plain": [
       "''"
      ]
     },
     "execution_count": 7,
     "metadata": {},
     "output_type": "execute_result"
    }
   ],
   "source": [
    "\"this is a very long string\" * (-1)"
   ]
  },
  {
   "cell_type": "code",
   "execution_count": 8,
   "id": "e50d1d0c",
   "metadata": {},
   "outputs": [
    {
     "name": "stdout",
     "output_type": "stream",
     "text": [
      "0\n"
     ]
    }
   ],
   "source": [
    "class A:\n",
    "    def function(self):\n",
    "        return A()\n",
    "a = A()\n",
    "A = int\n",
    "print(a.function())"
   ]
  },
  {
   "cell_type": "code",
   "execution_count": 10,
   "id": "a2539ac7",
   "metadata": {},
   "outputs": [
    {
     "data": {
      "text/plain": [
       "-0.0"
      ]
     },
     "execution_count": 10,
     "metadata": {},
     "output_type": "execute_result"
    }
   ],
   "source": [
    "max(-0.0, 0.0)\n",
    "# Negative zero and zero are treated as equal in Python."
   ]
  },
  {
   "cell_type": "code",
   "execution_count": 11,
   "id": "7337e87e",
   "metadata": {},
   "outputs": [
    {
     "data": {
      "text/plain": [
       "False"
      ]
     },
     "execution_count": 11,
     "metadata": {},
     "output_type": "execute_result"
    }
   ],
   "source": [
    "x = (1 << 53) + 1\n",
    "x + 1.0 > x"
   ]
  },
  {
   "cell_type": "code",
   "execution_count": 12,
   "id": "7c85b347",
   "metadata": {},
   "outputs": [
    {
     "data": {
      "text/plain": [
       "2"
      ]
     },
     "execution_count": 12,
     "metadata": {},
     "output_type": "execute_result"
    }
   ],
   "source": [
    "\n",
    "round(3 / 2)\n",
    "round(5 / 2)"
   ]
  },
  {
   "cell_type": "code",
   "execution_count": 13,
   "id": "7a9f7f79",
   "metadata": {},
   "outputs": [
    {
     "data": {
      "text/plain": [
       "4"
      ]
     },
     "execution_count": 13,
     "metadata": {},
     "output_type": "execute_result"
    }
   ],
   "source": [
    "round(7 / 2)"
   ]
  },
  {
   "cell_type": "code",
   "execution_count": 14,
   "id": "96dd59a5",
   "metadata": {},
   "outputs": [
    {
     "data": {
      "text/plain": [
       "{}"
      ]
     },
     "execution_count": 14,
     "metadata": {},
     "output_type": "execute_result"
    }
   ],
   "source": [
    "sum(\"\")\n",
    "sum(\"\",[])\n",
    "sum(\"\",{})"
   ]
  },
  {
   "cell_type": "code",
   "execution_count": 15,
   "id": "64fb7a7e",
   "metadata": {},
   "outputs": [
    {
     "data": {
      "text/plain": [
       "0"
      ]
     },
     "execution_count": 15,
     "metadata": {},
     "output_type": "execute_result"
    }
   ],
   "source": [
    "sum(\"\")\n",
    "sum(iterable, /, start=0)\n",
    "\n",
    "Sums start and the items of an iterable from left to right and returns the total. \n",
    "The iterable’s items are normally numbers, and the start value is not allowed to be a string.\n",
    "\n",
    "In all the cases above “” (empty string) is treated as an empty sequence, therefore sum will simply return \n",
    "the start argument as a total result. In the first case it defaults to zero,\n",
    "for the second and the third case it implies that empty list and dictionary are passed in as a start argument."
   ]
  },
  {
   "cell_type": "code",
   "execution_count": null,
   "id": "ca0cfc85",
   "metadata": {},
   "outputs": [],
   "source": []
  },
  {
   "cell_type": "code",
   "execution_count": null,
   "id": "ebc0f394",
   "metadata": {},
   "outputs": [],
   "source": []
  }
 ],
 "metadata": {
  "kernelspec": {
   "display_name": "Python 3 (ipykernel)",
   "language": "python",
   "name": "python3"
  },
  "language_info": {
   "codemirror_mode": {
    "name": "ipython",
    "version": 3
   },
   "file_extension": ".py",
   "mimetype": "text/x-python",
   "name": "python",
   "nbconvert_exporter": "python",
   "pygments_lexer": "ipython3",
   "version": "3.9.12"
  }
 },
 "nbformat": 4,
 "nbformat_minor": 5
}
