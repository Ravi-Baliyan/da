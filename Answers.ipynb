{
 "cells": [
  {
   "cell_type": "markdown",
   "id": "f0c41f05",
   "metadata": {},
   "source": [
    "# Q15.Write a Python program to get a string from a given string where all\n",
    "# occurrences of its first char have been changed to \"@\", except the first char itself\n"
   ]
  },
  {
   "cell_type": "code",
   "execution_count": 3,
   "id": "60139372",
   "metadata": {},
   "outputs": [
    {
     "name": "stdout",
     "output_type": "stream",
     "text": [
      "Given String : tutor joes Ksa lga test Mitro \n",
      "t\n",
      "@u@or joes Ksa lga @es@ Mi@ro \n",
      "tu@or joes Ksa lga @es@ Mi@ro \n"
     ]
    }
   ],
   "source": [
    "r=\"tutor joes Ksa lga test Mitro \"\n",
    "print(\"Given String :\",r)\n",
    "x=r[0]\n",
    "print(x)\n",
    "a=r.replace(x,'@')\n",
    "print(a)\n",
    "b=x+a[1:]\n",
    "print(b)"
   ]
  },
  {
   "cell_type": "markdown",
   "id": "2b1f5cf2",
   "metadata": {},
   "source": [
    "# Q14.Write a Python program to get a single string from two given strings,\n",
    "# separated by a space and swap the first two characters of each string\n"
   ]
  },
  {
   "cell_type": "code",
   "execution_count": 11,
   "id": "d21df56e",
   "metadata": {},
   "outputs": [
    {
     "name": "stdout",
     "output_type": "stream",
     "text": [
      "Before Swap : abc   xyz\n",
      "After Swap : xyc   abz\n"
     ]
    }
   ],
   "source": [
    "a = 'abc'\n",
    "b = 'xyz'\n",
    "print(\"Before Swap :\",a,\" \",b)\n",
    "a1 = b[:2] + a[2:]\n",
    "b1 = a[:2] + b[2:]\n",
    "print(\"After Swap :\",a1,\" \",b1)"
   ]
  },
  {
   "cell_type": "markdown",
   "id": "b4add485",
   "metadata": {},
   "source": [
    "# Q13.Write a Python programe to reverses a string if its length is a multiple of 6"
   ]
  },
  {
   "cell_type": "code",
   "execution_count": null,
   "id": "9435aa8a",
   "metadata": {},
   "outputs": [
    {
     "name": "stdout",
     "output_type": "stream",
     "text": [
      "Enter the String :gyujfh\n"
     ]
    }
   ],
   "source": [
    "a=input(\"Enter the String :\")\n",
    "if len(a) % 6 == 0:\n",
    "   print(''.join(reversed(a)))\n",
    "else:\n",
    "    print(a)"
   ]
  },
  {
   "cell_type": "markdown",
   "id": "daa6a29e",
   "metadata": {},
   "source": [
    "# Q12.12.Write a Python program to check whether a string starts with specified characters\n"
   ]
  },
  {
   "cell_type": "code",
   "execution_count": 12,
   "id": "0a449d2b",
   "metadata": {},
   "outputs": [
    {
     "name": "stdout",
     "output_type": "stream",
     "text": [
      "True\n",
      "False\n"
     ]
    }
   ],
   "source": [
    "r = \"All the best\"\n",
    "print(r.startswith(\"All\"))\n",
    "print(r.startswith(\"best\"))"
   ]
  },
  {
   "cell_type": "markdown",
   "id": "1eeb60bd",
   "metadata": {},
   "source": [
    "# Q11.Write a Python program to print the following floating numbers with no decimal places?\n"
   ]
  },
  {
   "cell_type": "code",
   "execution_count": 2,
   "id": "693cc334",
   "metadata": {},
   "outputs": [
    {
     "name": "stdout",
     "output_type": "stream",
     "text": [
      "23\n",
      "-75\n"
     ]
    }
   ],
   "source": [
    "a =23.36778\n",
    "b =-74.99\n",
    "print(round(a))\n",
    "print(round(b))"
   ]
  },
  {
   "cell_type": "markdown",
   "id": "a0311d01",
   "metadata": {},
   "source": [
    "# Q10. WAP and take the input predifined in one string to get the output as ['Our','Sir','Name is','Nikhil Sir']"
   ]
  },
  {
   "cell_type": "code",
   "execution_count": 3,
   "id": "d5177530",
   "metadata": {},
   "outputs": [
    {
     "name": "stdout",
     "output_type": "stream",
     "text": [
      "['Our/nSir/nName is/nNikhil Sir']\n"
     ]
    }
   ],
   "source": [
    "str = \"Our/nSir/nName is/nNikhil Sir\"\n",
    "print(str.split(','))"
   ]
  },
  {
   "cell_type": "markdown",
   "id": "d335b0d1",
   "metadata": {},
   "source": [
    "# Q9.val = {'T', 'u', 't', 'o', 'r', 'J', 'o', 'e' , 's'} and convert it it to string?\n",
    "# output should be:{'J', 'r', 't', 'u', 's', 'o', 'T', 'e'} \n",
    "# ['J', 'r', 't', 'u', 's', 'o', 'T', 'e']"
   ]
  },
  {
   "cell_type": "code",
   "execution_count": 15,
   "id": "5bfa3025",
   "metadata": {},
   "outputs": [
    {
     "name": "stdout",
     "output_type": "stream",
     "text": [
      "{'e', 'i', 't', 'o', 'k', 'T', 'u', 'r'}\n",
      "['e', 'i', 't', 'o', 'k', 'T', 'u', 'r']\n",
      "<class 'list'>\n"
     ]
    }
   ],
   "source": [
    "val = {'T', 'u', 't', 'o', 'r', 'k', 'i', 't' , 'e'}\n",
    "print(val)\n",
    "s = list(val)\n",
    "print(s)\n",
    "print(type(s))"
   ]
  },
  {
   "cell_type": "markdown",
   "id": "62eec671",
   "metadata": {},
   "source": [
    "# Q8.Write a Python program to print the following integers with zeros on the left of specified width?\n"
   ]
  },
  {
   "cell_type": "code",
   "execution_count": 17,
   "id": "152f4a71",
   "metadata": {},
   "outputs": [
    {
     "name": "stdout",
     "output_type": "stream",
     "text": [
      "0023\n",
      "000833\n"
     ]
    }
   ],
   "source": [
    "a = 23\n",
    "b = 833\n",
    "print(\"\"+\"{:0>4}\".format(a));\n",
    "print(\"\"+\"{:0>6}\".format(b));"
   ]
  },
  {
   "cell_type": "code",
   "execution_count": 24,
   "id": "ff33d7ba",
   "metadata": {},
   "outputs": [
    {
     "ename": "TypeError",
     "evalue": "'str' object is not callable",
     "output_type": "error",
     "traceback": [
      "\u001b[1;31m---------------------------------------------------------------------------\u001b[0m",
      "\u001b[1;31mTypeError\u001b[0m                                 Traceback (most recent call last)",
      "Input \u001b[1;32mIn [24]\u001b[0m, in \u001b[0;36m<cell line: 2>\u001b[1;34m()\u001b[0m\n\u001b[0;32m      1\u001b[0m a\u001b[38;5;241m=\u001b[39m\u001b[38;5;241m23\u001b[39m\n\u001b[1;32m----> 2\u001b[0m x\u001b[38;5;241m=\u001b[39m\u001b[38;5;28;43mstr\u001b[39;49m\u001b[43m(\u001b[49m\u001b[43ma\u001b[49m\u001b[43m)\u001b[49m\n",
      "\u001b[1;31mTypeError\u001b[0m: 'str' object is not callable"
     ]
    }
   ],
   "source": [
    "a=23\n",
    "x=str(a)\n"
   ]
  },
  {
   "cell_type": "markdown",
   "id": "d957711f",
   "metadata": {},
   "source": [
    "# #.Write a Python program to print the following floating numbers upto 2 decimal places\n"
   ]
  },
  {
   "cell_type": "code",
   "execution_count": 6,
   "id": "788bc5cc",
   "metadata": {},
   "outputs": [
    {
     "ename": "SyntaxError",
     "evalue": "invalid syntax (2455520685.py, line 4)",
     "output_type": "error",
     "traceback": [
      "\u001b[1;36m  Input \u001b[1;32mIn [6]\u001b[1;36m\u001b[0m\n\u001b[1;33m    print(\"+\",{:.2f});\u001b[0m\n\u001b[1;37m               ^\u001b[0m\n\u001b[1;31mSyntaxError\u001b[0m\u001b[1;31m:\u001b[0m invalid syntax\n"
     ]
    }
   ],
   "source": [
    "a = 84.4423                               #To have some knowledge\n",
    "b = 23.36778\n",
    "print(\"Original Value A : \", a)\n",
    "print(\"Formatted Value A : \"+\"{:.2f}\".format(a));\n",
    "print(\"Original Value B : \", b)\n",
    "print(\"Formatted Value B : \"+\"{:.2f}\".format(b));\n",
    "\n",
    "print() "
   ]
  },
  {
   "cell_type": "markdown",
   "id": "33b762e4",
   "metadata": {},
   "source": [
    "# Q6.Write a Python program to Rename key of a dictionary\n",
    "\n",
    "\n"
   ]
  },
  {
   "cell_type": "code",
   "execution_count": 18,
   "id": "c663af43",
   "metadata": {},
   "outputs": [
    {
     "name": "stdout",
     "output_type": "stream",
     "text": [
      "Before Rename Key of a Dictionary : {'Name': 'Tara', 'RollNo': 130046, 'Mark': 458, 'Age': 16}\n",
      "After Rename Key of a Dictionary : {'Name': 'Tara', 'Age': 16, 'Mark10': 458, 'RegNo': 130046}\n"
     ]
    }
   ],
   "source": [
    "student = {\n",
    "    \"Name\": \"Tara\",\n",
    "    \"RollNo\":130046, \n",
    "    \"Mark\": 458, \n",
    "    \"Age\":16\n",
    "}\n",
    "print(\"Before Rename Key of a Dictionary :\",student)\n",
    "student[\"Mark10\"] = student.pop(\"Mark\")\n",
    "student[\"RegNo\"] = student.pop(\"RollNo\")\n",
    "print(\"After Rename Key of a Dictionary :\",student)"
   ]
  },
  {
   "cell_type": "markdown",
   "id": "5e13f13a",
   "metadata": {},
   "source": [
    "# Q5.Write a Python program to Initialize dictionary with default values?\n"
   ]
  },
  {
   "cell_type": "code",
   "execution_count": 16,
   "id": "69dfc8cf",
   "metadata": {},
   "outputs": [
    {
     "name": "stdout",
     "output_type": "stream",
     "text": [
      "{'Siva': {'designation': 'Student', 'Department': 'BCA'}, 'Sam': {'designation': 'Student', 'Department': 'BCA'}, 'Ram': {'designation': 'Student', 'Department': 'BCA'}, 'Pooja': {'designation': 'Student', 'Department': 'BCA'}}\n"
     ]
    }
   ],
   "source": [
    "x = [\"Siva\", \"Sam\", \"Ram\", \"Pooja\"]\n",
    "d = {\"designation\": \"Student\", \"Department\": \"BCA\"}\n",
    " \n",
    "result = dict.fromkeys(x,d)\n",
    "\n",
    "print(result)\n",
    "#result['Siva']\n",
    "# Individual data\n",
    "#print(\"\\nSiva :\",result[\"Siva\"])\n",
    "#print(\"\\nSam :\",result[\"Sam\"])\n",
    "#print(\"\\nRam :\",result[\"Ram\"])\n",
    "#print(\"\\nPooja :\",result[\"Pooja\"])"
   ]
  },
  {
   "cell_type": "markdown",
   "id": "988b2700",
   "metadata": {},
   "source": [
    "# Q4.Write a Python program to Convert two lists into a dictionary?\n",
    "\n"
   ]
  },
  {
   "cell_type": "code",
   "execution_count": 20,
   "id": "2138b553",
   "metadata": {},
   "outputs": [
    {
     "name": "stdout",
     "output_type": "stream",
     "text": [
      "{'One': 1, 'Two': 2, 'Three': 3, 'Four': 4, 'Five': 5}\n"
     ]
    }
   ],
   "source": [
    "x = [\"One\", \"Two\", \"Three\", \"Four\", \"Five\"]\n",
    "y = [1, 2, 3, 4, 5]\n",
    "s = dict(zip(x, y))\n",
    "print(s)"
   ]
  },
  {
   "cell_type": "markdown",
   "id": "1addf89f",
   "metadata": {},
   "source": [
    "# Q3.Write a Python program to sum all the items in a dictionary?\n"
   ]
  },
  {
   "cell_type": "code",
   "execution_count": 21,
   "id": "22375882",
   "metadata": {},
   "outputs": [
    {
     "name": "stdout",
     "output_type": "stream",
     "text": [
      "138\n"
     ]
    }
   ],
   "source": [
    "d = {1:23,2:45,3:-17,4:87}\n",
    "print(sum(d.values()))"
   ]
  },
  {
   "cell_type": "markdown",
   "id": "0517726a",
   "metadata": {},
   "source": [
    "# Q2.Write a Python script to merge two Python dictionaries?\n"
   ]
  },
  {
   "cell_type": "code",
   "execution_count": 22,
   "id": "085f7f42",
   "metadata": {},
   "outputs": [
    {
     "name": "stdout",
     "output_type": "stream",
     "text": [
      "{'Name': 'Ram', 'Age': 23, 'City': 'Salem', 'Gender': 'Male'}\n"
     ]
    }
   ],
   "source": [
    "d={\"Name\":\"Ram\" , \"Age\":23}\n",
    "d1={\"City\": \"Salem\", \"Gender\": \"Male\"}\n",
    "s = d.copy()\n",
    "s.update(d1)\n",
    "print(s)"
   ]
  },
  {
   "cell_type": "markdown",
   "id": "09b8670f",
   "metadata": {},
   "source": [
    "# Q1.Write a Python program to check whether a given key already exists in a dictionary?"
   ]
  },
  {
   "cell_type": "code",
   "execution_count": 32,
   "id": "1184366d",
   "metadata": {},
   "outputs": [
    {
     "name": "stdout",
     "output_type": "stream",
     "text": [
      "enter the input: Age\n",
      "Key is Available in the Dictionary\n"
     ]
    }
   ],
   "source": [
    "i=input('enter the input: ')\n",
    "d = {\"Name\":\"Ram\" , \"Age\":23}\n",
    "if i in d:\n",
    "  print('Key is Available in the Dictionary')\n",
    "else:\n",
    "  print('Key is not Available in the Dictionary')"
   ]
  },
  {
   "cell_type": "code",
   "execution_count": 4,
   "id": "da51bd8a",
   "metadata": {},
   "outputs": [],
   "source": [
    "x=\"qwjkdfvejwk@gmail.com\""
   ]
  },
  {
   "cell_type": "code",
   "execution_count": 7,
   "id": "b6dcde78",
   "metadata": {},
   "outputs": [
    {
     "name": "stdout",
     "output_type": "stream",
     "text": [
      "enter the num: asdfgfhtuyiazxcgtrewaxcvghjk\n",
      "asdfgfhtuyi@zxcgtrew@xcvghjk\n"
     ]
    }
   ],
   "source": [
    "x=input(\"enter the num: \")\n",
    "t=x[0]\n",
    "d=x.replace(t,'@')\n",
    "print(t+d[1:])"
   ]
  },
  {
   "cell_type": "code",
   "execution_count": 28,
   "id": "b5e96c19",
   "metadata": {},
   "outputs": [
    {
     "name": "stdout",
     "output_type": "stream",
     "text": [
      "1\n",
      "4\n",
      "3\n",
      "2\n"
     ]
    }
   ],
   "source": [
    "a=1234\n",
    "e=a//1000\n",
    "print(e)\n",
    "\n",
    "b=a%10\n",
    "print(b)\n",
    "\n",
    "c=a%100\n",
    "c=c//10\n",
    "print(c)\n",
    "\n",
    "d=a%1000\n",
    "d=d//100\n",
    "print(d)"
   ]
  },
  {
   "cell_type": "code",
   "execution_count": null,
   "id": "0b11358c",
   "metadata": {},
   "outputs": [],
   "source": []
  },
  {
   "cell_type": "code",
   "execution_count": 31,
   "id": "199395f0",
   "metadata": {},
   "outputs": [
    {
     "name": "stdout",
     "output_type": "stream",
     "text": [
      "75\n",
      "150\n",
      "145\n"
     ]
    }
   ],
   "source": [
    "#Q1.Write a program to display only those numbers from a list that satisfy the following conditions\n",
    "#The number must be divisible by five\n",
    "#If the number is greater than 150, then skip it and move to the next number\n",
    "#If the number is greater than 500, then stop the loop?\n",
    "x = [12, 75, 150, 180, 145, 525, 50]\n",
    "for i in x:\n",
    "    if i > 500:\n",
    "        break;\n",
    "    elif i > 150:\n",
    "        continue;\n",
    "    elif i % 5 == 0:\n",
    "        print(i)"
   ]
  },
  {
   "cell_type": "code",
   "execution_count": 17,
   "id": "2928c1a2",
   "metadata": {},
   "outputs": [
    {
     "name": "stdout",
     "output_type": "stream",
     "text": [
      "ENter the number: 5\n",
      "5+55+555+5555+55555+\n",
      "Sum of above series is: 617275\n"
     ]
    }
   ],
   "source": [
    "#Q2.Write a program to calculate the sum of series up to n term. \n",
    "#For example, if n =5 the series will become 2 + 22 + 222 + 2222 + 22222 = 24690\n",
    "\n",
    "x=int(input(\"ENter the number: \"))\n",
    "n=x\n",
    "sum =0\n",
    "for i in range(0, x):   # x=4 i=0  print(5)  sum=0+4=4  x=x*10+n\n",
    "    print(x, end=\"+\") \n",
    "    x = x * 10 + n    # 4 x=4*10=40+4  \n",
    "    sum=sum+x\n",
    "    \n",
    "print(\"\\nSum of above series is:\", sum)"
   ]
  },
  {
   "cell_type": "code",
   "execution_count": 34,
   "id": "d1625d47",
   "metadata": {},
   "outputs": [
    {
     "name": "stdout",
     "output_type": "stream",
     "text": [
      "ENter the number: 3\n",
      "ENter the number: 4\n",
      "ENter the number: 5\n",
      "ENter the number: 6\n",
      "ENter the number: 7\n",
      "ENter the number: 8\n",
      "ENter the number: 9\n",
      "ENter the number: 6\n",
      "ENter the number: 5\n",
      "ENter the number: 4\n",
      "Average of 10 numbers: 5.7\n"
     ]
    }
   ],
   "source": [
    "#Q3.Accept 10 numbers from the user and display their average\n",
    "a=0\n",
    "for i in range(10):\n",
    "    n=int(input(\"ENter the number: \"))\n",
    "    a=a+n\n",
    "print(\"Average of 10 numbers:\",a/10)"
   ]
  },
  {
   "cell_type": "code",
   "execution_count": null,
   "id": "d944c149",
   "metadata": {},
   "outputs": [],
   "source": []
  },
  {
   "cell_type": "code",
   "execution_count": 6,
   "id": "7eab646a",
   "metadata": {},
   "outputs": [
    {
     "name": "stdout",
     "output_type": "stream",
     "text": [
      "ENter the number: 1\n",
      "Number is perfect \n"
     ]
    }
   ],
   "source": [
    "# Q4.Q4.WAP to accept a number and check wheater it is perfect number or not?\n",
    "#(Perfect number is a positive integer which is equal to the sum of its divisior\n",
    "#of 6 are 1,2,3 sum of divisiors is also 6,so 6 is perfect number\n",
    "\n",
    "x=int(input(\"ENter the number: \"))\n",
    "a=0\n",
    "for i in range(1,x):\n",
    "    if x%i==0:\n",
    "        a=a+i\n",
    "if x==i:\n",
    "    print(\"Number is perfect \")\n",
    "else:\n",
    "    print(\"Not perfect\")"
   ]
  },
  {
   "cell_type": "code",
   "execution_count": null,
   "id": "46d075e8",
   "metadata": {},
   "outputs": [],
   "source": []
  },
  {
   "cell_type": "code",
   "execution_count": 5,
   "id": "08571177",
   "metadata": {},
   "outputs": [
    {
     "name": "stdout",
     "output_type": "stream",
     "text": [
      "[2, 3, 4, 2, 3, 4, 5, 6, 7, 4, 5, 6]\n"
     ]
    }
   ],
   "source": [
    "l=[1,2,3,4,2,3,4,5,6,7,4,5,6]\n",
    "l.pop(0)\n",
    "print(l)"
   ]
  },
  {
   "cell_type": "code",
   "execution_count": 7,
   "id": "12d1769e",
   "metadata": {},
   "outputs": [
    {
     "name": "stdout",
     "output_type": "stream",
     "text": [
      "[1, 2, 3, 7, 4, 5, 6]\n"
     ]
    }
   ],
   "source": [
    "l=[1,2,3,4,2,3,4,5,6,7,4,5,6]\n",
    "for i in range(len(l)):\n",
    "    s=l.pop(0)\n",
    "    if s not in l:\n",
    "        l.append(s)\n",
    "print(l)"
   ]
  },
  {
   "cell_type": "code",
   "execution_count": 16,
   "id": "da6bc0ab",
   "metadata": {},
   "outputs": [
    {
     "name": "stdout",
     "output_type": "stream",
     "text": [
      "Enter the number: 7\n",
      "7+77+777+7777+77777+777777+7777777+\n",
      "= 86419739\n"
     ]
    }
   ],
   "source": [
    "# Q2.Write a program to calculate the sum of series up to n term. \n",
    "# For example, if n =5 the series will become 2 + 22 + 222 + 2222 + 22222 = 24690\n",
    "x=int(input(\"Enter the number: \"))   \n",
    "n=x\n",
    "sum=0\n",
    "for i in range(0,x):  # x=7 i=0 print(7) x=7*10+7=77\n",
    "    print(x,end=\"+\")  # x=77 i=1 print(77) x=77*10+7=777\n",
    "    x=x*10+n         # x=777 i=2 print(777) x=777*10+7=7777\n",
    "    sum=sum+x        \n",
    "print('\\n=',sum)  "
   ]
  },
  {
   "cell_type": "code",
   "execution_count": 26,
   "id": "6103fb9a",
   "metadata": {},
   "outputs": [
    {
     "name": "stdout",
     "output_type": "stream",
     "text": [
      "2,3,5,7,11,13,17,19,23,29,31,37,41,43,47,53,59,61,67,71,73,79,83,89,97,"
     ]
    }
   ],
   "source": [
    "for i in range(2,100):\n",
    "    for j in range(2,i): ###i==4 ___4%2==0---------------------------------------- break the number\n",
    "        if i%j==0:       ###i==5____5%2!=0,5%3!=0,5%4!=0 the numbere will  gone else condition\n",
    "            break       ####i==6___6%2%=0,--------------------------------------break the number\n",
    "    else:                ####i==7___7%2!=0,7%3!=0,7%4!=0,7%5!=0,7%6!=0 the number will gone else condition\n",
    "        print(i,end=\",\")\n"
   ]
  },
  {
   "cell_type": "code",
   "execution_count": 39,
   "id": "78b33b89",
   "metadata": {},
   "outputs": [
    {
     "name": "stdout",
     "output_type": "stream",
     "text": [
      "Enter the number: 21\n",
      "Not Prime\n"
     ]
    }
   ],
   "source": [
    "x=int(input(\"Enter the number: \"))\n",
    "a=1\n",
    "if x==1 or x==0:     #x==1 or x==0 True\n",
    "    a=0           \n",
    "for i in range(2,x):\n",
    "    if x%i==0:             #i=2 x=11 x=11%2==0 a=True a==1  Not prime  a==0  Prime\n",
    "        a=0                #i=2 x=12 x=12%2==0 True a=1\n",
    "if a==0:\n",
    "    print(\"Not Prime\")\n",
    "else:\n",
    "    print(\"Prime\")"
   ]
  },
  {
   "cell_type": "code",
   "execution_count": 41,
   "id": "6d901617",
   "metadata": {},
   "outputs": [
    {
     "name": "stdout",
     "output_type": "stream",
     "text": [
      "Enter the number: 5\n",
      "5+55+555+5555+55555+\n",
      " = 617275\n"
     ]
    }
   ],
   "source": [
    "x=int(input(\"Enter the number: \"))\n",
    "n=x\n",
    "sum=0\n",
    "for i in range(0,x):\n",
    "    print(x,end=\"+\")\n",
    "    x=x*10+n\n",
    "    sum=sum+x\n",
    "print(\"\\n\",'=',sum)"
   ]
  },
  {
   "cell_type": "code",
   "execution_count": 42,
   "id": "15adb21d",
   "metadata": {},
   "outputs": [],
   "source": [
    "l=[1,2,3,'4',5]\n"
   ]
  },
  {
   "cell_type": "code",
   "execution_count": 43,
   "id": "8ddc84cd",
   "metadata": {},
   "outputs": [],
   "source": [
    "l=[1,2,3,4,4,4,4,4,4,5,6,7,5,4,4,4,4,4,4,4,4,4,4,4]"
   ]
  },
  {
   "cell_type": "code",
   "execution_count": 76,
   "id": "e7d4006c",
   "metadata": {},
   "outputs": [
    {
     "name": "stdout",
     "output_type": "stream",
     "text": [
      "ADDTTTEEEE"
     ]
    }
   ],
   "source": [
    "x='AD2T3E4'\n",
    "a=0\n",
    "for i in x:     #i=A a=0+1  b=A print(b*a)(A*1)=A\n",
    "    b=''        # i=D a=1+1=2 b=D print(b*a)(D*2)(DD)\n",
    "                 # i=2 \n",
    "                 # i=t a=2+1=3 b=t print(b*a)(t*3)(ttt)\n",
    "                 # i=3\n",
    "                  # i=E a=3+1=4 b=E print(b*a)(E*3)(EEEE)\n",
    "    if i.isalpha():\n",
    "        a=a+1\n",
    "        b=b+i\n",
    "        print(b*a,end=\"\")"
   ]
  },
  {
   "cell_type": "code",
   "execution_count": 77,
   "id": "80d62165",
   "metadata": {},
   "outputs": [
    {
     "name": "stdout",
     "output_type": "stream",
     "text": [
      "4\n",
      "9\n",
      "25\n",
      "11\n",
      "27\n",
      "81\n"
     ]
    }
   ],
   "source": [
    "l=[4,9,25,11,27,81]\n",
    "a=[]\n",
    "b=[]\n",
    "for i in l:\n",
    "    print(i)\n",
    "    \n"
   ]
  },
  {
   "cell_type": "code",
   "execution_count": 79,
   "id": "23b71e51",
   "metadata": {},
   "outputs": [
    {
     "name": "stdout",
     "output_type": "stream",
     "text": [
      "[1, 4, 9, 16, 25, 36, 49, 64, 81, 100, 121, 144, 169, 196, 225, 256, 289, 324, 361, 400, 441]\n"
     ]
    }
   ],
   "source": [
    "l=[]\n",
    "for i in range(1,22):\n",
    "    l.append(i**2)\n",
    "print(l)"
   ]
  },
  {
   "cell_type": "code",
   "execution_count": 95,
   "id": "437f9eec",
   "metadata": {},
   "outputs": [
    {
     "name": "stdout",
     "output_type": "stream",
     "text": [
      "[8, 4, 6, 2, 4]\n",
      "[9, 7, 3]\n"
     ]
    }
   ],
   "source": [
    "#l=[1,2,3,4,5,6,7,8]\n",
    "l=[8,9,4,6,7,3,2,4]\n",
    "a=[]\n",
    "b=[]\n",
    "for i in l:\n",
    "    if i%2==0:\n",
    "        a.append(i)\n",
    "    else:\n",
    "        b.append(i)\n",
    "print(a)\n",
    "print(b)"
   ]
  },
  {
   "cell_type": "code",
   "execution_count": 81,
   "id": "a1f5453a",
   "metadata": {},
   "outputs": [
    {
     "name": "stdout",
     "output_type": "stream",
     "text": [
      "4 9 16 "
     ]
    }
   ],
   "source": [
    "def perfectsqur(l,r):\n",
    "    for i in range(l,r+1):\n",
    "        if (i**(.5))==int(i**(.5)):\n",
    "            print(i,end=' ')\n",
    "l=2\n",
    "r=24\n",
    "perfectsqur(l,r)"
   ]
  },
  {
   "cell_type": "code",
   "execution_count": 84,
   "id": "82767463",
   "metadata": {},
   "outputs": [
    {
     "data": {
      "text/plain": [
       "1"
      ]
     },
     "execution_count": 84,
     "metadata": {},
     "output_type": "execute_result"
    }
   ],
   "source": [
    "1%2"
   ]
  },
  {
   "cell_type": "code",
   "execution_count": 86,
   "id": "af6907fa",
   "metadata": {},
   "outputs": [
    {
     "data": {
      "text/plain": [
       "0"
      ]
     },
     "execution_count": 86,
     "metadata": {},
     "output_type": "execute_result"
    }
   ],
   "source": [
    "4%2"
   ]
  },
  {
   "cell_type": "code",
   "execution_count": 87,
   "id": "ac770c95",
   "metadata": {},
   "outputs": [
    {
     "data": {
      "text/plain": [
       "1"
      ]
     },
     "execution_count": 87,
     "metadata": {},
     "output_type": "execute_result"
    }
   ],
   "source": [
    "5%2"
   ]
  },
  {
   "cell_type": "code",
   "execution_count": 90,
   "id": "ae7a2db0",
   "metadata": {},
   "outputs": [
    {
     "data": {
      "text/plain": [
       "2"
      ]
     },
     "execution_count": 90,
     "metadata": {},
     "output_type": "execute_result"
    }
   ],
   "source": [
    "14%3"
   ]
  },
  {
   "cell_type": "code",
   "execution_count": 91,
   "id": "b944f4d9",
   "metadata": {},
   "outputs": [
    {
     "data": {
      "text/plain": [
       "2"
      ]
     },
     "execution_count": 91,
     "metadata": {},
     "output_type": "execute_result"
    }
   ],
   "source": [
    "18%4"
   ]
  },
  {
   "cell_type": "code",
   "execution_count": 92,
   "id": "192835ad",
   "metadata": {},
   "outputs": [
    {
     "data": {
      "text/plain": [
       "1"
      ]
     },
     "execution_count": 92,
     "metadata": {},
     "output_type": "execute_result"
    }
   ],
   "source": [
    "31%6"
   ]
  },
  {
   "cell_type": "code",
   "execution_count": 93,
   "id": "4835cb85",
   "metadata": {},
   "outputs": [
    {
     "data": {
      "text/plain": [
       "0"
      ]
     },
     "execution_count": 93,
     "metadata": {},
     "output_type": "execute_result"
    }
   ],
   "source": [
    "12%2"
   ]
  },
  {
   "cell_type": "markdown",
   "id": "fc824203",
   "metadata": {},
   "source": []
  },
  {
   "cell_type": "code",
   "execution_count": 98,
   "id": "b02313e4",
   "metadata": {},
   "outputs": [
    {
     "name": "stdout",
     "output_type": "stream",
     "text": [
      "1 3 6 10 15 82 88 "
     ]
    }
   ],
   "source": [
    "l=[1,2,3,4,5,67,6]\n",
    "sum=0\n",
    "for i in l:   #i=1   sum=0+1=1  i=2 sum=1+2=3 i=3 sum=3+3=6  i=4 sum=6+4 print(10) i=5 sum=10+5 print(15)\n",
    "    sum=sum+i     #i=67  sum=15+67=82  print(82)   i=6 sum=82+6=88 print(88)\n",
    "    print(sum,end=\" \")"
   ]
  },
  {
   "cell_type": "code",
   "execution_count": 101,
   "id": "29421366",
   "metadata": {},
   "outputs": [
    {
     "name": "stdout",
     "output_type": "stream",
     "text": [
      "11\n"
     ]
    }
   ],
   "source": [
    "l=[1,2,3,4,5,6,3,3,4,6,7]\n",
    "count=0\n",
    "for i in l:   #i=1 count=0+1\n",
    "    count=count+1\n",
    "print(count)"
   ]
  },
  {
   "cell_type": "code",
   "execution_count": null,
   "id": "567239ef",
   "metadata": {},
   "outputs": [],
   "source": []
  },
  {
   "cell_type": "code",
   "execution_count": 111,
   "id": "d1aa3ea3",
   "metadata": {},
   "outputs": [
    {
     "name": "stdout",
     "output_type": "stream",
     "text": [
      "Enter the number: 5\n",
      "Prime number \n"
     ]
    }
   ],
   "source": [
    "x=int(input(\"Enter the number: \"))\n",
    "a=0                        #x=4 4%2==0  True   8%2==0  True  6%2==0  i=3%2==0 True 6%6==0 true\n",
    "if x==0 or x==1:            #x=2  2%2==0 True \n",
    "    a=1\n",
    "for i in range(2,x):\n",
    "    if x%i==0:\n",
    "        a=1                      # 2 4 6\n",
    "if a==1:\n",
    "    print(\"Not prime\")\n",
    "else:\n",
    "    print(\"Prime number \")"
   ]
  },
  {
   "cell_type": "code",
   "execution_count": 113,
   "id": "96b61380",
   "metadata": {},
   "outputs": [
    {
     "name": "stdout",
     "output_type": "stream",
     "text": [
      "2 4 6 8 10 12 14 16 18 20 \n",
      "4 8 12 16 20 24 28 32 36 40 \n",
      "6 12 18 24 30 36 42 48 54 60 \n"
     ]
    }
   ],
   "source": [
    "# 2,4,6\n",
    "for i in range(2,8,2):\n",
    "    for j in range(1,11):\n",
    "        print(i*j,end=' ')\n",
    "        \n",
    "    print()"
   ]
  },
  {
   "cell_type": "code",
   "execution_count": 116,
   "id": "c1a7ac69",
   "metadata": {},
   "outputs": [
    {
     "name": "stdout",
     "output_type": "stream",
     "text": [
      "2 * 1 = 2        4 * 1 = 4          6 * 1 = 6\n",
      "2 * 2 = 4        4 * 2 = 8          6 * 2 = 12\n",
      "2 * 3 = 6        4 * 3 = 12          6 * 3 = 18\n",
      "2 * 4 = 8        4 * 4 = 16          6 * 4 = 24\n",
      "2 * 5 = 10        4 * 5 = 20          6 * 5 = 30\n",
      "2 * 6 = 12        4 * 6 = 24          6 * 6 = 36\n",
      "2 * 7 = 14        4 * 7 = 28          6 * 7 = 42\n",
      "2 * 8 = 16        4 * 8 = 32          6 * 8 = 48\n",
      "2 * 9 = 18        4 * 9 = 36          6 * 9 = 54\n",
      "2 * 10 = 20        4 * 10 = 40          6 * 10 = 60\n"
     ]
    }
   ],
   "source": [
    "a=2\n",
    "b=4\n",
    "c=6\n",
    "for i in range(1,11):\n",
    "    print(a,'*',i,'=',a*i,'      ',b,'*',i,'=',b*i,'        ',c,\"*\",i,'=',c*i )"
   ]
  },
  {
   "cell_type": "code",
   "execution_count": 3,
   "id": "ab7b533d",
   "metadata": {},
   "outputs": [
    {
     "name": "stdout",
     "output_type": "stream",
     "text": [
      "2 * 1 = 2\n",
      "2 * 2 = 4\n",
      "2 * 3 = 6\n",
      "2 * 4 = 8\n",
      "2 * 5 = 10\n",
      "2 * 6 = 12\n",
      "2 * 7 = 14\n",
      "2 * 8 = 16\n",
      "2 * 9 = 18\n",
      "2 * 10 = 20\n",
      "\n",
      "4 * 1 = 4\n",
      "4 * 2 = 8\n",
      "4 * 3 = 12\n",
      "4 * 4 = 16\n",
      "4 * 5 = 20\n",
      "4 * 6 = 24\n",
      "4 * 7 = 28\n",
      "4 * 8 = 32\n",
      "4 * 9 = 36\n",
      "4 * 10 = 40\n",
      "\n",
      "6 * 1 = 6\n",
      "6 * 2 = 12\n",
      "6 * 3 = 18\n",
      "6 * 4 = 24\n",
      "6 * 5 = 30\n",
      "6 * 6 = 36\n",
      "6 * 7 = 42\n",
      "6 * 8 = 48\n",
      "6 * 9 = 54\n",
      "6 * 10 = 60\n",
      "\n",
      "8 * 1 = 8\n",
      "8 * 2 = 16\n",
      "8 * 3 = 24\n",
      "8 * 4 = 32\n",
      "8 * 5 = 40\n",
      "8 * 6 = 48\n",
      "8 * 7 = 56\n",
      "8 * 8 = 64\n",
      "8 * 9 = 72\n",
      "8 * 10 = 80\n",
      "\n"
     ]
    }
   ],
   "source": [
    "for i in range(2,9,2):\n",
    "    for j in range(1,11):\n",
    "        print(i,'*',j,'=',i*j)\n",
    "    print()"
   ]
  },
  {
   "cell_type": "code",
   "execution_count": 124,
   "id": "3b865fae",
   "metadata": {},
   "outputs": [
    {
     "name": "stdout",
     "output_type": "stream",
     "text": [
      "count of 2 is: 5\n",
      "[5, 10]\n",
      "[10]\n"
     ]
    }
   ],
   "source": [
    "l=[1,2,2,2,2,3,3,4,45,6,6,78,8,6,4,32,2]\n",
    "x=[]\n",
    "g=[]\n",
    "b=0\n",
    "sum=0\n",
    "for i in l:   \n",
    "    if i==2:\n",
    "        b=b+1\n",
    "        sum=sum+i\n",
    "print('count of 2 is:',b)\n",
    "x.append(sum)\n",
    "g.append(b)\n",
    "print(g+x)\n",
    "print(x)"
   ]
  },
  {
   "cell_type": "code",
   "execution_count": 125,
   "id": "69ee6d16",
   "metadata": {},
   "outputs": [],
   "source": [
    "l=[2,'apple',3.5]\n",
    "l[1]='orange'"
   ]
  },
  {
   "cell_type": "code",
   "execution_count": 126,
   "id": "8a49f5ac",
   "metadata": {},
   "outputs": [
    {
     "data": {
      "text/plain": [
       "[2, 'orange', 3.5]"
      ]
     },
     "execution_count": 126,
     "metadata": {},
     "output_type": "execute_result"
    }
   ],
   "source": [
    "l"
   ]
  },
  {
   "cell_type": "code",
   "execution_count": 6,
   "id": "fe3a9f3a",
   "metadata": {},
   "outputs": [
    {
     "name": "stdout",
     "output_type": "stream",
     "text": [
      "ENter the number: 5\n",
      "#   #  \n",
      "#  #   \n",
      "# #    \n",
      "#  #   \n",
      "#   #  \n"
     ]
    }
   ],
   "source": [
    "n=int(input(\"ENter the number: \"))\n",
    "for i in range(n):\n",
    "    for j in range(n):\n",
    "        if j==0 or i+j==n-2 or i-j==1:\n",
    "            print('#',end=' ')\n",
    "        else:\n",
    "            print('',end=' ')\n",
    "    print()"
   ]
  },
  {
   "cell_type": "code",
   "execution_count": null,
   "id": "f2097244",
   "metadata": {},
   "outputs": [],
   "source": [
    "1\n",
    "2 6 \n",
    "3 7 10\n",
    "4 8 11 13\n",
    "5 9 12 14 15"
   ]
  },
  {
   "cell_type": "code",
   "execution_count": null,
   "id": "a7743e30",
   "metadata": {},
   "outputs": [],
   "source": [
    "#           *\n",
    "#          * *\n",
    "#         * * *\n",
    "#       * * * * *"
   ]
  },
  {
   "cell_type": "code",
   "execution_count": null,
   "id": "6549ed06",
   "metadata": {},
   "outputs": [],
   "source": [
    "# Operators\n",
    "# string\n",
    "# list\n",
    "# tuple ka overview like agr hume chnges krne hh toh list mai kse covert krte hh kse chlta hh\n",
    "# Must For loop the most imp topic\n",
    "# while 40 prcnt Imp\n",
    "# The whole D.A is based on numpy and pandas VVVV.IMP\n",
    "# SQL Highest salary 1st yah fir 7th highest\n",
    "# like,where ,groupby,having,default,joins"
   ]
  },
  {
   "cell_type": "code",
   "execution_count": 29,
   "id": "3df731f1",
   "metadata": {},
   "outputs": [
    {
     "name": "stdout",
     "output_type": "stream",
     "text": [
      "#             \n",
      "#             \n",
      "#             \n",
      "#             \n",
      "#             \n",
      "#             \n",
      "#             \n"
     ]
    }
   ],
   "source": [
    "for i in range(7):\n",
    "    for j in range(7):\n",
    "        if j==0:\n",
    "            print(\"#\",end=' ')\n",
    "        else:\n",
    "            print(\" \",end=' ')\n",
    "    print()"
   ]
  },
  {
   "cell_type": "code",
   "execution_count": 22,
   "id": "2808966d",
   "metadata": {},
   "outputs": [
    {
     "name": "stdout",
     "output_type": "stream",
     "text": [
      "  # # # # \n",
      "#         \n",
      "  # # #   \n",
      "        # \n",
      "# # # #   \n"
     ]
    }
   ],
   "source": [
    "for i in range(5):\n",
    "    for j in range(5):\n",
    "        if (i==0 and j==1 or i==0 and j==2 or i==0 and j==3 or i==0 and j==4 or i==1 and j==0 or i==2 and j==1 or i==2 and j==2 or i==2 and j==3 or i==3 and j==4 or i==4 and j==3 or i==4 and j==2 or i==4 and j==1 or i==4 and j==0):\n",
    "             print(\"#\",end=\" \")\n",
    "        else:\n",
    "            print(\" \",end=\" \")\n",
    "    print()\n"
   ]
  },
  {
   "cell_type": "code",
   "execution_count": null,
   "id": "d90d73b9",
   "metadata": {},
   "outputs": [],
   "source": []
  }
 ],
 "metadata": {
  "kernelspec": {
   "display_name": "Python 3 (ipykernel)",
   "language": "python",
   "name": "python3"
  },
  "language_info": {
   "codemirror_mode": {
    "name": "ipython",
    "version": 3
   },
   "file_extension": ".py",
   "mimetype": "text/x-python",
   "name": "python",
   "nbconvert_exporter": "python",
   "pygments_lexer": "ipython3",
   "version": "3.9.12"
  }
 },
 "nbformat": 4,
 "nbformat_minor": 5
}
