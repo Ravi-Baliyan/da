{
 "cells": [
  {
   "cell_type": "code",
   "execution_count": 3,
   "id": "47c82793",
   "metadata": {},
   "outputs": [],
   "source": [
    "a='1234hae.2'"
   ]
  },
  {
   "cell_type": "code",
   "execution_count": 4,
   "id": "093b8981",
   "metadata": {},
   "outputs": [
    {
     "name": "stdout",
     "output_type": "stream",
     "text": [
      "<class 'str'>\n"
     ]
    }
   ],
   "source": [
    "print(type(a))"
   ]
  },
  {
   "cell_type": "markdown",
   "id": "5b0ba94a",
   "metadata": {},
   "source": [
    "# Exception Handling"
   ]
  },
  {
   "cell_type": "code",
   "execution_count": null,
   "id": "f57378c1",
   "metadata": {},
   "outputs": [],
   "source": [
    "# 0,0  0,1  0,2  0,3  0,4\n",
    "# 1,0  1,1  1,2  1,3  1,4\n",
    "# 2,0  2,1  2,2  2,3  2,4\n",
    "# 3,0  3,1  3,2  3,3  3,4\n",
    "# 4,0  4,1  4,2  4,3  4,4"
   ]
  },
  {
   "cell_type": "code",
   "execution_count": 88,
   "id": "ce334e48",
   "metadata": {},
   "outputs": [
    {
     "name": "stdout",
     "output_type": "stream",
     "text": [
      "enter the name: w\n",
      "#       # \n",
      "#       # \n",
      "#   #   # \n",
      "# #   # # \n",
      "#       # \n",
      "\n"
     ]
    }
   ],
   "source": [
    "s=input('enter the name: ')\n",
    "n=5\n",
    "s=list(s)\n",
    "for a in s:\n",
    "    if a=='a' or a=='A':\n",
    "        for i in range(n):\n",
    "            for j in range(n):\n",
    "                if  i==0 or j==0 or j==n-1 or i==int(n/2):\n",
    "                    print('#',end=' ')\n",
    "                else:\n",
    "                    print(' ',end=' ')\n",
    "            print()\n",
    "        print()\n",
    "    elif a=='b' or a=='B':\n",
    "        for i in range(n):\n",
    "            for j in range(n):\n",
    "                if i==0 or  i==n-1 or j==n-1 or j==0 or i==int(n/2):\n",
    "                    print('#',end=' ')\n",
    "                else:\n",
    "                    print(' ',end=' ')\n",
    "            print()\n",
    "        print()\n",
    "    elif a=='c' or a=='C':\n",
    "        for i in range(n):\n",
    "            for j in range(n):\n",
    "                if i==0 or  i==n-1 or j==0 :\n",
    "                    print('#',end=' ')\n",
    "                else:\n",
    "                    print(' ',end=' ')\n",
    "            print()\n",
    "        print()\n",
    "    elif a=='d' or a=='D':\n",
    "        for i in range(n):\n",
    "            for j in range(n):\n",
    "                if i==0 or  i==n-1 or j==n-1 or j==1 :\n",
    "                    print('#',end=' ')\n",
    "                else:\n",
    "                    print(' ',end=' ')\n",
    "            print()\n",
    "        print()\n",
    "    elif a=='e' or a=='E':\n",
    "        for i in range(n):\n",
    "            for j in range(n):\n",
    "                if i==0 or  i==n-1  or j==0 or i==int(n/2):\n",
    "                    print('#',end=' ')\n",
    "                else:\n",
    "                    print(' ',end=' ')\n",
    "            print()\n",
    "        print()\n",
    "    elif a=='f' or a=='F':\n",
    "        for i in range(n):\n",
    "            for j in range(n):\n",
    "                if i==0  or j==0 or i==int(n/2):\n",
    "                    print('#',end=' ')\n",
    "                else:\n",
    "                    print(' ',end=' ')\n",
    "            print()\n",
    "        print()\n",
    "    elif a=='g' or a=='G':\n",
    "        for i in range(n):\n",
    "            for j in range(n):\n",
    "                if i==0 or  i==n-1 or (j==n-1 and i>int(n/2)) or j==0 or (i==int(n/2) and j>=int(n/2)):\n",
    "                    print('#',end=' ')\n",
    "                else:\n",
    "                    print(' ',end=' ')\n",
    "            print()\n",
    "        print()\n",
    "    elif a=='h' or a=='H':\n",
    "        for i in range(n):\n",
    "            for j in range(n):\n",
    "                if i==int(n/2) or j==0 or j==n-1:\n",
    "                    print('#',end=' ')\n",
    "                else:\n",
    "                    print(' ',end=' ')\n",
    "            print()\n",
    "        print()\n",
    "    elif a=='i' or a=='I':\n",
    "        for i in range(n):\n",
    "            for j in range(n):\n",
    "                if j==int(n/2) or i==0 or i==n-1:\n",
    "                    print('#',end=' ')\n",
    "                else:\n",
    "                    print(' ',end=' ')\n",
    "            print()\n",
    "        print()\n",
    "    elif a=='j'or a=='J':\n",
    "        for i in range(n):\n",
    "            for j in range(n):\n",
    "                if i==0 or  (i==n-1 and j<=int(n/2)) or j==int(n/2):\n",
    "                    print('#',end=' ')\n",
    "                else:\n",
    "                    print(' ',end=' ')\n",
    "            print()\n",
    "        print()\n",
    "    elif a=='k' or a=='K':\n",
    "        for i in range(n):\n",
    "            for j in range(n):\n",
    "                if j==0 or i+j==n-2 or i-j==1:\n",
    "                    print('#',end=' ')\n",
    "                else:\n",
    "                    print(' ',end=' ')\n",
    "            print()\n",
    "        print()\n",
    "    elif a=='l' or a=='L':\n",
    "        for i in range(n):\n",
    "            for j in range(n):\n",
    "                if i==n-1  or j==0 :\n",
    "                    print('#',end=' ')\n",
    "                else:\n",
    "                    print(' ',end=' ')\n",
    "            print()\n",
    "        print()\n",
    "    elif a=='m' or a=='M':\n",
    "        for i in range(n):\n",
    "            for j in range(n):\n",
    "                if j==0 or  j==n-1 or (i==j and j<=int(n/2)) or (i+j==n-1 and i<=int(n/2)) :\n",
    "                    print('#',end=' ')\n",
    "                else:\n",
    "                    print(' ',end=' ')\n",
    "            print()\n",
    "        print()\n",
    "    elif a=='n' or a=='N':\n",
    "        for i in range(n):\n",
    "            for j in range(n):\n",
    "                if j==0 or  j==n-1  or i==j:\n",
    "                    print('#',end=' ')\n",
    "                else:\n",
    "                    print(' ',end=' ')\n",
    "            print()\n",
    "        print()\n",
    "    elif a=='o' or a=='O':\n",
    "        for i in range(n):\n",
    "            for j in range(n):\n",
    "                if i==0 or  i==n-1  or j==0 or j==n-1:\n",
    "                    print('#',end=' ')\n",
    "                else:\n",
    "                    print(' ',end=' ')\n",
    "            print()\n",
    "        print()\n",
    "    elif a=='p'or a=='P':\n",
    "        for i in range(n):\n",
    "            for j in range(n):\n",
    "                if j==0 or  i==0 or (j==n-1 and i<=int(n/2)) or i==int(n/2):\n",
    "                    print('#',end=' ')\n",
    "                else:\n",
    "                    print(' ',end=' ')\n",
    "            print()\n",
    "        print()\n",
    "    elif a=='q' or a=='Q':\n",
    "        for i in range(n):\n",
    "            for j in range(n):\n",
    "                if (i==0 and j<(n-2)) or (j==0 and i<(n-2)) or (j==(n-2) and i<(n-2) or (i==(n-2) and j<(n-2)) or (i==j and j>=(n-3))):\n",
    "                    print('#',end=' ')\n",
    "                else:\n",
    "                    print(' ',end=' ')\n",
    "            print()\n",
    "        print()\n",
    "    elif a=='r' or a=='R':\n",
    "        for i in range(n):\n",
    "            for j in range(n):\n",
    "                if j==0 or  i==0 or (j==n-1 and i<=int(n/2)) or i==int(n/2) or (i-j==1 and j>=int(n/2)) :\n",
    "                    print('#',end=' ')\n",
    "                else:\n",
    "                    print(' ',end=' ')\n",
    "            print()\n",
    "        print()\n",
    "    elif a=='s' or a=='S':\n",
    "        for i in range(n):\n",
    "            for j in range(n):\n",
    "                if i==0 or  i==n-1 or (j==n-1 and i>int(n/2)) or (j==0 and i<=int(n/2))or (i==int(n/2)):\n",
    "                    print('#',end=' ')\n",
    "                else:\n",
    "                    print(' ',end=' ')\n",
    "            print()\n",
    "        print()\n",
    "    elif a=='t' or a=='T':\n",
    "        for i in range(n):\n",
    "            for j in range(n):\n",
    "                if i==0 or j==int(n/2):\n",
    "                    print('#',end=' ')\n",
    "                else:\n",
    "                    print(' ',end=' ')\n",
    "            print()\n",
    "        print()\n",
    "    elif a=='u' or a=='U':\n",
    "        for i in range(n):\n",
    "            for j in range(n):\n",
    "                if j==0 or j==(n-1) or i==(n-1):\n",
    "                    print('#',end=' ')\n",
    "                else:\n",
    "                    print(' ',end=' ')\n",
    "            print()\n",
    "        print()\n",
    "    elif a=='v' or a=='V':\n",
    "        for i in range(n):\n",
    "            for j in range(n+4):\n",
    "                if i==j or i+j==n+3:\n",
    "                    print('#',end=' ')\n",
    "                else:\n",
    "                    print(' ',end='')\n",
    "            print()\n",
    "        print()\n",
    "    elif a=='w' or a=='W':\n",
    "        for i in range(n):\n",
    "            for j in range(n):\n",
    "                if j==0 or  j==n-1 or (i==j and j>=int(n/2)) or (i+j==n-1 and i>=int(n/2)) :\n",
    "                    print('#',end=' ')\n",
    "                else:\n",
    "                    print(' ',end=' ')\n",
    "            print()\n",
    "        print()\n",
    "    elif a=='x' or a=='X':\n",
    "        for i in range(n):\n",
    "            for j in range(n):\n",
    "                if i==j or i+j==(n-1):\n",
    "                    print('#',end=' ')\n",
    "                else:\n",
    "                    print(' ',end=' ')\n",
    "            print()\n",
    "        print()\n",
    "    elif a=='y' or a=='Y':\n",
    "        for i in range(n):\n",
    "            for j in range(n):\n",
    "                if i+j==(n-1) or (i==j and j<=int(n/2)):\n",
    "                    print('#',end=' ')\n",
    "                else:\n",
    "                    print(' ',end=' ')\n",
    "            print()\n",
    "        print()\n",
    "    elif a=='z' or a=='Z':\n",
    "        for i in range(n):\n",
    "            for j in range(n):\n",
    "                if i==0 or i==n-1 or i+j==n-1:\n",
    "                    print('#',end=' ')\n",
    "                else:\n",
    "                    print(' ',end=' ') \n",
    "            print()\n",
    "        print()\n",
    "    else:\n",
    "        print('INVALID INPUT')"
   ]
  },
  {
   "cell_type": "code",
   "execution_count": 22,
   "id": "73e91a96",
   "metadata": {},
   "outputs": [
    {
     "name": "stdout",
     "output_type": "stream",
     "text": [
      "* * * * * \n",
      "* * * * \n",
      "* * * \n",
      "* * \n",
      "* \n"
     ]
    }
   ],
   "source": [
    "a=5\n",
    "while a!=0:\n",
    "    print('* ' * a)\n",
    "    a=a-1"
   ]
  },
  {
   "cell_type": "code",
   "execution_count": 41,
   "id": "8cdaa0de",
   "metadata": {},
   "outputs": [
    {
     "name": "stdout",
     "output_type": "stream",
     "text": [
      "Entewr the numbe: 8\n",
      "* * * * * * * * \n",
      "*             * \n",
      "*             * \n",
      "*             * \n",
      "* * * * * * * * \n",
      "*             * \n",
      "*             * \n",
      "*             * \n"
     ]
    }
   ],
   "source": [
    "n=int(input('Entewr the numbe: '))\n",
    "for i in range(n):\n",
    "    for j in range(n):\n",
    "        if i==0 or j==0 or j==n-1 or i==int(n/2):\n",
    "            print('*',end=' ')\n",
    "        else:\n",
    "            print(' ',end=' ')\n",
    "    print()"
   ]
  },
  {
   "cell_type": "code",
   "execution_count": 58,
   "id": "9bf2fe90",
   "metadata": {},
   "outputs": [
    {
     "name": "stdout",
     "output_type": "stream",
     "text": [
      "* * * * * \n",
      "*       * \n",
      "* * * * * \n",
      "*       * \n",
      "*       * \n"
     ]
    }
   ],
   "source": [
    "n=5\n",
    "for i in range(n):\n",
    "    for j in range(n):\n",
    "        if i==0 or j==0 or j==n-1 or i==int(n/2):\n",
    "            print(\"*\",end=' ')\n",
    "        else:\n",
    "            print(\" \",end=\" \")\n",
    "    print()\n"
   ]
  },
  {
   "cell_type": "code",
   "execution_count": 77,
   "id": "0fdaf509",
   "metadata": {},
   "outputs": [
    {
     "name": "stdout",
     "output_type": "stream",
     "text": [
      "@ @ @ @ @ \n",
      "@         \n",
      "@         \n",
      "@         \n",
      "@ @ @ @ @ \n"
     ]
    }
   ],
   "source": [
    "n=5\n",
    "for i in range(n):\n",
    "    for j in range(n):\n",
    "        if j==0 or i==n-1 or i==0:\n",
    "            print(\"@\",end=' ')\n",
    "        else:\n",
    "            print(\" \",end=\" \")\n",
    "    print()\n"
   ]
  },
  {
   "cell_type": "code",
   "execution_count": 76,
   "id": "3deaddec",
   "metadata": {},
   "outputs": [
    {
     "name": "stdout",
     "output_type": "stream",
     "text": [
      "# # # # # \n",
      "#       # \n",
      "# # # # # \n",
      "#       # \n",
      "# # # # # \n"
     ]
    }
   ],
   "source": [
    "n=5\n",
    "for i in range(n):\n",
    "    for j in range(n):\n",
    "        if i==0  or i==4 or j==0 or j==n-1 or i==n//2 :\n",
    "            print(\"#\",end=' ')\n",
    "        else:\n",
    "            print(' ',end=' ')\n",
    "    print()\n"
   ]
  },
  {
   "cell_type": "code",
   "execution_count": 104,
   "id": "27671fc5",
   "metadata": {},
   "outputs": [
    {
     "name": "stdout",
     "output_type": "stream",
     "text": [
      "Enter the number: 5\n",
      "#       # \n",
      "#       # \n",
      "#   #   # \n",
      "# #   # # \n",
      "#       # \n"
     ]
    }
   ],
   "source": [
    "n=int(input(\"Enter the number: \"))\n",
    "for i in range(n):\n",
    "    for j in range(n):\n",
    "        if j==0 or  j==n-1 or (i==j and j>=n//2) or (i+j==n-1) and i>=n//2:                          \n",
    "            print('#',end=' ')\n",
    "        else:\n",
    "            print(' ',end=' ')\n",
    "    print()"
   ]
  },
  {
   "cell_type": "code",
   "execution_count": null,
   "id": "e5fda024",
   "metadata": {},
   "outputs": [],
   "source": [
    "# 0,0  0,1  0,2  0,3  0,4\n",
    "# 1,0  1,1  1,2  1,3  1,4\n",
    "# 2,0  2,1  2,2  2,3  2,4\n",
    "# 3,0  3,1  3,2  3,3  3,4\n",
    "# 4,0  4,1  4,2  4,3  4,4"
   ]
  }
 ],
 "metadata": {
  "kernelspec": {
   "display_name": "Python 3 (ipykernel)",
   "language": "python",
   "name": "python3"
  },
  "language_info": {
   "codemirror_mode": {
    "name": "ipython",
    "version": 3
   },
   "file_extension": ".py",
   "mimetype": "text/x-python",
   "name": "python",
   "nbconvert_exporter": "python",
   "pygments_lexer": "ipython3",
   "version": "3.9.12"
  }
 },
 "nbformat": 4,
 "nbformat_minor": 5
}
