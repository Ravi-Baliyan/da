{
 "cells": [
  {
   "cell_type": "code",
   "execution_count": 121,
   "id": "4aefcf47",
   "metadata": {},
   "outputs": [
    {
     "name": "stdout",
     "output_type": "stream",
     "text": [
      "['ram', 'ravi', 'ratan', 'vivekk', 'vibhaaa', 'papamummy']\n"
     ]
    }
   ],
   "source": [
    "x=['ravi','ram','ratan','vivekk','vibhaaa','papamummy']\n",
    "x.sort(key=len)\n",
    "print(x)"
   ]
  },
  {
   "cell_type": "code",
   "execution_count": 2,
   "id": "38500b4c",
   "metadata": {},
   "outputs": [
    {
     "name": "stdout",
     "output_type": "stream",
     "text": [
      "4\n",
      "3\n",
      "5\n",
      "6\n",
      "7\n",
      "9\n"
     ]
    }
   ],
   "source": [
    "x=['ravi','ram','ratan','vivekk','vibhaaa','papamummy']\n",
    "a=0\n",
    "y=[]\n",
    "for i in x:\n",
    "    a=len(i)\n",
    "    print(a)"
   ]
  },
  {
   "cell_type": "markdown",
   "id": "44bec339",
   "metadata": {},
   "source": [
    "# Q1. Write a program to check whether a person is eligible for voting or not. (accept age from user)"
   ]
  },
  {
   "cell_type": "code",
   "execution_count": 4,
   "id": "dcc2724d",
   "metadata": {},
   "outputs": [
    {
     "name": "stdout",
     "output_type": "stream",
     "text": [
      "Enter the number: 11\n",
      "He is not eligible for voting\n"
     ]
    }
   ],
   "source": [
    "x=int(input(\"Enter the number: \"))\n",
    "if x>=18:\n",
    "    print(\"He is eligible for voting\")\n",
    "else:\n",
    "    print(\"He is not eligible for voting\")"
   ]
  },
  {
   "cell_type": "markdown",
   "id": "52597d47",
   "metadata": {},
   "source": [
    "# Q2. Write a program to check whether a number entered by user is even or odd."
   ]
  },
  {
   "cell_type": "code",
   "execution_count": 6,
   "id": "29531609",
   "metadata": {},
   "outputs": [
    {
     "name": "stdout",
     "output_type": "stream",
     "text": [
      "enter the number: 3\n",
      "3 is the odd number\n"
     ]
    }
   ],
   "source": [
    "x=int(input(\"enter the number: \"))\n",
    "if x%2==0:\n",
    "    print(x,\"is the even number\")\n",
    "else:\n",
    "    print(x,\"is the odd number\")"
   ]
  },
  {
   "cell_type": "markdown",
   "id": "1e76d8c7",
   "metadata": {},
   "source": [
    "# Q3. Write a program to check whether a number is divisible by 7 or not."
   ]
  },
  {
   "cell_type": "code",
   "execution_count": 8,
   "id": "5e61e678",
   "metadata": {},
   "outputs": [
    {
     "name": "stdout",
     "output_type": "stream",
     "text": [
      "Enter the number: 2\n",
      "2 is not divisible by 7\n"
     ]
    }
   ],
   "source": [
    "x=int(input(\"Enter the number: \"))\n",
    "if x%7==0:\n",
    "    print(x,\"is divisible by 7\")\n",
    "else:\n",
    "    print(x,\"is not divisible by 7\")"
   ]
  },
  {
   "cell_type": "markdown",
   "id": "4b9315d3",
   "metadata": {},
   "source": [
    "# Q4. Write a program to display \"Hello\" if a number entered by user is a multiple of five , \n",
    "#otherwise print \"Bye\"."
   ]
  },
  {
   "cell_type": "code",
   "execution_count": 9,
   "id": "ac22dab5",
   "metadata": {},
   "outputs": [
    {
     "name": "stdout",
     "output_type": "stream",
     "text": [
      "ENter the number: 10\n",
      "Hello\n"
     ]
    }
   ],
   "source": [
    "x=int(input(\"ENter the number: \"))\n",
    "if x%5==0:\n",
    "    print(\"Hello\")\n",
    "else:\n",
    "    print(\"Bye\")"
   ]
  },
  {
   "cell_type": "markdown",
   "id": "0be65525",
   "metadata": {},
   "source": [
    "# Q5. Write a program to calculate the electricity bill (accept number of unit from user) according to the following criteria :\n",
    "#             Unit                                                     Price  \n",
    "# First 100 units                                               no charge\n",
    "# Next 100 units                                              Rs 5 per unit\n",
    "# After 200 units                                             Rs 10 per unit\n",
    "#(For example if input unit is 350 than total bill amount is Rs2000)"
   ]
  },
  {
   "cell_type": "code",
   "execution_count": 11,
   "id": "735cd75e",
   "metadata": {},
   "outputs": [
    {
     "name": "stdout",
     "output_type": "stream",
     "text": [
      "Enter the units: 350\n",
      "2000\n"
     ]
    }
   ],
   "source": [
    "x=int(input(\"Enter the units: \"))\n",
    "if x<=100:\n",
    "    print(\"No charge\")\n",
    "elif x>100 and x<=200:\n",
    "    print((x-100)*5)\n",
    "else:\n",
    "    print(500+(x-200)*10)"
   ]
  },
  {
   "cell_type": "markdown",
   "id": "c1975da0",
   "metadata": {},
   "source": [
    "# Q6. Write a program to display the last digit of a number."
   ]
  },
  {
   "cell_type": "code",
   "execution_count": 12,
   "id": "6e6c54b3",
   "metadata": {},
   "outputs": [
    {
     "name": "stdout",
     "output_type": "stream",
     "text": [
      "ENter the number: 101\n",
      "1\n"
     ]
    }
   ],
   "source": [
    "x=int(input(\"ENter the number: \"))\n",
    "print(x%10)"
   ]
  },
  {
   "cell_type": "markdown",
   "id": "a3b4c617",
   "metadata": {},
   "source": [
    "# Q7. Write a program to check whether the last digit of a number( entered by user ) is \n",
    "# divisible by 3 or not."
   ]
  },
  {
   "cell_type": "code",
   "execution_count": 15,
   "id": "ec229b22",
   "metadata": {},
   "outputs": [
    {
     "name": "stdout",
     "output_type": "stream",
     "text": [
      "Enter the number: 102\n",
      "Not divisble by 3\n"
     ]
    }
   ],
   "source": [
    "x=int(input(\"Enter the number: \"))\n",
    "a=x%10\n",
    "if a%3==0:\n",
    "    print(\"It is divisible by 3\")\n",
    "else:\n",
    "    print(\"Not divisble by 3\")"
   ]
  },
  {
   "cell_type": "markdown",
   "id": "4b034d23",
   "metadata": {},
   "source": [
    "# Q8. Write a program to accept percentage from the user and display the grade according to the following criteria:\n",
    "\n",
    "#         Marks                                    Grade\n",
    "#        > 90                                         A\n",
    "#         > 80 and <= 90                       B\n",
    "#         >= 60 and <= 80                       C\n",
    "#         below 60                                  D\n"
   ]
  },
  {
   "cell_type": "code",
   "execution_count": 19,
   "id": "fc5b18ef",
   "metadata": {},
   "outputs": [
    {
     "name": "stdout",
     "output_type": "stream",
     "text": [
      "Enter the greade: 81\n",
      "B Grade\n"
     ]
    }
   ],
   "source": [
    "x=int(input(\"Enter the greade: \"))\n",
    "if x>90:\n",
    "    print(\"A Grade\")\n",
    "elif x<=90 and x>80:\n",
    "    print(\"B Grade\")\n",
    "elif x<=80 and x>=60:\n",
    "    print(\"C Grade\")\n",
    "else:\n",
    "    print(\"D Grade\")"
   ]
  },
  {
   "cell_type": "markdown",
   "id": "c287e31a",
   "metadata": {},
   "source": [
    "# Q9. Write a program to accept the cost price of a bike and display the road tax to be paid according to the following criteria :\n",
    "    \n",
    "#        Cost price (in Rs)                                       Tax\n",
    "#        > 100000                                                  15 %\n",
    "#        > 50000 and <= 100000                                     10%\n",
    "#        <= 50000                                                  5%"
   ]
  },
  {
   "cell_type": "code",
   "execution_count": 22,
   "id": "a537e276",
   "metadata": {},
   "outputs": [
    {
     "name": "stdout",
     "output_type": "stream",
     "text": [
      "Enter the amount: 60000\n",
      "6000.0\n"
     ]
    }
   ],
   "source": [
    "x=int(input(\"Enter the amount: \"))\n",
    "if x>100000:\n",
    "    print((x/100)*15)\n",
    "elif x>50000 and x<=100000:\n",
    "    print((x/100)*10)\n",
    "elif x<=50000:\n",
    "    print((x/100)*5)"
   ]
  },
  {
   "cell_type": "markdown",
   "id": "edb15bb6",
   "metadata": {},
   "source": [
    "# Q10. Write a program to check whether a number entered is three digit number or not."
   ]
  },
  {
   "cell_type": "code",
   "execution_count": 23,
   "id": "4fed4684",
   "metadata": {},
   "outputs": [
    {
     "name": "stdout",
     "output_type": "stream",
     "text": [
      "ENter the number: 101\n",
      "The number entered is three digit number\n"
     ]
    }
   ],
   "source": [
    "x=int(input(\"ENter the number: \"))\n",
    "if x>=100:\n",
    "    print(\"The number entered is three digit number\")\n",
    "else:\n",
    "    print(\"Not a three digit number\")"
   ]
  },
  {
   "cell_type": "markdown",
   "id": "4a2e77f1",
   "metadata": {},
   "source": [
    "# Q11. Write a program to check whether a person is senior citizen or not."
   ]
  },
  {
   "cell_type": "code",
   "execution_count": 25,
   "id": "07412463",
   "metadata": {},
   "outputs": [
    {
     "name": "stdout",
     "output_type": "stream",
     "text": [
      "Enter the number: 60\n",
      "A person is senior citizen\n"
     ]
    }
   ],
   "source": [
    "x=int(input(\"Enter the number: \"))\n",
    "if x>=60:\n",
    "      print(\"A person is senior citizen\")\n",
    "else:\n",
    "    print(\"A person is not a senior citizen\")"
   ]
  },
  {
   "cell_type": "markdown",
   "id": "53a3d7bf",
   "metadata": {},
   "source": [
    "# Q12. Write a program to check whether a number is even or odd."
   ]
  },
  {
   "cell_type": "code",
   "execution_count": 27,
   "id": "ee53574f",
   "metadata": {},
   "outputs": [
    {
     "name": "stdout",
     "output_type": "stream",
     "text": [
      "Enter the number: 3\n",
      "Odd number\n"
     ]
    }
   ],
   "source": [
    "x=int(input(\"Enter the number: \"))\n",
    "if x%2==0:\n",
    "    print(\"Even number\")\n",
    "else:\n",
    "    print(\"Odd number\")"
   ]
  },
  {
   "cell_type": "markdown",
   "id": "2e248b96",
   "metadata": {},
   "source": [
    "# Q13. Write a program to find the largest number out of two numbers excepted from user."
   ]
  },
  {
   "cell_type": "code",
   "execution_count": 28,
   "id": "3dfb5550",
   "metadata": {},
   "outputs": [
    {
     "name": "stdout",
     "output_type": "stream",
     "text": [
      "Enter the number: 20\n",
      "Enter the number: 18\n",
      "x is largest\n"
     ]
    }
   ],
   "source": [
    "x=int(input(\"Enter the number: \"))\n",
    "y=int(input(\"Enter the number: \"))\n",
    "if x>y:\n",
    "    print(\"x is largest\")\n",
    "else:\n",
    "    print(\"y is largest\")"
   ]
  },
  {
   "cell_type": "markdown",
   "id": "40929a8a",
   "metadata": {},
   "source": [
    "# Q14. Write a program to check whether a number (accepted from user) is positive or negative."
   ]
  },
  {
   "cell_type": "code",
   "execution_count": 31,
   "id": "641d86ee",
   "metadata": {},
   "outputs": [
    {
     "name": "stdout",
     "output_type": "stream",
     "text": [
      "Enter the number: 0\n",
      "None\n"
     ]
    }
   ],
   "source": [
    "x=int(input(\"Enter the number: \"))\n",
    "if x<0:\n",
    "    print(x,\"is the negative number\")\n",
    "elif x>0:\n",
    "    print(x,'is the positive number')\n",
    "else:\n",
    "    print(\"None\")"
   ]
  },
  {
   "cell_type": "markdown",
   "id": "d322780d",
   "metadata": {},
   "source": [
    "# Q15. Write a program to check whether a number (accepted from user) is divisible by 2 and 3 both."
   ]
  },
  {
   "cell_type": "code",
   "execution_count": 33,
   "id": "74b6f0c3",
   "metadata": {},
   "outputs": [
    {
     "name": "stdout",
     "output_type": "stream",
     "text": [
      "ENter the number: 6\n",
      "6 is divisible by both 2 and 3\n"
     ]
    }
   ],
   "source": [
    "x=int(input(\"ENter the number: \"))\n",
    "if x%2==0 and x%3==0:\n",
    "    print(x,\"is divisible by both 2 and 3\")\n",
    "else:\n",
    "    print(\"Not divisible by both\")"
   ]
  },
  {
   "cell_type": "markdown",
   "id": "d2bb4a42",
   "metadata": {},
   "source": [
    "# Q16. Write a program to find the largest number out of three numbers excepted from user."
   ]
  },
  {
   "cell_type": "code",
   "execution_count": 37,
   "id": "bb5f8fff",
   "metadata": {},
   "outputs": [
    {
     "name": "stdout",
     "output_type": "stream",
     "text": [
      "Enter the number: 12\n",
      "Enter the number: 12\n",
      "Enter the number: 12\n",
      "All are equal\n"
     ]
    }
   ],
   "source": [
    "x=int(input(\"Enter the number: \"))\n",
    "y=int(input(\"Enter the number: \"))\n",
    "z=int(input(\"Enter the number: \"))\n",
    "if x>z and x>y:\n",
    "    print(\"X is the largest among them\")\n",
    "elif y>x and y>z:\n",
    "    print(\"Y is the largest among them\")\n",
    "elif z>x and z>y:\n",
    "    print(\"Z is the largest among them\")\n",
    "else:\n",
    "    print(\"All are equal\")"
   ]
  },
  {
   "cell_type": "markdown",
   "id": "91aeeb20",
   "metadata": {},
   "source": [
    "# Q17. Write a program to check whether a number  is prime or not."
   ]
  },
  {
   "cell_type": "code",
   "execution_count": 5,
   "id": "76470e83",
   "metadata": {},
   "outputs": [
    {
     "name": "stdout",
     "output_type": "stream",
     "text": [
      "Enter the number: 15\n",
      "Not prime number\n"
     ]
    }
   ],
   "source": [
    "x=int(input(\"Enter the number: \"))\n",
    "a=0\n",
    "if x==1 or x==0:\n",
    "    a=1\n",
    "for i in range(2,x):\n",
    "    if x%i==0:\n",
    "        a=1\n",
    "if a==0:  \n",
    "    print(\"Prime number\")\n",
    "else:\n",
    "\n",
    "    print(\"Not prime number\")"
   ]
  },
  {
   "cell_type": "code",
   "execution_count": 3,
   "id": "8dac7d23",
   "metadata": {},
   "outputs": [
    {
     "name": "stdout",
     "output_type": "stream",
     "text": [
      "8.0\n"
     ]
    }
   ],
   "source": [
    "def a(x):\n",
    "    x *= x/2\n",
    "    return x\n",
    "print(a(4))"
   ]
  },
  {
   "cell_type": "code",
   "execution_count": 4,
   "id": "c00203ee",
   "metadata": {},
   "outputs": [
    {
     "name": "stdout",
     "output_type": "stream",
     "text": [
      "{1: [3, 4], 2: [3, 4]}\n"
     ]
    }
   ],
   "source": [
    "x={}\n",
    "y=[1,2]\n",
    "z=[3,4]\n",
    "print(x.fromkeys(y,z))"
   ]
  },
  {
   "cell_type": "code",
   "execution_count": 5,
   "id": "4476272d",
   "metadata": {},
   "outputs": [
    {
     "name": "stdout",
     "output_type": "stream",
     "text": [
      "[(0, 'a'), (1, 'b')]\n"
     ]
    }
   ],
   "source": [
    "l=['a','b']\n",
    "print(list(enumerate(l)))"
   ]
  },
  {
   "cell_type": "code",
   "execution_count": null,
   "id": "2e6199ac",
   "metadata": {},
   "outputs": [],
   "source": [
    "\n"
   ]
  }
 ],
 "metadata": {
  "kernelspec": {
   "display_name": "Python 3 (ipykernel)",
   "language": "python",
   "name": "python3"
  },
  "language_info": {
   "codemirror_mode": {
    "name": "ipython",
    "version": 3
   },
   "file_extension": ".py",
   "mimetype": "text/x-python",
   "name": "python",
   "nbconvert_exporter": "python",
   "pygments_lexer": "ipython3",
   "version": "3.9.12"
  }
 },
 "nbformat": 4,
 "nbformat_minor": 5
}
