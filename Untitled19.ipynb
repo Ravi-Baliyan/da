{
 "cells": [
  {
   "cell_type": "markdown",
   "id": "7f8410b4",
   "metadata": {},
   "source": [
    "# Q3. Python program to print even length words in a string?\n"
   ]
  },
  {
   "cell_type": "code",
   "execution_count": 2,
   "id": "873980c7",
   "metadata": {},
   "outputs": [
    {
     "name": "stdout",
     "output_type": "stream",
     "text": [
      "ENter the number: asdfghjk\n",
      "sfhk\n"
     ]
    }
   ],
   "source": [
    "x=input(\"ENter the number: \")\n",
    "print(x[1::2])"
   ]
  },
  {
   "cell_type": "code",
   "execution_count": 4,
   "id": "3735b9b8",
   "metadata": {},
   "outputs": [
    {
     "name": "stdout",
     "output_type": "stream",
     "text": [
      "ENter the number: wayf   whjfveyfv    qdub\n",
      "wy  hfef  qu\n"
     ]
    }
   ],
   "source": [
    "x=input(\"ENter the number: \")\n",
    "print(x[::2])"
   ]
  },
  {
   "cell_type": "markdown",
   "id": "1db1ebb5",
   "metadata": {},
   "source": [
    "# Q4.Python – Uppercase Half String"
   ]
  },
  {
   "cell_type": "code",
   "execution_count": 9,
   "id": "c49fdfa0",
   "metadata": {},
   "outputs": [
    {
     "name": "stdout",
     "output_type": "stream",
     "text": [
      "ravIIII\n"
     ]
    }
   ],
   "source": [
    "x='raviiii'\n",
    "a=len(x)//2\n",
    "print(x[:a]+x[a:].upper())"
   ]
  },
  {
   "cell_type": "code",
   "execution_count": 17,
   "id": "868d7f10",
   "metadata": {},
   "outputs": [
    {
     "name": "stdout",
     "output_type": "stream",
     "text": [
      "Enter the number: YEFYSVFCSEVYCVRSYYSEVSJVRJSVBDRBTD\n",
      "YEFYSVFCSEVYCVRSYysevsjvrjsvbdrbtd\n"
     ]
    }
   ],
   "source": [
    "x=input(\"Enter the number: \")\n",
    "a=len(x)//2\n",
    "print(x[:a].upper()+x[a:].lower())"
   ]
  },
  {
   "cell_type": "markdown",
   "id": "f322ed09",
   "metadata": {},
   "source": [
    "\n",
    "# Q11.From the given string a='Interview', the output should be: 'Int-rview'??"
   ]
  },
  {
   "cell_type": "code",
   "execution_count": 24,
   "id": "783d54ea",
   "metadata": {},
   "outputs": [
    {
     "name": "stdout",
     "output_type": "stream",
     "text": [
      "Int-rvi-we\n"
     ]
    }
   ],
   "source": [
    "a='Interviewe'\n",
    "print(a.replace('e','-',2))"
   ]
  },
  {
   "cell_type": "code",
   "execution_count": 30,
   "id": "e459b53f",
   "metadata": {},
   "outputs": [
    {
     "name": "stdout",
     "output_type": "stream",
     "text": [
      "Int\n",
      "Int-rvi-w\n"
     ]
    }
   ],
   "source": [
    "a='Interview'\n",
    "print(a[0:3])\n",
    "print(a[:3]+'-'+a[4:7]+'-'+a[8:])"
   ]
  },
  {
   "cell_type": "code",
   "execution_count": 51,
   "id": "35a4a981",
   "metadata": {},
   "outputs": [
    {
     "name": "stdout",
     "output_type": "stream",
     "text": [
      "[[5], [5], [5]]\n"
     ]
    }
   ],
   "source": [
    "# Q13.From the given list =[[]],The output should be [[5],[5],[5]]\n",
    "list=[[]]\n",
    "a=list*3\n",
    "a[1].append(5)\n",
    "print(a)"
   ]
  },
  {
   "cell_type": "code",
   "execution_count": 52,
   "id": "d2c97f7c",
   "metadata": {
    "scrolled": true
   },
   "outputs": [
    {
     "name": "stdout",
     "output_type": "stream",
     "text": [
      "[1, 2, 3, [4, 5, [6, 9, [[9, 5, 3, 5]]]]]\n"
     ]
    }
   ],
   "source": [
    "l=[1,2,3,[4,5,[6,7,[8,9,[2,3,5]]]]]\n",
    "l[3][2][2] [2].remove(2)\n",
    "l[3][2][2] [2].remove(3)\n",
    "l[3][2][2] [2].insert(0,3)\n",
    "l[3][2][2] [2].insert(0,5)\n",
    "l[3][2][2] [2].insert(0,9)\n",
    "l[3][2][2]. remove(8)\n",
    "l[3][2][2]. remove(9)\n",
    "l[3][2].insert(1,9)\n",
    "l[3][2].remove(7)\n",
    "\n",
    "\n",
    "\n",
    "\n",
    "print(l)\n"
   ]
  },
  {
   "cell_type": "markdown",
   "id": "7fa72504",
   "metadata": {},
   "source": [
    "# Q12.From the given string x=['1','2','3','4'], The output should be 433"
   ]
  },
  {
   "cell_type": "code",
   "execution_count": 53,
   "id": "a6f79891",
   "metadata": {},
   "outputs": [],
   "source": [
    "x=['1','2','3','4']\n"
   ]
  },
  {
   "cell_type": "markdown",
   "id": "ac247f05",
   "metadata": {},
   "source": [
    "# Q8.Write a Python program to print the following integers with zeros on the left of specified width?\n"
   ]
  },
  {
   "cell_type": "code",
   "execution_count": 67,
   "id": "29ddbd59",
   "metadata": {},
   "outputs": [
    {
     "name": "stdout",
     "output_type": "stream",
     "text": [
      "23\n",
      "0023\n"
     ]
    }
   ],
   "source": [
    "a = 23\n",
    "b = 833\n",
    "x=str(a)\n",
    "c=str(b)\n",
    "print(x)\n",
    "print(len(x)*'0'+x)\n",
    "print(len(c)*'0'+c)\n",
    "c=str(b)\n"
   ]
  },
  {
   "cell_type": "markdown",
   "id": "0de14238",
   "metadata": {},
   "source": [
    "#  Q10. WAP and take the input predifined in one string to get the output as ['Our','Sir','Name Sir ','Nikhil Sir']\n"
   ]
  },
  {
   "cell_type": "code",
   "execution_count": 111,
   "id": "046c69a8",
   "metadata": {},
   "outputs": [
    {
     "name": "stdout",
     "output_type": "stream",
     "text": [
      "['Our sir Name Sir Nikhil Sir']\n",
      "['Our', 'sir', 'Name', 'Sir', 'Nikhil', 'Sir']\n"
     ]
    }
   ],
   "source": [
    "x=\"Our sir Name Sir Nikhil Sir\"\n",
    "a=x.split('x')\n",
    "print(a)\n",
    "x=a[0][0:3]\n",
    "b=a[0][3:8]\n",
    "v=a[0][8:17]\n",
    "i=a[0][17:]\n",
    "q=x+b+v+i\n",
    "print(q.split())"
   ]
  },
  {
   "cell_type": "code",
   "execution_count": 131,
   "id": "48a42017",
   "metadata": {},
   "outputs": [
    {
     "name": "stdout",
     "output_type": "stream",
     "text": [
      "-74.9\n"
     ]
    }
   ],
   "source": [
    "# Q11.Write a Python program to print the following floating numbers with no decimal places?\n",
    "\n",
    "b ='-74.99'\n",
    "print(b[0:5])\n"
   ]
  },
  {
   "cell_type": "markdown",
   "id": "ce3d8f2e",
   "metadata": {},
   "source": [
    "# Q13.Write a Python programe to reverses a string if its length is a multiple of 6?"
   ]
  },
  {
   "cell_type": "code",
   "execution_count": 136,
   "id": "c42b553c",
   "metadata": {},
   "outputs": [
    {
     "name": "stdout",
     "output_type": "stream",
     "text": [
      "Enter the String :qwerty\n",
      "ytrewq\n"
     ]
    }
   ],
   "source": [
    "a=input(\"Enter the String :\")    #4\n",
    "if len(a) % 6 == 0:\n",
    "   print(''.join(reversed(a)))\n",
    "else:\n",
    "    print(a)"
   ]
  },
  {
   "cell_type": "code",
   "execution_count": 140,
   "id": "923c9f20",
   "metadata": {},
   "outputs": [
    {
     "name": "stdout",
     "output_type": "stream",
     "text": [
      "t\n",
      "@u@or joes Ksa lga @es@ Mi@ro \n",
      "tu@or joes Ksa lga @es@ Mi@ro \n"
     ]
    }
   ],
   "source": [
    "# Q15.Write a Python program to get a string from a given \n",
    "# string where all occurrences of its first char have been changed to \"@\", except the first char itself?\n",
    "r=\"tutor joes Ksa lga test Mitro \"\n",
    "x=r[0]\n",
    "print(x)\n",
    "d=r.replace('t','@')\n",
    "print(d)\n",
    "print(x+d[1:])"
   ]
  },
  {
   "cell_type": "code",
   "execution_count": 145,
   "id": "8b24a3b3",
   "metadata": {},
   "outputs": [
    {
     "name": "stdout",
     "output_type": "stream",
     "text": [
      "Enter the number: 2345\n",
      "{2000: 1, 200: 1, 100: 1, 10: 4, 1: 5}\n"
     ]
    }
   ],
   "source": [
    "x=int(input(\"Enter the number: \"))\n",
    "l=[2000,500,200,100,50,10,1]\n",
    "a={}\n",
    "for i in l:\n",
    "    if x>=i:\n",
    "        a[i]=x//i\n",
    "        x=x%i\n",
    "print(a)"
   ]
  },
  {
   "cell_type": "code",
   "execution_count": 148,
   "id": "77f9d1d1",
   "metadata": {},
   "outputs": [],
   "source": [
    "class Trie:\n",
    "    def __init__(self):\n",
    "        self.root=Node('')\n",
    " \n",
    "    def __repr__(self):\n",
    "        self.output([self.root])\n",
    "        return ''\n",
    " \n",
    "    def output(self, currentPath, indent=''):\n",
    "        #Depth First Search\n",
    "        currentNode=currentPath[-1]\n",
    "        if currentNode.isTerminal:\n",
    "            word=''.join([node.letter for node in currentPath])\n",
    "            print (indent+word)\n",
    "            indent+='  '\n",
    "        for letter, node in sorted(currentNode.children.items()):\n",
    "            self.output(currentPath[:]+[node], indent)\n",
    " \n",
    "    def insert(self, word):\n",
    "        current=self.root\n",
    "        for letter in word:\n",
    "            if letter not in current.children:\n",
    "                current.children[letter]=Node(letter)\n",
    "            current=current.children[letter]\n",
    "        current.isTerminal=True\n",
    " \n",
    "    def __contains__(self, word):\n",
    "        current=self.root\n",
    "        for letter in word:\n",
    "            if letter not in current.children:\n",
    "                return False\n",
    "            current=current.children[letter]\n",
    "        return current.isTerminal\n",
    " \n",
    "    def getAllPrefixesOfWord(self, word):\n",
    "        prefix=''\n",
    "        prefixes=[]\n",
    "        current=self.root\n",
    "        for letter in word:\n",
    "            if letter not in current.children:\n",
    "                return prefixes\n",
    "            current=current.children[letter]\n",
    "            prefix+=letter\n",
    "            if current.isTerminal:\n",
    "                prefixes.append(prefix)\n",
    "        return prefixes\n"
   ]
  },
  {
   "cell_type": "code",
   "execution_count": null,
   "id": "3c60b4be",
   "metadata": {},
   "outputs": [],
   "source": []
  }
 ],
 "metadata": {
  "kernelspec": {
   "display_name": "Python 3 (ipykernel)",
   "language": "python",
   "name": "python3"
  },
  "language_info": {
   "codemirror_mode": {
    "name": "ipython",
    "version": 3
   },
   "file_extension": ".py",
   "mimetype": "text/x-python",
   "name": "python",
   "nbconvert_exporter": "python",
   "pygments_lexer": "ipython3",
   "version": "3.9.12"
  }
 },
 "nbformat": 4,
 "nbformat_minor": 5
}
