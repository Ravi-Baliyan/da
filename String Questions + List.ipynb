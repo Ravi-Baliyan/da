{
 "cells": [
  {
   "cell_type": "markdown",
   "id": "f7e35b24",
   "metadata": {},
   "source": [
    "# Q1.Create a string made of the first, middle and last character?"
   ]
  },
  {
   "cell_type": "code",
   "execution_count": 7,
   "id": "bfe6ccad",
   "metadata": {},
   "outputs": [
    {
     "name": "stdout",
     "output_type": "stream",
     "text": [
      "enter the string: fegrthu terw tryutyiutyrewe trytuyiutyrterw etrytuyrerwe tuyrerwe trytuyrte rtryyutyrte\n"
     ]
    },
    {
     "data": {
      "text/plain": [
       "'w e'"
      ]
     },
     "execution_count": 7,
     "metadata": {},
     "output_type": "execute_result"
    }
   ],
   "source": [
    "x=input('enter the string: ')\n",
    "x[len(x)//2-1]+x[len(x)//2]+x[len(x)//2+1]"
   ]
  },
  {
   "cell_type": "markdown",
   "id": "70cef31e",
   "metadata": {},
   "source": [
    "# Q2.Create a new string made of the first, middle, and last characters of each input string?"
   ]
  },
  {
   "cell_type": "code",
   "execution_count": 4,
   "id": "a904822f",
   "metadata": {},
   "outputs": [
    {
     "name": "stdout",
     "output_type": "stream",
     "text": [
      "enter the string: kjhygtdrsewaSZxcvgbjmnkjhugtfsd\n",
      "xcv\n"
     ]
    }
   ],
   "source": [
    "x=input('enter the string: ')\n",
    "a=x[len(x)//2-1]+x[len(x)//2]+x[len(x)//2+1]\n",
    "print(a)"
   ]
  },
  {
   "cell_type": "markdown",
   "id": "1ee1f1f2",
   "metadata": {},
   "source": [
    "# Q3.Find the last position of a given substring\n",
    "# e.g: x=\"Emma is a data scientist who knows Python. Emma works at google.\""
   ]
  },
  {
   "cell_type": "code",
   "execution_count": 3,
   "id": "10fe3778",
   "metadata": {},
   "outputs": [
    {
     "data": {
      "text/plain": [
       "62"
      ]
     },
     "execution_count": 3,
     "metadata": {},
     "output_type": "execute_result"
    }
   ],
   "source": [
    "x=\"Emma is a data scientist who knows Python. Emma works at google.\"\n",
    "x.rindex('e')"
   ]
  },
  {
   "cell_type": "markdown",
   "id": "4cc9085b",
   "metadata": {},
   "source": [
    "# Q4.sample:l=[1,2,3,4,5,6,7,8,9]\n",
    "# expected output should be on line or max two:[10,2,20,4,30,6,40,8,50]"
   ]
  },
  {
   "cell_type": "code",
   "execution_count": 6,
   "id": "49292032",
   "metadata": {},
   "outputs": [
    {
     "name": "stdout",
     "output_type": "stream",
     "text": [
      "[10, 2, 20, 4, 30, 6, 40, 8, 50]\n"
     ]
    }
   ],
   "source": [
    "l=[1,2,3,4,5,6,7,8,9]\n",
    "l[::2]=10,20,30,40,50\n",
    "print(l)"
   ]
  },
  {
   "cell_type": "markdown",
   "id": "4764e399",
   "metadata": {},
   "source": [
    "# Q5.x=2,y=10\n",
    "# expected output should be:x=42"
   ]
  },
  {
   "cell_type": "code",
   "execution_count": 8,
   "id": "32f525c1",
   "metadata": {},
   "outputs": [
    {
     "name": "stdout",
     "output_type": "stream",
     "text": [
      "42\n"
     ]
    }
   ],
   "source": [
    "x=2\n",
    "y=10\n",
    "x*=y*x+1\n",
    "print(x)"
   ]
  },
  {
   "cell_type": "markdown",
   "id": "623e1170",
   "metadata": {},
   "source": [
    "# Q6.l=[1,2]\n",
    "# expected output :[3,2]"
   ]
  },
  {
   "cell_type": "code",
   "execution_count": 9,
   "id": "65fc52e0",
   "metadata": {},
   "outputs": [
    {
     "name": "stdout",
     "output_type": "stream",
     "text": [
      "[3, 2]\n"
     ]
    }
   ],
   "source": [
    "l=[1,2]\n",
    "l1=l\n",
    "l1[0]=3\n",
    "print(l1)"
   ]
  },
  {
   "cell_type": "code",
   "execution_count": 12,
   "id": "3fd3a4f5",
   "metadata": {},
   "outputs": [
    {
     "name": "stdout",
     "output_type": "stream",
     "text": [
      "[3, 2]\n"
     ]
    }
   ],
   "source": [
    "l=[1,2]\n",
    "l.pop(0)\n",
    "l.insert(0,3)\n",
    "print(l)"
   ]
  },
  {
   "cell_type": "markdown",
   "id": "4a2b0242",
   "metadata": {},
   "source": [
    "# Q7.x=.2,.3,.4\n",
    "# expected output:0.7"
   ]
  },
  {
   "cell_type": "code",
   "execution_count": 13,
   "id": "61e0af82",
   "metadata": {},
   "outputs": [
    {
     "name": "stdout",
     "output_type": "stream",
     "text": [
      "0.7\n"
     ]
    }
   ],
   "source": [
    "x=.2,.3,.4\n",
    "print(x[1]+x[2])"
   ]
  },
  {
   "cell_type": "markdown",
   "id": "af531d9b",
   "metadata": {},
   "source": [
    "# Q8.l=[1,2]\n",
    "# expected output: 1 2 3"
   ]
  },
  {
   "cell_type": "code",
   "execution_count": 5,
   "id": "5a091c45",
   "metadata": {},
   "outputs": [
    {
     "name": "stdout",
     "output_type": "stream",
     "text": [
      "1 2 3\n"
     ]
    }
   ],
   "source": [
    "l=[1,2]\n",
    "l.extend([3])\n",
    "a,b,c=l\n",
    "print(a,b,c)"
   ]
  },
  {
   "cell_type": "markdown",
   "id": "cbf565df",
   "metadata": {},
   "source": [
    "# Tuple"
   ]
  },
  {
   "cell_type": "markdown",
   "id": "db1638c6",
   "metadata": {},
   "source": [
    "# Q1. l=(1,2,3,4,5,6,7,8)\n",
    "# expected output:1.(1,2,3,4,5,6,7,8)\n",
    "# 2.(1,2,3,4,5,6,7,8,1,2,3,4,5,6,7,8) # method should be diffents of Q2nd and Q3?\n",
    "# 3.(1,2,3,4,5,6,7,8,1,2,3,4,5,6,7,8)\n",
    "# 4. 16\n"
   ]
  },
  {
   "cell_type": "code",
   "execution_count": 15,
   "id": "b256c159",
   "metadata": {},
   "outputs": [
    {
     "name": "stdout",
     "output_type": "stream",
     "text": [
      "(1, 2, 3, 4, 5, 6, 7, 8)\n"
     ]
    }
   ],
   "source": [
    "l=(1,2,3,4,5,6,7,8)\n",
    "print(l)"
   ]
  },
  {
   "cell_type": "code",
   "execution_count": 16,
   "id": "37def2d8",
   "metadata": {},
   "outputs": [
    {
     "name": "stdout",
     "output_type": "stream",
     "text": [
      "(1, 2, 3, 4, 5, 6, 7, 8, 1, 2, 3, 4, 5, 6, 7, 8)\n"
     ]
    }
   ],
   "source": [
    "l=(1,2,3,4,5,6,7,8)\n",
    "print(l*2)"
   ]
  },
  {
   "cell_type": "code",
   "execution_count": 19,
   "id": "18dbe55d",
   "metadata": {},
   "outputs": [
    {
     "name": "stdout",
     "output_type": "stream",
     "text": [
      "(1, 2, 3, 4, 5, 6, 7, 8, 1, 2, 3, 4, 5, 6, 7, 8)\n"
     ]
    }
   ],
   "source": [
    "l=(1,2,3,4,5,6,7,8)\n",
    "print(l+l)"
   ]
  },
  {
   "cell_type": "code",
   "execution_count": 18,
   "id": "738ea0a2",
   "metadata": {},
   "outputs": [
    {
     "name": "stdout",
     "output_type": "stream",
     "text": [
      "<class 'tuple'>\n"
     ]
    }
   ],
   "source": [
    "l=4,5,6\n",
    "print(type(l))"
   ]
  },
  {
   "cell_type": "code",
   "execution_count": 21,
   "id": "b1cc01f2",
   "metadata": {},
   "outputs": [
    {
     "name": "stdout",
     "output_type": "stream",
     "text": [
      "16\n"
     ]
    }
   ],
   "source": [
    "l=(1,2,3,4,5,6,7,8)\n",
    "print(len(l)*2)"
   ]
  },
  {
   "cell_type": "markdown",
   "id": "4bd92c23",
   "metadata": {},
   "source": [
    "# Q2. l=(1,2,3,4,5,6,7,8)\n",
    "# Note:Without using slicing\n",
    "# expected output :1. 6\n",
    "# 2. 4\n",
    "# 3. 2"
   ]
  },
  {
   "cell_type": "code",
   "execution_count": 9,
   "id": "18c0b3ba",
   "metadata": {},
   "outputs": [
    {
     "name": "stdout",
     "output_type": "stream",
     "text": [
      "6\n"
     ]
    }
   ],
   "source": [
    "l=(1,2,3,4,5,6,7,8)\n",
    "print(l[2+3])"
   ]
  },
  {
   "cell_type": "code",
   "execution_count": 13,
   "id": "52f9d9a8",
   "metadata": {},
   "outputs": [
    {
     "name": "stdout",
     "output_type": "stream",
     "text": [
      "4\n",
      "4\n"
     ]
    }
   ],
   "source": [
    "l=(1,2,3,4,5,6,7,8)\n",
    "print(l[4-1])\n",
    "print(l[3])"
   ]
  },
  {
   "cell_type": "code",
   "execution_count": 11,
   "id": "6b4959d7",
   "metadata": {},
   "outputs": [
    {
     "name": "stdout",
     "output_type": "stream",
     "text": [
      "2\n"
     ]
    }
   ],
   "source": [
    "l=(1,2,3,4,5,6,7,8)\n",
    "print(l[7%2])"
   ]
  },
  {
   "cell_type": "markdown",
   "id": "25205ec0",
   "metadata": {},
   "source": [
    "# Q3. Consider the following tuple and write the code for the following statement\n",
    "# t=(12,3,45,'Hockey','Anil',('a','b'))\n",
    "# Expected output : Display b from t"
   ]
  },
  {
   "cell_type": "code",
   "execution_count": 25,
   "id": "3d57277f",
   "metadata": {},
   "outputs": [
    {
     "name": "stdout",
     "output_type": "stream",
     "text": [
      "b\n"
     ]
    }
   ],
   "source": [
    "t=(12,3,45,'Hockey','Anil',('a','b'))\n",
    "print(t[-1][-1])"
   ]
  },
  {
   "cell_type": "code",
   "execution_count": 26,
   "id": "d552688a",
   "metadata": {},
   "outputs": [
    {
     "name": "stdout",
     "output_type": "stream",
     "text": [
      "b\n"
     ]
    }
   ],
   "source": [
    "t=(12,3,45,'Hockey','Anil',('a','b'))\n",
    "print(t[5][1])"
   ]
  },
  {
   "cell_type": "markdown",
   "id": "f1c66a0f",
   "metadata": {},
   "source": [
    "# Q4.t=(1,2,3)\n",
    "# expected output:((1,2,3),4,5)"
   ]
  },
  {
   "cell_type": "code",
   "execution_count": 27,
   "id": "0484697e",
   "metadata": {},
   "outputs": [
    {
     "name": "stdout",
     "output_type": "stream",
     "text": [
      "((1, 2, 3), 4, 5)\n"
     ]
    }
   ],
   "source": [
    "t=(1,2,3)\n",
    "v=t,4,5\n",
    "print(v)"
   ]
  },
  {
   "cell_type": "markdown",
   "id": "30a12a9c",
   "metadata": {},
   "source": [
    "# Q5.Write a Python program to convert a tuple to a string\n",
    "# l=('w','e','l','l','d','o','n','e')"
   ]
  },
  {
   "cell_type": "code",
   "execution_count": 28,
   "id": "ff0c70d8",
   "metadata": {},
   "outputs": [
    {
     "name": "stdout",
     "output_type": "stream",
     "text": [
      "welldone\n"
     ]
    }
   ],
   "source": [
    "l=('w','e','l','l','d','o','n','e')\n",
    "print(''.join(l))"
   ]
  },
  {
   "cell_type": "markdown",
   "id": "e6bbd4c6",
   "metadata": {},
   "source": [
    "# Q6.Write a programe to remove a number (accepted from the user ) from the given tuple\n",
    "# t=(12,15,18,21,24,27,30)\n"
   ]
  },
  {
   "cell_type": "code",
   "execution_count": 33,
   "id": "b07ec9a6",
   "metadata": {},
   "outputs": [
    {
     "name": "stdout",
     "output_type": "stream",
     "text": [
      "Enter the number: 213\n",
      "Number not found\n",
      "(12, 15, 18, 21, 24, 27, 30)\n"
     ]
    }
   ],
   "source": [
    "t=(12,15,18,21,24,27,30)\n",
    "x=int(input(\"Enter the number: \"))\n",
    "if x in t:\n",
    "    a=list(t)\n",
    "    a.remove(x)\n",
    "    t=tuple(a)\n",
    "else:\n",
    "    print(\"Number not found\")\n",
    "print(t)"
   ]
  },
  {
   "cell_type": "markdown",
   "id": "f0fe63af",
   "metadata": {},
   "source": [
    "# Q7.Write a programe to take input from the user\n",
    "# e.g input from user: t=tuple\n",
    "# expected output:('t','u','p','l','e')"
   ]
  },
  {
   "cell_type": "code",
   "execution_count": 34,
   "id": "3f0a8ced",
   "metadata": {},
   "outputs": [
    {
     "name": "stdout",
     "output_type": "stream",
     "text": [
      "enter the tupleqjbrf3qb\n",
      "('q', 'j', 'b', 'r', 'f', '3', 'q', 'b')\n"
     ]
    }
   ],
   "source": [
    "t=input('enter the tuple')\n",
    "a=tuple(t)\n",
    "print(a)"
   ]
  },
  {
   "cell_type": "code",
   "execution_count": 13,
   "id": "3646e375",
   "metadata": {},
   "outputs": [
    {
     "data": {
      "text/plain": [
       "4"
      ]
     },
     "execution_count": 13,
     "metadata": {},
     "output_type": "execute_result"
    }
   ],
   "source": [
    "a=(1,2,3,(4,5,6))\n",
    "a[3][0]"
   ]
  },
  {
   "cell_type": "code",
   "execution_count": 16,
   "id": "9e05e022",
   "metadata": {},
   "outputs": [
    {
     "name": "stdout",
     "output_type": "stream",
     "text": [
      "evha vfea bfhje bfjhe\n"
     ]
    }
   ],
   "source": [
    "x='ahve aefv ejhfb ehjfb'\n",
    "a=''\n",
    "b=''\n",
    "for i in x:\n",
    "    if i.isalpha():\n",
    "        a=a+i\n",
    "    else:\n",
    "        b=b+a[::-1]+i\n",
    "        a=''\n",
    "print(b+a[::-1])"
   ]
  },
  {
   "cell_type": "code",
   "execution_count": 12,
   "id": "aa6c24cc",
   "metadata": {},
   "outputs": [
    {
     "name": "stdout",
     "output_type": "stream",
     "text": [
      "{1: 2, 2: 3, 3: 4}\n"
     ]
    }
   ],
   "source": [
    "l=[1,2,3]\n",
    "l1=[2,3,4]\n",
    "x=dict(zip(l,l1))\n",
    "print(x)"
   ]
  },
  {
   "cell_type": "code",
   "execution_count": null,
   "id": "00459cfd",
   "metadata": {},
   "outputs": [],
   "source": []
  }
 ],
 "metadata": {
  "kernelspec": {
   "display_name": "Python 3 (ipykernel)",
   "language": "python",
   "name": "python3"
  },
  "language_info": {
   "codemirror_mode": {
    "name": "ipython",
    "version": 3
   },
   "file_extension": ".py",
   "mimetype": "text/x-python",
   "name": "python",
   "nbconvert_exporter": "python",
   "pygments_lexer": "ipython3",
   "version": "3.9.12"
  }
 },
 "nbformat": 4,
 "nbformat_minor": 5
}
